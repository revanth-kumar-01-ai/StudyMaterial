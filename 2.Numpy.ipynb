{
 "cells": [
  {
   "cell_type": "code",
   "execution_count": 3,
   "id": "08cbb4ca-1b7e-447a-8106-493124e3f435",
   "metadata": {},
   "outputs": [],
   "source": [
    "import numpy as np "
   ]
  },
  {
   "cell_type": "markdown",
   "id": "53fcc690-525b-4d2c-aa43-a62a71dbf559",
   "metadata": {},
   "source": [
    "# Basic"
   ]
  },
  {
   "cell_type": "code",
   "execution_count": 21,
   "id": "0d97f110-53ef-4f06-b079-b034852cf475",
   "metadata": {},
   "outputs": [],
   "source": [
    "arr = np.array([1, 2, 3, 4, 5])"
   ]
  },
  {
   "cell_type": "code",
   "execution_count": 22,
   "id": "663eb64a-e775-47fa-84bc-a9aa655e7b25",
   "metadata": {},
   "outputs": [
    {
     "data": {
      "text/plain": [
       "array([1, 2, 3, 4, 5])"
      ]
     },
     "execution_count": 22,
     "metadata": {},
     "output_type": "execute_result"
    }
   ],
   "source": [
    "arr"
   ]
  },
  {
   "cell_type": "code",
   "execution_count": 23,
   "id": "f8385ba1-ebe8-44a5-af58-15aa0dfa33d8",
   "metadata": {},
   "outputs": [
    {
     "data": {
      "text/plain": [
       "1"
      ]
     },
     "execution_count": 23,
     "metadata": {},
     "output_type": "execute_result"
    }
   ],
   "source": [
    "arr[0]"
   ]
  },
  {
   "cell_type": "code",
   "execution_count": 24,
   "id": "a1ee1ddb-e249-41b9-b7b8-61d085f36bbe",
   "metadata": {},
   "outputs": [
    {
     "data": {
      "text/plain": [
       "5"
      ]
     },
     "execution_count": 24,
     "metadata": {},
     "output_type": "execute_result"
    }
   ],
   "source": [
    "arr[-1]"
   ]
  },
  {
   "cell_type": "code",
   "execution_count": 26,
   "id": "fb81f815-d441-4668-bf89-6016fc14dbe3",
   "metadata": {},
   "outputs": [
    {
     "data": {
      "text/plain": [
       "array([1, 2, 3])"
      ]
     },
     "execution_count": 26,
     "metadata": {},
     "output_type": "execute_result"
    }
   ],
   "source": [
    "arr[0:3]"
   ]
  },
  {
   "cell_type": "code",
   "execution_count": 27,
   "id": "9033252d-15b5-4283-95b8-c6d7b0aa2962",
   "metadata": {},
   "outputs": [],
   "source": [
    "# we also create multidimensional array using numpy"
   ]
  },
  {
   "cell_type": "code",
   "execution_count": 37,
   "id": "e7ae42ab-43e4-4f66-8204-57ded745a39d",
   "metadata": {},
   "outputs": [],
   "source": [
    "arr = np.array([[[1,2,3], [4,6,7], [8,9,0]], [[1, 2, 3], [3, 4, 5], [5, 6, 7]]])"
   ]
  },
  {
   "cell_type": "code",
   "execution_count": 38,
   "id": "95a25219-3743-488d-ac81-fccb175f0923",
   "metadata": {},
   "outputs": [
    {
     "data": {
      "text/plain": [
       "array([[[1, 2, 3],\n",
       "        [4, 6, 7],\n",
       "        [8, 9, 0]],\n",
       "\n",
       "       [[1, 2, 3],\n",
       "        [3, 4, 5],\n",
       "        [5, 6, 7]]])"
      ]
     },
     "execution_count": 38,
     "metadata": {},
     "output_type": "execute_result"
    }
   ],
   "source": [
    "arr"
   ]
  },
  {
   "cell_type": "code",
   "execution_count": 41,
   "id": "9fae0340-7419-409b-b884-176d5fe4c124",
   "metadata": {},
   "outputs": [
    {
     "name": "stdout",
     "output_type": "stream",
     "text": [
      "(2, 3, 3)\n",
      "3\n",
      "18\n",
      "int32\n"
     ]
    }
   ],
   "source": [
    "# attributes \n",
    "\n",
    "# shape\n",
    "print(arr.shape)\n",
    "\n",
    "# Dimensional\n",
    "print(arr.ndim)\n",
    "\n",
    "# size of the array\n",
    "print(arr.size)\n",
    "\n",
    "# datatypes of the array\n",
    "print(arr.dtype)"
   ]
  },
  {
   "cell_type": "code",
   "execution_count": 50,
   "id": "aac4565e-feed-4102-ba61-322041945768",
   "metadata": {},
   "outputs": [],
   "source": [
    "# storing the string data inside the array\n",
    "arr = np.array([\n",
    "    [1, 2, 3],\n",
    "    [2, 3, \"hello\"],\n",
    "    [4, 5, 3], \n",
    "])"
   ]
  },
  {
   "cell_type": "code",
   "execution_count": 49,
   "id": "fbfe9cd6-775c-4362-8256-34d4ea838071",
   "metadata": {},
   "outputs": [
    {
     "data": {
      "text/plain": [
       "array([['1', '2', '3'],\n",
       "       ['2', '3', 'hello'],\n",
       "       ['4', '5', '3'],\n",
       "       ['3', '5', '6']], dtype='<U11')"
      ]
     },
     "execution_count": 49,
     "metadata": {},
     "output_type": "execute_result"
    }
   ],
   "source": [
    "arr"
   ]
  },
  {
   "cell_type": "code",
   "execution_count": 51,
   "id": "2d329c47-6888-41eb-9ad7-a59b8e7273bc",
   "metadata": {},
   "outputs": [],
   "source": [
    "# The dtype='<U11' refers to the data type used in NumPy (or other similar libraries) for storing string data,"
   ]
  },
  {
   "cell_type": "code",
   "execution_count": 52,
   "id": "0c29ac53-5058-4cbe-ac5c-98a21534537d",
   "metadata": {},
   "outputs": [
    {
     "ename": "ValueError",
     "evalue": "invalid literal for int() with base 10: 'hello'",
     "output_type": "error",
     "traceback": [
      "\u001b[1;31m---------------------------------------------------------------------------\u001b[0m",
      "\u001b[1;31mValueError\u001b[0m                                Traceback (most recent call last)",
      "Cell \u001b[1;32mIn[52], line 2\u001b[0m\n\u001b[0;32m      1\u001b[0m \u001b[38;5;66;03m# we have text data inside the array that time we cannot change the typecasting\u001b[39;00m\n\u001b[1;32m----> 2\u001b[0m arr \u001b[38;5;241m=\u001b[39m \u001b[43mnp\u001b[49m\u001b[38;5;241;43m.\u001b[39;49m\u001b[43marray\u001b[49m\u001b[43m(\u001b[49m\u001b[43m[\u001b[49m\n\u001b[0;32m      3\u001b[0m \u001b[43m    \u001b[49m\u001b[43m[\u001b[49m\u001b[38;5;241;43m1\u001b[39;49m\u001b[43m,\u001b[49m\u001b[43m \u001b[49m\u001b[38;5;241;43m2\u001b[39;49m\u001b[43m,\u001b[49m\u001b[43m \u001b[49m\u001b[38;5;241;43m3\u001b[39;49m\u001b[43m]\u001b[49m\u001b[43m,\u001b[49m\n\u001b[0;32m      4\u001b[0m \u001b[43m    \u001b[49m\u001b[43m[\u001b[49m\u001b[38;5;241;43m2\u001b[39;49m\u001b[43m,\u001b[49m\u001b[43m \u001b[49m\u001b[38;5;241;43m3\u001b[39;49m\u001b[43m,\u001b[49m\u001b[43m \u001b[49m\u001b[38;5;124;43m\"\u001b[39;49m\u001b[38;5;124;43mhello\u001b[39;49m\u001b[38;5;124;43m\"\u001b[39;49m\u001b[43m]\u001b[49m\u001b[43m,\u001b[49m\n\u001b[0;32m      5\u001b[0m \u001b[43m    \u001b[49m\u001b[43m[\u001b[49m\u001b[38;5;241;43m4\u001b[39;49m\u001b[43m,\u001b[49m\u001b[43m \u001b[49m\u001b[38;5;241;43m5\u001b[39;49m\u001b[43m,\u001b[49m\u001b[43m \u001b[49m\u001b[38;5;241;43m3\u001b[39;49m\u001b[43m]\u001b[49m\u001b[43m,\u001b[49m\u001b[43m \u001b[49m\n\u001b[0;32m      6\u001b[0m \u001b[43m]\u001b[49m\u001b[43m,\u001b[49m\u001b[43m \u001b[49m\u001b[43mdtype\u001b[49m\u001b[38;5;241;43m=\u001b[39;49m\u001b[38;5;124;43m\"\u001b[39;49m\u001b[38;5;124;43mint64\u001b[39;49m\u001b[38;5;124;43m\"\u001b[39;49m\u001b[43m)\u001b[49m\n",
      "\u001b[1;31mValueError\u001b[0m: invalid literal for int() with base 10: 'hello'"
     ]
    }
   ],
   "source": [
    "# we have text data inside the array that time we cannot change the typecasting\n",
    "arr = np.array([\n",
    "    [1, 2, 3],\n",
    "    [2, 3, \"hello\"],\n",
    "    [4, 5, 3], \n",
    "], dtype=\"int64\")"
   ]
  },
  {
   "cell_type": "code",
   "execution_count": 54,
   "id": "cefa19f6-c323-4f1d-9e71-3393af8b4291",
   "metadata": {},
   "outputs": [
    {
     "data": {
      "text/plain": [
       "dtype('int64')"
      ]
     },
     "execution_count": 54,
     "metadata": {},
     "output_type": "execute_result"
    }
   ],
   "source": [
    "# we have number in string type inside the array we can typecasting \n",
    "arr = np.array([\n",
    "    [1, 2, 3],\n",
    "    [2, 3, \"5\"],\n",
    "    [4, 5, 3], \n",
    "], dtype=\"int64\")\n",
    "\n",
    "arr.dtype"
   ]
  },
  {
   "cell_type": "code",
   "execution_count": 58,
   "id": "0fbe05f7-fdb3-4996-8f12-319291aaf36e",
   "metadata": {},
   "outputs": [
    {
     "data": {
      "text/plain": [
       "dtype('<U11')"
      ]
     },
     "execution_count": 58,
     "metadata": {},
     "output_type": "execute_result"
    }
   ],
   "source": [
    "arr = np.array([\n",
    "    [1, 2, 3],\n",
    "    [2, 3, \"hello\"],\n",
    "    [4, 5, 3], \n",
    "])\n",
    "\n",
    "arr.dtype"
   ]
  },
  {
   "cell_type": "code",
   "execution_count": 59,
   "id": "d68eb092-9ebe-45f5-8335-493ae548112c",
   "metadata": {},
   "outputs": [
    {
     "data": {
      "text/plain": [
       "numpy.str_"
      ]
     },
     "execution_count": 59,
     "metadata": {},
     "output_type": "execute_result"
    }
   ],
   "source": [
    "type(arr[0][1])"
   ]
  },
  {
   "cell_type": "code",
   "execution_count": 66,
   "id": "1955091e-8571-4438-a699-3ed9d718d1e1",
   "metadata": {},
   "outputs": [
    {
     "data": {
      "text/plain": [
       "dtype('O')"
      ]
     },
     "execution_count": 66,
     "metadata": {},
     "output_type": "execute_result"
    }
   ],
   "source": [
    "d= {'1':'A'}\n",
    "\n",
    "arr = np.array([\n",
    "    [1, 2, 3],\n",
    "    [2, 3, d],\n",
    "    [4, 5, 3], \n",
    "])\n",
    "\n",
    "arr.dtype"
   ]
  },
  {
   "cell_type": "code",
   "execution_count": 64,
   "id": "af6704e6-570d-498c-8cc5-677619d192ab",
   "metadata": {},
   "outputs": [
    {
     "data": {
      "text/plain": [
       "int"
      ]
     },
     "execution_count": 64,
     "metadata": {},
     "output_type": "execute_result"
    }
   ],
   "source": [
    "type(arr[1][0])"
   ]
  },
  {
   "cell_type": "code",
   "execution_count": 67,
   "id": "5dc68966-6be5-4a4a-9963-be0423d3e284",
   "metadata": {},
   "outputs": [
    {
     "ename": "TypeError",
     "evalue": "int() argument must be a string, a bytes-like object or a number, not 'dict'",
     "output_type": "error",
     "traceback": [
      "\u001b[1;31m---------------------------------------------------------------------------\u001b[0m",
      "\u001b[1;31mTypeError\u001b[0m                                 Traceback (most recent call last)",
      "Cell \u001b[1;32mIn[67], line 3\u001b[0m\n\u001b[0;32m      1\u001b[0m d\u001b[38;5;241m=\u001b[39m {\u001b[38;5;124m'\u001b[39m\u001b[38;5;124m1\u001b[39m\u001b[38;5;124m'\u001b[39m:\u001b[38;5;124m'\u001b[39m\u001b[38;5;124mA\u001b[39m\u001b[38;5;124m'\u001b[39m}\n\u001b[1;32m----> 3\u001b[0m arr \u001b[38;5;241m=\u001b[39m \u001b[43mnp\u001b[49m\u001b[38;5;241;43m.\u001b[39;49m\u001b[43marray\u001b[49m\u001b[43m(\u001b[49m\u001b[43m[\u001b[49m\n\u001b[0;32m      4\u001b[0m \u001b[43m    \u001b[49m\u001b[43m[\u001b[49m\u001b[38;5;241;43m1\u001b[39;49m\u001b[43m,\u001b[49m\u001b[43m \u001b[49m\u001b[38;5;241;43m2\u001b[39;49m\u001b[43m,\u001b[49m\u001b[43m \u001b[49m\u001b[38;5;241;43m3\u001b[39;49m\u001b[43m]\u001b[49m\u001b[43m,\u001b[49m\n\u001b[0;32m      5\u001b[0m \u001b[43m    \u001b[49m\u001b[43m[\u001b[49m\u001b[38;5;241;43m2\u001b[39;49m\u001b[43m,\u001b[49m\u001b[43m \u001b[49m\u001b[38;5;241;43m3\u001b[39;49m\u001b[43m,\u001b[49m\u001b[43m \u001b[49m\u001b[43md\u001b[49m\u001b[43m]\u001b[49m\u001b[43m,\u001b[49m\n\u001b[0;32m      6\u001b[0m \u001b[43m    \u001b[49m\u001b[43m[\u001b[49m\u001b[38;5;241;43m4\u001b[39;49m\u001b[43m,\u001b[49m\u001b[43m \u001b[49m\u001b[38;5;241;43m5\u001b[39;49m\u001b[43m,\u001b[49m\u001b[43m \u001b[49m\u001b[38;5;241;43m3\u001b[39;49m\u001b[43m]\u001b[49m\u001b[43m,\u001b[49m\u001b[43m \u001b[49m\n\u001b[0;32m      7\u001b[0m \u001b[43m]\u001b[49m\u001b[43m,\u001b[49m\u001b[43m \u001b[49m\u001b[43mdtype\u001b[49m\u001b[38;5;241;43m=\u001b[39;49m\u001b[38;5;124;43m\"\u001b[39;49m\u001b[38;5;124;43mint64\u001b[39;49m\u001b[38;5;124;43m\"\u001b[39;49m\u001b[43m)\u001b[49m\n",
      "\u001b[1;31mTypeError\u001b[0m: int() argument must be a string, a bytes-like object or a number, not 'dict'"
     ]
    }
   ],
   "source": [
    "d= {'1':'A'}\n",
    "\n",
    "arr = np.array([\n",
    "    [1, 2, 3],\n",
    "    [2, 3, d],\n",
    "    [4, 5, 3], \n",
    "], dtype=\"int64\")"
   ]
  },
  {
   "cell_type": "markdown",
   "id": "a5e5a100-9efc-4a03-8620-8e555e16384a",
   "metadata": {},
   "source": [
    "# Filling array "
   ]
  },
  {
   "cell_type": "code",
   "execution_count": 68,
   "id": "6e485474-b7c2-4fcd-abfc-2143aa69c8f8",
   "metadata": {},
   "outputs": [],
   "source": [
    "fullArray = np.full((2, 4, 3), 5)"
   ]
  },
  {
   "cell_type": "code",
   "execution_count": 69,
   "id": "bacac7dc-2172-4b7a-a756-af9618c5a0ec",
   "metadata": {},
   "outputs": [
    {
     "data": {
      "text/plain": [
       "array([[[5, 5, 5],\n",
       "        [5, 5, 5],\n",
       "        [5, 5, 5],\n",
       "        [5, 5, 5]],\n",
       "\n",
       "       [[5, 5, 5],\n",
       "        [5, 5, 5],\n",
       "        [5, 5, 5],\n",
       "        [5, 5, 5]]])"
      ]
     },
     "execution_count": 69,
     "metadata": {},
     "output_type": "execute_result"
    }
   ],
   "source": [
    "fullArray"
   ]
  },
  {
   "cell_type": "code",
   "execution_count": 70,
   "id": "a71b7a5f-6da8-4ab1-8134-116c12fa8451",
   "metadata": {},
   "outputs": [],
   "source": [
    "# fill zero using the zero method \n",
    "zeroArray = np.zeros((2, 4, 3))"
   ]
  },
  {
   "cell_type": "code",
   "execution_count": 71,
   "id": "32536349-c13a-4fa6-beee-42f8fc680110",
   "metadata": {},
   "outputs": [
    {
     "data": {
      "text/plain": [
       "array([[[0., 0., 0.],\n",
       "        [0., 0., 0.],\n",
       "        [0., 0., 0.],\n",
       "        [0., 0., 0.]],\n",
       "\n",
       "       [[0., 0., 0.],\n",
       "        [0., 0., 0.],\n",
       "        [0., 0., 0.],\n",
       "        [0., 0., 0.]]])"
      ]
     },
     "execution_count": 71,
     "metadata": {},
     "output_type": "execute_result"
    }
   ],
   "source": [
    "zeroArray"
   ]
  },
  {
   "cell_type": "code",
   "execution_count": 72,
   "id": "098f85f5-dfeb-4be8-90fa-5d9d128e4b53",
   "metadata": {},
   "outputs": [],
   "source": [
    "# Fill ones using the ones method \n",
    "\n",
    "onesArray = np.ones((2, 4, 3))"
   ]
  },
  {
   "cell_type": "code",
   "execution_count": 73,
   "id": "7ab3e70c-a464-4720-9695-7f09e2de9855",
   "metadata": {},
   "outputs": [
    {
     "data": {
      "text/plain": [
       "array([[[1., 1., 1.],\n",
       "        [1., 1., 1.],\n",
       "        [1., 1., 1.],\n",
       "        [1., 1., 1.]],\n",
       "\n",
       "       [[1., 1., 1.],\n",
       "        [1., 1., 1.],\n",
       "        [1., 1., 1.],\n",
       "        [1., 1., 1.]]])"
      ]
     },
     "execution_count": 73,
     "metadata": {},
     "output_type": "execute_result"
    }
   ],
   "source": [
    "onesArray"
   ]
  },
  {
   "cell_type": "code",
   "execution_count": 75,
   "id": "3df58e21-d278-454b-8ccf-e2d7417af39d",
   "metadata": {},
   "outputs": [],
   "source": [
    "# The np.empty() method in NumPy creates an uninitialized array with a specified shape and data type, \n",
    "# where the values are left as random garbage from memory."
   ]
  },
  {
   "cell_type": "code",
   "execution_count": 76,
   "id": "43eeca43-2425-43b2-bb55-7f264379f4f0",
   "metadata": {},
   "outputs": [],
   "source": [
    "emptyArray = np.empty((2, 3, 4))"
   ]
  },
  {
   "cell_type": "code",
   "execution_count": 77,
   "id": "3d0e4c0b-2800-469b-9aae-43a4be49e5b6",
   "metadata": {},
   "outputs": [
    {
     "data": {
      "text/plain": [
       "array([[[1., 1., 1., 1.],\n",
       "        [1., 1., 1., 1.],\n",
       "        [1., 1., 1., 1.]],\n",
       "\n",
       "       [[1., 1., 1., 1.],\n",
       "        [1., 1., 1., 1.],\n",
       "        [1., 1., 1., 1.]]])"
      ]
     },
     "execution_count": 77,
     "metadata": {},
     "output_type": "execute_result"
    }
   ],
   "source": [
    "emptyArray"
   ]
  },
  {
   "cell_type": "code",
   "execution_count": 78,
   "id": "090aeba4-339b-4427-960e-a845aece8d68",
   "metadata": {},
   "outputs": [
    {
     "data": {
      "text/plain": [
       "array([0, 2, 4, 6, 8])"
      ]
     },
     "execution_count": 78,
     "metadata": {},
     "output_type": "execute_result"
    }
   ],
   "source": [
    "# arange simplar to python range \n",
    "np.arange(0, 10, 2)"
   ]
  },
  {
   "cell_type": "code",
   "execution_count": 83,
   "id": "46b245fc-aa85-49b6-958a-9349274761cb",
   "metadata": {},
   "outputs": [
    {
     "data": {
      "text/plain": [
       "array([ 0.        ,  0.52631579,  1.05263158,  1.57894737,  2.10526316,\n",
       "        2.63157895,  3.15789474,  3.68421053,  4.21052632,  4.73684211,\n",
       "        5.26315789,  5.78947368,  6.31578947,  6.84210526,  7.36842105,\n",
       "        7.89473684,  8.42105263,  8.94736842,  9.47368421, 10.        ])"
      ]
     },
     "execution_count": 83,
     "metadata": {},
     "output_type": "execute_result"
    }
   ],
   "source": [
    "# linspace \n",
    "np.linspace(0, 10, 20)"
   ]
  },
  {
   "cell_type": "code",
   "execution_count": null,
   "id": "4cc5387b-1eb7-4e33-972a-ed15126c51ac",
   "metadata": {},
   "outputs": [],
   "source": [
    "\"\"\"np.arange(): Generates an array with evenly spaced values within a specified range, based on a start, \n",
    "\\stop, and step size.\n",
    "    \n",
    "np.linspace(): Creates an array with a specified number of evenly spaced values between a start and \n",
    "stop value, inclusive.\"\"\"\n",
    "\n",
    "# arange -> evenly spaced between the range \n",
    "# linspace -> evenly spaced between the given value "
   ]
  },
  {
   "cell_type": "markdown",
   "id": "2be7f238-30d2-4f09-9572-19cb6c84cf6f",
   "metadata": {},
   "source": [
    "### NAN "
   ]
  },
  {
   "cell_type": "code",
   "execution_count": null,
   "id": "5d221986-5913-4ba4-8fb3-b2aeddd20389",
   "metadata": {},
   "outputs": [],
   "source": [
    "\"\"\"\n",
    "NaN (Not a Number): Represents undefined or unrepresentable numerical results, \n",
    "such as the result of 0/0 or infinity - infinity.\n",
    "\n",
    "Inf (Infinity): Represents a value that exceeds the range of finite numbers,\n",
    "such as the result of division by zero (excluding 0/0).\n",
    "\"\"\""
   ]
  },
  {
   "cell_type": "code",
   "execution_count": 85,
   "id": "0d29e69d-14cd-40d1-be8c-2fe7a9e67a92",
   "metadata": {},
   "outputs": [
    {
     "data": {
      "text/plain": [
       "nan"
      ]
     },
     "execution_count": 85,
     "metadata": {},
     "output_type": "execute_result"
    }
   ],
   "source": [
    "np.nan"
   ]
  },
  {
   "cell_type": "code",
   "execution_count": 86,
   "id": "517650df-808e-426d-8cea-79110bb9b951",
   "metadata": {},
   "outputs": [
    {
     "data": {
      "text/plain": [
       "nan"
      ]
     },
     "execution_count": 86,
     "metadata": {},
     "output_type": "execute_result"
    }
   ],
   "source": [
    "np.nan + 5"
   ]
  },
  {
   "cell_type": "code",
   "execution_count": 89,
   "id": "7825fca8-ccd8-4ed9-b201-8dbc85db7dde",
   "metadata": {},
   "outputs": [
    {
     "data": {
      "text/plain": [
       "inf"
      ]
     },
     "execution_count": 89,
     "metadata": {},
     "output_type": "execute_result"
    }
   ],
   "source": [
    "np.inf "
   ]
  },
  {
   "cell_type": "code",
   "execution_count": 90,
   "id": "9e72297d-5013-4739-a71c-7a9e0fe9ed15",
   "metadata": {},
   "outputs": [
    {
     "data": {
      "text/plain": [
       "nan"
      ]
     },
     "execution_count": 90,
     "metadata": {},
     "output_type": "execute_result"
    }
   ],
   "source": [
    "np.inf - np.inf"
   ]
  },
  {
   "cell_type": "markdown",
   "id": "874a1a9a-6d7f-4415-b352-e2cedfa1bff5",
   "metadata": {},
   "source": [
    "# Mathematical operations "
   ]
  },
  {
   "cell_type": "code",
   "execution_count": 92,
   "id": "728fa2d7-bc7e-42b1-a2e3-cedac3418fd2",
   "metadata": {},
   "outputs": [],
   "source": [
    "l1 = [1, 2, 3, 4, 5]\n",
    "l2 = [6, 7, 8, 9, 0]\n",
    "\n",
    "a1 = np.array(l1)\n",
    "a2 = np.array(l2)"
   ]
  },
  {
   "cell_type": "code",
   "execution_count": 93,
   "id": "938cf766-89eb-4fa5-970b-53b1c0f25577",
   "metadata": {},
   "outputs": [
    {
     "ename": "TypeError",
     "evalue": "can only concatenate list (not \"int\") to list",
     "output_type": "error",
     "traceback": [
      "\u001b[1;31m---------------------------------------------------------------------------\u001b[0m",
      "\u001b[1;31mTypeError\u001b[0m                                 Traceback (most recent call last)",
      "Cell \u001b[1;32mIn[93], line 1\u001b[0m\n\u001b[1;32m----> 1\u001b[0m \u001b[43ml1\u001b[49m\u001b[43m \u001b[49m\u001b[38;5;241;43m+\u001b[39;49m\u001b[43m \u001b[49m\u001b[38;5;241;43m2\u001b[39;49m\n",
      "\u001b[1;31mTypeError\u001b[0m: can only concatenate list (not \"int\") to list"
     ]
    }
   ],
   "source": [
    "l1 + 2"
   ]
  },
  {
   "cell_type": "code",
   "execution_count": 94,
   "id": "3332d83e-6409-4488-8b17-3185be694e53",
   "metadata": {},
   "outputs": [
    {
     "data": {
      "text/plain": [
       "array([3, 4, 5, 6, 7])"
      ]
     },
     "execution_count": 94,
     "metadata": {},
     "output_type": "execute_result"
    }
   ],
   "source": [
    "a1 + 2"
   ]
  },
  {
   "cell_type": "code",
   "execution_count": 95,
   "id": "55813bcc-6ea6-4851-9a9a-b96c767041f2",
   "metadata": {},
   "outputs": [],
   "source": [
    "# we do not perform the mathematical operations in python list do only np array "
   ]
  },
  {
   "cell_type": "code",
   "execution_count": 96,
   "id": "153fcb0c-575c-4ebb-8ce5-88452057b6ec",
   "metadata": {},
   "outputs": [
    {
     "data": {
      "text/plain": [
       "[1, 2, 3, 4, 5, 1, 2, 3, 4, 5]"
      ]
     },
     "execution_count": 96,
     "metadata": {},
     "output_type": "execute_result"
    }
   ],
   "source": [
    "l1 * 2 # repeat or extant the list "
   ]
  },
  {
   "cell_type": "code",
   "execution_count": 97,
   "id": "3f5977f6-2135-4adb-899b-95470cd67f89",
   "metadata": {},
   "outputs": [
    {
     "data": {
      "text/plain": [
       "array([12, 14, 16, 18,  0])"
      ]
     },
     "execution_count": 97,
     "metadata": {},
     "output_type": "execute_result"
    }
   ],
   "source": [
    "a2 * 2 # it is map the value "
   ]
  },
  {
   "cell_type": "code",
   "execution_count": 98,
   "id": "a6def220-f34d-4bb4-8f22-f4b1b2c54b05",
   "metadata": {},
   "outputs": [
    {
     "data": {
      "text/plain": [
       "array([1, 2, 3])"
      ]
     },
     "execution_count": 98,
     "metadata": {},
     "output_type": "execute_result"
    }
   ],
   "source": [
    "a1 = np.array([1, 2, 3])\n",
    "a2 = np.array([[1], [2]])\n",
    "\n",
    "a1"
   ]
  },
  {
   "cell_type": "code",
   "execution_count": 99,
   "id": "5918b240-c12e-486f-9587-50ac94492bb2",
   "metadata": {},
   "outputs": [
    {
     "data": {
      "text/plain": [
       "array([[1],\n",
       "       [2]])"
      ]
     },
     "execution_count": 99,
     "metadata": {},
     "output_type": "execute_result"
    }
   ],
   "source": [
    "a2"
   ]
  },
  {
   "cell_type": "code",
   "execution_count": 101,
   "id": "02b034c5-1a41-45af-ab0f-ea436333e7cb",
   "metadata": {},
   "outputs": [
    {
     "data": {
      "text/plain": [
       "array([[2, 3, 4],\n",
       "       [3, 4, 5]])"
      ]
     },
     "execution_count": 101,
     "metadata": {},
     "output_type": "execute_result"
    }
   ],
   "source": [
    "a1 + a2"
   ]
  },
  {
   "cell_type": "code",
   "execution_count": 102,
   "id": "d2150567-ad3f-4603-a1e9-f5d90fdf5359",
   "metadata": {},
   "outputs": [
    {
     "data": {
      "text/plain": [
       "array([[1.        , 1.41421356, 1.73205081],\n",
       "       [1.41421356, 1.73205081, 2.        ]])"
      ]
     },
     "execution_count": 102,
     "metadata": {},
     "output_type": "execute_result"
    }
   ],
   "source": [
    "a1 = np.array([\n",
    "    [1, 2, 3], \n",
    "    [2, 3, 4]\n",
    "])\n",
    "\n",
    "np.sqrt(a1) # tan, cos, log10, log etc  "
   ]
  },
  {
   "cell_type": "markdown",
   "id": "144f7f82-a8b0-4a1f-bd22-2a2a620331e7",
   "metadata": {},
   "source": [
    "# Array method "
   ]
  },
  {
   "cell_type": "code",
   "execution_count": 103,
   "id": "e065fbae-2b32-4ba0-a01e-339f2204d10b",
   "metadata": {},
   "outputs": [],
   "source": [
    "a1 = np.array([1, 2, 3])"
   ]
  },
  {
   "cell_type": "code",
   "execution_count": 104,
   "id": "9873f6db-bd59-4406-97d9-2c9f1ddd5115",
   "metadata": {},
   "outputs": [
    {
     "data": {
      "text/plain": [
       "array([1, 2, 3])"
      ]
     },
     "execution_count": 104,
     "metadata": {},
     "output_type": "execute_result"
    }
   ],
   "source": [
    "a1"
   ]
  },
  {
   "cell_type": "code",
   "execution_count": null,
   "id": "d6edaed5-b114-48ab-9cef-417319182605",
   "metadata": {},
   "outputs": [],
   "source": [
    "# append"
   ]
  },
  {
   "cell_type": "code",
   "execution_count": 106,
   "id": "d0689f1c-bd0a-445b-997a-126969397d41",
   "metadata": {},
   "outputs": [
    {
     "data": {
      "text/plain": [
       "array([1, 2, 3, 6, 7, 8])"
      ]
     },
     "execution_count": 106,
     "metadata": {},
     "output_type": "execute_result"
    }
   ],
   "source": [
    "np.append(a1, [6, 7, 8])"
   ]
  },
  {
   "cell_type": "code",
   "execution_count": null,
   "id": "fd9e5ded-d6ed-4d0a-9f63-62c09ab4837d",
   "metadata": {},
   "outputs": [],
   "source": [
    "# insert "
   ]
  },
  {
   "cell_type": "code",
   "execution_count": 110,
   "id": "0b49cad4-8bad-4ecc-ba4d-53158acc070f",
   "metadata": {},
   "outputs": [
    {
     "data": {
      "text/plain": [
       "array([1, 2, 3, 8, 9, 0])"
      ]
     },
     "execution_count": 110,
     "metadata": {},
     "output_type": "execute_result"
    }
   ],
   "source": [
    "np.insert(a1, 3, [8, 9, 0])"
   ]
  },
  {
   "cell_type": "code",
   "execution_count": 111,
   "id": "e2cea5e8-bc8e-4420-a39c-eb1a36ab5a48",
   "metadata": {},
   "outputs": [],
   "source": [
    "a2 = np.array([\n",
    "    [1, 2, 3], \n",
    "    [4, 5, 6]\n",
    "])"
   ]
  },
  {
   "cell_type": "code",
   "execution_count": 112,
   "id": "ef9acfe5-b7ee-4be6-bc6f-c639542ec046",
   "metadata": {},
   "outputs": [
    {
     "data": {
      "text/plain": [
       "array([[1, 2, 3],\n",
       "       [4, 5, 6]])"
      ]
     },
     "execution_count": 112,
     "metadata": {},
     "output_type": "execute_result"
    }
   ],
   "source": [
    "a2"
   ]
  },
  {
   "cell_type": "code",
   "execution_count": null,
   "id": "46c8fd85-49e6-4d9d-aca6-525138fcf6f3",
   "metadata": {},
   "outputs": [],
   "source": [
    "# Delete "
   ]
  },
  {
   "cell_type": "code",
   "execution_count": 113,
   "id": "6c3baa09-e548-4dae-a9c1-ea220182b8fb",
   "metadata": {},
   "outputs": [
    {
     "data": {
      "text/plain": [
       "array([1, 3, 4, 5, 6])"
      ]
     },
     "execution_count": 113,
     "metadata": {},
     "output_type": "execute_result"
    }
   ],
   "source": [
    "np.delete(a2, 1)"
   ]
  },
  {
   "cell_type": "code",
   "execution_count": 114,
   "id": "053841a8-0af4-4760-9906-df5cc42a420c",
   "metadata": {},
   "outputs": [
    {
     "data": {
      "text/plain": [
       "array([[1, 2, 3]])"
      ]
     },
     "execution_count": 114,
     "metadata": {},
     "output_type": "execute_result"
    }
   ],
   "source": [
    "np.delete(a2, 1, 0) # zero means row "
   ]
  },
  {
   "cell_type": "code",
   "execution_count": 115,
   "id": "2bcb8706-6267-405d-a741-17e94d6828e5",
   "metadata": {},
   "outputs": [
    {
     "data": {
      "text/plain": [
       "array([[1, 3],\n",
       "       [4, 6]])"
      ]
     },
     "execution_count": 115,
     "metadata": {},
     "output_type": "execute_result"
    }
   ],
   "source": [
    "np.delete(a2, 1, 1) # one means column"
   ]
  },
  {
   "cell_type": "markdown",
   "id": "b06534c0-4163-4b77-8e79-b3ca4eef732b",
   "metadata": {},
   "source": [
    "# structure Method "
   ]
  },
  {
   "cell_type": "code",
   "execution_count": 128,
   "id": "9b919ff8-b876-4188-a5f6-1f09938fb712",
   "metadata": {},
   "outputs": [],
   "source": [
    "a = np.array([np.arange(1, 6), np.arange(6, 11), np.arange(11, 16), np.arange(16, 21)])"
   ]
  },
  {
   "cell_type": "code",
   "execution_count": 129,
   "id": "aeab78c6-9690-4a02-b70c-c31b3eb851cc",
   "metadata": {},
   "outputs": [
    {
     "data": {
      "text/plain": [
       "array([[ 1,  2,  3,  4,  5],\n",
       "       [ 6,  7,  8,  9, 10],\n",
       "       [11, 12, 13, 14, 15],\n",
       "       [16, 17, 18, 19, 20]])"
      ]
     },
     "execution_count": 129,
     "metadata": {},
     "output_type": "execute_result"
    }
   ],
   "source": [
    "a"
   ]
  },
  {
   "cell_type": "code",
   "execution_count": 130,
   "id": "ea774f9f-52a1-41c6-bdf2-0acdb0a9d8f8",
   "metadata": {},
   "outputs": [
    {
     "data": {
      "text/plain": [
       "(4, 5)"
      ]
     },
     "execution_count": 130,
     "metadata": {},
     "output_type": "execute_result"
    }
   ],
   "source": [
    "a.shape"
   ]
  },
  {
   "cell_type": "code",
   "execution_count": 131,
   "id": "3a71bd7f-a5ac-4fea-919d-646127928273",
   "metadata": {},
   "outputs": [
    {
     "data": {
      "text/plain": [
       "array([[ 1,  2,  3,  4],\n",
       "       [ 5,  6,  7,  8],\n",
       "       [ 9, 10, 11, 12],\n",
       "       [13, 14, 15, 16],\n",
       "       [17, 18, 19, 20]])"
      ]
     },
     "execution_count": 131,
     "metadata": {},
     "output_type": "execute_result"
    }
   ],
   "source": [
    "a.reshape(5, 4)"
   ]
  },
  {
   "cell_type": "code",
   "execution_count": 132,
   "id": "8cb26706-e3c1-48ee-bbff-0b8958b2e1cb",
   "metadata": {},
   "outputs": [
    {
     "data": {
      "text/plain": [
       "array([ 1,  2,  3,  4,  5,  6,  7,  8,  9, 10, 11, 12, 13, 14, 15, 16, 17,\n",
       "       18, 19, 20])"
      ]
     },
     "execution_count": 132,
     "metadata": {},
     "output_type": "execute_result"
    }
   ],
   "source": [
    "a.reshape(20,)"
   ]
  },
  {
   "cell_type": "code",
   "execution_count": 133,
   "id": "df4843c0-b75a-483d-b170-d26be07c8bc2",
   "metadata": {},
   "outputs": [
    {
     "data": {
      "text/plain": [
       "array([[ 1,  2,  3,  4,  5,  6,  7,  8,  9, 10],\n",
       "       [11, 12, 13, 14, 15, 16, 17, 18, 19, 20]])"
      ]
     },
     "execution_count": 133,
     "metadata": {},
     "output_type": "execute_result"
    }
   ],
   "source": [
    "a.reshape(2, 10)"
   ]
  },
  {
   "cell_type": "code",
   "execution_count": 134,
   "id": "dcc07b1b-53b7-4b63-812c-69c1afccbaea",
   "metadata": {},
   "outputs": [
    {
     "data": {
      "text/plain": [
       "array([[[ 1,  2],\n",
       "        [ 3,  4]],\n",
       "\n",
       "       [[ 5,  6],\n",
       "        [ 7,  8]],\n",
       "\n",
       "       [[ 9, 10],\n",
       "        [11, 12]],\n",
       "\n",
       "       [[13, 14],\n",
       "        [15, 16]],\n",
       "\n",
       "       [[17, 18],\n",
       "        [19, 20]]])"
      ]
     },
     "execution_count": 134,
     "metadata": {},
     "output_type": "execute_result"
    }
   ],
   "source": [
    "a.reshape(5, 2, 2)"
   ]
  },
  {
   "cell_type": "code",
   "execution_count": 135,
   "id": "4474e253-5e16-4137-8353-6b1e00dee9f9",
   "metadata": {},
   "outputs": [],
   "source": [
    "a.resize((10, 2))"
   ]
  },
  {
   "cell_type": "code",
   "execution_count": 136,
   "id": "21476a7e-f072-4ec7-8a5f-4697cb66f068",
   "metadata": {},
   "outputs": [
    {
     "data": {
      "text/plain": [
       "array([[ 1,  2],\n",
       "       [ 3,  4],\n",
       "       [ 5,  6],\n",
       "       [ 7,  8],\n",
       "       [ 9, 10],\n",
       "       [11, 12],\n",
       "       [13, 14],\n",
       "       [15, 16],\n",
       "       [17, 18],\n",
       "       [19, 20]])"
      ]
     },
     "execution_count": 136,
     "metadata": {},
     "output_type": "execute_result"
    }
   ],
   "source": [
    "a"
   ]
  },
  {
   "cell_type": "code",
   "execution_count": 137,
   "id": "55346224-c9dd-46be-9cdd-2f334af55d7b",
   "metadata": {},
   "outputs": [],
   "source": [
    "a = np.array([np.arange(1, 6), np.arange(6, 11), np.arange(11, 16), np.arange(16, 21)])"
   ]
  },
  {
   "cell_type": "code",
   "execution_count": 138,
   "id": "6a194637-2fd8-4e8a-8911-50152f9d1909",
   "metadata": {},
   "outputs": [
    {
     "data": {
      "text/plain": [
       "array([[ 1,  2,  3,  4,  5],\n",
       "       [ 6,  7,  8,  9, 10],\n",
       "       [11, 12, 13, 14, 15],\n",
       "       [16, 17, 18, 19, 20]])"
      ]
     },
     "execution_count": 138,
     "metadata": {},
     "output_type": "execute_result"
    }
   ],
   "source": [
    "a"
   ]
  },
  {
   "cell_type": "code",
   "execution_count": 139,
   "id": "3087f7a4-0e00-4c6b-9be0-c17fe4c5e197",
   "metadata": {},
   "outputs": [
    {
     "data": {
      "text/plain": [
       "array([ 1,  2,  3,  4,  5,  6,  7,  8,  9, 10, 11, 12, 13, 14, 15, 16, 17,\n",
       "       18, 19, 20])"
      ]
     },
     "execution_count": 139,
     "metadata": {},
     "output_type": "execute_result"
    }
   ],
   "source": [
    "# Flatten \n",
    "a.flatten()"
   ]
  },
  {
   "cell_type": "code",
   "execution_count": 140,
   "id": "88012e1a-d438-47e2-9723-875a19be0587",
   "metadata": {},
   "outputs": [
    {
     "data": {
      "text/plain": [
       "array([[ 1,  2,  3,  4,  5],\n",
       "       [ 6,  7,  8,  9, 10],\n",
       "       [11, 12, 13, 14, 15],\n",
       "       [16, 17, 18, 19, 20]])"
      ]
     },
     "execution_count": 140,
     "metadata": {},
     "output_type": "execute_result"
    }
   ],
   "source": [
    "a"
   ]
  },
  {
   "cell_type": "code",
   "execution_count": 141,
   "id": "7072aa19-a4d6-4f0d-b373-ce6bd3fee2d3",
   "metadata": {},
   "outputs": [
    {
     "data": {
      "text/plain": [
       "array([ 1,  2,  3,  4,  5,  6,  7,  8,  9, 10, 11, 12, 13, 14, 15, 16, 17,\n",
       "       18, 19, 20])"
      ]
     },
     "execution_count": 141,
     "metadata": {},
     "output_type": "execute_result"
    }
   ],
   "source": [
    "# ravel \n",
    "a.ravel()"
   ]
  },
  {
   "cell_type": "code",
   "execution_count": 142,
   "id": "a11b0c50-c96e-4321-b7dd-0b9032cb2745",
   "metadata": {},
   "outputs": [
    {
     "data": {
      "text/plain": [
       "array([[ 1,  2,  3,  4,  5],\n",
       "       [ 6,  7,  8,  9, 10],\n",
       "       [11, 12, 13, 14, 15],\n",
       "       [16, 17, 18, 19, 20]])"
      ]
     },
     "execution_count": 142,
     "metadata": {},
     "output_type": "execute_result"
    }
   ],
   "source": [
    "a"
   ]
  },
  {
   "cell_type": "code",
   "execution_count": null,
   "id": "406073b7-842e-4893-bc3b-277bebfb8e67",
   "metadata": {},
   "outputs": [],
   "source": [
    "\"\"\"\n",
    "flatten(): Returns a copy of the array as a 1D array.\n",
    "ravel(): Returns a flattened 1D array, but if possible, it returns a view of the original array (no copy).\n",
    "\"\"\""
   ]
  },
  {
   "cell_type": "code",
   "execution_count": null,
   "id": "6f78a3a6-04ac-49f8-a4c8-4e2cd0f6413f",
   "metadata": {},
   "outputs": [],
   "source": [
    "# Difference of flatten and ravel "
   ]
  },
  {
   "cell_type": "code",
   "execution_count": 143,
   "id": "86fcf1ed-686e-447c-a634-690cb913513e",
   "metadata": {},
   "outputs": [
    {
     "data": {
      "text/plain": [
       "array([  1,   2, 100,   4,   5,   6,   7,   8,   9,  10,  11,  12,  13,\n",
       "        14,  15,  16,  17,  18,  19,  20])"
      ]
     },
     "execution_count": 143,
     "metadata": {},
     "output_type": "execute_result"
    }
   ],
   "source": [
    "var1 = a.flatten()\n",
    "var1[2] = 100\n",
    "var1"
   ]
  },
  {
   "cell_type": "code",
   "execution_count": 144,
   "id": "5be38e14-a844-4097-8d80-70b36bddbfbd",
   "metadata": {},
   "outputs": [
    {
     "data": {
      "text/plain": [
       "array([[ 1,  2,  3,  4,  5],\n",
       "       [ 6,  7,  8,  9, 10],\n",
       "       [11, 12, 13, 14, 15],\n",
       "       [16, 17, 18, 19, 20]])"
      ]
     },
     "execution_count": 144,
     "metadata": {},
     "output_type": "execute_result"
    }
   ],
   "source": [
    "a"
   ]
  },
  {
   "cell_type": "code",
   "execution_count": 145,
   "id": "0cdd3fd5-fd48-4e2b-9a0d-e5133fdcef19",
   "metadata": {},
   "outputs": [
    {
     "data": {
      "text/plain": [
       "array([  1,   2, 100,   4,   5,   6,   7,   8,   9,  10,  11,  12,  13,\n",
       "        14,  15,  16,  17,  18,  19,  20])"
      ]
     },
     "execution_count": 145,
     "metadata": {},
     "output_type": "execute_result"
    }
   ],
   "source": [
    "var1 = a.ravel()\n",
    "var1[2] = 100\n",
    "var1"
   ]
  },
  {
   "cell_type": "code",
   "execution_count": 146,
   "id": "6293ec9c-a830-4ad7-be6a-87305ea44458",
   "metadata": {},
   "outputs": [
    {
     "data": {
      "text/plain": [
       "array([[  1,   2, 100,   4,   5],\n",
       "       [  6,   7,   8,   9,  10],\n",
       "       [ 11,  12,  13,  14,  15],\n",
       "       [ 16,  17,  18,  19,  20]])"
      ]
     },
     "execution_count": 146,
     "metadata": {},
     "output_type": "execute_result"
    }
   ],
   "source": [
    "a"
   ]
  },
  {
   "cell_type": "code",
   "execution_count": 147,
   "id": "5bb39a35-75d1-4463-b74b-5bdbd99e71bf",
   "metadata": {},
   "outputs": [],
   "source": [
    "a = np.array([np.arange(1, 6), np.arange(6, 11), np.arange(11, 16), np.arange(16, 21)])"
   ]
  },
  {
   "cell_type": "code",
   "execution_count": 148,
   "id": "4b0b6f6f-37f2-45ad-9a15-ff7f8c942f89",
   "metadata": {},
   "outputs": [
    {
     "data": {
      "text/plain": [
       "[1, 2, 3, 4, 5, 6, 7, 8, 9, 10, 11, 12, 13, 14, 15, 16, 17, 18, 19, 20]"
      ]
     },
     "execution_count": 148,
     "metadata": {},
     "output_type": "execute_result"
    }
   ],
   "source": [
    "# Flat \n",
    "[i for i in a.flat]"
   ]
  },
  {
   "cell_type": "code",
   "execution_count": 150,
   "id": "866e78da-8628-4694-832a-59c491e434de",
   "metadata": {},
   "outputs": [],
   "source": [
    "# Transpose "
   ]
  },
  {
   "cell_type": "code",
   "execution_count": 151,
   "id": "635a5a0c-6816-4bb5-b99f-9cb2cbaea052",
   "metadata": {},
   "outputs": [
    {
     "data": {
      "text/plain": [
       "array([[ 1,  6, 11, 16],\n",
       "       [ 2,  7, 12, 17],\n",
       "       [ 3,  8, 13, 18],\n",
       "       [ 4,  9, 14, 19],\n",
       "       [ 5, 10, 15, 20]])"
      ]
     },
     "execution_count": 151,
     "metadata": {},
     "output_type": "execute_result"
    }
   ],
   "source": [
    "a.T"
   ]
  },
  {
   "cell_type": "code",
   "execution_count": 154,
   "id": "e326fb35-ae3c-4fe6-a538-182595fd7cbe",
   "metadata": {},
   "outputs": [
    {
     "data": {
      "text/plain": [
       "array([[ 1,  6, 11, 16],\n",
       "       [ 2,  7, 12, 17],\n",
       "       [ 3,  8, 13, 18],\n",
       "       [ 4,  9, 14, 19],\n",
       "       [ 5, 10, 15, 20]])"
      ]
     },
     "execution_count": 154,
     "metadata": {},
     "output_type": "execute_result"
    }
   ],
   "source": [
    "a.swapaxes(0, 1)"
   ]
  },
  {
   "cell_type": "markdown",
   "id": "a2687a72-6a32-4290-b115-779f29e90ab6",
   "metadata": {},
   "source": [
    "# Concatenating, Stacking, Splitting"
   ]
  },
  {
   "cell_type": "code",
   "execution_count": 163,
   "id": "c107d846-6edb-40eb-9009-a6dd4b902573",
   "metadata": {},
   "outputs": [],
   "source": [
    "a1 = np.array([np.arange(0, 5), np.arange(5, 10)])\n",
    "a2 = np.array([np.arange(11, 16), np.arange(16, 21)])"
   ]
  },
  {
   "cell_type": "code",
   "execution_count": 164,
   "id": "1e9f6492-be05-4925-8d88-abac967597dd",
   "metadata": {},
   "outputs": [
    {
     "data": {
      "text/plain": [
       "array([[0, 1, 2, 3, 4],\n",
       "       [5, 6, 7, 8, 9]])"
      ]
     },
     "execution_count": 164,
     "metadata": {},
     "output_type": "execute_result"
    }
   ],
   "source": [
    "a1"
   ]
  },
  {
   "cell_type": "code",
   "execution_count": 165,
   "id": "59c8a73b-88c8-47da-afc7-81324c658f97",
   "metadata": {},
   "outputs": [
    {
     "data": {
      "text/plain": [
       "array([[11, 12, 13, 14, 15],\n",
       "       [16, 17, 18, 19, 20]])"
      ]
     },
     "execution_count": 165,
     "metadata": {},
     "output_type": "execute_result"
    }
   ],
   "source": [
    "a2"
   ]
  },
  {
   "cell_type": "code",
   "execution_count": 168,
   "id": "1229bd91-8c88-48d4-b739-61dfb0fdba56",
   "metadata": {},
   "outputs": [
    {
     "data": {
      "text/plain": [
       "array([[ 0,  1,  2,  3,  4],\n",
       "       [ 5,  6,  7,  8,  9],\n",
       "       [11, 12, 13, 14, 15],\n",
       "       [16, 17, 18, 19, 20]])"
      ]
     },
     "execution_count": 168,
     "metadata": {},
     "output_type": "execute_result"
    }
   ],
   "source": [
    "np.concatenate((a1, a2), axis = 0)"
   ]
  },
  {
   "cell_type": "code",
   "execution_count": 169,
   "id": "dd14277a-533a-44a7-870f-f8bfa9f41397",
   "metadata": {},
   "outputs": [
    {
     "data": {
      "text/plain": [
       "array([[ 0,  1,  2,  3,  4, 11, 12, 13, 14, 15],\n",
       "       [ 5,  6,  7,  8,  9, 16, 17, 18, 19, 20]])"
      ]
     },
     "execution_count": 169,
     "metadata": {},
     "output_type": "execute_result"
    }
   ],
   "source": [
    "np.concatenate((a1, a2), axis = 1)"
   ]
  },
  {
   "cell_type": "code",
   "execution_count": 171,
   "id": "3f1327d5-dc61-475f-9d64-4da35c2eb190",
   "metadata": {},
   "outputs": [
    {
     "data": {
      "text/plain": [
       "array([[[ 0,  1,  2,  3,  4],\n",
       "        [ 5,  6,  7,  8,  9]],\n",
       "\n",
       "       [[11, 12, 13, 14, 15],\n",
       "        [16, 17, 18, 19, 20]]])"
      ]
     },
     "execution_count": 171,
     "metadata": {},
     "output_type": "execute_result"
    }
   ],
   "source": [
    "np.stack((a1, a2))"
   ]
  },
  {
   "cell_type": "code",
   "execution_count": 172,
   "id": "296709bb-6900-4650-b654-16e24962da1a",
   "metadata": {},
   "outputs": [
    {
     "data": {
      "text/plain": [
       "array([[ 0,  1,  2,  3,  4],\n",
       "       [ 5,  6,  7,  8,  9],\n",
       "       [11, 12, 13, 14, 15],\n",
       "       [16, 17, 18, 19, 20]])"
      ]
     },
     "execution_count": 172,
     "metadata": {},
     "output_type": "execute_result"
    }
   ],
   "source": [
    "np.vstack((a1, a2))"
   ]
  },
  {
   "cell_type": "code",
   "execution_count": 173,
   "id": "949a0f0b-55c5-4994-b753-6c3897d35217",
   "metadata": {},
   "outputs": [
    {
     "data": {
      "text/plain": [
       "array([[ 0,  1,  2,  3,  4, 11, 12, 13, 14, 15],\n",
       "       [ 5,  6,  7,  8,  9, 16, 17, 18, 19, 20]])"
      ]
     },
     "execution_count": 173,
     "metadata": {},
     "output_type": "execute_result"
    }
   ],
   "source": [
    "np.hstack((a1, a2))"
   ]
  },
  {
   "cell_type": "code",
   "execution_count": 174,
   "id": "2f475146-72aa-461f-a77b-9efc48734aa1",
   "metadata": {},
   "outputs": [
    {
     "data": {
      "text/plain": [
       "array([[0, 1, 2, 3, 4],\n",
       "       [5, 6, 7, 8, 9]])"
      ]
     },
     "execution_count": 174,
     "metadata": {},
     "output_type": "execute_result"
    }
   ],
   "source": [
    "a1"
   ]
  },
  {
   "cell_type": "code",
   "execution_count": 176,
   "id": "f4d823db-d927-4512-84d2-725eda2d2971",
   "metadata": {},
   "outputs": [
    {
     "data": {
      "text/plain": [
       "[array([[0, 1, 2, 3, 4]]), array([[5, 6, 7, 8, 9]])]"
      ]
     },
     "execution_count": 176,
     "metadata": {},
     "output_type": "execute_result"
    }
   ],
   "source": [
    "np.split(a1, 2, axis=0)"
   ]
  },
  {
   "cell_type": "code",
   "execution_count": 178,
   "id": "8883ea85-9d2f-4881-a3a3-cef6cefbfc15",
   "metadata": {},
   "outputs": [
    {
     "data": {
      "text/plain": [
       "[array([[0, 1, 2],\n",
       "        [5, 6, 7]]),\n",
       " array([[3, 4],\n",
       "        [8, 9]])]"
      ]
     },
     "execution_count": 178,
     "metadata": {},
     "output_type": "execute_result"
    }
   ],
   "source": [
    "np.split(a1, 2.5, axis=1) # equaly division the array "
   ]
  },
  {
   "cell_type": "markdown",
   "id": "c4329a1a-5d00-43a3-afe0-4906956ad412",
   "metadata": {},
   "source": [
    "# Aggregate Functions "
   ]
  },
  {
   "cell_type": "code",
   "execution_count": 179,
   "id": "7685d8b6-6363-4d60-8d8f-01f96af29922",
   "metadata": {},
   "outputs": [
    {
     "data": {
      "text/plain": [
       "array([[0, 1, 2, 3, 4],\n",
       "       [5, 6, 7, 8, 9]])"
      ]
     },
     "execution_count": 179,
     "metadata": {},
     "output_type": "execute_result"
    }
   ],
   "source": [
    "a1"
   ]
  },
  {
   "cell_type": "code",
   "execution_count": 180,
   "id": "a26f4a69-6072-4507-bf51-e99c84f940cd",
   "metadata": {},
   "outputs": [
    {
     "data": {
      "text/plain": [
       "0"
      ]
     },
     "execution_count": 180,
     "metadata": {},
     "output_type": "execute_result"
    }
   ],
   "source": [
    "a1.min()"
   ]
  },
  {
   "cell_type": "code",
   "execution_count": 181,
   "id": "91994d0e-3263-4acc-8ae7-e6bcb7707a96",
   "metadata": {},
   "outputs": [
    {
     "data": {
      "text/plain": [
       "9"
      ]
     },
     "execution_count": 181,
     "metadata": {},
     "output_type": "execute_result"
    }
   ],
   "source": [
    "a1.max()"
   ]
  },
  {
   "cell_type": "code",
   "execution_count": 182,
   "id": "090aaa23-530a-4e71-b884-2ef42b95dbe1",
   "metadata": {},
   "outputs": [
    {
     "data": {
      "text/plain": [
       "4.5"
      ]
     },
     "execution_count": 182,
     "metadata": {},
     "output_type": "execute_result"
    }
   ],
   "source": [
    "a1.mean()"
   ]
  },
  {
   "cell_type": "code",
   "execution_count": 183,
   "id": "9d0996bf-1b0c-4cae-86f7-0dfccd6544fd",
   "metadata": {},
   "outputs": [
    {
     "data": {
      "text/plain": [
       "5.766281297335398"
      ]
     },
     "execution_count": 183,
     "metadata": {},
     "output_type": "execute_result"
    }
   ],
   "source": [
    "a.std()"
   ]
  },
  {
   "cell_type": "code",
   "execution_count": 184,
   "id": "1a87a3a7-0a40-425f-a97c-6b159d88e899",
   "metadata": {},
   "outputs": [
    {
     "data": {
      "text/plain": [
       "210"
      ]
     },
     "execution_count": 184,
     "metadata": {},
     "output_type": "execute_result"
    }
   ],
   "source": [
    "a.sum()"
   ]
  },
  {
   "cell_type": "code",
   "execution_count": 185,
   "id": "252a6169-cbc9-4008-b4cb-505f76bab49c",
   "metadata": {},
   "outputs": [
    {
     "data": {
      "text/plain": [
       "10.5"
      ]
     },
     "execution_count": 185,
     "metadata": {},
     "output_type": "execute_result"
    }
   ],
   "source": [
    "np.median(a)"
   ]
  },
  {
   "cell_type": "markdown",
   "id": "31201045-88af-47bd-8ec4-d43e0f0f49c0",
   "metadata": {},
   "source": [
    "# Random "
   ]
  },
  {
   "cell_type": "code",
   "execution_count": 186,
   "id": "ece41f1a-0fb3-4052-bb0d-455e17980cfd",
   "metadata": {},
   "outputs": [
    {
     "data": {
      "text/plain": [
       "70"
      ]
     },
     "execution_count": 186,
     "metadata": {},
     "output_type": "execute_result"
    }
   ],
   "source": [
    "np.random.randint(100)"
   ]
  },
  {
   "cell_type": "code",
   "execution_count": 187,
   "id": "dd5f26df-55dd-4433-86e5-68da6b44ca8c",
   "metadata": {},
   "outputs": [
    {
     "data": {
      "text/plain": [
       "array([[[45, 66, 19, 55],\n",
       "        [68, 45,  4, 94],\n",
       "        [33, 11, 54, 20]],\n",
       "\n",
       "       [[83, 20, 18, 91],\n",
       "        [38, 31, 46, 51],\n",
       "        [58, 62,  1,  1]]])"
      ]
     },
     "execution_count": 187,
     "metadata": {},
     "output_type": "execute_result"
    }
   ],
   "source": [
    "np.random.randint(100, size=(2, 3, 4))"
   ]
  },
  {
   "cell_type": "code",
   "execution_count": 188,
   "id": "c94304de-31e8-49f7-891e-d674238cd56e",
   "metadata": {},
   "outputs": [
    {
     "data": {
      "text/plain": [
       "array([[[98, 99, 94, 93],\n",
       "        [92, 95, 98, 91],\n",
       "        [98, 93, 91, 90]],\n",
       "\n",
       "       [[99, 94, 96, 92],\n",
       "        [96, 98, 97, 96],\n",
       "        [95, 99, 92, 99]]])"
      ]
     },
     "execution_count": 188,
     "metadata": {},
     "output_type": "execute_result"
    }
   ],
   "source": [
    "np.random.randint(90, 100, size=(2, 3, 4))"
   ]
  },
  {
   "cell_type": "code",
   "execution_count": 191,
   "id": "2cdfc13c-2d6b-45e9-a6af-e4e2326a955b",
   "metadata": {},
   "outputs": [
    {
     "data": {
      "text/plain": [
       "array([[ 6, 10, 12, 11, 11,  7,  5, 13, 10, 14],\n",
       "       [10, 11,  4,  9,  6, 12,  7,  8, 12, 13],\n",
       "       [11, 12,  9, 11, 11, 10, 12, 12, 14,  9],\n",
       "       [ 6, 11, 12,  8, 11,  9, 10, 11, 13, 11],\n",
       "       [12, 11, 11, 14, 13,  6, 10, 11, 10, 14]])"
      ]
     },
     "execution_count": 191,
     "metadata": {},
     "output_type": "execute_result"
    }
   ],
   "source": [
    "np.random.binomial(20, p=0.5, size=(5, 10)) # p is probability size"
   ]
  },
  {
   "cell_type": "code",
   "execution_count": 192,
   "id": "0dffd310-af01-44d4-8a1a-5c742a250f67",
   "metadata": {},
   "outputs": [
    {
     "data": {
      "text/plain": [
       "array([[185.05434813, 184.62817098, 161.99176231, 178.03673255,\n",
       "        173.92576722, 180.55571201, 167.95457476, 172.4983043 ,\n",
       "        141.26505757, 152.83524707],\n",
       "       [163.85997211, 173.31899757, 171.46040387, 153.31514252,\n",
       "        155.72549227, 152.09821595, 162.18217684, 162.8973292 ,\n",
       "        176.41739739, 165.96547143],\n",
       "       [178.82809106, 173.39586704, 177.94005712, 144.69919024,\n",
       "        155.78654029, 208.54491226, 140.05874317, 172.95482791,\n",
       "        175.07573661, 153.69075204],\n",
       "       [183.29495753, 199.05221589, 204.38714027, 131.17668538,\n",
       "        175.38363381, 151.07852099, 158.75250608, 138.08238635,\n",
       "        137.27264276, 160.50614184],\n",
       "       [185.11788694, 174.83273101, 153.10213851, 170.31209947,\n",
       "        184.1129905 , 156.92789885, 198.70285172, 170.4776436 ,\n",
       "        151.15775269, 171.72324237]])"
      ]
     },
     "execution_count": 192,
     "metadata": {},
     "output_type": "execute_result"
    }
   ],
   "source": [
    "np.random.normal(loc = 170, scale = 15, size = (5, 10)) # loc -> mean "
   ]
  },
  {
   "cell_type": "code",
   "execution_count": 194,
   "id": "7b1b351d-c13f-42da-aaaf-66d1fb804fe7",
   "metadata": {},
   "outputs": [
    {
     "data": {
      "text/plain": [
       "array([[40,  4,  5],\n",
       "       [ 4, 40, 40],\n",
       "       [ 5,  2,  3],\n",
       "       [40,  5,  4],\n",
       "       [ 4,  4, 40]])"
      ]
     },
     "execution_count": 194,
     "metadata": {},
     "output_type": "execute_result"
    }
   ],
   "source": [
    "np.random.choice([2, 3, 4, 5, 40], size=(5, 3))"
   ]
  },
  {
   "cell_type": "markdown",
   "id": "e451ba41-61c3-4559-beea-a73f3d7cc0af",
   "metadata": {},
   "source": [
    "# Exporting & Importing "
   ]
  },
  {
   "cell_type": "code",
   "execution_count": 195,
   "id": "7148c301-f47d-4d50-a660-0eb3bda5cac3",
   "metadata": {},
   "outputs": [],
   "source": [
    "np.save(\"myArray.npy\", a)"
   ]
  },
  {
   "cell_type": "code",
   "execution_count": 196,
   "id": "0e160217-c186-4c30-b335-a5a44daeec94",
   "metadata": {},
   "outputs": [
    {
     "data": {
      "text/plain": [
       "array([[ 1,  2,  3,  4,  5],\n",
       "       [ 6,  7,  8,  9, 10],\n",
       "       [11, 12, 13, 14, 15],\n",
       "       [16, 17, 18, 19, 20]])"
      ]
     },
     "execution_count": 196,
     "metadata": {},
     "output_type": "execute_result"
    }
   ],
   "source": [
    "np.load(\"myArray.npy\")"
   ]
  },
  {
   "cell_type": "code",
   "execution_count": 197,
   "id": "23b24736-2c2c-4e50-b0e4-b7a096ec687d",
   "metadata": {},
   "outputs": [],
   "source": [
    "np.savetxt(\"myArray.csv\", a, delimiter=\",\")"
   ]
  },
  {
   "cell_type": "code",
   "execution_count": 200,
   "id": "2f9ce082-ab7c-4cbe-8bb3-0c15d79f3e8a",
   "metadata": {},
   "outputs": [
    {
     "data": {
      "text/plain": [
       "array([[ 1.,  2.,  3.,  4.,  5.],\n",
       "       [ 6.,  7.,  8.,  9., 10.],\n",
       "       [11., 12., 13., 14., 15.],\n",
       "       [16., 17., 18., 19., 20.]])"
      ]
     },
     "execution_count": 200,
     "metadata": {},
     "output_type": "execute_result"
    }
   ],
   "source": [
    "np.loadtxt(\"myArray.csv\", delimiter=\",\")"
   ]
  },
  {
   "cell_type": "code",
   "execution_count": null,
   "id": "703a5ec8-6e57-45fc-8d49-a835576df36a",
   "metadata": {},
   "outputs": [],
   "source": []
  }
 ],
 "metadata": {
  "kernelspec": {
   "display_name": "Python 3 (ipykernel)",
   "language": "python",
   "name": "python3"
  },
  "language_info": {
   "codemirror_mode": {
    "name": "ipython",
    "version": 3
   },
   "file_extension": ".py",
   "mimetype": "text/x-python",
   "name": "python",
   "nbconvert_exporter": "python",
   "pygments_lexer": "ipython3",
   "version": "3.8.20"
  },
  "widgets": {
   "application/vnd.jupyter.widget-state+json": {
    "state": {},
    "version_major": 2,
    "version_minor": 0
   }
  }
 },
 "nbformat": 4,
 "nbformat_minor": 5
}

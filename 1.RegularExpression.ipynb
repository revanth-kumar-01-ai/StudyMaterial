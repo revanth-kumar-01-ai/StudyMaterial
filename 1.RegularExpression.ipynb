{
 "cells": [
  {
   "cell_type": "code",
   "execution_count": 1,
   "id": "81a24541-3d29-4d9a-9e99-5ef94d97ef86",
   "metadata": {},
   "outputs": [],
   "source": [
    "import re "
   ]
  },
  {
   "cell_type": "code",
   "execution_count": 2,
   "id": "00757b2f-5ad7-42bc-8315-f4dc4964ac79",
   "metadata": {},
   "outputs": [],
   "source": [
    "test_string = '123abc456789abc123ABC' "
   ]
  },
  {
   "cell_type": "code",
   "execution_count": 5,
   "id": "c8d18e04-db30-45c7-bb89-b5fea25896f3",
   "metadata": {},
   "outputs": [
    {
     "name": "stdout",
     "output_type": "stream",
     "text": [
      "<re.Match object; span=(3, 6), match='abc'>\n",
      "<re.Match object; span=(12, 15), match='abc'>\n"
     ]
    }
   ],
   "source": [
    "# Example\n",
    "pattern = re.compile(r\"abc\")\n",
    "matches = pattern.finditer(test_string) \n",
    "\n",
    "for match in matches: \n",
    "    print(match)"
   ]
  },
  {
   "cell_type": "markdown",
   "id": "9e55274f-753b-474d-98ac-e97c2d6eb1bf",
   "metadata": {},
   "source": [
    "## Methods to search for matches"
   ]
  },
  {
   "cell_type": "code",
   "execution_count": 7,
   "id": "9b57065f-7003-4384-9cf5-7bb29618d14c",
   "metadata": {},
   "outputs": [
    {
     "name": "stdout",
     "output_type": "stream",
     "text": [
      "<re.Match object; span=(0, 3), match='123'>\n",
      "None\n"
     ]
    }
   ],
   "source": [
    "# match method only show the beggning of the string \n",
    "\n",
    "# beggning\n",
    "match = re.match(r'123', test_string) \n",
    "print(match)\n",
    "\n",
    "# not beggning \n",
    "match = re.match(r'abc', test_string) \n",
    "print(match)"
   ]
  },
  {
   "cell_type": "code",
   "execution_count": 9,
   "id": "db2152aa-9c0a-4019-9fbd-5813d05473c0",
   "metadata": {},
   "outputs": [
    {
     "name": "stdout",
     "output_type": "stream",
     "text": [
      "<re.Match object; span=(3, 6), match='abc'>\n"
     ]
    }
   ],
   "source": [
    "# search method only search the beggning or one time search \n",
    "\n",
    "search = re.search(r'abc', test_string)\n",
    "print(search)"
   ]
  },
  {
   "cell_type": "code",
   "execution_count": 10,
   "id": "e016cfcf-624c-40b9-99e2-584532b7119f",
   "metadata": {},
   "outputs": [
    {
     "name": "stdout",
     "output_type": "stream",
     "text": [
      "['abc', 'abc']\n"
     ]
    }
   ],
   "source": [
    "# Findall method get all the given data \n",
    "\n",
    "findall = re.findall(r'abc', test_string)\n",
    "print(findall)"
   ]
  },
  {
   "cell_type": "markdown",
   "id": "8cb3a4ef-ff16-41d4-bd8b-b82be8dcb9b5",
   "metadata": {},
   "source": [
    "## Methods on a match object "
   ]
  },
  {
   "cell_type": "code",
   "execution_count": 11,
   "id": "8ae99770-28f6-4658-b495-5df9290d3d3f",
   "metadata": {},
   "outputs": [
    {
     "name": "stdout",
     "output_type": "stream",
     "text": [
      "(3, 6)\n",
      "(12, 15)\n"
     ]
    }
   ],
   "source": [
    "# span -> show the start index and end index in the tuple \n",
    "pattern = re.compile(r\"abc\")\n",
    "matches = pattern.finditer(test_string) \n",
    "\n",
    "for match in matches: \n",
    "    print(match.span())"
   ]
  },
  {
   "cell_type": "code",
   "execution_count": 13,
   "id": "b265f2ad-4949-4243-ba3b-c00365d54497",
   "metadata": {},
   "outputs": [
    {
     "name": "stdout",
     "output_type": "stream",
     "text": [
      "3\n",
      "12\n"
     ]
    }
   ],
   "source": [
    "# start -> start index\n",
    "pattern = re.compile(r\"abc\")\n",
    "matches = pattern.finditer(test_string) \n",
    "\n",
    "for match in matches: \n",
    "    print(match.start())"
   ]
  },
  {
   "cell_type": "code",
   "execution_count": 14,
   "id": "3a391c03-2455-4937-aba0-dd17f10e6165",
   "metadata": {},
   "outputs": [
    {
     "name": "stdout",
     "output_type": "stream",
     "text": [
      "6\n",
      "15\n"
     ]
    }
   ],
   "source": [
    "# end -> end index\n",
    "pattern = re.compile(r\"abc\")\n",
    "matches = pattern.finditer(test_string) \n",
    "\n",
    "for match in matches: \n",
    "    print(match.end())"
   ]
  },
  {
   "cell_type": "code",
   "execution_count": 19,
   "id": "59839f3f-3981-452c-8961-2a929af30e11",
   "metadata": {},
   "outputs": [
    {
     "name": "stdout",
     "output_type": "stream",
     "text": [
      "abc\n",
      "abc\n"
     ]
    }
   ],
   "source": [
    "# group -> group the character \n",
    "pattern = re.compile(r\"abc\")\n",
    "matches = pattern.finditer(test_string) \n",
    "\n",
    "for match in matches: \n",
    "    print(match.group())"
   ]
  },
  {
   "cell_type": "markdown",
   "id": "7b27c2dc-2f03-4948-bdd7-66b31842666e",
   "metadata": {},
   "source": [
    "## Meta characters"
   ]
  },
  {
   "cell_type": "code",
   "execution_count": null,
   "id": "fca81c00-b278-4c24-9a6c-db86fe0a1093",
   "metadata": {},
   "outputs": [],
   "source": [
    "\"\"\"\n",
    ". Any character (except newline character) \"he..o\"\n",
    "^ Starts with \"^hello\"\n",
    "$ Ends with \"world$\"\n",
    "* Zero or more occurrences \"aix*\"\n",
    "+ One or more occurrences \"aix+\"\n",
    "{ } Exactly the specified number of occurrences \"al{2}\"\n",
    "[] A set of characters \"[a-m]\"\n",
    "\\ Signals a special sequence (can also be used to escape special characters) \"\\d\"\n",
    "| Either or \"falls|stays\"\n",
    "( ) Capture and group\n",
    "\n",
    "\"\"\""
   ]
  },
  {
   "cell_type": "code",
   "execution_count": 218,
   "id": "0b8b0c7b-b063-41b3-9282-95e028add18c",
   "metadata": {},
   "outputs": [
    {
     "data": {
      "text/plain": [
       "['1',\n",
       " '2',\n",
       " '3',\n",
       " 'a',\n",
       " 'b',\n",
       " 'c',\n",
       " '4',\n",
       " '3',\n",
       " '5',\n",
       " '3',\n",
       " 'a',\n",
       " 'b',\n",
       " 'c',\n",
       " 'e',\n",
       " 'w',\n",
       " 'e',\n",
       " 'w',\n",
       " 'a',\n",
       " 'b',\n",
       " 'c',\n",
       " '2',\n",
       " '3',\n",
       " '2',\n",
       " 's',\n",
       " 'w']"
      ]
     },
     "execution_count": 218,
     "metadata": {},
     "output_type": "execute_result"
    }
   ],
   "source": [
    "re.findall('.', test_string)"
   ]
  },
  {
   "cell_type": "code",
   "execution_count": 30,
   "id": "7a377204-27a7-4b57-ae4f-2211f74bc3c7",
   "metadata": {},
   "outputs": [
    {
     "data": {
      "text/plain": [
       "['123']"
      ]
     },
     "execution_count": 30,
     "metadata": {},
     "output_type": "execute_result"
    }
   ],
   "source": [
    "re.findall(r\"^123\", test_string) # ^ check the beggning of the string  "
   ]
  },
  {
   "cell_type": "code",
   "execution_count": 36,
   "id": "b90fd129-7e0a-4e28-bbdc-1748e0ef8b35",
   "metadata": {},
   "outputs": [
    {
     "data": {
      "text/plain": [
       "['ABC']"
      ]
     },
     "execution_count": 36,
     "metadata": {},
     "output_type": "execute_result"
    }
   ],
   "source": [
    "re.findall(r\"ABC$\", test_string) # $ check the end of the string"
   ]
  },
  {
   "cell_type": "code",
   "execution_count": 47,
   "id": "f0199183-12f9-4cf4-a933-a241090cf96d",
   "metadata": {},
   "outputs": [
    {
     "data": {
      "text/plain": [
       "['.']"
      ]
     },
     "execution_count": 47,
     "metadata": {},
     "output_type": "execute_result"
    }
   ],
   "source": [
    "re.findall(r\"\\.\", \"SDEA.\") # using \\ is used to escape the characters "
   ]
  },
  {
   "cell_type": "code",
   "execution_count": null,
   "id": "9277f67f-b3bc-40b7-a7d1-2d8412f167aa",
   "metadata": {},
   "outputs": [],
   "source": [
    "# later "
   ]
  },
  {
   "cell_type": "markdown",
   "id": "12f6bec6-0399-43d9-93e6-302a07e1cd7c",
   "metadata": {},
   "source": [
    "## More special sequences"
   ]
  },
  {
   "cell_type": "code",
   "execution_count": null,
   "id": "023adfe4-476e-4fa2-bb67-39bf7bff9179",
   "metadata": {},
   "outputs": [],
   "source": [
    "\"\"\"\n",
    "\n",
    "\\d :Matches any decimal digit; this is equivalent to the class [0-9].\n",
    "\\D : Matches any non-digit character; this is equivalent to the class [^0-9].\n",
    "\\s : Matches any whitespace character;\n",
    "\\S : Matches any non-whitespace character;\n",
    "\\w : Matches any alphanumeric (word) character; this is equivalent to the class [a-zA-Z0-9_].\n",
    "\\W : Matches any non-alphanumeric character; this is equivalent to the class [^a-zA-Z0-9_].\n",
    "\\b Returns a match where the specified characters are at the beginning or at the end of a word r\"\\bain\" r\"ain\\b\"\n",
    "\\B Returns a match where the specified characters are present, but NOT at the beginning (or at the end) \n",
    "   of a word r\"\\Bain\" r\"ain\\B\"\n",
    "\\A Returns a match if the specified characters are at the beginning of the string \"\\AThe\"\n",
    "\\Z Returns a match if the specified characters are at the end of the string \"Spain\\Z\"\n",
    "\n",
    "\"\"\""
   ]
  },
  {
   "cell_type": "code",
   "execution_count": 48,
   "id": "dce71e3f-10a7-48cd-a72a-f0d03eacfcf9",
   "metadata": {},
   "outputs": [],
   "source": [
    "test_string = \"hello 123_ heyho hohey\""
   ]
  },
  {
   "cell_type": "code",
   "execution_count": 49,
   "id": "8a113ab9-b989-49b3-8afc-55080d021bd6",
   "metadata": {},
   "outputs": [
    {
     "data": {
      "text/plain": [
       "['1', '2', '3']"
      ]
     },
     "execution_count": 49,
     "metadata": {},
     "output_type": "execute_result"
    }
   ],
   "source": [
    "# \\d with number \n",
    "\n",
    "re.findall(r'\\d', test_string)"
   ]
  },
  {
   "cell_type": "code",
   "execution_count": 50,
   "id": "f5ff6fce-cb4c-4142-97ab-0d0222e466ac",
   "metadata": {},
   "outputs": [
    {
     "data": {
      "text/plain": [
       "['h',\n",
       " 'e',\n",
       " 'l',\n",
       " 'l',\n",
       " 'o',\n",
       " ' ',\n",
       " '_',\n",
       " ' ',\n",
       " 'h',\n",
       " 'e',\n",
       " 'y',\n",
       " 'h',\n",
       " 'o',\n",
       " ' ',\n",
       " 'h',\n",
       " 'o',\n",
       " 'h',\n",
       " 'e',\n",
       " 'y']"
      ]
     },
     "execution_count": 50,
     "metadata": {},
     "output_type": "execute_result"
    }
   ],
   "source": [
    "# \\D without number\n",
    "\n",
    "re.findall(r'\\D', test_string)"
   ]
  },
  {
   "cell_type": "code",
   "execution_count": 51,
   "id": "7a16727f-359c-491c-890a-258a34a6ab12",
   "metadata": {},
   "outputs": [
    {
     "data": {
      "text/plain": [
       "[' ', ' ', ' ']"
      ]
     },
     "execution_count": 51,
     "metadata": {},
     "output_type": "execute_result"
    }
   ],
   "source": [
    "# \\s white space \n",
    "re.findall(r'\\s', test_string)"
   ]
  },
  {
   "cell_type": "code",
   "execution_count": 52,
   "id": "44c9524e-0fc1-4f28-a0f9-69424ce08f85",
   "metadata": {},
   "outputs": [
    {
     "data": {
      "text/plain": [
       "['h',\n",
       " 'e',\n",
       " 'l',\n",
       " 'l',\n",
       " 'o',\n",
       " '1',\n",
       " '2',\n",
       " '3',\n",
       " '_',\n",
       " 'h',\n",
       " 'e',\n",
       " 'y',\n",
       " 'h',\n",
       " 'o',\n",
       " 'h',\n",
       " 'o',\n",
       " 'h',\n",
       " 'e',\n",
       " 'y']"
      ]
     },
     "execution_count": 52,
     "metadata": {},
     "output_type": "execute_result"
    }
   ],
   "source": [
    "# \\S without white space \n",
    "re.findall(r'\\S', test_string)"
   ]
  },
  {
   "cell_type": "code",
   "execution_count": 119,
   "id": "c3c5ddf4-10ff-455b-bec4-316581acd778",
   "metadata": {},
   "outputs": [
    {
     "data": {
      "text/plain": [
       "['h',\n",
       " 'e',\n",
       " 'A',\n",
       " 'S',\n",
       " 'l',\n",
       " 'l',\n",
       " 'o',\n",
       " '1',\n",
       " '2',\n",
       " '3',\n",
       " '_',\n",
       " 'h',\n",
       " 'e',\n",
       " 'y',\n",
       " 'h',\n",
       " 'o',\n",
       " 'h',\n",
       " 'o',\n",
       " 'h',\n",
       " 'e',\n",
       " 'y']"
      ]
     },
     "execution_count": 119,
     "metadata": {},
     "output_type": "execute_result"
    }
   ],
   "source": [
    "# \\w without special characters and whitespace\n",
    "re.findall(r'\\w', \"heASllo@ 123_# heyho&% hohey\")"
   ]
  },
  {
   "cell_type": "code",
   "execution_count": 58,
   "id": "7477b433-058f-420b-931f-6ae0aad6b710",
   "metadata": {},
   "outputs": [
    {
     "data": {
      "text/plain": [
       "['@', ' ', '#', ' ', '&', '%', ' ']"
      ]
     },
     "execution_count": 58,
     "metadata": {},
     "output_type": "execute_result"
    }
   ],
   "source": [
    "# \\W special characters and whitespace\n",
    "re.findall(r'\\W', \"hello@ 123_# heyho&% hohey\")"
   ]
  },
  {
   "cell_type": "code",
   "execution_count": 64,
   "id": "c8e75aa6-662f-4788-95e6-3c02fa4ada98",
   "metadata": {},
   "outputs": [
    {
     "data": {
      "text/plain": [
       "['hello']"
      ]
     },
     "execution_count": 64,
     "metadata": {},
     "output_type": "execute_result"
    }
   ],
   "source": [
    "# \\b is beggning of the context \n",
    "re.findall(r'\\bhello', \"hello@ 123_# heyho&% hohey\")"
   ]
  },
  {
   "cell_type": "code",
   "execution_count": 66,
   "id": "335e1dac-610f-448f-94f7-68a223acd4c4",
   "metadata": {},
   "outputs": [
    {
     "data": {
      "text/plain": [
       "['hey']"
      ]
     },
     "execution_count": 66,
     "metadata": {},
     "output_type": "execute_result"
    }
   ],
   "source": [
    "#  \\B is end of the context \n",
    "re.findall(r'\\Bhey', \"hello@ 123_# heyho&% hohey\")"
   ]
  },
  {
   "cell_type": "markdown",
   "id": "e33f618b-1115-460a-bb6c-0153d0434780",
   "metadata": {},
   "source": [
    "## Sets "
   ]
  },
  {
   "cell_type": "code",
   "execution_count": 67,
   "id": "c5ab4797-c418-4111-9c86-fe534904260a",
   "metadata": {},
   "outputs": [
    {
     "data": {
      "text/plain": [
       "['h', 'l', 'l']"
      ]
     },
     "execution_count": 67,
     "metadata": {},
     "output_type": "execute_result"
    }
   ],
   "source": [
    "test_string = 'hello 123_' \n",
    "re.findall(r'[hl]', test_string)"
   ]
  },
  {
   "cell_type": "code",
   "execution_count": 68,
   "id": "df0f3e43-906e-40c4-8e53-672b6b243fa1",
   "metadata": {},
   "outputs": [
    {
     "data": {
      "text/plain": [
       "['h', 'e', 'l', 'l', 'o']"
      ]
     },
     "execution_count": 68,
     "metadata": {},
     "output_type": "execute_result"
    }
   ],
   "source": [
    "test_string = 'hello 123_' \n",
    "re.findall(r'[a-z]', test_string)"
   ]
  },
  {
   "cell_type": "code",
   "execution_count": 69,
   "id": "469b46ea-3628-4841-b961-be4e0e4d6e1f",
   "metadata": {},
   "outputs": [
    {
     "data": {
      "text/plain": [
       "['1', '2', '3']"
      ]
     },
     "execution_count": 69,
     "metadata": {},
     "output_type": "execute_result"
    }
   ],
   "source": [
    "test_string = 'hello 123_' \n",
    "re.findall(r'[0-9]', test_string)"
   ]
  },
  {
   "cell_type": "code",
   "execution_count": 72,
   "id": "7d0f6e57-a54a-4538-a8ff-6026567d3c71",
   "metadata": {},
   "outputs": [
    {
     "data": {
      "text/plain": [
       "['A', 'S']"
      ]
     },
     "execution_count": 72,
     "metadata": {},
     "output_type": "execute_result"
    }
   ],
   "source": [
    "test_string = 'hellASo 123_' \n",
    "re.findall(r'[A-Z]', test_string)"
   ]
  },
  {
   "cell_type": "code",
   "execution_count": 73,
   "id": "8c9c3ace-fe7d-4ac2-865f-0fb62ce44359",
   "metadata": {},
   "outputs": [
    {
     "data": {
      "text/plain": [
       "[' ']"
      ]
     },
     "execution_count": 73,
     "metadata": {},
     "output_type": "execute_result"
    }
   ],
   "source": [
    "test_string = 'hellASo 123_' \n",
    "re.findall(r'[\\s]', test_string)"
   ]
  },
  {
   "cell_type": "markdown",
   "id": "bac2c27f-a999-4991-8e86-78e7a86948f3",
   "metadata": {},
   "source": [
    "## Quantifiers "
   ]
  },
  {
   "cell_type": "code",
   "execution_count": 80,
   "id": "5244e101-396d-42b1-bb61-b41be9169aef",
   "metadata": {},
   "outputs": [
    {
     "data": {
      "text/plain": [
       "['', '', '', '', '', '', '123', '', '', '987', '']"
      ]
     },
     "execution_count": 80,
     "metadata": {},
     "output_type": "execute_result"
    }
   ],
   "source": [
    "test_string = 'hello_123ww987' \n",
    "re.findall(r'\\d*', test_string)"
   ]
  },
  {
   "cell_type": "code",
   "execution_count": 79,
   "id": "15e0535a-6123-49ef-9307-c2e63813509d",
   "metadata": {},
   "outputs": [
    {
     "data": {
      "text/plain": [
       "['123', '987']"
      ]
     },
     "execution_count": 79,
     "metadata": {},
     "output_type": "execute_result"
    }
   ],
   "source": [
    "test_string = 'hello_123ww987' \n",
    "re.findall(r'\\d+', test_string)"
   ]
  },
  {
   "cell_type": "code",
   "execution_count": 84,
   "id": "2bef7b2f-584f-447a-b940-ab6ed3bf48f7",
   "metadata": {},
   "outputs": [
    {
     "data": {
      "text/plain": [
       "['_1', '2', '3', '9', '8', '7']"
      ]
     },
     "execution_count": 84,
     "metadata": {},
     "output_type": "execute_result"
    }
   ],
   "source": [
    "test_string = 'hello_123ww987' \n",
    "re.findall(r'_?\\d', test_string)"
   ]
  },
  {
   "cell_type": "code",
   "execution_count": 95,
   "id": "2ce5c2ad-7f8e-4f0f-b6f6-be3cf4b273b2",
   "metadata": {},
   "outputs": [
    {
     "data": {
      "text/plain": [
       "['12', '3w', '98']"
      ]
     },
     "execution_count": 95,
     "metadata": {},
     "output_type": "execute_result"
    }
   ],
   "source": [
    "test_string = 'hello_123ww987' \n",
    "re.findall(r'\\d.', test_string)"
   ]
  },
  {
   "cell_type": "code",
   "execution_count": 98,
   "id": "0e417e4f-6630-4812-b681-b58674239258",
   "metadata": {},
   "outputs": [
    {
     "data": {
      "text/plain": [
       "['123', '987']"
      ]
     },
     "execution_count": 98,
     "metadata": {},
     "output_type": "execute_result"
    }
   ],
   "source": [
    "test_string = 'hello_123ww987' \n",
    "re.findall(r'\\d{1,3}', test_string) # pairs {1, 3} one aswells as three "
   ]
  },
  {
   "cell_type": "markdown",
   "id": "18b936e1-9de7-4e55-a676-f2c61bb9ad64",
   "metadata": {},
   "source": [
    "# practices"
   ]
  },
  {
   "cell_type": "code",
   "execution_count": 99,
   "id": "9142f3be-78d5-4957-9417-ce7256af28a2",
   "metadata": {},
   "outputs": [],
   "source": [
    "dates = '''\n",
    "01.04.2020\n",
    "\n",
    "2020.04.01\n",
    "\n",
    "2020-04-01\n",
    "2020-05-23\n",
    "2020-06-11\n",
    "2020-07-11\n",
    "2020-08-11\n",
    "\n",
    "2020/04/02\n",
    "\n",
    "2020_04_04\n",
    "2020_04_04\n",
    "'''"
   ]
  },
  {
   "cell_type": "code",
   "execution_count": 115,
   "id": "5028782e-4ffe-45db-a5b2-0dceb2f7db8d",
   "metadata": {},
   "outputs": [
    {
     "data": {
      "text/plain": [
       "['2020.04.01',\n",
       " '2020-04-01',\n",
       " '2020-05-23',\n",
       " '2020-06-11',\n",
       " '2020-07-11',\n",
       " '2020-08-11',\n",
       " '2020/04/02',\n",
       " '2020_04_04',\n",
       " '2020_04_04']"
      ]
     },
     "execution_count": 115,
     "metadata": {},
     "output_type": "execute_result"
    }
   ],
   "source": [
    "re.findall(r'\\d\\d\\d\\d.\\d\\d.\\d\\d', dates)"
   ]
  },
  {
   "cell_type": "code",
   "execution_count": 116,
   "id": "26473892-c3ca-46be-85d1-778927a5e49a",
   "metadata": {},
   "outputs": [
    {
     "data": {
      "text/plain": [
       "['2020-04-01',\n",
       " '2020-05-23',\n",
       " '2020-06-11',\n",
       " '2020-07-11',\n",
       " '2020-08-11',\n",
       " '2020/04/02']"
      ]
     },
     "execution_count": 116,
     "metadata": {},
     "output_type": "execute_result"
    }
   ],
   "source": [
    "re.findall(r'\\d{4}[-/]\\d{2}[-/]\\d{2}', dates)"
   ]
  },
  {
   "cell_type": "code",
   "execution_count": 118,
   "id": "d7c2c771-65bc-4012-900d-118cc10d8e3a",
   "metadata": {},
   "outputs": [
    {
     "data": {
      "text/plain": [
       "['2020-05-23', '2020-06-11', '2020-07-11']"
      ]
     },
     "execution_count": 118,
     "metadata": {},
     "output_type": "execute_result"
    }
   ],
   "source": [
    "re.findall(r'\\d{4}[-/]0[5-7][-/]\\d{2}', dates)"
   ]
  },
  {
   "cell_type": "code",
   "execution_count": 128,
   "id": "924a4d28-6ac0-413d-9e65-1f7edaf5c537",
   "metadata": {},
   "outputs": [],
   "source": [
    "my_string = \"\"\"\n",
    "hello world\n",
    "1223\n",
    "2020-05-20\n",
    "Mr Simpson\n",
    "Mrs Simpson\n",
    "Mr. Brown\n",
    "Ms Smith\n",
    "Mr. T\n",
    "\"\"\""
   ]
  },
  {
   "cell_type": "code",
   "execution_count": 129,
   "id": "c5fee71a-cc80-456c-ab68-f4c1162fc635",
   "metadata": {},
   "outputs": [
    {
     "data": {
      "text/plain": [
       "['Mr Simpson']"
      ]
     },
     "execution_count": 129,
     "metadata": {},
     "output_type": "execute_result"
    }
   ],
   "source": [
    "re.findall(r'Mr\\s\\w+', my_string)"
   ]
  },
  {
   "cell_type": "code",
   "execution_count": 133,
   "id": "b5b30626-e5ce-46ec-b256-6009a6419f17",
   "metadata": {},
   "outputs": [
    {
     "data": {
      "text/plain": [
       "['Mr. Brown', 'Mr. T']"
      ]
     },
     "execution_count": 133,
     "metadata": {},
     "output_type": "execute_result"
    }
   ],
   "source": [
    "re.findall(r'Mr\\.\\s\\w+', my_string) # . is take any character, \\. actual dot"
   ]
  },
  {
   "cell_type": "code",
   "execution_count": 135,
   "id": "f144d77a-bf6c-4506-a7ff-cffd62ce7df6",
   "metadata": {},
   "outputs": [
    {
     "data": {
      "text/plain": [
       "['Mr Simpson', 'Mr. Brown', 'Mr. T']"
      ]
     },
     "execution_count": 135,
     "metadata": {},
     "output_type": "execute_result"
    }
   ],
   "source": [
    "re.findall(r'Mr\\.?\\s\\w+', my_string)"
   ]
  },
  {
   "cell_type": "code",
   "execution_count": 152,
   "id": "413712fa-02b2-483b-ad64-c5816960dc23",
   "metadata": {},
   "outputs": [
    {
     "data": {
      "text/plain": [
       "['Mr', 'Mrs', 'Mr', 'Ms', 'Mr']"
      ]
     },
     "execution_count": 152,
     "metadata": {},
     "output_type": "execute_result"
    }
   ],
   "source": [
    "re.findall(r'(Mr|Ms|Mrs)\\.?\\s\\w+', my_string)"
   ]
  },
  {
   "cell_type": "code",
   "execution_count": 151,
   "id": "51e7753c-2249-4290-a0bc-b3d0c376231c",
   "metadata": {},
   "outputs": [
    {
     "name": "stdout",
     "output_type": "stream",
     "text": [
      "<re.Match object; span=(29, 39), match='Mr Simpson'>\n",
      "<re.Match object; span=(40, 51), match='Mrs Simpson'>\n",
      "<re.Match object; span=(52, 61), match='Mr. Brown'>\n",
      "<re.Match object; span=(62, 70), match='Ms Smith'>\n",
      "<re.Match object; span=(71, 76), match='Mr. T'>\n"
     ]
    }
   ],
   "source": [
    "pattern = re.compile(r'(Mr|Ms|Mrs)\\.?\\s\\w+')\n",
    "matches = pattern.finditer(my_string)\n",
    "for match in matches:\n",
    "    print(match)"
   ]
  },
  {
   "cell_type": "code",
   "execution_count": 153,
   "id": "745c2d76-9240-439d-ba95-d030259687c1",
   "metadata": {},
   "outputs": [],
   "source": [
    "emails = \"\"\"\n",
    "pythonengineer@gmail.com\n",
    "Python-engineer@gmx.de\n",
    "python-engineer123@my-domain.org\n",
    "\"\"\""
   ]
  },
  {
   "cell_type": "code",
   "execution_count": 174,
   "id": "094aa057-5d55-405f-afff-62a9547a5c71",
   "metadata": {},
   "outputs": [
    {
     "data": {
      "text/plain": [
       "['pythonengineer@gmail.com',\n",
       " 'Python-engineer@gmx.de',\n",
       " 'python-engineer123@my-domain.org']"
      ]
     },
     "execution_count": 174,
     "metadata": {},
     "output_type": "execute_result"
    }
   ],
   "source": [
    "re.findall(r'[a-zA-Z0-9-]+@[a-zA-Z-]+\\.[a-zA-Z]+', emails)"
   ]
  },
  {
   "cell_type": "code",
   "execution_count": 176,
   "id": "b48fe57f-bb2d-4a1d-bd66-608a7b9de5ec",
   "metadata": {},
   "outputs": [
    {
     "name": "stdout",
     "output_type": "stream",
     "text": [
      "<re.Match object; span=(1, 25), match='pythonengineer@gmail.com'>\n",
      "<re.Match object; span=(26, 48), match='Python-engineer@gmx.de'>\n",
      "<re.Match object; span=(49, 81), match='python-engineer123@my-domain.org'>\n"
     ]
    }
   ],
   "source": [
    "pattern = re.compile(r'([a-zA-Z0-9-]+)@([a-zA-Z-]+)\\.([a-zA-Z]+)')\n",
    "matches = pattern.finditer(emails)\n",
    "for match in matches:\n",
    "    print(match)"
   ]
  },
  {
   "cell_type": "code",
   "execution_count": 181,
   "id": "1e887d09-835a-45a6-9e2e-2ff8ef31cb7d",
   "metadata": {},
   "outputs": [
    {
     "name": "stdout",
     "output_type": "stream",
     "text": [
      "gmail\n",
      "gmx\n",
      "my-domain\n"
     ]
    }
   ],
   "source": [
    "pattern = re.compile(r'([a-zA-Z0-9-]+)@([a-zA-Z-]+)\\.([a-zA-Z]+)')\n",
    "matches = pattern.finditer(emails)\n",
    "for match in matches:\n",
    "    print(match.group(2))"
   ]
  },
  {
   "cell_type": "code",
   "execution_count": 186,
   "id": "4b833500-ac01-4992-a4cd-814c7d9c37d5",
   "metadata": {},
   "outputs": [
    {
     "data": {
      "text/plain": [
       "['123', '4353', 'ewew', '232sw']"
      ]
     },
     "execution_count": 186,
     "metadata": {},
     "output_type": "execute_result"
    }
   ],
   "source": [
    "# split \n",
    "test_string = '123abc4353abcewewabc232sw'\n",
    "pattern = re.compile(r'abc')\n",
    "matches = pattern.split(test_string)\n",
    "matches"
   ]
  },
  {
   "cell_type": "code",
   "execution_count": 185,
   "id": "52c73be2-4de0-49cb-85e0-14a9a2bfc813",
   "metadata": {},
   "outputs": [
    {
     "data": {
      "text/plain": [
       "'hello planet, you are the best planet'"
      ]
     },
     "execution_count": 185,
     "metadata": {},
     "output_type": "execute_result"
    }
   ],
   "source": [
    "# sub\n",
    "test_string = 'hello world, you are the best world'\n",
    "pattern = re.compile(r'world')\n",
    "matches = pattern.sub(\"planet\", test_string)\n",
    "matches"
   ]
  },
  {
   "cell_type": "code",
   "execution_count": 187,
   "id": "ba6189db-bf22-4888-bd61-25c2f0c652e6",
   "metadata": {},
   "outputs": [],
   "source": [
    "urls = \"\"\"\n",
    "http://python-engineer.com\n",
    "https://www.python-engineer.org\n",
    "http://www.pyeng.net\n",
    "\"\"\""
   ]
  },
  {
   "cell_type": "code",
   "execution_count": 213,
   "id": "be9e1660-d714-494d-9a0a-5bf345433a7a",
   "metadata": {},
   "outputs": [
    {
     "name": "stdout",
     "output_type": "stream",
     "text": [
      "<re.Match object; span=(1, 27), match='http://python-engineer.com'>\n",
      "<re.Match object; span=(28, 59), match='https://www.python-engineer.org'>\n",
      "<re.Match object; span=(60, 80), match='http://www.pyeng.net'>\n"
     ]
    }
   ],
   "source": [
    "pattern = re.compile(r'https?://(www\\.)?([a-zA-Z-]+)\\.([a-zA-Z]+)')\n",
    "matches = pattern.finditer(urls)\n",
    "for match in matches:\n",
    "    print(match)"
   ]
  },
  {
   "cell_type": "code",
   "execution_count": 217,
   "id": "16a2c389-ea05-49f2-b416-a84c48f125b3",
   "metadata": {},
   "outputs": [
    {
     "name": "stdout",
     "output_type": "stream",
     "text": [
      "\n",
      "python-engineer.com\n",
      "python-engineer.org\n",
      "pyeng.net\n",
      "\n"
     ]
    }
   ],
   "source": [
    "pattern = re.compile(r'https?://(www\\.)?([a-zA-Z-]+)(\\.[a-zA-Z]+)')\n",
    "subbed = pattern.sub(r\"\\2\\3\", urls)\n",
    "print(subbed)"
   ]
  },
  {
   "cell_type": "code",
   "execution_count": 289,
   "id": "a4755356-e3b1-427d-9181-374004aa453d",
   "metadata": {},
   "outputs": [
    {
     "name": "stdout",
     "output_type": "stream",
     "text": [
      "plespray\n"
     ]
    }
   ],
   "source": [
    "# piglatin \n",
    "\n",
    "stringData = \"spple\"\n",
    "if re.match(\"[aeiou|AEIOU]\", stringData):\n",
    "    print(f'{stringData}way')\n",
    "else:\n",
    "    print(f'{stringData[-3:]+stringData[0:-3]}ray')"
   ]
  },
  {
   "cell_type": "code",
   "execution_count": 307,
   "id": "d65ee14a-0802-4784-87c3-363f279f8a14",
   "metadata": {},
   "outputs": [],
   "source": [
    "sentence = 'we are humans'\n",
    "\n",
    "matched = re.match(r'(.*) (.*?) (.*)', sentence) "
   ]
  },
  {
   "cell_type": "code",
   "execution_count": 309,
   "id": "a8ea879b-a54c-4e39-91dc-56685ca7a969",
   "metadata": {},
   "outputs": [
    {
     "data": {
      "text/plain": [
       "'are'"
      ]
     },
     "execution_count": 309,
     "metadata": {},
     "output_type": "execute_result"
    }
   ],
   "source": [
    "matched.group(2)"
   ]
  },
  {
   "cell_type": "code",
   "execution_count": null,
   "id": "7579a9b5-ea7e-437c-8ee3-41eef3bf4b0b",
   "metadata": {},
   "outputs": [],
   "source": []
  }
 ],
 "metadata": {
  "kernelspec": {
   "display_name": "Python 3 (ipykernel)",
   "language": "python",
   "name": "python3"
  },
  "language_info": {
   "codemirror_mode": {
    "name": "ipython",
    "version": 3
   },
   "file_extension": ".py",
   "mimetype": "text/x-python",
   "name": "python",
   "nbconvert_exporter": "python",
   "pygments_lexer": "ipython3",
   "version": "3.8.20"
  },
  "widgets": {
   "application/vnd.jupyter.widget-state+json": {
    "state": {},
    "version_major": 2,
    "version_minor": 0
   }
  }
 },
 "nbformat": 4,
 "nbformat_minor": 5
}

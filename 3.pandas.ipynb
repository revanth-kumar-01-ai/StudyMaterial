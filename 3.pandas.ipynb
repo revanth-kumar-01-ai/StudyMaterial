{
 "cells": [
  {
   "cell_type": "markdown",
   "id": "c6538529-5961-4472-8a35-dc9ef747017a",
   "metadata": {},
   "source": [
    "# Pandas "
   ]
  },
  {
   "cell_type": "markdown",
   "id": "f2b56f2d-b958-4a77-9691-c87bb4b56000",
   "metadata": {},
   "source": [
    "<div>\n",
    "   <ul>\n",
    "       <li>\n",
    "           Pandas is a powerful library built on top of the Python programming language and is widely used in data analysis, statistics, finance, web analysis, and more.\n",
    "       </li>\n",
    "       <li>\n",
    "To work with data sets, clean them and make them relevant for <strong>Data Science</strong>. Then it easily loads the data sets in Excel, CSV, JSON, XML, etc. Easily clean the wrong format data, remove the duplicate, and do other tasks with Pandas. \n",
    "       </li>\n",
    "       <li>\n",
    "           The python panadas library was initially developed by <strong>Wes McKinney</strong> in 2008. \n",
    "       </li>\n",
    "   </ul> \n",
    "</div>"
   ]
  },
  {
   "cell_type": "markdown",
   "id": "a0c180a9-ea87-4ee6-bbe1-15397d8f5eda",
   "metadata": {},
   "source": [
    "<div>\n",
    "    <h2>The following are the feature of the Pandas Library</h2>\n",
    "    <div>\n",
    "        <ul>\n",
    "            <li>Analyze Data</li>\n",
    "            <li>Manipulate Data</li>\n",
    "            <li>Columns can be inserted and delete from the Data frame</li>\n",
    "            <li>Group the rows/ columns of a Data frame / Series</li>\n",
    "            <li>plotting is possible</li>\n",
    "            <li>Read the file like (Excel, CSV, JSON, XML)</li>\n",
    "            <li>fix the inaccurate data</li>\n",
    "            <li>clean the data completely</li>\n",
    "            <li>Handle Duplicates</li>\n",
    "            <li>Easily to handle the missing values from the data set <br/>\n",
    "                NaN (Not a Number), <br/>\n",
    "                NA(Not available), <br/>\n",
    "                NaT(Not a Time)</li>\n",
    "        </ul>\n",
    "    </div>\n",
    "</div>"
   ]
  },
  {
   "cell_type": "markdown",
   "id": "2675fcc8-5fa1-4b8d-9623-900d060d6999",
   "metadata": {},
   "source": [
    "# pandas DataFrame | create a DataFrame \n",
    "<p>\n",
    "    The pandas Dataframe is two-dimensional, tabular data, table with rows and columns. The <strong>DataFrame()</strong> method is used to create a DataFrame and has the following parameters </p>\n",
    "\n",
    "<div>\n",
    "    <h5>This are parameters in the DataFrame method</h5>\n",
    "    <ul>\n",
    "        <li>data: The data to be stored in the Pandas DataFrame</li>\n",
    "        <li>index: The index values to be provided for the resultant frame.</li>\n",
    "        <li>columns: Set the column labels for the resultant frame if data does not mention before</li>\n",
    "        <li>dtype: It is the datatype and only a single type is allowed.</li>\n",
    "        <li>copy: To copy the input data</li>\n",
    "    </ul>\n",
    "</div>"
   ]
  },
  {
   "cell_type": "code",
   "execution_count": 1,
   "id": "db4b5f0d-0a06-4b98-a33d-98b0f48a8bec",
   "metadata": {},
   "outputs": [],
   "source": [
    "import pandas as pd "
   ]
  },
  {
   "cell_type": "markdown",
   "id": "9d4d6f51-c3e6-4887-a1ae-e02473f6a60f",
   "metadata": {},
   "source": [
    "# Create a dataFrame "
   ]
  },
  {
   "cell_type": "code",
   "execution_count": 2,
   "id": "6d69c49e-6936-4e6d-92c4-974677829652",
   "metadata": {},
   "outputs": [],
   "source": [
    "# First method\n",
    "data = {\n",
    "    'student':[\"revanth kumar\", \"wes McKinney\", \"Guido van rossom\"], \n",
    "    'rank':[1, 2, 3], \n",
    "    'marks':[90, 98, 100]\n",
    "}"
   ]
  },
  {
   "cell_type": "code",
   "execution_count": 3,
   "id": "034a90ba-bbb6-435c-9974-2b6d23983bbc",
   "metadata": {},
   "outputs": [
    {
     "data": {
      "text/plain": [
       "{'student': ['revanth kumar', 'wes McKinney', 'Guido van rossom'],\n",
       " 'rank': [1, 2, 3],\n",
       " 'marks': [90, 98, 100]}"
      ]
     },
     "execution_count": 3,
     "metadata": {},
     "output_type": "execute_result"
    }
   ],
   "source": [
    "data"
   ]
  },
  {
   "cell_type": "code",
   "execution_count": 4,
   "id": "68d1e5f2-5296-489d-8fea-0500d252596c",
   "metadata": {},
   "outputs": [
    {
     "data": {
      "text/html": [
       "<div>\n",
       "<style scoped>\n",
       "    .dataframe tbody tr th:only-of-type {\n",
       "        vertical-align: middle;\n",
       "    }\n",
       "\n",
       "    .dataframe tbody tr th {\n",
       "        vertical-align: top;\n",
       "    }\n",
       "\n",
       "    .dataframe thead th {\n",
       "        text-align: right;\n",
       "    }\n",
       "</style>\n",
       "<table border=\"1\" class=\"dataframe\">\n",
       "  <thead>\n",
       "    <tr style=\"text-align: right;\">\n",
       "      <th></th>\n",
       "      <th>student</th>\n",
       "      <th>rank</th>\n",
       "      <th>marks</th>\n",
       "    </tr>\n",
       "  </thead>\n",
       "  <tbody>\n",
       "    <tr>\n",
       "      <th>0</th>\n",
       "      <td>revanth kumar</td>\n",
       "      <td>1</td>\n",
       "      <td>90</td>\n",
       "    </tr>\n",
       "    <tr>\n",
       "      <th>1</th>\n",
       "      <td>wes McKinney</td>\n",
       "      <td>2</td>\n",
       "      <td>98</td>\n",
       "    </tr>\n",
       "    <tr>\n",
       "      <th>2</th>\n",
       "      <td>Guido van rossom</td>\n",
       "      <td>3</td>\n",
       "      <td>100</td>\n",
       "    </tr>\n",
       "  </tbody>\n",
       "</table>\n",
       "</div>"
      ],
      "text/plain": [
       "            student  rank  marks\n",
       "0     revanth kumar     1     90\n",
       "1      wes McKinney     2     98\n",
       "2  Guido van rossom     3    100"
      ]
     },
     "execution_count": 4,
     "metadata": {},
     "output_type": "execute_result"
    }
   ],
   "source": [
    "pd.DataFrame(data)"
   ]
  },
  {
   "cell_type": "code",
   "execution_count": 5,
   "id": "742924c6-490c-466c-a944-9bcca5c76a28",
   "metadata": {},
   "outputs": [
    {
     "data": {
      "text/html": [
       "<div>\n",
       "<style scoped>\n",
       "    .dataframe tbody tr th:only-of-type {\n",
       "        vertical-align: middle;\n",
       "    }\n",
       "\n",
       "    .dataframe tbody tr th {\n",
       "        vertical-align: top;\n",
       "    }\n",
       "\n",
       "    .dataframe thead th {\n",
       "        text-align: right;\n",
       "    }\n",
       "</style>\n",
       "<table border=\"1\" class=\"dataframe\">\n",
       "  <thead>\n",
       "    <tr style=\"text-align: right;\">\n",
       "      <th></th>\n",
       "      <th>student</th>\n",
       "      <th>rank</th>\n",
       "      <th>marks</th>\n",
       "    </tr>\n",
       "  </thead>\n",
       "  <tbody>\n",
       "    <tr>\n",
       "      <th>0</th>\n",
       "      <td>revanth</td>\n",
       "      <td>1</td>\n",
       "      <td>98</td>\n",
       "    </tr>\n",
       "    <tr>\n",
       "      <th>1</th>\n",
       "      <td>raju</td>\n",
       "      <td>2</td>\n",
       "      <td>80</td>\n",
       "    </tr>\n",
       "    <tr>\n",
       "      <th>2</th>\n",
       "      <td>jeya</td>\n",
       "      <td>3</td>\n",
       "      <td>100</td>\n",
       "    </tr>\n",
       "  </tbody>\n",
       "</table>\n",
       "</div>"
      ],
      "text/plain": [
       "   student  rank  marks\n",
       "0  revanth     1     98\n",
       "1     raju     2     80\n",
       "2     jeya     3    100"
      ]
     },
     "execution_count": 5,
     "metadata": {},
     "output_type": "execute_result"
    }
   ],
   "source": [
    "# second method\n",
    "data = [\n",
    "    {'student':'revanth', 'rank': 1, 'marks':98},\n",
    "    {'student':'raju', 'rank': 2, 'marks':80},\n",
    "    {'student':'jeya', 'rank': 3, 'marks':100},\n",
    "]\n",
    "pd.DataFrame(data)"
   ]
  },
  {
   "cell_type": "code",
   "execution_count": 6,
   "id": "bc9e77f6-c74f-4121-a427-3339c0c406e7",
   "metadata": {},
   "outputs": [
    {
     "data": {
      "text/html": [
       "<div>\n",
       "<style scoped>\n",
       "    .dataframe tbody tr th:only-of-type {\n",
       "        vertical-align: middle;\n",
       "    }\n",
       "\n",
       "    .dataframe tbody tr th {\n",
       "        vertical-align: top;\n",
       "    }\n",
       "\n",
       "    .dataframe thead th {\n",
       "        text-align: right;\n",
       "    }\n",
       "</style>\n",
       "<table border=\"1\" class=\"dataframe\">\n",
       "  <thead>\n",
       "    <tr style=\"text-align: right;\">\n",
       "      <th></th>\n",
       "      <th>Name</th>\n",
       "      <th>age</th>\n",
       "      <th>city</th>\n",
       "    </tr>\n",
       "  </thead>\n",
       "  <tbody>\n",
       "    <tr>\n",
       "      <th>0</th>\n",
       "      <td>revanth</td>\n",
       "      <td>1</td>\n",
       "      <td>90</td>\n",
       "    </tr>\n",
       "    <tr>\n",
       "      <th>1</th>\n",
       "      <td>kumar</td>\n",
       "      <td>2</td>\n",
       "      <td>92</td>\n",
       "    </tr>\n",
       "    <tr>\n",
       "      <th>2</th>\n",
       "      <td>jeya</td>\n",
       "      <td>3</td>\n",
       "      <td>98</td>\n",
       "    </tr>\n",
       "  </tbody>\n",
       "</table>\n",
       "</div>"
      ],
      "text/plain": [
       "      Name  age  city\n",
       "0  revanth    1    90\n",
       "1    kumar    2    92\n",
       "2     jeya    3    98"
      ]
     },
     "execution_count": 6,
     "metadata": {},
     "output_type": "execute_result"
    }
   ],
   "source": [
    "# Third method\n",
    "data = [\n",
    "    ['revanth', 1, 90],\n",
    "    ['kumar', 2, 92], \n",
    "    ['jeya', 3, 98]\n",
    "]\n",
    "pd.DataFrame(data, columns=['Name', 'age', 'city'])"
   ]
  },
  {
   "cell_type": "code",
   "execution_count": 7,
   "id": "cd0efb33-2446-476a-a5d9-f26a4e89ff6d",
   "metadata": {},
   "outputs": [
    {
     "data": {
      "text/plain": [
       "'pd.Series() is a one-dimensional labeled array in Pandas, capable of holding any data type (integers, strings, floats, etc.), \\nwith an optional index to label the data.'"
      ]
     },
     "execution_count": 7,
     "metadata": {},
     "output_type": "execute_result"
    }
   ],
   "source": [
    "\"\"\"pd.Series() is a one-dimensional labeled array in Pandas, capable of holding any data type (integers, strings, floats, etc.), \n",
    "with an optional index to label the data.\"\"\""
   ]
  },
  {
   "cell_type": "code",
   "execution_count": 8,
   "id": "355d6f67-309a-4ff3-9748-8aca958e58ad",
   "metadata": {},
   "outputs": [
    {
     "data": {
      "text/html": [
       "<div>\n",
       "<style scoped>\n",
       "    .dataframe tbody tr th:only-of-type {\n",
       "        vertical-align: middle;\n",
       "    }\n",
       "\n",
       "    .dataframe tbody tr th {\n",
       "        vertical-align: top;\n",
       "    }\n",
       "\n",
       "    .dataframe thead th {\n",
       "        text-align: right;\n",
       "    }\n",
       "</style>\n",
       "<table border=\"1\" class=\"dataframe\">\n",
       "  <thead>\n",
       "    <tr style=\"text-align: right;\">\n",
       "      <th></th>\n",
       "      <th>Name</th>\n",
       "      <th>Rank</th>\n",
       "      <th>Marks</th>\n",
       "    </tr>\n",
       "  </thead>\n",
       "  <tbody>\n",
       "    <tr>\n",
       "      <th>0</th>\n",
       "      <td>Revanth</td>\n",
       "      <td>1</td>\n",
       "      <td>98</td>\n",
       "    </tr>\n",
       "    <tr>\n",
       "      <th>1</th>\n",
       "      <td>Kumar</td>\n",
       "      <td>2</td>\n",
       "      <td>99</td>\n",
       "    </tr>\n",
       "    <tr>\n",
       "      <th>2</th>\n",
       "      <td>Jeya</td>\n",
       "      <td>3</td>\n",
       "      <td>100</td>\n",
       "    </tr>\n",
       "  </tbody>\n",
       "</table>\n",
       "</div>"
      ],
      "text/plain": [
       "      Name  Rank  Marks\n",
       "0  Revanth     1     98\n",
       "1    Kumar     2     99\n",
       "2     Jeya     3    100"
      ]
     },
     "execution_count": 8,
     "metadata": {},
     "output_type": "execute_result"
    }
   ],
   "source": [
    "# Four method\n",
    "data = {\n",
    "    'Name':pd.Series(['Revanth', 'Kumar', 'Jeya']),\n",
    "    'Rank':pd.Series([1, 2, 3]),\n",
    "    'Marks':pd.Series([98, 99, 100]),\n",
    "}\n",
    "pd.DataFrame(data)"
   ]
  },
  {
   "cell_type": "code",
   "execution_count": 9,
   "id": "00ade32c-7e3a-4a61-984e-4556b86fe762",
   "metadata": {},
   "outputs": [
    {
     "data": {
      "text/html": [
       "<div>\n",
       "<style scoped>\n",
       "    .dataframe tbody tr th:only-of-type {\n",
       "        vertical-align: middle;\n",
       "    }\n",
       "\n",
       "    .dataframe tbody tr th {\n",
       "        vertical-align: top;\n",
       "    }\n",
       "\n",
       "    .dataframe thead th {\n",
       "        text-align: right;\n",
       "    }\n",
       "</style>\n",
       "<table border=\"1\" class=\"dataframe\">\n",
       "  <thead>\n",
       "    <tr style=\"text-align: right;\">\n",
       "      <th></th>\n",
       "      <th>Name</th>\n",
       "      <th>age</th>\n",
       "      <th>city</th>\n",
       "    </tr>\n",
       "  </thead>\n",
       "  <tbody>\n",
       "    <tr>\n",
       "      <th>0</th>\n",
       "      <td>revanth</td>\n",
       "      <td>1</td>\n",
       "      <td>90</td>\n",
       "    </tr>\n",
       "    <tr>\n",
       "      <th>1</th>\n",
       "      <td>kumar</td>\n",
       "      <td>2</td>\n",
       "      <td>92</td>\n",
       "    </tr>\n",
       "    <tr>\n",
       "      <th>2</th>\n",
       "      <td>jeya</td>\n",
       "      <td>3</td>\n",
       "      <td>98</td>\n",
       "    </tr>\n",
       "  </tbody>\n",
       "</table>\n",
       "</div>"
      ],
      "text/plain": [
       "      Name age city\n",
       "0  revanth   1   90\n",
       "1    kumar   2   92\n",
       "2     jeya   3   98"
      ]
     },
     "execution_count": 9,
     "metadata": {},
     "output_type": "execute_result"
    }
   ],
   "source": [
    "# five method\n",
    "import numpy as np \n",
    "data = np.array([\n",
    "    ['revanth', 1, 90],\n",
    "    ['kumar', 2, 92], \n",
    "    ['jeya', 3, 98]\n",
    "])\n",
    "pd.DataFrame(data, columns=['Name', 'age', 'city'])"
   ]
  },
  {
   "cell_type": "code",
   "execution_count": 10,
   "id": "bc801e9e-e56e-49f1-a0ec-5e71273d75ef",
   "metadata": {},
   "outputs": [
    {
     "data": {
      "text/html": [
       "<div>\n",
       "<style scoped>\n",
       "    .dataframe tbody tr th:only-of-type {\n",
       "        vertical-align: middle;\n",
       "    }\n",
       "\n",
       "    .dataframe tbody tr th {\n",
       "        vertical-align: top;\n",
       "    }\n",
       "\n",
       "    .dataframe thead th {\n",
       "        text-align: right;\n",
       "    }\n",
       "</style>\n",
       "<table border=\"1\" class=\"dataframe\">\n",
       "  <thead>\n",
       "    <tr style=\"text-align: right;\">\n",
       "      <th></th>\n",
       "      <th>student</th>\n",
       "      <th>rank</th>\n",
       "      <th>marks</th>\n",
       "    </tr>\n",
       "  </thead>\n",
       "  <tbody>\n",
       "    <tr>\n",
       "      <th>RowA</th>\n",
       "      <td>revanth</td>\n",
       "      <td>1</td>\n",
       "      <td>90</td>\n",
       "    </tr>\n",
       "    <tr>\n",
       "      <th>RowB</th>\n",
       "      <td>sam</td>\n",
       "      <td>2</td>\n",
       "      <td>98</td>\n",
       "    </tr>\n",
       "    <tr>\n",
       "      <th>RowC</th>\n",
       "      <td>ramana</td>\n",
       "      <td>3</td>\n",
       "      <td>92</td>\n",
       "    </tr>\n",
       "  </tbody>\n",
       "</table>\n",
       "</div>"
      ],
      "text/plain": [
       "      student  rank  marks\n",
       "RowA  revanth     1     90\n",
       "RowB      sam     2     98\n",
       "RowC   ramana     3     92"
      ]
     },
     "execution_count": 10,
     "metadata": {},
     "output_type": "execute_result"
    }
   ],
   "source": [
    "# seventh method\n",
    "data = {\n",
    "    'student':[\"revanth\", \"sam\", \"ramana\"],\n",
    "    'rank':[1, 2, 3],\n",
    "    'marks':[90, 98, 92]\n",
    "}\n",
    "pd.DataFrame(data, index=['RowA', 'RowB', \"RowC\"])"
   ]
  },
  {
   "cell_type": "markdown",
   "id": "7034986d-476f-4bf0-8eb1-986faf797a41",
   "metadata": {},
   "source": [
    "# loc is primarily used for label indexing, while . iloc is mainly used for integer indexing "
   ]
  },
  {
   "cell_type": "markdown",
   "id": "54b9e9bb-cb34-4c0e-be45-a568f0348905",
   "metadata": {},
   "source": [
    "### Access a group of rows or columns in a Pandas DataFrame using loc method "
   ]
  },
  {
   "cell_type": "code",
   "execution_count": 11,
   "id": "aa1092b6-6a2d-4e8a-8658-bf0d29594b6c",
   "metadata": {},
   "outputs": [
    {
     "data": {
      "text/html": [
       "<div>\n",
       "<style scoped>\n",
       "    .dataframe tbody tr th:only-of-type {\n",
       "        vertical-align: middle;\n",
       "    }\n",
       "\n",
       "    .dataframe tbody tr th {\n",
       "        vertical-align: top;\n",
       "    }\n",
       "\n",
       "    .dataframe thead th {\n",
       "        text-align: right;\n",
       "    }\n",
       "</style>\n",
       "<table border=\"1\" class=\"dataframe\">\n",
       "  <thead>\n",
       "    <tr style=\"text-align: right;\">\n",
       "      <th></th>\n",
       "      <th>Student</th>\n",
       "      <th>Marks</th>\n",
       "      <th>Rank</th>\n",
       "    </tr>\n",
       "    <tr>\n",
       "      <th>index</th>\n",
       "      <th></th>\n",
       "      <th></th>\n",
       "      <th></th>\n",
       "    </tr>\n",
       "  </thead>\n",
       "  <tbody>\n",
       "    <tr>\n",
       "      <th>rowA</th>\n",
       "      <td>revanth</td>\n",
       "      <td>90</td>\n",
       "      <td>1</td>\n",
       "    </tr>\n",
       "    <tr>\n",
       "      <th>rowB</th>\n",
       "      <td>kumar</td>\n",
       "      <td>98</td>\n",
       "      <td>2</td>\n",
       "    </tr>\n",
       "    <tr>\n",
       "      <th>rowC</th>\n",
       "      <td>jeya</td>\n",
       "      <td>100</td>\n",
       "      <td>3</td>\n",
       "    </tr>\n",
       "    <tr>\n",
       "      <th>rowD</th>\n",
       "      <td>sam</td>\n",
       "      <td>90</td>\n",
       "      <td>4</td>\n",
       "    </tr>\n",
       "    <tr>\n",
       "      <th>rowE</th>\n",
       "      <td>ramana</td>\n",
       "      <td>89</td>\n",
       "      <td>5</td>\n",
       "    </tr>\n",
       "  </tbody>\n",
       "</table>\n",
       "</div>"
      ],
      "text/plain": [
       "       Student  Marks  Rank\n",
       "index                      \n",
       "rowA   revanth     90     1\n",
       "rowB     kumar     98     2\n",
       "rowC      jeya    100     3\n",
       "rowD       sam     90     4\n",
       "rowE    ramana     89     5"
      ]
     },
     "execution_count": 11,
     "metadata": {},
     "output_type": "execute_result"
    }
   ],
   "source": [
    "data = {\n",
    "    'Student':['revanth', 'kumar', 'jeya', 'sam', 'ramana'],\n",
    "    'Marks':[90, 98, 100, 90, 89],\n",
    "    'Rank':[1, 2, 3, 4, 5]\n",
    "}\n",
    "dataSet = pd.DataFrame(data, index=['rowA', 'rowB', 'rowC', 'rowD', 'rowE'])\n",
    "dataSet.index.name = 'index' \n",
    "dataSet"
   ]
  },
  {
   "cell_type": "code",
   "execution_count": 12,
   "id": "ab5f11bc-9f5c-4b9e-a794-9b4a3f90bdf7",
   "metadata": {},
   "outputs": [
    {
     "data": {
      "text/plain": [
       "index\n",
       "rowA    revanth\n",
       "rowB      kumar\n",
       "rowC       jeya\n",
       "rowD        sam\n",
       "rowE     ramana\n",
       "Name: Student, dtype: object"
      ]
     },
     "execution_count": 12,
     "metadata": {},
     "output_type": "execute_result"
    }
   ],
   "source": [
    "# Accessing columns by name\n",
    "dataSet['Student']"
   ]
  },
  {
   "cell_type": "code",
   "execution_count": 13,
   "id": "5232e173-089c-4e8c-b759-4f16c7f545b3",
   "metadata": {},
   "outputs": [
    {
     "data": {
      "text/html": [
       "<div>\n",
       "<style scoped>\n",
       "    .dataframe tbody tr th:only-of-type {\n",
       "        vertical-align: middle;\n",
       "    }\n",
       "\n",
       "    .dataframe tbody tr th {\n",
       "        vertical-align: top;\n",
       "    }\n",
       "\n",
       "    .dataframe thead th {\n",
       "        text-align: right;\n",
       "    }\n",
       "</style>\n",
       "<table border=\"1\" class=\"dataframe\">\n",
       "  <thead>\n",
       "    <tr style=\"text-align: right;\">\n",
       "      <th></th>\n",
       "      <th>Student</th>\n",
       "      <th>Marks</th>\n",
       "    </tr>\n",
       "    <tr>\n",
       "      <th>index</th>\n",
       "      <th></th>\n",
       "      <th></th>\n",
       "    </tr>\n",
       "  </thead>\n",
       "  <tbody>\n",
       "    <tr>\n",
       "      <th>rowA</th>\n",
       "      <td>revanth</td>\n",
       "      <td>90</td>\n",
       "    </tr>\n",
       "    <tr>\n",
       "      <th>rowB</th>\n",
       "      <td>kumar</td>\n",
       "      <td>98</td>\n",
       "    </tr>\n",
       "    <tr>\n",
       "      <th>rowC</th>\n",
       "      <td>jeya</td>\n",
       "      <td>100</td>\n",
       "    </tr>\n",
       "    <tr>\n",
       "      <th>rowD</th>\n",
       "      <td>sam</td>\n",
       "      <td>90</td>\n",
       "    </tr>\n",
       "    <tr>\n",
       "      <th>rowE</th>\n",
       "      <td>ramana</td>\n",
       "      <td>89</td>\n",
       "    </tr>\n",
       "  </tbody>\n",
       "</table>\n",
       "</div>"
      ],
      "text/plain": [
       "       Student  Marks\n",
       "index                \n",
       "rowA   revanth     90\n",
       "rowB     kumar     98\n",
       "rowC      jeya    100\n",
       "rowD       sam     90\n",
       "rowE    ramana     89"
      ]
     },
     "execution_count": 13,
     "metadata": {},
     "output_type": "execute_result"
    }
   ],
   "source": [
    "# Multiple columns accessing \n",
    "dataSet[['Student', 'Marks']]"
   ]
  },
  {
   "cell_type": "code",
   "execution_count": 14,
   "id": "5d9ea057-52c2-4f3f-b9b5-3a646be006dc",
   "metadata": {},
   "outputs": [
    {
     "data": {
      "text/html": [
       "<div>\n",
       "<style scoped>\n",
       "    .dataframe tbody tr th:only-of-type {\n",
       "        vertical-align: middle;\n",
       "    }\n",
       "\n",
       "    .dataframe tbody tr th {\n",
       "        vertical-align: top;\n",
       "    }\n",
       "\n",
       "    .dataframe thead th {\n",
       "        text-align: right;\n",
       "    }\n",
       "</style>\n",
       "<table border=\"1\" class=\"dataframe\">\n",
       "  <thead>\n",
       "    <tr style=\"text-align: right;\">\n",
       "      <th></th>\n",
       "      <th>Student</th>\n",
       "      <th>Marks</th>\n",
       "      <th>Rank</th>\n",
       "    </tr>\n",
       "    <tr>\n",
       "      <th>index</th>\n",
       "      <th></th>\n",
       "      <th></th>\n",
       "      <th></th>\n",
       "    </tr>\n",
       "  </thead>\n",
       "  <tbody>\n",
       "    <tr>\n",
       "      <th>rowA</th>\n",
       "      <td>revanth</td>\n",
       "      <td>90</td>\n",
       "      <td>1</td>\n",
       "    </tr>\n",
       "    <tr>\n",
       "      <th>rowB</th>\n",
       "      <td>kumar</td>\n",
       "      <td>98</td>\n",
       "      <td>2</td>\n",
       "    </tr>\n",
       "    <tr>\n",
       "      <th>rowC</th>\n",
       "      <td>jeya</td>\n",
       "      <td>100</td>\n",
       "      <td>3</td>\n",
       "    </tr>\n",
       "    <tr>\n",
       "      <th>rowD</th>\n",
       "      <td>sam</td>\n",
       "      <td>90</td>\n",
       "      <td>4</td>\n",
       "    </tr>\n",
       "    <tr>\n",
       "      <th>rowE</th>\n",
       "      <td>ramana</td>\n",
       "      <td>89</td>\n",
       "      <td>5</td>\n",
       "    </tr>\n",
       "  </tbody>\n",
       "</table>\n",
       "</div>"
      ],
      "text/plain": [
       "       Student  Marks  Rank\n",
       "index                      \n",
       "rowA   revanth     90     1\n",
       "rowB     kumar     98     2\n",
       "rowC      jeya    100     3\n",
       "rowD       sam     90     4\n",
       "rowE    ramana     89     5"
      ]
     },
     "execution_count": 14,
     "metadata": {},
     "output_type": "execute_result"
    }
   ],
   "source": [
    "# using dot notation \n",
    "dataSet[dataSet.columns]"
   ]
  },
  {
   "cell_type": "code",
   "execution_count": 15,
   "id": "4f50ab04-cbca-4734-8b63-0a596b77c2f6",
   "metadata": {},
   "outputs": [
    {
     "data": {
      "text/plain": [
       "Student    revanth\n",
       "Marks           90\n",
       "Rank             1\n",
       "Name: rowA, dtype: object"
      ]
     },
     "execution_count": 15,
     "metadata": {},
     "output_type": "execute_result"
    }
   ],
   "source": [
    "# Access a single row by index label \n",
    "dataSet.loc['rowA']"
   ]
  },
  {
   "cell_type": "code",
   "execution_count": 16,
   "id": "0fd9e252-a295-442b-a7bd-22b5dbb24915",
   "metadata": {},
   "outputs": [
    {
     "data": {
      "text/html": [
       "<div>\n",
       "<style scoped>\n",
       "    .dataframe tbody tr th:only-of-type {\n",
       "        vertical-align: middle;\n",
       "    }\n",
       "\n",
       "    .dataframe tbody tr th {\n",
       "        vertical-align: top;\n",
       "    }\n",
       "\n",
       "    .dataframe thead th {\n",
       "        text-align: right;\n",
       "    }\n",
       "</style>\n",
       "<table border=\"1\" class=\"dataframe\">\n",
       "  <thead>\n",
       "    <tr style=\"text-align: right;\">\n",
       "      <th></th>\n",
       "      <th>Student</th>\n",
       "      <th>Marks</th>\n",
       "      <th>Rank</th>\n",
       "    </tr>\n",
       "    <tr>\n",
       "      <th>index</th>\n",
       "      <th></th>\n",
       "      <th></th>\n",
       "      <th></th>\n",
       "    </tr>\n",
       "  </thead>\n",
       "  <tbody>\n",
       "    <tr>\n",
       "      <th>rowA</th>\n",
       "      <td>revanth</td>\n",
       "      <td>90</td>\n",
       "      <td>1</td>\n",
       "    </tr>\n",
       "    <tr>\n",
       "      <th>rowB</th>\n",
       "      <td>kumar</td>\n",
       "      <td>98</td>\n",
       "      <td>2</td>\n",
       "    </tr>\n",
       "  </tbody>\n",
       "</table>\n",
       "</div>"
      ],
      "text/plain": [
       "       Student  Marks  Rank\n",
       "index                      \n",
       "rowA   revanth     90     1\n",
       "rowB     kumar     98     2"
      ]
     },
     "execution_count": 16,
     "metadata": {},
     "output_type": "execute_result"
    }
   ],
   "source": [
    "# Access multiple rows by index label \n",
    "dataSet.loc[['rowA', 'rowB']]"
   ]
  },
  {
   "cell_type": "code",
   "execution_count": 17,
   "id": "f7b6338a-5428-440c-8cca-509fd18e707f",
   "metadata": {},
   "outputs": [
    {
     "data": {
      "text/plain": [
       "90"
      ]
     },
     "execution_count": 17,
     "metadata": {},
     "output_type": "execute_result"
    }
   ],
   "source": [
    "# access a specific cell by index label and column name \n",
    "dataSet.loc['rowA', 'Marks']"
   ]
  },
  {
   "cell_type": "code",
   "execution_count": 18,
   "id": "6e464f83-bf53-4c92-a63e-eba9621bc21c",
   "metadata": {},
   "outputs": [
    {
     "data": {
      "text/plain": [
       "Student    kumar\n",
       "Marks         98\n",
       "Name: rowB, dtype: object"
      ]
     },
     "execution_count": 18,
     "metadata": {},
     "output_type": "execute_result"
    }
   ],
   "source": [
    "# access multiple columns for a specific row \n",
    "dataSet.loc['rowB', ['Student', 'Marks']]"
   ]
  },
  {
   "cell_type": "code",
   "execution_count": 19,
   "id": "c0dad467-92b6-491c-b5ae-be33a9b6006d",
   "metadata": {},
   "outputs": [
    {
     "data": {
      "text/html": [
       "<div>\n",
       "<style scoped>\n",
       "    .dataframe tbody tr th:only-of-type {\n",
       "        vertical-align: middle;\n",
       "    }\n",
       "\n",
       "    .dataframe tbody tr th {\n",
       "        vertical-align: top;\n",
       "    }\n",
       "\n",
       "    .dataframe thead th {\n",
       "        text-align: right;\n",
       "    }\n",
       "</style>\n",
       "<table border=\"1\" class=\"dataframe\">\n",
       "  <thead>\n",
       "    <tr style=\"text-align: right;\">\n",
       "      <th></th>\n",
       "      <th>Student</th>\n",
       "      <th>Marks</th>\n",
       "      <th>Rank</th>\n",
       "    </tr>\n",
       "    <tr>\n",
       "      <th>index</th>\n",
       "      <th></th>\n",
       "      <th></th>\n",
       "      <th></th>\n",
       "    </tr>\n",
       "  </thead>\n",
       "  <tbody>\n",
       "    <tr>\n",
       "      <th>rowA</th>\n",
       "      <td>revanth</td>\n",
       "      <td>90</td>\n",
       "      <td>1</td>\n",
       "    </tr>\n",
       "    <tr>\n",
       "      <th>rowB</th>\n",
       "      <td>kumar</td>\n",
       "      <td>98</td>\n",
       "      <td>2</td>\n",
       "    </tr>\n",
       "    <tr>\n",
       "      <th>rowC</th>\n",
       "      <td>jeya</td>\n",
       "      <td>100</td>\n",
       "      <td>3</td>\n",
       "    </tr>\n",
       "    <tr>\n",
       "      <th>rowD</th>\n",
       "      <td>sam</td>\n",
       "      <td>90</td>\n",
       "      <td>4</td>\n",
       "    </tr>\n",
       "  </tbody>\n",
       "</table>\n",
       "</div>"
      ],
      "text/plain": [
       "       Student  Marks  Rank\n",
       "index                      \n",
       "rowA   revanth     90     1\n",
       "rowB     kumar     98     2\n",
       "rowC      jeya    100     3\n",
       "rowD       sam     90     4"
      ]
     },
     "execution_count": 19,
     "metadata": {},
     "output_type": "execute_result"
    }
   ],
   "source": [
    "# access a range of rows \n",
    "dataSet.loc['rowA':'rowD']"
   ]
  },
  {
   "cell_type": "code",
   "execution_count": 20,
   "id": "587e94e1-d550-4b8a-a3a8-0f9a207a8c22",
   "metadata": {},
   "outputs": [
    {
     "data": {
      "text/html": [
       "<div>\n",
       "<style scoped>\n",
       "    .dataframe tbody tr th:only-of-type {\n",
       "        vertical-align: middle;\n",
       "    }\n",
       "\n",
       "    .dataframe tbody tr th {\n",
       "        vertical-align: top;\n",
       "    }\n",
       "\n",
       "    .dataframe thead th {\n",
       "        text-align: right;\n",
       "    }\n",
       "</style>\n",
       "<table border=\"1\" class=\"dataframe\">\n",
       "  <thead>\n",
       "    <tr style=\"text-align: right;\">\n",
       "      <th></th>\n",
       "      <th>Student</th>\n",
       "      <th>Marks</th>\n",
       "    </tr>\n",
       "    <tr>\n",
       "      <th>index</th>\n",
       "      <th></th>\n",
       "      <th></th>\n",
       "    </tr>\n",
       "  </thead>\n",
       "  <tbody>\n",
       "    <tr>\n",
       "      <th>rowA</th>\n",
       "      <td>revanth</td>\n",
       "      <td>90</td>\n",
       "    </tr>\n",
       "    <tr>\n",
       "      <th>rowB</th>\n",
       "      <td>kumar</td>\n",
       "      <td>98</td>\n",
       "    </tr>\n",
       "    <tr>\n",
       "      <th>rowC</th>\n",
       "      <td>jeya</td>\n",
       "      <td>100</td>\n",
       "    </tr>\n",
       "  </tbody>\n",
       "</table>\n",
       "</div>"
      ],
      "text/plain": [
       "       Student  Marks\n",
       "index                \n",
       "rowA   revanth     90\n",
       "rowB     kumar     98\n",
       "rowC      jeya    100"
      ]
     },
     "execution_count": 20,
     "metadata": {},
     "output_type": "execute_result"
    }
   ],
   "source": [
    "# access specific range of index lable and specific column \n",
    "dataSet.loc['rowA':'rowC', ['Student', 'Marks']]"
   ]
  },
  {
   "cell_type": "code",
   "execution_count": 21,
   "id": "5bd97c44-0a12-42ad-bdd3-2a970635db14",
   "metadata": {},
   "outputs": [
    {
     "data": {
      "text/html": [
       "<div>\n",
       "<style scoped>\n",
       "    .dataframe tbody tr th:only-of-type {\n",
       "        vertical-align: middle;\n",
       "    }\n",
       "\n",
       "    .dataframe tbody tr th {\n",
       "        vertical-align: top;\n",
       "    }\n",
       "\n",
       "    .dataframe thead th {\n",
       "        text-align: right;\n",
       "    }\n",
       "</style>\n",
       "<table border=\"1\" class=\"dataframe\">\n",
       "  <thead>\n",
       "    <tr style=\"text-align: right;\">\n",
       "      <th></th>\n",
       "      <th>Student</th>\n",
       "      <th>Marks</th>\n",
       "      <th>Rank</th>\n",
       "    </tr>\n",
       "    <tr>\n",
       "      <th>index</th>\n",
       "      <th></th>\n",
       "      <th></th>\n",
       "      <th></th>\n",
       "    </tr>\n",
       "  </thead>\n",
       "  <tbody>\n",
       "    <tr>\n",
       "      <th>rowB</th>\n",
       "      <td>kumar</td>\n",
       "      <td>98</td>\n",
       "      <td>2</td>\n",
       "    </tr>\n",
       "    <tr>\n",
       "      <th>rowC</th>\n",
       "      <td>jeya</td>\n",
       "      <td>100</td>\n",
       "      <td>3</td>\n",
       "    </tr>\n",
       "  </tbody>\n",
       "</table>\n",
       "</div>"
      ],
      "text/plain": [
       "      Student  Marks  Rank\n",
       "index                     \n",
       "rowB    kumar     98     2\n",
       "rowC     jeya    100     3"
      ]
     },
     "execution_count": 21,
     "metadata": {},
     "output_type": "execute_result"
    }
   ],
   "source": [
    "# boolean indexing \n",
    "dataSet.loc[dataSet['Marks'] > 90]"
   ]
  },
  {
   "cell_type": "code",
   "execution_count": 22,
   "id": "616cf402-0111-47b2-a438-1f039105de8b",
   "metadata": {},
   "outputs": [],
   "source": [
    "# Modify a specific cell \n",
    "dataSet.loc['rowA', 'Marks'] = 95"
   ]
  },
  {
   "cell_type": "code",
   "execution_count": 23,
   "id": "bd83d8ef-0ade-42e1-9921-33cf9cb07900",
   "metadata": {},
   "outputs": [
    {
     "data": {
      "text/plain": [
       "Student    revanth\n",
       "Marks           95\n",
       "Rank             1\n",
       "Name: rowA, dtype: object"
      ]
     },
     "execution_count": 23,
     "metadata": {},
     "output_type": "execute_result"
    }
   ],
   "source": [
    "dataSet.loc['rowA']"
   ]
  },
  {
   "cell_type": "code",
   "execution_count": 24,
   "id": "01494df2-83ad-4054-8959-1907d6dbe7d8",
   "metadata": {},
   "outputs": [],
   "source": [
    "# Modify Multiple Cells: \n",
    "dataSet.loc[['rowA', 'rowB'], 'Marks'] = 34"
   ]
  },
  {
   "cell_type": "code",
   "execution_count": 25,
   "id": "7cf7491e-8a58-4354-a970-2dba8043a4c7",
   "metadata": {},
   "outputs": [
    {
     "data": {
      "text/html": [
       "<div>\n",
       "<style scoped>\n",
       "    .dataframe tbody tr th:only-of-type {\n",
       "        vertical-align: middle;\n",
       "    }\n",
       "\n",
       "    .dataframe tbody tr th {\n",
       "        vertical-align: top;\n",
       "    }\n",
       "\n",
       "    .dataframe thead th {\n",
       "        text-align: right;\n",
       "    }\n",
       "</style>\n",
       "<table border=\"1\" class=\"dataframe\">\n",
       "  <thead>\n",
       "    <tr style=\"text-align: right;\">\n",
       "      <th></th>\n",
       "      <th>Student</th>\n",
       "      <th>Marks</th>\n",
       "      <th>Rank</th>\n",
       "    </tr>\n",
       "    <tr>\n",
       "      <th>index</th>\n",
       "      <th></th>\n",
       "      <th></th>\n",
       "      <th></th>\n",
       "    </tr>\n",
       "  </thead>\n",
       "  <tbody>\n",
       "    <tr>\n",
       "      <th>rowA</th>\n",
       "      <td>revanth</td>\n",
       "      <td>34</td>\n",
       "      <td>1</td>\n",
       "    </tr>\n",
       "    <tr>\n",
       "      <th>rowB</th>\n",
       "      <td>kumar</td>\n",
       "      <td>34</td>\n",
       "      <td>2</td>\n",
       "    </tr>\n",
       "    <tr>\n",
       "      <th>rowC</th>\n",
       "      <td>jeya</td>\n",
       "      <td>100</td>\n",
       "      <td>3</td>\n",
       "    </tr>\n",
       "    <tr>\n",
       "      <th>rowD</th>\n",
       "      <td>sam</td>\n",
       "      <td>90</td>\n",
       "      <td>4</td>\n",
       "    </tr>\n",
       "    <tr>\n",
       "      <th>rowE</th>\n",
       "      <td>ramana</td>\n",
       "      <td>89</td>\n",
       "      <td>5</td>\n",
       "    </tr>\n",
       "  </tbody>\n",
       "</table>\n",
       "</div>"
      ],
      "text/plain": [
       "       Student  Marks  Rank\n",
       "index                      \n",
       "rowA   revanth     34     1\n",
       "rowB     kumar     34     2\n",
       "rowC      jeya    100     3\n",
       "rowD       sam     90     4\n",
       "rowE    ramana     89     5"
      ]
     },
     "execution_count": 25,
     "metadata": {},
     "output_type": "execute_result"
    }
   ],
   "source": [
    "dataSet"
   ]
  },
  {
   "cell_type": "code",
   "execution_count": 26,
   "id": "81a30213-2585-43e5-ac04-3c87dd4112e6",
   "metadata": {},
   "outputs": [],
   "source": [
    "dataSet.loc[:, 'Marks'] = 100"
   ]
  },
  {
   "cell_type": "code",
   "execution_count": 27,
   "id": "1a9c8d9c-c1af-452f-8bb0-8cac1a42e368",
   "metadata": {},
   "outputs": [
    {
     "data": {
      "text/html": [
       "<div>\n",
       "<style scoped>\n",
       "    .dataframe tbody tr th:only-of-type {\n",
       "        vertical-align: middle;\n",
       "    }\n",
       "\n",
       "    .dataframe tbody tr th {\n",
       "        vertical-align: top;\n",
       "    }\n",
       "\n",
       "    .dataframe thead th {\n",
       "        text-align: right;\n",
       "    }\n",
       "</style>\n",
       "<table border=\"1\" class=\"dataframe\">\n",
       "  <thead>\n",
       "    <tr style=\"text-align: right;\">\n",
       "      <th></th>\n",
       "      <th>Student</th>\n",
       "      <th>Marks</th>\n",
       "      <th>Rank</th>\n",
       "    </tr>\n",
       "    <tr>\n",
       "      <th>index</th>\n",
       "      <th></th>\n",
       "      <th></th>\n",
       "      <th></th>\n",
       "    </tr>\n",
       "  </thead>\n",
       "  <tbody>\n",
       "    <tr>\n",
       "      <th>rowA</th>\n",
       "      <td>revanth</td>\n",
       "      <td>100</td>\n",
       "      <td>1</td>\n",
       "    </tr>\n",
       "    <tr>\n",
       "      <th>rowB</th>\n",
       "      <td>kumar</td>\n",
       "      <td>100</td>\n",
       "      <td>2</td>\n",
       "    </tr>\n",
       "    <tr>\n",
       "      <th>rowC</th>\n",
       "      <td>jeya</td>\n",
       "      <td>100</td>\n",
       "      <td>3</td>\n",
       "    </tr>\n",
       "    <tr>\n",
       "      <th>rowD</th>\n",
       "      <td>sam</td>\n",
       "      <td>100</td>\n",
       "      <td>4</td>\n",
       "    </tr>\n",
       "    <tr>\n",
       "      <th>rowE</th>\n",
       "      <td>ramana</td>\n",
       "      <td>100</td>\n",
       "      <td>5</td>\n",
       "    </tr>\n",
       "  </tbody>\n",
       "</table>\n",
       "</div>"
      ],
      "text/plain": [
       "       Student  Marks  Rank\n",
       "index                      \n",
       "rowA   revanth    100     1\n",
       "rowB     kumar    100     2\n",
       "rowC      jeya    100     3\n",
       "rowD       sam    100     4\n",
       "rowE    ramana    100     5"
      ]
     },
     "execution_count": 27,
     "metadata": {},
     "output_type": "execute_result"
    }
   ],
   "source": [
    "dataSet"
   ]
  },
  {
   "cell_type": "markdown",
   "id": "05ae479f-d852-4391-ab17-edb336207a66",
   "metadata": {},
   "source": [
    "### Access a group of rows or columns by integer positions in a Pandas DataFrame iloc method "
   ]
  },
  {
   "cell_type": "code",
   "execution_count": 28,
   "id": "307d57a3-f583-44f4-8de2-fd4fc476a123",
   "metadata": {},
   "outputs": [
    {
     "data": {
      "text/html": [
       "<div>\n",
       "<style scoped>\n",
       "    .dataframe tbody tr th:only-of-type {\n",
       "        vertical-align: middle;\n",
       "    }\n",
       "\n",
       "    .dataframe tbody tr th {\n",
       "        vertical-align: top;\n",
       "    }\n",
       "\n",
       "    .dataframe thead th {\n",
       "        text-align: right;\n",
       "    }\n",
       "</style>\n",
       "<table border=\"1\" class=\"dataframe\">\n",
       "  <thead>\n",
       "    <tr style=\"text-align: right;\">\n",
       "      <th></th>\n",
       "      <th>Student</th>\n",
       "      <th>Marks</th>\n",
       "      <th>Rank</th>\n",
       "    </tr>\n",
       "    <tr>\n",
       "      <th>index</th>\n",
       "      <th></th>\n",
       "      <th></th>\n",
       "      <th></th>\n",
       "    </tr>\n",
       "  </thead>\n",
       "  <tbody>\n",
       "    <tr>\n",
       "      <th>rowA</th>\n",
       "      <td>revanth</td>\n",
       "      <td>100</td>\n",
       "      <td>1</td>\n",
       "    </tr>\n",
       "    <tr>\n",
       "      <th>rowB</th>\n",
       "      <td>kumar</td>\n",
       "      <td>100</td>\n",
       "      <td>2</td>\n",
       "    </tr>\n",
       "    <tr>\n",
       "      <th>rowC</th>\n",
       "      <td>jeya</td>\n",
       "      <td>100</td>\n",
       "      <td>3</td>\n",
       "    </tr>\n",
       "    <tr>\n",
       "      <th>rowD</th>\n",
       "      <td>sam</td>\n",
       "      <td>100</td>\n",
       "      <td>4</td>\n",
       "    </tr>\n",
       "    <tr>\n",
       "      <th>rowE</th>\n",
       "      <td>ramana</td>\n",
       "      <td>100</td>\n",
       "      <td>5</td>\n",
       "    </tr>\n",
       "  </tbody>\n",
       "</table>\n",
       "</div>"
      ],
      "text/plain": [
       "       Student  Marks  Rank\n",
       "index                      \n",
       "rowA   revanth    100     1\n",
       "rowB     kumar    100     2\n",
       "rowC      jeya    100     3\n",
       "rowD       sam    100     4\n",
       "rowE    ramana    100     5"
      ]
     },
     "execution_count": 28,
     "metadata": {},
     "output_type": "execute_result"
    }
   ],
   "source": [
    "dataSet"
   ]
  },
  {
   "cell_type": "code",
   "execution_count": 29,
   "id": "fc2cab1b-1cc4-4daf-bdcb-61382a46af1c",
   "metadata": {},
   "outputs": [
    {
     "data": {
      "text/plain": [
       "Student    revanth\n",
       "Marks          100\n",
       "Rank             1\n",
       "Name: rowA, dtype: object"
      ]
     },
     "execution_count": 29,
     "metadata": {},
     "output_type": "execute_result"
    }
   ],
   "source": [
    "#  Access a Single Row by Index Position\n",
    "dataSet.iloc[0]"
   ]
  },
  {
   "cell_type": "code",
   "execution_count": 30,
   "id": "b36b0808-13bd-4047-84be-046fae0421e2",
   "metadata": {},
   "outputs": [
    {
     "data": {
      "text/html": [
       "<div>\n",
       "<style scoped>\n",
       "    .dataframe tbody tr th:only-of-type {\n",
       "        vertical-align: middle;\n",
       "    }\n",
       "\n",
       "    .dataframe tbody tr th {\n",
       "        vertical-align: top;\n",
       "    }\n",
       "\n",
       "    .dataframe thead th {\n",
       "        text-align: right;\n",
       "    }\n",
       "</style>\n",
       "<table border=\"1\" class=\"dataframe\">\n",
       "  <thead>\n",
       "    <tr style=\"text-align: right;\">\n",
       "      <th></th>\n",
       "      <th>Student</th>\n",
       "      <th>Marks</th>\n",
       "      <th>Rank</th>\n",
       "    </tr>\n",
       "    <tr>\n",
       "      <th>index</th>\n",
       "      <th></th>\n",
       "      <th></th>\n",
       "      <th></th>\n",
       "    </tr>\n",
       "  </thead>\n",
       "  <tbody>\n",
       "    <tr>\n",
       "      <th>rowA</th>\n",
       "      <td>revanth</td>\n",
       "      <td>100</td>\n",
       "      <td>1</td>\n",
       "    </tr>\n",
       "    <tr>\n",
       "      <th>rowE</th>\n",
       "      <td>ramana</td>\n",
       "      <td>100</td>\n",
       "      <td>5</td>\n",
       "    </tr>\n",
       "  </tbody>\n",
       "</table>\n",
       "</div>"
      ],
      "text/plain": [
       "       Student  Marks  Rank\n",
       "index                      \n",
       "rowA   revanth    100     1\n",
       "rowE    ramana    100     5"
      ]
     },
     "execution_count": 30,
     "metadata": {},
     "output_type": "execute_result"
    }
   ],
   "source": [
    "# Access Multiple Rows by Index Positions \n",
    "dataSet.iloc[[0,4]] # -> only 0 and 4"
   ]
  },
  {
   "cell_type": "code",
   "execution_count": 31,
   "id": "d9e15e2a-87e5-47d8-86f2-b02b7f38b82c",
   "metadata": {},
   "outputs": [
    {
     "data": {
      "text/html": [
       "<div>\n",
       "<style scoped>\n",
       "    .dataframe tbody tr th:only-of-type {\n",
       "        vertical-align: middle;\n",
       "    }\n",
       "\n",
       "    .dataframe tbody tr th {\n",
       "        vertical-align: top;\n",
       "    }\n",
       "\n",
       "    .dataframe thead th {\n",
       "        text-align: right;\n",
       "    }\n",
       "</style>\n",
       "<table border=\"1\" class=\"dataframe\">\n",
       "  <thead>\n",
       "    <tr style=\"text-align: right;\">\n",
       "      <th></th>\n",
       "      <th>Student</th>\n",
       "      <th>Marks</th>\n",
       "      <th>Rank</th>\n",
       "    </tr>\n",
       "    <tr>\n",
       "      <th>index</th>\n",
       "      <th></th>\n",
       "      <th></th>\n",
       "      <th></th>\n",
       "    </tr>\n",
       "  </thead>\n",
       "  <tbody>\n",
       "    <tr>\n",
       "      <th>rowA</th>\n",
       "      <td>revanth</td>\n",
       "      <td>100</td>\n",
       "      <td>1</td>\n",
       "    </tr>\n",
       "    <tr>\n",
       "      <th>rowB</th>\n",
       "      <td>kumar</td>\n",
       "      <td>100</td>\n",
       "      <td>2</td>\n",
       "    </tr>\n",
       "    <tr>\n",
       "      <th>rowC</th>\n",
       "      <td>jeya</td>\n",
       "      <td>100</td>\n",
       "      <td>3</td>\n",
       "    </tr>\n",
       "  </tbody>\n",
       "</table>\n",
       "</div>"
      ],
      "text/plain": [
       "       Student  Marks  Rank\n",
       "index                      \n",
       "rowA   revanth    100     1\n",
       "rowB     kumar    100     2\n",
       "rowC      jeya    100     3"
      ]
     },
     "execution_count": 31,
     "metadata": {},
     "output_type": "execute_result"
    }
   ],
   "source": [
    "# Access a Range of Rows  \n",
    "dataSet.iloc[0:3]"
   ]
  },
  {
   "cell_type": "code",
   "execution_count": 32,
   "id": "b1034876-0b19-4138-9fca-92cb4a8b9223",
   "metadata": {},
   "outputs": [
    {
     "data": {
      "text/plain": [
       "'revanth'"
      ]
     },
     "execution_count": 32,
     "metadata": {},
     "output_type": "execute_result"
    }
   ],
   "source": [
    "# Access a Specific Cell by Row and Column Index Positions \n",
    "dataSet.iloc[0,0]"
   ]
  },
  {
   "cell_type": "code",
   "execution_count": 33,
   "id": "5b05a1f6-59a1-457c-b379-464755778c18",
   "metadata": {},
   "outputs": [
    {
     "data": {
      "text/html": [
       "<div>\n",
       "<style scoped>\n",
       "    .dataframe tbody tr th:only-of-type {\n",
       "        vertical-align: middle;\n",
       "    }\n",
       "\n",
       "    .dataframe tbody tr th {\n",
       "        vertical-align: top;\n",
       "    }\n",
       "\n",
       "    .dataframe thead th {\n",
       "        text-align: right;\n",
       "    }\n",
       "</style>\n",
       "<table border=\"1\" class=\"dataframe\">\n",
       "  <thead>\n",
       "    <tr style=\"text-align: right;\">\n",
       "      <th></th>\n",
       "      <th>Marks</th>\n",
       "      <th>Rank</th>\n",
       "    </tr>\n",
       "    <tr>\n",
       "      <th>index</th>\n",
       "      <th></th>\n",
       "      <th></th>\n",
       "    </tr>\n",
       "  </thead>\n",
       "  <tbody>\n",
       "    <tr>\n",
       "      <th>rowA</th>\n",
       "      <td>100</td>\n",
       "      <td>1</td>\n",
       "    </tr>\n",
       "    <tr>\n",
       "      <th>rowB</th>\n",
       "      <td>100</td>\n",
       "      <td>2</td>\n",
       "    </tr>\n",
       "    <tr>\n",
       "      <th>rowC</th>\n",
       "      <td>100</td>\n",
       "      <td>3</td>\n",
       "    </tr>\n",
       "  </tbody>\n",
       "</table>\n",
       "</div>"
      ],
      "text/plain": [
       "       Marks  Rank\n",
       "index             \n",
       "rowA     100     1\n",
       "rowB     100     2\n",
       "rowC     100     3"
      ]
     },
     "execution_count": 33,
     "metadata": {},
     "output_type": "execute_result"
    }
   ],
   "source": [
    "# Access a Range of Rows and Specific Columns \n",
    "dataSet.iloc[0:3, 1:3]"
   ]
  },
  {
   "cell_type": "code",
   "execution_count": 34,
   "id": "8870d1c2-9c61-4c82-ab7e-ef1d1fa210de",
   "metadata": {},
   "outputs": [
    {
     "data": {
      "text/plain": [
       "Marks    100\n",
       "Rank       1\n",
       "Name: rowA, dtype: object"
      ]
     },
     "execution_count": 34,
     "metadata": {},
     "output_type": "execute_result"
    }
   ],
   "source": [
    "# Access a Specific Row and Multiple Columns \n",
    "dataSet.iloc[0, [1,2]]"
   ]
  },
  {
   "cell_type": "code",
   "execution_count": 35,
   "id": "df88f88d-a977-4e5c-a705-cf72926af06e",
   "metadata": {},
   "outputs": [
    {
     "data": {
      "text/plain": [
       "index\n",
       "rowA    100\n",
       "rowB    100\n",
       "rowC    100\n",
       "rowD    100\n",
       "rowE    100\n",
       "Name: Marks, dtype: int64"
      ]
     },
     "execution_count": 35,
     "metadata": {},
     "output_type": "execute_result"
    }
   ],
   "source": [
    "# Access All Rows for Specific Columns \n",
    "dataSet.iloc[:,1]"
   ]
  },
  {
   "cell_type": "code",
   "execution_count": 36,
   "id": "9e9f535c-43a0-4e0a-8d93-920d0d32724a",
   "metadata": {},
   "outputs": [
    {
     "data": {
      "text/html": [
       "<div>\n",
       "<style scoped>\n",
       "    .dataframe tbody tr th:only-of-type {\n",
       "        vertical-align: middle;\n",
       "    }\n",
       "\n",
       "    .dataframe tbody tr th {\n",
       "        vertical-align: top;\n",
       "    }\n",
       "\n",
       "    .dataframe thead th {\n",
       "        text-align: right;\n",
       "    }\n",
       "</style>\n",
       "<table border=\"1\" class=\"dataframe\">\n",
       "  <thead>\n",
       "    <tr style=\"text-align: right;\">\n",
       "      <th></th>\n",
       "      <th>Student</th>\n",
       "      <th>Marks</th>\n",
       "      <th>Rank</th>\n",
       "    </tr>\n",
       "    <tr>\n",
       "      <th>index</th>\n",
       "      <th></th>\n",
       "      <th></th>\n",
       "      <th></th>\n",
       "    </tr>\n",
       "  </thead>\n",
       "  <tbody>\n",
       "    <tr>\n",
       "      <th>rowA</th>\n",
       "      <td>revanth</td>\n",
       "      <td>100</td>\n",
       "      <td>1</td>\n",
       "    </tr>\n",
       "    <tr>\n",
       "      <th>rowB</th>\n",
       "      <td>kumar</td>\n",
       "      <td>100</td>\n",
       "      <td>2</td>\n",
       "    </tr>\n",
       "    <tr>\n",
       "      <th>rowC</th>\n",
       "      <td>jeya</td>\n",
       "      <td>100</td>\n",
       "      <td>3</td>\n",
       "    </tr>\n",
       "  </tbody>\n",
       "</table>\n",
       "</div>"
      ],
      "text/plain": [
       "       Student  Marks  Rank\n",
       "index                      \n",
       "rowA   revanth    100     1\n",
       "rowB     kumar    100     2\n",
       "rowC      jeya    100     3"
      ]
     },
     "execution_count": 36,
     "metadata": {},
     "output_type": "execute_result"
    }
   ],
   "source": [
    "# Access the first three rows for all columns (rows 0 to 2) \n",
    "dataSet.iloc[0:3, :]"
   ]
  },
  {
   "cell_type": "code",
   "execution_count": 37,
   "id": "ff6aadc9-463c-4b6c-872e-fb526ffcf405",
   "metadata": {},
   "outputs": [],
   "source": [
    "# Modify a Specific Cell \n",
    "dataSet.iloc[0,1] = 95"
   ]
  },
  {
   "cell_type": "code",
   "execution_count": 38,
   "id": "a9ff5cec-f18f-4262-8bda-ff7e530f2a33",
   "metadata": {},
   "outputs": [
    {
     "data": {
      "text/html": [
       "<div>\n",
       "<style scoped>\n",
       "    .dataframe tbody tr th:only-of-type {\n",
       "        vertical-align: middle;\n",
       "    }\n",
       "\n",
       "    .dataframe tbody tr th {\n",
       "        vertical-align: top;\n",
       "    }\n",
       "\n",
       "    .dataframe thead th {\n",
       "        text-align: right;\n",
       "    }\n",
       "</style>\n",
       "<table border=\"1\" class=\"dataframe\">\n",
       "  <thead>\n",
       "    <tr style=\"text-align: right;\">\n",
       "      <th></th>\n",
       "      <th>Student</th>\n",
       "      <th>Marks</th>\n",
       "      <th>Rank</th>\n",
       "    </tr>\n",
       "    <tr>\n",
       "      <th>index</th>\n",
       "      <th></th>\n",
       "      <th></th>\n",
       "      <th></th>\n",
       "    </tr>\n",
       "  </thead>\n",
       "  <tbody>\n",
       "    <tr>\n",
       "      <th>rowA</th>\n",
       "      <td>revanth</td>\n",
       "      <td>95</td>\n",
       "      <td>1</td>\n",
       "    </tr>\n",
       "    <tr>\n",
       "      <th>rowB</th>\n",
       "      <td>kumar</td>\n",
       "      <td>100</td>\n",
       "      <td>2</td>\n",
       "    </tr>\n",
       "    <tr>\n",
       "      <th>rowC</th>\n",
       "      <td>jeya</td>\n",
       "      <td>100</td>\n",
       "      <td>3</td>\n",
       "    </tr>\n",
       "    <tr>\n",
       "      <th>rowD</th>\n",
       "      <td>sam</td>\n",
       "      <td>100</td>\n",
       "      <td>4</td>\n",
       "    </tr>\n",
       "    <tr>\n",
       "      <th>rowE</th>\n",
       "      <td>ramana</td>\n",
       "      <td>100</td>\n",
       "      <td>5</td>\n",
       "    </tr>\n",
       "  </tbody>\n",
       "</table>\n",
       "</div>"
      ],
      "text/plain": [
       "       Student  Marks  Rank\n",
       "index                      \n",
       "rowA   revanth     95     1\n",
       "rowB     kumar    100     2\n",
       "rowC      jeya    100     3\n",
       "rowD       sam    100     4\n",
       "rowE    ramana    100     5"
      ]
     },
     "execution_count": 38,
     "metadata": {},
     "output_type": "execute_result"
    }
   ],
   "source": [
    "dataSet"
   ]
  },
  {
   "cell_type": "code",
   "execution_count": 39,
   "id": "8e77de4f-60db-4482-a330-e7115fd3a425",
   "metadata": {},
   "outputs": [],
   "source": [
    "# Modify Multiple Cells \n",
    "dataSet.iloc[0:3, 1] = 76"
   ]
  },
  {
   "cell_type": "code",
   "execution_count": 40,
   "id": "bc082e45-9046-47d6-8fd6-69ec90014894",
   "metadata": {},
   "outputs": [
    {
     "data": {
      "text/html": [
       "<div>\n",
       "<style scoped>\n",
       "    .dataframe tbody tr th:only-of-type {\n",
       "        vertical-align: middle;\n",
       "    }\n",
       "\n",
       "    .dataframe tbody tr th {\n",
       "        vertical-align: top;\n",
       "    }\n",
       "\n",
       "    .dataframe thead th {\n",
       "        text-align: right;\n",
       "    }\n",
       "</style>\n",
       "<table border=\"1\" class=\"dataframe\">\n",
       "  <thead>\n",
       "    <tr style=\"text-align: right;\">\n",
       "      <th></th>\n",
       "      <th>Student</th>\n",
       "      <th>Marks</th>\n",
       "      <th>Rank</th>\n",
       "    </tr>\n",
       "    <tr>\n",
       "      <th>index</th>\n",
       "      <th></th>\n",
       "      <th></th>\n",
       "      <th></th>\n",
       "    </tr>\n",
       "  </thead>\n",
       "  <tbody>\n",
       "    <tr>\n",
       "      <th>rowA</th>\n",
       "      <td>revanth</td>\n",
       "      <td>76</td>\n",
       "      <td>1</td>\n",
       "    </tr>\n",
       "    <tr>\n",
       "      <th>rowB</th>\n",
       "      <td>kumar</td>\n",
       "      <td>76</td>\n",
       "      <td>2</td>\n",
       "    </tr>\n",
       "    <tr>\n",
       "      <th>rowC</th>\n",
       "      <td>jeya</td>\n",
       "      <td>76</td>\n",
       "      <td>3</td>\n",
       "    </tr>\n",
       "    <tr>\n",
       "      <th>rowD</th>\n",
       "      <td>sam</td>\n",
       "      <td>100</td>\n",
       "      <td>4</td>\n",
       "    </tr>\n",
       "    <tr>\n",
       "      <th>rowE</th>\n",
       "      <td>ramana</td>\n",
       "      <td>100</td>\n",
       "      <td>5</td>\n",
       "    </tr>\n",
       "  </tbody>\n",
       "</table>\n",
       "</div>"
      ],
      "text/plain": [
       "       Student  Marks  Rank\n",
       "index                      \n",
       "rowA   revanth     76     1\n",
       "rowB     kumar     76     2\n",
       "rowC      jeya     76     3\n",
       "rowD       sam    100     4\n",
       "rowE    ramana    100     5"
      ]
     },
     "execution_count": 40,
     "metadata": {},
     "output_type": "execute_result"
    }
   ],
   "source": [
    "dataSet"
   ]
  },
  {
   "cell_type": "code",
   "execution_count": 41,
   "id": "eba100e3-d2da-416e-829b-cb831155ff84",
   "metadata": {},
   "outputs": [],
   "source": [
    "dataSet.iloc[:,1] = 90"
   ]
  },
  {
   "cell_type": "code",
   "execution_count": 42,
   "id": "bad186b7-e908-4d16-92ac-0eafc35c7638",
   "metadata": {},
   "outputs": [
    {
     "data": {
      "text/html": [
       "<div>\n",
       "<style scoped>\n",
       "    .dataframe tbody tr th:only-of-type {\n",
       "        vertical-align: middle;\n",
       "    }\n",
       "\n",
       "    .dataframe tbody tr th {\n",
       "        vertical-align: top;\n",
       "    }\n",
       "\n",
       "    .dataframe thead th {\n",
       "        text-align: right;\n",
       "    }\n",
       "</style>\n",
       "<table border=\"1\" class=\"dataframe\">\n",
       "  <thead>\n",
       "    <tr style=\"text-align: right;\">\n",
       "      <th></th>\n",
       "      <th>Student</th>\n",
       "      <th>Marks</th>\n",
       "      <th>Rank</th>\n",
       "    </tr>\n",
       "    <tr>\n",
       "      <th>index</th>\n",
       "      <th></th>\n",
       "      <th></th>\n",
       "      <th></th>\n",
       "    </tr>\n",
       "  </thead>\n",
       "  <tbody>\n",
       "    <tr>\n",
       "      <th>rowA</th>\n",
       "      <td>revanth</td>\n",
       "      <td>90</td>\n",
       "      <td>1</td>\n",
       "    </tr>\n",
       "    <tr>\n",
       "      <th>rowB</th>\n",
       "      <td>kumar</td>\n",
       "      <td>90</td>\n",
       "      <td>2</td>\n",
       "    </tr>\n",
       "    <tr>\n",
       "      <th>rowC</th>\n",
       "      <td>jeya</td>\n",
       "      <td>90</td>\n",
       "      <td>3</td>\n",
       "    </tr>\n",
       "    <tr>\n",
       "      <th>rowD</th>\n",
       "      <td>sam</td>\n",
       "      <td>90</td>\n",
       "      <td>4</td>\n",
       "    </tr>\n",
       "    <tr>\n",
       "      <th>rowE</th>\n",
       "      <td>ramana</td>\n",
       "      <td>90</td>\n",
       "      <td>5</td>\n",
       "    </tr>\n",
       "  </tbody>\n",
       "</table>\n",
       "</div>"
      ],
      "text/plain": [
       "       Student  Marks  Rank\n",
       "index                      \n",
       "rowA   revanth     90     1\n",
       "rowB     kumar     90     2\n",
       "rowC      jeya     90     3\n",
       "rowD       sam     90     4\n",
       "rowE    ramana     90     5"
      ]
     },
     "execution_count": 42,
     "metadata": {},
     "output_type": "execute_result"
    }
   ],
   "source": [
    "dataSet"
   ]
  },
  {
   "cell_type": "markdown",
   "id": "a1828651-5dc5-4d06-9489-77ef49e2b51c",
   "metadata": {},
   "source": [
    "# Attributes and methods "
   ]
  },
  {
   "cell_type": "code",
   "execution_count": 43,
   "id": "1ed40541-1b2d-489e-b723-e3d857dd4ea2",
   "metadata": {},
   "outputs": [],
   "source": [
    "data = {\n",
    "    'student':['revanth', 'kumar', 'jeya'],\n",
    "    'marks':[90, 35, 100],\n",
    "    'ranks':[1,2,3]\n",
    "}\n",
    "dataSet = pd.DataFrame(data, index=['rowA', 'rowB', 'rowC'])"
   ]
  },
  {
   "cell_type": "code",
   "execution_count": 44,
   "id": "a03f3ad6-5f22-4dca-88d0-cb94bd8db357",
   "metadata": {},
   "outputs": [
    {
     "data": {
      "text/html": [
       "<div>\n",
       "<style scoped>\n",
       "    .dataframe tbody tr th:only-of-type {\n",
       "        vertical-align: middle;\n",
       "    }\n",
       "\n",
       "    .dataframe tbody tr th {\n",
       "        vertical-align: top;\n",
       "    }\n",
       "\n",
       "    .dataframe thead th {\n",
       "        text-align: right;\n",
       "    }\n",
       "</style>\n",
       "<table border=\"1\" class=\"dataframe\">\n",
       "  <thead>\n",
       "    <tr style=\"text-align: right;\">\n",
       "      <th></th>\n",
       "      <th>student</th>\n",
       "      <th>marks</th>\n",
       "      <th>ranks</th>\n",
       "    </tr>\n",
       "  </thead>\n",
       "  <tbody>\n",
       "    <tr>\n",
       "      <th>rowA</th>\n",
       "      <td>revanth</td>\n",
       "      <td>90</td>\n",
       "      <td>1</td>\n",
       "    </tr>\n",
       "    <tr>\n",
       "      <th>rowB</th>\n",
       "      <td>kumar</td>\n",
       "      <td>35</td>\n",
       "      <td>2</td>\n",
       "    </tr>\n",
       "    <tr>\n",
       "      <th>rowC</th>\n",
       "      <td>jeya</td>\n",
       "      <td>100</td>\n",
       "      <td>3</td>\n",
       "    </tr>\n",
       "  </tbody>\n",
       "</table>\n",
       "</div>"
      ],
      "text/plain": [
       "      student  marks  ranks\n",
       "rowA  revanth     90      1\n",
       "rowB    kumar     35      2\n",
       "rowC     jeya    100      3"
      ]
     },
     "execution_count": 44,
     "metadata": {},
     "output_type": "execute_result"
    }
   ],
   "source": [
    "dataSet"
   ]
  },
  {
   "cell_type": "code",
   "execution_count": 45,
   "id": "f252cbd9-9c38-409a-b176-f70129be3fd0",
   "metadata": {},
   "outputs": [
    {
     "data": {
      "text/plain": [
       "student    object\n",
       "marks       int64\n",
       "ranks       int64\n",
       "dtype: object"
      ]
     },
     "execution_count": 45,
     "metadata": {},
     "output_type": "execute_result"
    }
   ],
   "source": [
    "dataSet.dtypes"
   ]
  },
  {
   "cell_type": "code",
   "execution_count": 46,
   "id": "21d055a5-4afd-40d5-9bcd-578e69bf5b9b",
   "metadata": {},
   "outputs": [
    {
     "data": {
      "text/plain": [
       "2"
      ]
     },
     "execution_count": 46,
     "metadata": {},
     "output_type": "execute_result"
    }
   ],
   "source": [
    "dataSet.ndim"
   ]
  },
  {
   "cell_type": "code",
   "execution_count": 47,
   "id": "a4abbc1a-b040-4ecb-946c-76584a7310e6",
   "metadata": {},
   "outputs": [
    {
     "data": {
      "text/plain": [
       "9"
      ]
     },
     "execution_count": 47,
     "metadata": {},
     "output_type": "execute_result"
    }
   ],
   "source": [
    "dataSet.size"
   ]
  },
  {
   "cell_type": "code",
   "execution_count": 48,
   "id": "72511829-74e3-4000-bec0-c89500f3972e",
   "metadata": {},
   "outputs": [
    {
     "data": {
      "text/plain": [
       "(3, 3)"
      ]
     },
     "execution_count": 48,
     "metadata": {},
     "output_type": "execute_result"
    }
   ],
   "source": [
    "dataSet.shape"
   ]
  },
  {
   "cell_type": "code",
   "execution_count": 49,
   "id": "f191e2ea-e6fb-4f5c-ba8d-5789d299213b",
   "metadata": {},
   "outputs": [
    {
     "data": {
      "text/plain": [
       "Index(['rowA', 'rowB', 'rowC'], dtype='object')"
      ]
     },
     "execution_count": 49,
     "metadata": {},
     "output_type": "execute_result"
    }
   ],
   "source": [
    "dataSet.index"
   ]
  },
  {
   "cell_type": "code",
   "execution_count": 50,
   "id": "92818ed0-3d01-4178-ae20-3510eedfe443",
   "metadata": {},
   "outputs": [],
   "source": [
    "transposeDataSet = dataSet.copy()"
   ]
  },
  {
   "cell_type": "code",
   "execution_count": 51,
   "id": "3dad6394-f22f-41d5-a608-365ededd137a",
   "metadata": {},
   "outputs": [
    {
     "data": {
      "text/html": [
       "<div>\n",
       "<style scoped>\n",
       "    .dataframe tbody tr th:only-of-type {\n",
       "        vertical-align: middle;\n",
       "    }\n",
       "\n",
       "    .dataframe tbody tr th {\n",
       "        vertical-align: top;\n",
       "    }\n",
       "\n",
       "    .dataframe thead th {\n",
       "        text-align: right;\n",
       "    }\n",
       "</style>\n",
       "<table border=\"1\" class=\"dataframe\">\n",
       "  <thead>\n",
       "    <tr style=\"text-align: right;\">\n",
       "      <th></th>\n",
       "      <th>student</th>\n",
       "      <th>marks</th>\n",
       "      <th>ranks</th>\n",
       "    </tr>\n",
       "  </thead>\n",
       "  <tbody>\n",
       "    <tr>\n",
       "      <th>rowA</th>\n",
       "      <td>revanth</td>\n",
       "      <td>90</td>\n",
       "      <td>1</td>\n",
       "    </tr>\n",
       "    <tr>\n",
       "      <th>rowB</th>\n",
       "      <td>kumar</td>\n",
       "      <td>35</td>\n",
       "      <td>2</td>\n",
       "    </tr>\n",
       "    <tr>\n",
       "      <th>rowC</th>\n",
       "      <td>jeya</td>\n",
       "      <td>100</td>\n",
       "      <td>3</td>\n",
       "    </tr>\n",
       "  </tbody>\n",
       "</table>\n",
       "</div>"
      ],
      "text/plain": [
       "      student  marks  ranks\n",
       "rowA  revanth     90      1\n",
       "rowB    kumar     35      2\n",
       "rowC     jeya    100      3"
      ]
     },
     "execution_count": 51,
     "metadata": {},
     "output_type": "execute_result"
    }
   ],
   "source": [
    "transposeDataSet"
   ]
  },
  {
   "cell_type": "code",
   "execution_count": 52,
   "id": "55bec589-34ce-4bd8-b7ed-b3ed1ed9e4a5",
   "metadata": {},
   "outputs": [
    {
     "data": {
      "text/html": [
       "<div>\n",
       "<style scoped>\n",
       "    .dataframe tbody tr th:only-of-type {\n",
       "        vertical-align: middle;\n",
       "    }\n",
       "\n",
       "    .dataframe tbody tr th {\n",
       "        vertical-align: top;\n",
       "    }\n",
       "\n",
       "    .dataframe thead th {\n",
       "        text-align: right;\n",
       "    }\n",
       "</style>\n",
       "<table border=\"1\" class=\"dataframe\">\n",
       "  <thead>\n",
       "    <tr style=\"text-align: right;\">\n",
       "      <th></th>\n",
       "      <th>rowA</th>\n",
       "      <th>rowB</th>\n",
       "      <th>rowC</th>\n",
       "    </tr>\n",
       "  </thead>\n",
       "  <tbody>\n",
       "    <tr>\n",
       "      <th>student</th>\n",
       "      <td>revanth</td>\n",
       "      <td>kumar</td>\n",
       "      <td>jeya</td>\n",
       "    </tr>\n",
       "    <tr>\n",
       "      <th>marks</th>\n",
       "      <td>90</td>\n",
       "      <td>35</td>\n",
       "      <td>100</td>\n",
       "    </tr>\n",
       "    <tr>\n",
       "      <th>ranks</th>\n",
       "      <td>1</td>\n",
       "      <td>2</td>\n",
       "      <td>3</td>\n",
       "    </tr>\n",
       "  </tbody>\n",
       "</table>\n",
       "</div>"
      ],
      "text/plain": [
       "            rowA   rowB  rowC\n",
       "student  revanth  kumar  jeya\n",
       "marks         90     35   100\n",
       "ranks          1      2     3"
      ]
     },
     "execution_count": 52,
     "metadata": {},
     "output_type": "execute_result"
    }
   ],
   "source": [
    "transposeDataSet.T"
   ]
  },
  {
   "cell_type": "code",
   "execution_count": 53,
   "id": "d8ae76f6-95f9-4006-841e-c20138819ae4",
   "metadata": {},
   "outputs": [
    {
     "data": {
      "text/html": [
       "<div>\n",
       "<style scoped>\n",
       "    .dataframe tbody tr th:only-of-type {\n",
       "        vertical-align: middle;\n",
       "    }\n",
       "\n",
       "    .dataframe tbody tr th {\n",
       "        vertical-align: top;\n",
       "    }\n",
       "\n",
       "    .dataframe thead th {\n",
       "        text-align: right;\n",
       "    }\n",
       "</style>\n",
       "<table border=\"1\" class=\"dataframe\">\n",
       "  <thead>\n",
       "    <tr style=\"text-align: right;\">\n",
       "      <th></th>\n",
       "      <th>student</th>\n",
       "      <th>marks</th>\n",
       "      <th>ranks</th>\n",
       "    </tr>\n",
       "  </thead>\n",
       "  <tbody>\n",
       "    <tr>\n",
       "      <th>rowA</th>\n",
       "      <td>revanth</td>\n",
       "      <td>90</td>\n",
       "      <td>1</td>\n",
       "    </tr>\n",
       "    <tr>\n",
       "      <th>rowB</th>\n",
       "      <td>kumar</td>\n",
       "      <td>35</td>\n",
       "      <td>2</td>\n",
       "    </tr>\n",
       "    <tr>\n",
       "      <th>rowC</th>\n",
       "      <td>jeya</td>\n",
       "      <td>100</td>\n",
       "      <td>3</td>\n",
       "    </tr>\n",
       "  </tbody>\n",
       "</table>\n",
       "</div>"
      ],
      "text/plain": [
       "      student  marks  ranks\n",
       "rowA  revanth     90      1\n",
       "rowB    kumar     35      2\n",
       "rowC     jeya    100      3"
      ]
     },
     "execution_count": 53,
     "metadata": {},
     "output_type": "execute_result"
    }
   ],
   "source": [
    "dataSet.head()"
   ]
  },
  {
   "cell_type": "code",
   "execution_count": 54,
   "id": "4f29e74a-9274-4381-9c39-13b58724e58c",
   "metadata": {},
   "outputs": [
    {
     "data": {
      "text/html": [
       "<div>\n",
       "<style scoped>\n",
       "    .dataframe tbody tr th:only-of-type {\n",
       "        vertical-align: middle;\n",
       "    }\n",
       "\n",
       "    .dataframe tbody tr th {\n",
       "        vertical-align: top;\n",
       "    }\n",
       "\n",
       "    .dataframe thead th {\n",
       "        text-align: right;\n",
       "    }\n",
       "</style>\n",
       "<table border=\"1\" class=\"dataframe\">\n",
       "  <thead>\n",
       "    <tr style=\"text-align: right;\">\n",
       "      <th></th>\n",
       "      <th>student</th>\n",
       "      <th>marks</th>\n",
       "      <th>ranks</th>\n",
       "    </tr>\n",
       "  </thead>\n",
       "  <tbody>\n",
       "    <tr>\n",
       "      <th>rowA</th>\n",
       "      <td>revanth</td>\n",
       "      <td>90</td>\n",
       "      <td>1</td>\n",
       "    </tr>\n",
       "    <tr>\n",
       "      <th>rowB</th>\n",
       "      <td>kumar</td>\n",
       "      <td>35</td>\n",
       "      <td>2</td>\n",
       "    </tr>\n",
       "    <tr>\n",
       "      <th>rowC</th>\n",
       "      <td>jeya</td>\n",
       "      <td>100</td>\n",
       "      <td>3</td>\n",
       "    </tr>\n",
       "  </tbody>\n",
       "</table>\n",
       "</div>"
      ],
      "text/plain": [
       "      student  marks  ranks\n",
       "rowA  revanth     90      1\n",
       "rowB    kumar     35      2\n",
       "rowC     jeya    100      3"
      ]
     },
     "execution_count": 54,
     "metadata": {},
     "output_type": "execute_result"
    }
   ],
   "source": [
    "dataSet.tail()"
   ]
  },
  {
   "cell_type": "markdown",
   "id": "02d7ac0d-ca88-4303-b240-feab22c52d03",
   "metadata": {},
   "source": [
    "# Join pandas DataFrame \n",
    "<p>we can easily to join the pandas dataframe using the join() method. this will join the columns of the two different dataframes. </p>"
   ]
  },
  {
   "cell_type": "code",
   "execution_count": 55,
   "id": "71721d20-9cf6-4af9-916b-5295a44b2538",
   "metadata": {},
   "outputs": [],
   "source": [
    "dataOne = [\n",
    "    {'student':'revanth', 'age':24, 'marks':98},\n",
    "    {'student':'kumar', 'age':23, 'marks':80},\n",
    "    {'student':'jeya', 'age':22, 'marks':100},\n",
    "]\n",
    "dataTwo = [\n",
    "    {'rank':1, 'dep':'mscIT'},\n",
    "    {'rank':2, 'dep':'bca'},\n",
    "    {'rank':3, 'dep':'mscBio'},\n",
    "]\n",
    "dataSetOne = pd.DataFrame(dataOne, index=['rowA', 'rowB', 'rowC'])\n",
    "dataSetTwo = pd.DataFrame(dataTwo, index=['rowA', 'rowB', 'rowC'])"
   ]
  },
  {
   "cell_type": "code",
   "execution_count": 56,
   "id": "1c5d4527-c592-430e-ad80-a0f2391c7bc4",
   "metadata": {},
   "outputs": [
    {
     "data": {
      "text/html": [
       "<div>\n",
       "<style scoped>\n",
       "    .dataframe tbody tr th:only-of-type {\n",
       "        vertical-align: middle;\n",
       "    }\n",
       "\n",
       "    .dataframe tbody tr th {\n",
       "        vertical-align: top;\n",
       "    }\n",
       "\n",
       "    .dataframe thead th {\n",
       "        text-align: right;\n",
       "    }\n",
       "</style>\n",
       "<table border=\"1\" class=\"dataframe\">\n",
       "  <thead>\n",
       "    <tr style=\"text-align: right;\">\n",
       "      <th></th>\n",
       "      <th>student</th>\n",
       "      <th>age</th>\n",
       "      <th>marks</th>\n",
       "    </tr>\n",
       "  </thead>\n",
       "  <tbody>\n",
       "    <tr>\n",
       "      <th>rowA</th>\n",
       "      <td>revanth</td>\n",
       "      <td>24</td>\n",
       "      <td>98</td>\n",
       "    </tr>\n",
       "    <tr>\n",
       "      <th>rowB</th>\n",
       "      <td>kumar</td>\n",
       "      <td>23</td>\n",
       "      <td>80</td>\n",
       "    </tr>\n",
       "    <tr>\n",
       "      <th>rowC</th>\n",
       "      <td>jeya</td>\n",
       "      <td>22</td>\n",
       "      <td>100</td>\n",
       "    </tr>\n",
       "  </tbody>\n",
       "</table>\n",
       "</div>"
      ],
      "text/plain": [
       "      student  age  marks\n",
       "rowA  revanth   24     98\n",
       "rowB    kumar   23     80\n",
       "rowC     jeya   22    100"
      ]
     },
     "execution_count": 56,
     "metadata": {},
     "output_type": "execute_result"
    }
   ],
   "source": [
    "dataSetOne"
   ]
  },
  {
   "cell_type": "code",
   "execution_count": 57,
   "id": "5d49d86e-4c60-44d6-b3ce-0959dcabf911",
   "metadata": {},
   "outputs": [
    {
     "data": {
      "text/html": [
       "<div>\n",
       "<style scoped>\n",
       "    .dataframe tbody tr th:only-of-type {\n",
       "        vertical-align: middle;\n",
       "    }\n",
       "\n",
       "    .dataframe tbody tr th {\n",
       "        vertical-align: top;\n",
       "    }\n",
       "\n",
       "    .dataframe thead th {\n",
       "        text-align: right;\n",
       "    }\n",
       "</style>\n",
       "<table border=\"1\" class=\"dataframe\">\n",
       "  <thead>\n",
       "    <tr style=\"text-align: right;\">\n",
       "      <th></th>\n",
       "      <th>rank</th>\n",
       "      <th>dep</th>\n",
       "    </tr>\n",
       "  </thead>\n",
       "  <tbody>\n",
       "    <tr>\n",
       "      <th>rowA</th>\n",
       "      <td>1</td>\n",
       "      <td>mscIT</td>\n",
       "    </tr>\n",
       "    <tr>\n",
       "      <th>rowB</th>\n",
       "      <td>2</td>\n",
       "      <td>bca</td>\n",
       "    </tr>\n",
       "    <tr>\n",
       "      <th>rowC</th>\n",
       "      <td>3</td>\n",
       "      <td>mscBio</td>\n",
       "    </tr>\n",
       "  </tbody>\n",
       "</table>\n",
       "</div>"
      ],
      "text/plain": [
       "      rank     dep\n",
       "rowA     1   mscIT\n",
       "rowB     2     bca\n",
       "rowC     3  mscBio"
      ]
     },
     "execution_count": 57,
     "metadata": {},
     "output_type": "execute_result"
    }
   ],
   "source": [
    "dataSetTwo"
   ]
  },
  {
   "cell_type": "code",
   "execution_count": 58,
   "id": "9610eecc-3c60-472e-864b-7b007c6677f8",
   "metadata": {},
   "outputs": [],
   "source": [
    "# Join method  \n",
    "result = dataSetOne.join(dataSetTwo)"
   ]
  },
  {
   "cell_type": "code",
   "execution_count": 59,
   "id": "c23067bd-8a07-4b64-97bb-589684b1be02",
   "metadata": {},
   "outputs": [
    {
     "data": {
      "text/html": [
       "<div>\n",
       "<style scoped>\n",
       "    .dataframe tbody tr th:only-of-type {\n",
       "        vertical-align: middle;\n",
       "    }\n",
       "\n",
       "    .dataframe tbody tr th {\n",
       "        vertical-align: top;\n",
       "    }\n",
       "\n",
       "    .dataframe thead th {\n",
       "        text-align: right;\n",
       "    }\n",
       "</style>\n",
       "<table border=\"1\" class=\"dataframe\">\n",
       "  <thead>\n",
       "    <tr style=\"text-align: right;\">\n",
       "      <th></th>\n",
       "      <th>student</th>\n",
       "      <th>age</th>\n",
       "      <th>marks</th>\n",
       "      <th>rank</th>\n",
       "      <th>dep</th>\n",
       "    </tr>\n",
       "  </thead>\n",
       "  <tbody>\n",
       "    <tr>\n",
       "      <th>rowA</th>\n",
       "      <td>revanth</td>\n",
       "      <td>24</td>\n",
       "      <td>98</td>\n",
       "      <td>1</td>\n",
       "      <td>mscIT</td>\n",
       "    </tr>\n",
       "    <tr>\n",
       "      <th>rowB</th>\n",
       "      <td>kumar</td>\n",
       "      <td>23</td>\n",
       "      <td>80</td>\n",
       "      <td>2</td>\n",
       "      <td>bca</td>\n",
       "    </tr>\n",
       "    <tr>\n",
       "      <th>rowC</th>\n",
       "      <td>jeya</td>\n",
       "      <td>22</td>\n",
       "      <td>100</td>\n",
       "      <td>3</td>\n",
       "      <td>mscBio</td>\n",
       "    </tr>\n",
       "  </tbody>\n",
       "</table>\n",
       "</div>"
      ],
      "text/plain": [
       "      student  age  marks  rank     dep\n",
       "rowA  revanth   24     98     1   mscIT\n",
       "rowB    kumar   23     80     2     bca\n",
       "rowC     jeya   22    100     3  mscBio"
      ]
     },
     "execution_count": 59,
     "metadata": {},
     "output_type": "execute_result"
    }
   ],
   "source": [
    "result"
   ]
  },
  {
   "cell_type": "markdown",
   "id": "3f3263ce-9c53-4f8b-861a-2468bc7e17f2",
   "metadata": {},
   "source": [
    "# CONCATENATE PANDAS DATAFRAME "
   ]
  },
  {
   "cell_type": "code",
   "execution_count": 60,
   "id": "da609a6b-3264-405f-a435-bdc37119c9f3",
   "metadata": {},
   "outputs": [],
   "source": [
    "dataOne = [\n",
    "    ['revanth', '34', '98'],\n",
    "    ['kumar', '45', 90],\n",
    "]\n",
    "\n",
    "dataTwo = [\n",
    "    ['jeya', '15', '100'],\n",
    "    ['bharathi', '02', '89']\n",
    "]\n",
    "dataSetOne = pd.DataFrame(dataOne, columns=['Name', 'id', 'marks'])\n",
    "dataSetTwo = pd.DataFrame(dataTwo, columns=['Name', 'id', 'marks'])"
   ]
  },
  {
   "cell_type": "code",
   "execution_count": 61,
   "id": "25f8a038-67d9-4ac7-bc2a-089981d48e6e",
   "metadata": {},
   "outputs": [
    {
     "data": {
      "text/html": [
       "<div>\n",
       "<style scoped>\n",
       "    .dataframe tbody tr th:only-of-type {\n",
       "        vertical-align: middle;\n",
       "    }\n",
       "\n",
       "    .dataframe tbody tr th {\n",
       "        vertical-align: top;\n",
       "    }\n",
       "\n",
       "    .dataframe thead th {\n",
       "        text-align: right;\n",
       "    }\n",
       "</style>\n",
       "<table border=\"1\" class=\"dataframe\">\n",
       "  <thead>\n",
       "    <tr style=\"text-align: right;\">\n",
       "      <th></th>\n",
       "      <th>Name</th>\n",
       "      <th>id</th>\n",
       "      <th>marks</th>\n",
       "    </tr>\n",
       "  </thead>\n",
       "  <tbody>\n",
       "    <tr>\n",
       "      <th>0</th>\n",
       "      <td>revanth</td>\n",
       "      <td>34</td>\n",
       "      <td>98</td>\n",
       "    </tr>\n",
       "    <tr>\n",
       "      <th>1</th>\n",
       "      <td>kumar</td>\n",
       "      <td>45</td>\n",
       "      <td>90</td>\n",
       "    </tr>\n",
       "  </tbody>\n",
       "</table>\n",
       "</div>"
      ],
      "text/plain": [
       "      Name  id marks\n",
       "0  revanth  34    98\n",
       "1    kumar  45    90"
      ]
     },
     "execution_count": 61,
     "metadata": {},
     "output_type": "execute_result"
    }
   ],
   "source": [
    "dataSetOne"
   ]
  },
  {
   "cell_type": "code",
   "execution_count": 62,
   "id": "715062ee-6230-4152-a7b9-45007cf28edd",
   "metadata": {},
   "outputs": [
    {
     "data": {
      "text/html": [
       "<div>\n",
       "<style scoped>\n",
       "    .dataframe tbody tr th:only-of-type {\n",
       "        vertical-align: middle;\n",
       "    }\n",
       "\n",
       "    .dataframe tbody tr th {\n",
       "        vertical-align: top;\n",
       "    }\n",
       "\n",
       "    .dataframe thead th {\n",
       "        text-align: right;\n",
       "    }\n",
       "</style>\n",
       "<table border=\"1\" class=\"dataframe\">\n",
       "  <thead>\n",
       "    <tr style=\"text-align: right;\">\n",
       "      <th></th>\n",
       "      <th>Name</th>\n",
       "      <th>id</th>\n",
       "      <th>marks</th>\n",
       "    </tr>\n",
       "  </thead>\n",
       "  <tbody>\n",
       "    <tr>\n",
       "      <th>0</th>\n",
       "      <td>jeya</td>\n",
       "      <td>15</td>\n",
       "      <td>100</td>\n",
       "    </tr>\n",
       "    <tr>\n",
       "      <th>1</th>\n",
       "      <td>bharathi</td>\n",
       "      <td>02</td>\n",
       "      <td>89</td>\n",
       "    </tr>\n",
       "  </tbody>\n",
       "</table>\n",
       "</div>"
      ],
      "text/plain": [
       "       Name  id marks\n",
       "0      jeya  15   100\n",
       "1  bharathi  02    89"
      ]
     },
     "execution_count": 62,
     "metadata": {},
     "output_type": "execute_result"
    }
   ],
   "source": [
    "dataSetTwo"
   ]
  },
  {
   "cell_type": "code",
   "execution_count": 63,
   "id": "3d1da6ad-b56d-40dd-bb1d-2464d208f244",
   "metadata": {},
   "outputs": [],
   "source": [
    "result = pd.concat([dataSetOne, dataSetTwo], ignore_index=True)"
   ]
  },
  {
   "cell_type": "code",
   "execution_count": 64,
   "id": "236fa8c8-6e6c-4c1c-8b7f-b748178e0653",
   "metadata": {},
   "outputs": [
    {
     "data": {
      "text/html": [
       "<div>\n",
       "<style scoped>\n",
       "    .dataframe tbody tr th:only-of-type {\n",
       "        vertical-align: middle;\n",
       "    }\n",
       "\n",
       "    .dataframe tbody tr th {\n",
       "        vertical-align: top;\n",
       "    }\n",
       "\n",
       "    .dataframe thead th {\n",
       "        text-align: right;\n",
       "    }\n",
       "</style>\n",
       "<table border=\"1\" class=\"dataframe\">\n",
       "  <thead>\n",
       "    <tr style=\"text-align: right;\">\n",
       "      <th></th>\n",
       "      <th>Name</th>\n",
       "      <th>id</th>\n",
       "      <th>marks</th>\n",
       "    </tr>\n",
       "  </thead>\n",
       "  <tbody>\n",
       "    <tr>\n",
       "      <th>0</th>\n",
       "      <td>revanth</td>\n",
       "      <td>34</td>\n",
       "      <td>98</td>\n",
       "    </tr>\n",
       "    <tr>\n",
       "      <th>1</th>\n",
       "      <td>kumar</td>\n",
       "      <td>45</td>\n",
       "      <td>90</td>\n",
       "    </tr>\n",
       "    <tr>\n",
       "      <th>2</th>\n",
       "      <td>jeya</td>\n",
       "      <td>15</td>\n",
       "      <td>100</td>\n",
       "    </tr>\n",
       "    <tr>\n",
       "      <th>3</th>\n",
       "      <td>bharathi</td>\n",
       "      <td>02</td>\n",
       "      <td>89</td>\n",
       "    </tr>\n",
       "  </tbody>\n",
       "</table>\n",
       "</div>"
      ],
      "text/plain": [
       "       Name  id marks\n",
       "0   revanth  34    98\n",
       "1     kumar  45    90\n",
       "2      jeya  15   100\n",
       "3  bharathi  02    89"
      ]
     },
     "execution_count": 64,
     "metadata": {},
     "output_type": "execute_result"
    }
   ],
   "source": [
    "result"
   ]
  },
  {
   "cell_type": "code",
   "execution_count": 65,
   "id": "24115662-9d46-465c-9de5-5494e0a54199",
   "metadata": {},
   "outputs": [
    {
     "data": {
      "text/plain": [
       "(4, 3)"
      ]
     },
     "execution_count": 65,
     "metadata": {},
     "output_type": "execute_result"
    }
   ],
   "source": [
    "result.shape"
   ]
  },
  {
   "cell_type": "markdown",
   "id": "a84ca849-1ebe-4c4f-935d-9df798b74a70",
   "metadata": {},
   "source": [
    "# Series in pandas \n",
    "<div>\n",
    "    <p>Series in Pandas is a one-dimensional array. like a column in a table. It is a labeled array that can hold data of any type. The Series() method is used for this and has the following parameters</p>\n",
    "    <ul>\n",
    "        <li>data: The data to be stored in the pandas in series</li>\n",
    "        <li>index: The index values should have the same length as the data.</li>\n",
    "        <li>dtype: It is the datatype for the output Series.</li>\n",
    "        <li>name: Set the series name with the name parameter</li>\n",
    "        <li>copy: To copy the input data</li>\n",
    "    </ul>\n",
    "</div>"
   ]
  },
  {
   "cell_type": "code",
   "execution_count": 66,
   "id": "79ca3ab3-07cc-41da-88c4-09262f6718b9",
   "metadata": {},
   "outputs": [
    {
     "data": {
      "text/plain": [
       "array([10, 20, 30, 40, 50])"
      ]
     },
     "execution_count": 66,
     "metadata": {},
     "output_type": "execute_result"
    }
   ],
   "source": [
    "import numpy as np \n",
    "data = np.arange(1,5+1) * 10\n",
    "data"
   ]
  },
  {
   "cell_type": "code",
   "execution_count": 67,
   "id": "ea690551-f0a1-43fa-b7b4-95911e42144e",
   "metadata": {},
   "outputs": [
    {
     "data": {
      "text/plain": [
       "rowA    10\n",
       "rowB    20\n",
       "rowC    30\n",
       "rowD    40\n",
       "rowE    50\n",
       "dtype: int32"
      ]
     },
     "execution_count": 67,
     "metadata": {},
     "output_type": "execute_result"
    }
   ],
   "source": [
    "# create series \n",
    "seriesData = pd.Series(data, index=['rowA', 'rowB', 'rowC', 'rowD', 'rowE'])\n",
    "seriesData"
   ]
  },
  {
   "cell_type": "code",
   "execution_count": 68,
   "id": "5f2534b0-befb-44e7-b336-9cd3e2635a59",
   "metadata": {},
   "outputs": [
    {
     "data": {
      "text/plain": [
       "30"
      ]
     },
     "execution_count": 68,
     "metadata": {},
     "output_type": "execute_result"
    }
   ],
   "source": [
    "# index \n",
    "seriesData[2]"
   ]
  },
  {
   "cell_type": "code",
   "execution_count": 69,
   "id": "8d067502-3714-4427-aa63-d2324b0a8a38",
   "metadata": {},
   "outputs": [
    {
     "data": {
      "text/plain": [
       "10"
      ]
     },
     "execution_count": 69,
     "metadata": {},
     "output_type": "execute_result"
    }
   ],
   "source": [
    "seriesData['rowA']"
   ]
  },
  {
   "cell_type": "code",
   "execution_count": 70,
   "id": "0c35550e-8106-47e5-b7e5-3be4165ec7c5",
   "metadata": {},
   "outputs": [],
   "source": [
    "seriesData['rowA'] = 2024"
   ]
  },
  {
   "cell_type": "code",
   "execution_count": 71,
   "id": "7a1b6356-2355-4cd9-9e38-39e6907895ff",
   "metadata": {},
   "outputs": [
    {
     "data": {
      "text/plain": [
       "rowA    2024\n",
       "rowB      20\n",
       "rowC      30\n",
       "rowD      40\n",
       "rowE      50\n",
       "dtype: int32"
      ]
     },
     "execution_count": 71,
     "metadata": {},
     "output_type": "execute_result"
    }
   ],
   "source": [
    "seriesData"
   ]
  },
  {
   "cell_type": "markdown",
   "id": "21cb7e67-ee82-4c71-9f23-e7597091c28c",
   "metadata": {},
   "source": [
    "# Series Attributes "
   ]
  },
  {
   "cell_type": "code",
   "execution_count": 72,
   "id": "63d4cff0-169b-45a9-84ee-c339ef08eb25",
   "metadata": {},
   "outputs": [
    {
     "data": {
      "text/plain": [
       "array([10, 20, 30, 40, 50])"
      ]
     },
     "execution_count": 72,
     "metadata": {},
     "output_type": "execute_result"
    }
   ],
   "source": [
    "data = np.arange(1, 5+1) * 10\n",
    "data"
   ]
  },
  {
   "cell_type": "code",
   "execution_count": 73,
   "id": "cf7469e4-4ebb-4db2-81f9-5379fad7c8f5",
   "metadata": {},
   "outputs": [
    {
     "data": {
      "text/plain": [
       "0    10\n",
       "1    20\n",
       "2    30\n",
       "3    40\n",
       "4    50\n",
       "dtype: int32"
      ]
     },
     "execution_count": 73,
     "metadata": {},
     "output_type": "execute_result"
    }
   ],
   "source": [
    "seriesData = pd.Series(data) \n",
    "seriesData"
   ]
  },
  {
   "cell_type": "code",
   "execution_count": 74,
   "id": "3416e54e-e8e9-4f0d-b3fc-4940bf109e40",
   "metadata": {},
   "outputs": [
    {
     "data": {
      "text/plain": [
       "dtype('int32')"
      ]
     },
     "execution_count": 74,
     "metadata": {},
     "output_type": "execute_result"
    }
   ],
   "source": [
    "seriesData.dtype"
   ]
  },
  {
   "cell_type": "code",
   "execution_count": 75,
   "id": "5a4b2565-343e-42dd-a073-b7e217a68d14",
   "metadata": {},
   "outputs": [
    {
     "data": {
      "text/plain": [
       "1"
      ]
     },
     "execution_count": 75,
     "metadata": {},
     "output_type": "execute_result"
    }
   ],
   "source": [
    "seriesData.ndim"
   ]
  },
  {
   "cell_type": "code",
   "execution_count": 76,
   "id": "01e87a50-cdbf-424c-b730-cd9a635d02c1",
   "metadata": {},
   "outputs": [
    {
     "data": {
      "text/plain": [
       "5"
      ]
     },
     "execution_count": 76,
     "metadata": {},
     "output_type": "execute_result"
    }
   ],
   "source": [
    "seriesData.size"
   ]
  },
  {
   "cell_type": "code",
   "execution_count": 77,
   "id": "18a320cd-cc00-4840-8bd0-000233dd30ef",
   "metadata": {},
   "outputs": [
    {
     "data": {
      "text/plain": [
       "(5,)"
      ]
     },
     "execution_count": 77,
     "metadata": {},
     "output_type": "execute_result"
    }
   ],
   "source": [
    "seriesData.shape"
   ]
  },
  {
   "cell_type": "code",
   "execution_count": 78,
   "id": "81b05012-551f-4d00-93f3-e59ac01c4684",
   "metadata": {},
   "outputs": [
    {
     "data": {
      "text/plain": [
       "0    10\n",
       "1    20\n",
       "2    30\n",
       "3    40\n",
       "4    50\n",
       "Name: range numbers, dtype: int32"
      ]
     },
     "execution_count": 78,
     "metadata": {},
     "output_type": "execute_result"
    }
   ],
   "source": [
    "seriesData.name = \"range numbers\"\n",
    "seriesData"
   ]
  },
  {
   "cell_type": "code",
   "execution_count": 79,
   "id": "b3b37783-17a3-43ec-8afa-8fe5306601b6",
   "metadata": {},
   "outputs": [
    {
     "data": {
      "text/plain": [
       "'range numbers'"
      ]
     },
     "execution_count": 79,
     "metadata": {},
     "output_type": "execute_result"
    }
   ],
   "source": [
    "seriesData.name"
   ]
  },
  {
   "cell_type": "code",
   "execution_count": 80,
   "id": "6cf68760-639e-417d-96be-78576ae37c59",
   "metadata": {},
   "outputs": [
    {
     "data": {
      "text/plain": [
       "False"
      ]
     },
     "execution_count": 80,
     "metadata": {},
     "output_type": "execute_result"
    }
   ],
   "source": [
    "# The pandas.series.hasnans have a nan value to check it returns the True or False\n",
    "\n",
    "# the nan values present means True others wise False\n",
    "\n",
    "seriesData.hasnans"
   ]
  },
  {
   "cell_type": "code",
   "execution_count": 81,
   "id": "e8b0ca46-8bb8-4ade-8265-4d76eea62c75",
   "metadata": {},
   "outputs": [],
   "source": [
    "seriesData[0] = np.nan"
   ]
  },
  {
   "cell_type": "code",
   "execution_count": 82,
   "id": "75fe2560-f46b-4b53-9c2c-785a172eed8d",
   "metadata": {},
   "outputs": [
    {
     "data": {
      "text/plain": [
       "0     NaN\n",
       "1    20.0\n",
       "2    30.0\n",
       "3    40.0\n",
       "4    50.0\n",
       "Name: range numbers, dtype: float64"
      ]
     },
     "execution_count": 82,
     "metadata": {},
     "output_type": "execute_result"
    }
   ],
   "source": [
    "seriesData"
   ]
  },
  {
   "cell_type": "code",
   "execution_count": 83,
   "id": "92c68560-2699-4710-90ba-c22a9796f713",
   "metadata": {},
   "outputs": [
    {
     "data": {
      "text/plain": [
       "True"
      ]
     },
     "execution_count": 83,
     "metadata": {},
     "output_type": "execute_result"
    }
   ],
   "source": [
    "seriesData.hasnans"
   ]
  },
  {
   "cell_type": "code",
   "execution_count": 84,
   "id": "82601d08-b330-4c29-a5b4-0d34350030d3",
   "metadata": {},
   "outputs": [
    {
     "data": {
      "text/plain": [
       "rowA    10\n",
       "rowB    20\n",
       "rowC    30\n",
       "dtype: int32"
      ]
     },
     "execution_count": 84,
     "metadata": {},
     "output_type": "execute_result"
    }
   ],
   "source": [
    "# index \n",
    "seriesDataTwo = pd.Series((np.arange(1, 3+1) * 10), index=['rowA', 'rowB', 'rowC'])\n",
    "seriesDataTwo"
   ]
  },
  {
   "cell_type": "code",
   "execution_count": 85,
   "id": "ab0329e1-bca0-4b4d-96a7-ae08ee6b03c6",
   "metadata": {},
   "outputs": [
    {
     "data": {
      "text/plain": [
       "0     NaN\n",
       "1    20.0\n",
       "Name: range numbers, dtype: float64"
      ]
     },
     "execution_count": 85,
     "metadata": {},
     "output_type": "execute_result"
    }
   ],
   "source": [
    "# head\n",
    "seriesData.head(2)"
   ]
  },
  {
   "cell_type": "code",
   "execution_count": 86,
   "id": "96c59d7b-4c45-4fa7-9439-421da3c341ad",
   "metadata": {},
   "outputs": [
    {
     "data": {
      "text/plain": [
       "3    40.0\n",
       "4    50.0\n",
       "Name: range numbers, dtype: float64"
      ]
     },
     "execution_count": 86,
     "metadata": {},
     "output_type": "execute_result"
    }
   ],
   "source": [
    "# tail\n",
    "seriesData.tail(2)"
   ]
  },
  {
   "cell_type": "code",
   "execution_count": 87,
   "id": "d835203a-af3c-436e-99e0-d45ed0459216",
   "metadata": {},
   "outputs": [
    {
     "name": "stdout",
     "output_type": "stream",
     "text": [
      "<class 'pandas.core.series.Series'>\n",
      "RangeIndex: 5 entries, 0 to 4\n",
      "Series name: range numbers\n",
      "Non-Null Count  Dtype  \n",
      "--------------  -----  \n",
      "4 non-null      float64\n",
      "dtypes: float64(1)\n",
      "memory usage: 168.0 bytes\n"
     ]
    }
   ],
   "source": [
    "seriesData.info()"
   ]
  },
  {
   "cell_type": "code",
   "execution_count": 88,
   "id": "f25ab89f-c5a5-4bd2-b4e2-54fd4905e219",
   "metadata": {},
   "outputs": [],
   "source": [
    "data = ['one', 2, 'three', 4, 9.0]\n",
    "seriesDataThree = pd.Series(data)"
   ]
  },
  {
   "cell_type": "code",
   "execution_count": 89,
   "id": "eab89dc6-55f1-4ee3-9e29-eaa0d0cafcff",
   "metadata": {},
   "outputs": [
    {
     "data": {
      "text/plain": [
       "0      one\n",
       "1        2\n",
       "2    three\n",
       "3        4\n",
       "4      9.0\n",
       "dtype: object"
      ]
     },
     "execution_count": 89,
     "metadata": {},
     "output_type": "execute_result"
    }
   ],
   "source": [
    "seriesDataThree"
   ]
  },
  {
   "cell_type": "code",
   "execution_count": 90,
   "id": "56e6380c-2c18-47ed-a875-65e8900bee0d",
   "metadata": {},
   "outputs": [
    {
     "name": "stdout",
     "output_type": "stream",
     "text": [
      "<class 'pandas.core.series.Series'>\n",
      "RangeIndex: 5 entries, 0 to 4\n",
      "Series name: None\n",
      "Non-Null Count  Dtype \n",
      "--------------  ----- \n",
      "5 non-null      object\n",
      "dtypes: object(1)\n",
      "memory usage: 168.0+ bytes\n"
     ]
    }
   ],
   "source": [
    "seriesDataThree.info()"
   ]
  },
  {
   "cell_type": "markdown",
   "id": "fb8a7e3e-8c45-46bb-98cc-35476ccac6dd",
   "metadata": {},
   "source": [
    "# combine two pandas series "
   ]
  },
  {
   "cell_type": "code",
   "execution_count": 91,
   "id": "e28ba966-3bbc-4743-8770-b78c8532cea7",
   "metadata": {},
   "outputs": [],
   "source": [
    "data1 = np.arange(5) * 10 \n",
    "data2 = np.arange(6, 10) * 2"
   ]
  },
  {
   "cell_type": "code",
   "execution_count": 92,
   "id": "ddca2921-a050-4a7b-a179-206dbf625788",
   "metadata": {},
   "outputs": [],
   "source": [
    "seriesDataOne = pd.Series(data1)\n",
    "seriesDataTwo = pd.Series(data2)"
   ]
  },
  {
   "cell_type": "code",
   "execution_count": 93,
   "id": "faa89b2a-add7-4e28-9b81-36ef458cf90d",
   "metadata": {},
   "outputs": [
    {
     "data": {
      "text/plain": [
       "0     0\n",
       "1    10\n",
       "2    20\n",
       "3    30\n",
       "4    40\n",
       "dtype: int32"
      ]
     },
     "execution_count": 93,
     "metadata": {},
     "output_type": "execute_result"
    }
   ],
   "source": [
    "seriesDataOne"
   ]
  },
  {
   "cell_type": "code",
   "execution_count": 94,
   "id": "9bfed496-3b64-4eed-aecb-f3cbd24b9873",
   "metadata": {},
   "outputs": [
    {
     "data": {
      "text/plain": [
       "0    12\n",
       "1    14\n",
       "2    16\n",
       "3    18\n",
       "dtype: int32"
      ]
     },
     "execution_count": 94,
     "metadata": {},
     "output_type": "execute_result"
    }
   ],
   "source": [
    "seriesDataTwo"
   ]
  },
  {
   "cell_type": "code",
   "execution_count": 95,
   "id": "633f9bb1-9a9e-4cf0-971a-940202b0d9fb",
   "metadata": {},
   "outputs": [],
   "source": [
    "def demo(x1, x2): \n",
    "    if (x1 > x2): \n",
    "        return x1\n",
    "    else: \n",
    "        return x2 "
   ]
  },
  {
   "cell_type": "code",
   "execution_count": 96,
   "id": "879b34a0-cfe4-4484-80e0-223dc4c57d74",
   "metadata": {},
   "outputs": [
    {
     "data": {
      "text/plain": [
       "0    12.0\n",
       "1    14.0\n",
       "2    20.0\n",
       "3    30.0\n",
       "4     NaN\n",
       "dtype: float64"
      ]
     },
     "execution_count": 96,
     "metadata": {},
     "output_type": "execute_result"
    }
   ],
   "source": [
    "# it combine both series then only take largest values \n",
    "seriesDataOne.combine(seriesDataTwo, demo)"
   ]
  },
  {
   "cell_type": "markdown",
   "id": "0e1a01db-7e5a-4388-ac74-b53f3410f49c",
   "metadata": {},
   "source": [
    "# Categorical Data "
   ]
  },
  {
   "cell_type": "code",
   "execution_count": 97,
   "id": "c0b70d66-70be-4dd3-a1c8-6b2b0f0498d0",
   "metadata": {},
   "outputs": [],
   "source": [
    "seriesData = pd.Series(['a','e','i','o','u'], dtype=\"category\")"
   ]
  },
  {
   "cell_type": "code",
   "execution_count": 98,
   "id": "0c4b01dd-8367-433b-9973-d87c452824be",
   "metadata": {},
   "outputs": [
    {
     "data": {
      "text/plain": [
       "0    a\n",
       "1    e\n",
       "2    i\n",
       "3    o\n",
       "4    u\n",
       "dtype: category\n",
       "Categories (5, object): ['a', 'e', 'i', 'o', 'u']"
      ]
     },
     "execution_count": 98,
     "metadata": {},
     "output_type": "execute_result"
    }
   ],
   "source": [
    "seriesData"
   ]
  },
  {
   "cell_type": "code",
   "execution_count": 99,
   "id": "de8e05b1-984c-4edd-9f51-44de6c741a8b",
   "metadata": {},
   "outputs": [
    {
     "data": {
      "text/html": [
       "<div>\n",
       "<style scoped>\n",
       "    .dataframe tbody tr th:only-of-type {\n",
       "        vertical-align: middle;\n",
       "    }\n",
       "\n",
       "    .dataframe tbody tr th {\n",
       "        vertical-align: top;\n",
       "    }\n",
       "\n",
       "    .dataframe thead th {\n",
       "        text-align: right;\n",
       "    }\n",
       "</style>\n",
       "<table border=\"1\" class=\"dataframe\">\n",
       "  <thead>\n",
       "    <tr style=\"text-align: right;\">\n",
       "      <th></th>\n",
       "      <th>cat1</th>\n",
       "      <th>cat2</th>\n",
       "      <th>cat3</th>\n",
       "    </tr>\n",
       "  </thead>\n",
       "  <tbody>\n",
       "    <tr>\n",
       "      <th>0</th>\n",
       "      <td>q</td>\n",
       "      <td>a</td>\n",
       "      <td>p</td>\n",
       "    </tr>\n",
       "    <tr>\n",
       "      <th>1</th>\n",
       "      <td>w</td>\n",
       "      <td>s</td>\n",
       "      <td>o</td>\n",
       "    </tr>\n",
       "    <tr>\n",
       "      <th>2</th>\n",
       "      <td>e</td>\n",
       "      <td>d</td>\n",
       "      <td>u</td>\n",
       "    </tr>\n",
       "    <tr>\n",
       "      <th>3</th>\n",
       "      <td>r</td>\n",
       "      <td>f</td>\n",
       "      <td>n</td>\n",
       "    </tr>\n",
       "  </tbody>\n",
       "</table>\n",
       "</div>"
      ],
      "text/plain": [
       "  cat1 cat2 cat3\n",
       "0    q    a    p\n",
       "1    w    s    o\n",
       "2    e    d    u\n",
       "3    r    f    n"
      ]
     },
     "execution_count": 99,
     "metadata": {},
     "output_type": "execute_result"
    }
   ],
   "source": [
    "dataFrameCategory = pd.DataFrame({\n",
    "    \"cat1\":list('qwer'), \n",
    "    \"cat2\":list('asdf'),\n",
    "    \"cat3\":list('poun')\n",
    "})\n",
    "dataFrameCategory"
   ]
  },
  {
   "cell_type": "markdown",
   "id": "052f3069-eadc-449b-b4f9-f176edb6375f",
   "metadata": {},
   "source": [
    "# working with category "
   ]
  },
  {
   "cell_type": "code",
   "execution_count": 100,
   "id": "16fefd63-ee3d-4c33-a07f-1922afda61d5",
   "metadata": {},
   "outputs": [
    {
     "data": {
      "text/plain": [
       "0    a\n",
       "1    e\n",
       "2    i\n",
       "3    o\n",
       "4    u\n",
       "dtype: category\n",
       "Categories (5, object): ['a', 'e', 'i', 'o', 'u']"
      ]
     },
     "execution_count": 100,
     "metadata": {},
     "output_type": "execute_result"
    }
   ],
   "source": [
    "seriesData = pd.Series(list('aeiou'), dtype=\"category\")\n",
    "seriesData"
   ]
  },
  {
   "cell_type": "code",
   "execution_count": 101,
   "id": "3abf44e3-120b-4434-9394-e974ace707a5",
   "metadata": {},
   "outputs": [],
   "source": [
    "# add the data \n",
    "seriesData = seriesData.cat.add_categories('ae')"
   ]
  },
  {
   "cell_type": "code",
   "execution_count": 102,
   "id": "32b55cfc-b7fc-479c-a517-3f5dab9b22f9",
   "metadata": {},
   "outputs": [
    {
     "data": {
      "text/plain": [
       "0    a\n",
       "1    e\n",
       "2    i\n",
       "3    o\n",
       "4    u\n",
       "dtype: category\n",
       "Categories (6, object): ['a', 'e', 'i', 'o', 'u', 'ae']"
      ]
     },
     "execution_count": 102,
     "metadata": {},
     "output_type": "execute_result"
    }
   ],
   "source": [
    "seriesData"
   ]
  },
  {
   "cell_type": "code",
   "execution_count": 103,
   "id": "b8ffbf8a-3947-479f-8bd4-3cb0dab04620",
   "metadata": {},
   "outputs": [],
   "source": [
    "# remove the data \n",
    "seriesData = seriesData.cat.remove_categories('a')"
   ]
  },
  {
   "cell_type": "code",
   "execution_count": 104,
   "id": "ff4e453c-f08c-4cae-84cf-c542d8325b59",
   "metadata": {},
   "outputs": [
    {
     "data": {
      "text/plain": [
       "0    NaN\n",
       "1      e\n",
       "2      i\n",
       "3      o\n",
       "4      u\n",
       "dtype: category\n",
       "Categories (5, object): ['ae', 'e', 'i', 'o', 'u']"
      ]
     },
     "execution_count": 104,
     "metadata": {},
     "output_type": "execute_result"
    }
   ],
   "source": [
    "seriesData"
   ]
  },
  {
   "cell_type": "markdown",
   "id": "9981fbcd-30d2-40c0-a01c-87835b35a839",
   "metadata": {},
   "source": [
    "# Read CSV "
   ]
  },
  {
   "cell_type": "code",
   "execution_count": 105,
   "id": "efc97d1f-879b-4ef6-83c5-0911831ad1ba",
   "metadata": {},
   "outputs": [],
   "source": [
    "dataSet = pd.read_csv('myArray.csv')"
   ]
  },
  {
   "cell_type": "code",
   "execution_count": 106,
   "id": "09ccbe5d-19c5-496d-91c7-993574a98e59",
   "metadata": {},
   "outputs": [],
   "source": [
    "dataSet.columns =  [\"a\", \"b\", \"c\", \"d\", \"e\"]"
   ]
  },
  {
   "cell_type": "code",
   "execution_count": 107,
   "id": "346a46e8-7dd1-483b-9c83-5a9a44aaf16e",
   "metadata": {},
   "outputs": [
    {
     "data": {
      "text/html": [
       "<div>\n",
       "<style scoped>\n",
       "    .dataframe tbody tr th:only-of-type {\n",
       "        vertical-align: middle;\n",
       "    }\n",
       "\n",
       "    .dataframe tbody tr th {\n",
       "        vertical-align: top;\n",
       "    }\n",
       "\n",
       "    .dataframe thead th {\n",
       "        text-align: right;\n",
       "    }\n",
       "</style>\n",
       "<table border=\"1\" class=\"dataframe\">\n",
       "  <thead>\n",
       "    <tr style=\"text-align: right;\">\n",
       "      <th></th>\n",
       "      <th>a</th>\n",
       "      <th>b</th>\n",
       "      <th>c</th>\n",
       "      <th>d</th>\n",
       "      <th>e</th>\n",
       "    </tr>\n",
       "  </thead>\n",
       "  <tbody>\n",
       "    <tr>\n",
       "      <th>0</th>\n",
       "      <td>6.0</td>\n",
       "      <td>7.0</td>\n",
       "      <td>8.0</td>\n",
       "      <td>9.0</td>\n",
       "      <td>10.0</td>\n",
       "    </tr>\n",
       "    <tr>\n",
       "      <th>1</th>\n",
       "      <td>11.0</td>\n",
       "      <td>12.0</td>\n",
       "      <td>13.0</td>\n",
       "      <td>14.0</td>\n",
       "      <td>15.0</td>\n",
       "    </tr>\n",
       "    <tr>\n",
       "      <th>2</th>\n",
       "      <td>16.0</td>\n",
       "      <td>17.0</td>\n",
       "      <td>18.0</td>\n",
       "      <td>19.0</td>\n",
       "      <td>20.0</td>\n",
       "    </tr>\n",
       "  </tbody>\n",
       "</table>\n",
       "</div>"
      ],
      "text/plain": [
       "      a     b     c     d     e\n",
       "0   6.0   7.0   8.0   9.0  10.0\n",
       "1  11.0  12.0  13.0  14.0  15.0\n",
       "2  16.0  17.0  18.0  19.0  20.0"
      ]
     },
     "execution_count": 107,
     "metadata": {},
     "output_type": "execute_result"
    }
   ],
   "source": [
    "dataSet"
   ]
  },
  {
   "cell_type": "code",
   "execution_count": 108,
   "id": "0eefa184-1aa8-4556-a94a-a59ebcda6fb6",
   "metadata": {},
   "outputs": [
    {
     "data": {
      "text/html": [
       "<div>\n",
       "<style scoped>\n",
       "    .dataframe tbody tr th:only-of-type {\n",
       "        vertical-align: middle;\n",
       "    }\n",
       "\n",
       "    .dataframe tbody tr th {\n",
       "        vertical-align: top;\n",
       "    }\n",
       "\n",
       "    .dataframe thead th {\n",
       "        text-align: right;\n",
       "    }\n",
       "</style>\n",
       "<table border=\"1\" class=\"dataframe\">\n",
       "  <thead>\n",
       "    <tr style=\"text-align: right;\">\n",
       "      <th></th>\n",
       "      <th>a</th>\n",
       "      <th>b</th>\n",
       "      <th>c</th>\n",
       "      <th>d</th>\n",
       "      <th>e</th>\n",
       "    </tr>\n",
       "  </thead>\n",
       "  <tbody>\n",
       "    <tr>\n",
       "      <th>0</th>\n",
       "      <td>6.0</td>\n",
       "      <td>7.0</td>\n",
       "      <td>8.0</td>\n",
       "      <td>9.0</td>\n",
       "      <td>10.0</td>\n",
       "    </tr>\n",
       "    <tr>\n",
       "      <th>1</th>\n",
       "      <td>11.0</td>\n",
       "      <td>12.0</td>\n",
       "      <td>13.0</td>\n",
       "      <td>14.0</td>\n",
       "      <td>15.0</td>\n",
       "    </tr>\n",
       "  </tbody>\n",
       "</table>\n",
       "</div>"
      ],
      "text/plain": [
       "      a     b     c     d     e\n",
       "0   6.0   7.0   8.0   9.0  10.0\n",
       "1  11.0  12.0  13.0  14.0  15.0"
      ]
     },
     "execution_count": 108,
     "metadata": {},
     "output_type": "execute_result"
    }
   ],
   "source": [
    "dataSet.head(2)"
   ]
  },
  {
   "cell_type": "code",
   "execution_count": 109,
   "id": "a100152e-a851-4ceb-a711-c2a20a76c9a7",
   "metadata": {},
   "outputs": [
    {
     "data": {
      "text/html": [
       "<div>\n",
       "<style scoped>\n",
       "    .dataframe tbody tr th:only-of-type {\n",
       "        vertical-align: middle;\n",
       "    }\n",
       "\n",
       "    .dataframe tbody tr th {\n",
       "        vertical-align: top;\n",
       "    }\n",
       "\n",
       "    .dataframe thead th {\n",
       "        text-align: right;\n",
       "    }\n",
       "</style>\n",
       "<table border=\"1\" class=\"dataframe\">\n",
       "  <thead>\n",
       "    <tr style=\"text-align: right;\">\n",
       "      <th></th>\n",
       "      <th>a</th>\n",
       "      <th>b</th>\n",
       "      <th>c</th>\n",
       "      <th>d</th>\n",
       "      <th>e</th>\n",
       "    </tr>\n",
       "  </thead>\n",
       "  <tbody>\n",
       "    <tr>\n",
       "      <th>1</th>\n",
       "      <td>11.0</td>\n",
       "      <td>12.0</td>\n",
       "      <td>13.0</td>\n",
       "      <td>14.0</td>\n",
       "      <td>15.0</td>\n",
       "    </tr>\n",
       "    <tr>\n",
       "      <th>2</th>\n",
       "      <td>16.0</td>\n",
       "      <td>17.0</td>\n",
       "      <td>18.0</td>\n",
       "      <td>19.0</td>\n",
       "      <td>20.0</td>\n",
       "    </tr>\n",
       "  </tbody>\n",
       "</table>\n",
       "</div>"
      ],
      "text/plain": [
       "      a     b     c     d     e\n",
       "1  11.0  12.0  13.0  14.0  15.0\n",
       "2  16.0  17.0  18.0  19.0  20.0"
      ]
     },
     "execution_count": 109,
     "metadata": {},
     "output_type": "execute_result"
    }
   ],
   "source": [
    "dataSet.tail(2)"
   ]
  },
  {
   "cell_type": "markdown",
   "id": "8bd36321-85f9-45ce-a9cc-7bacdf2da2f5",
   "metadata": {},
   "source": [
    "# Select multiple columns "
   ]
  },
  {
   "cell_type": "code",
   "execution_count": 110,
   "id": "258d529b-370f-46f2-8999-e75f8fead2b5",
   "metadata": {},
   "outputs": [
    {
     "data": {
      "text/html": [
       "<div>\n",
       "<style scoped>\n",
       "    .dataframe tbody tr th:only-of-type {\n",
       "        vertical-align: middle;\n",
       "    }\n",
       "\n",
       "    .dataframe tbody tr th {\n",
       "        vertical-align: top;\n",
       "    }\n",
       "\n",
       "    .dataframe thead th {\n",
       "        text-align: right;\n",
       "    }\n",
       "</style>\n",
       "<table border=\"1\" class=\"dataframe\">\n",
       "  <thead>\n",
       "    <tr style=\"text-align: right;\">\n",
       "      <th></th>\n",
       "      <th>a</th>\n",
       "      <th>b</th>\n",
       "    </tr>\n",
       "  </thead>\n",
       "  <tbody>\n",
       "    <tr>\n",
       "      <th>0</th>\n",
       "      <td>6.0</td>\n",
       "      <td>7.0</td>\n",
       "    </tr>\n",
       "    <tr>\n",
       "      <th>1</th>\n",
       "      <td>11.0</td>\n",
       "      <td>12.0</td>\n",
       "    </tr>\n",
       "    <tr>\n",
       "      <th>2</th>\n",
       "      <td>16.0</td>\n",
       "      <td>17.0</td>\n",
       "    </tr>\n",
       "  </tbody>\n",
       "</table>\n",
       "</div>"
      ],
      "text/plain": [
       "      a     b\n",
       "0   6.0   7.0\n",
       "1  11.0  12.0\n",
       "2  16.0  17.0"
      ]
     },
     "execution_count": 110,
     "metadata": {},
     "output_type": "execute_result"
    }
   ],
   "source": [
    "dataSet[['a', 'b']]"
   ]
  },
  {
   "cell_type": "code",
   "execution_count": 111,
   "id": "0f158898-c8a7-413a-b70a-85109773e2c2",
   "metadata": {},
   "outputs": [
    {
     "data": {
      "text/html": [
       "<div>\n",
       "<style scoped>\n",
       "    .dataframe tbody tr th:only-of-type {\n",
       "        vertical-align: middle;\n",
       "    }\n",
       "\n",
       "    .dataframe tbody tr th {\n",
       "        vertical-align: top;\n",
       "    }\n",
       "\n",
       "    .dataframe thead th {\n",
       "        text-align: right;\n",
       "    }\n",
       "</style>\n",
       "<table border=\"1\" class=\"dataframe\">\n",
       "  <thead>\n",
       "    <tr style=\"text-align: right;\">\n",
       "      <th></th>\n",
       "      <th>a</th>\n",
       "      <th>b</th>\n",
       "      <th>c</th>\n",
       "    </tr>\n",
       "  </thead>\n",
       "  <tbody>\n",
       "    <tr>\n",
       "      <th>0</th>\n",
       "      <td>6.0</td>\n",
       "      <td>7.0</td>\n",
       "      <td>8.0</td>\n",
       "    </tr>\n",
       "    <tr>\n",
       "      <th>1</th>\n",
       "      <td>11.0</td>\n",
       "      <td>12.0</td>\n",
       "      <td>13.0</td>\n",
       "    </tr>\n",
       "    <tr>\n",
       "      <th>2</th>\n",
       "      <td>16.0</td>\n",
       "      <td>17.0</td>\n",
       "      <td>18.0</td>\n",
       "    </tr>\n",
       "  </tbody>\n",
       "</table>\n",
       "</div>"
      ],
      "text/plain": [
       "      a     b     c\n",
       "0   6.0   7.0   8.0\n",
       "1  11.0  12.0  13.0\n",
       "2  16.0  17.0  18.0"
      ]
     },
     "execution_count": 111,
     "metadata": {},
     "output_type": "execute_result"
    }
   ],
   "source": [
    "dataSet[dataSet.columns[0:3]]"
   ]
  },
  {
   "cell_type": "markdown",
   "id": "cb1f1a6b-a6e7-45fa-b249-083c94b0eb55",
   "metadata": {},
   "source": [
    "# Add a new Column "
   ]
  },
  {
   "cell_type": "code",
   "execution_count": 112,
   "id": "10eaf4ba-3110-46a6-b6bd-25a317980e16",
   "metadata": {},
   "outputs": [],
   "source": [
    "data = {\n",
    "    'student':['revanth', 'kumar', 'jeya'],\n",
    "    'marks':[90, 98, 100],\n",
    "    'rank':[1, 2, 3]\n",
    "}\n",
    "dataSet = pd.DataFrame(data)"
   ]
  },
  {
   "cell_type": "code",
   "execution_count": 113,
   "id": "14a82255-516b-45f3-9f1e-279d73987676",
   "metadata": {},
   "outputs": [
    {
     "data": {
      "text/html": [
       "<div>\n",
       "<style scoped>\n",
       "    .dataframe tbody tr th:only-of-type {\n",
       "        vertical-align: middle;\n",
       "    }\n",
       "\n",
       "    .dataframe tbody tr th {\n",
       "        vertical-align: top;\n",
       "    }\n",
       "\n",
       "    .dataframe thead th {\n",
       "        text-align: right;\n",
       "    }\n",
       "</style>\n",
       "<table border=\"1\" class=\"dataframe\">\n",
       "  <thead>\n",
       "    <tr style=\"text-align: right;\">\n",
       "      <th></th>\n",
       "      <th>student</th>\n",
       "      <th>marks</th>\n",
       "      <th>rank</th>\n",
       "    </tr>\n",
       "  </thead>\n",
       "  <tbody>\n",
       "    <tr>\n",
       "      <th>0</th>\n",
       "      <td>revanth</td>\n",
       "      <td>90</td>\n",
       "      <td>1</td>\n",
       "    </tr>\n",
       "    <tr>\n",
       "      <th>1</th>\n",
       "      <td>kumar</td>\n",
       "      <td>98</td>\n",
       "      <td>2</td>\n",
       "    </tr>\n",
       "    <tr>\n",
       "      <th>2</th>\n",
       "      <td>jeya</td>\n",
       "      <td>100</td>\n",
       "      <td>3</td>\n",
       "    </tr>\n",
       "  </tbody>\n",
       "</table>\n",
       "</div>"
      ],
      "text/plain": [
       "   student  marks  rank\n",
       "0  revanth     90     1\n",
       "1    kumar     98     2\n",
       "2     jeya    100     3"
      ]
     },
     "execution_count": 113,
     "metadata": {},
     "output_type": "execute_result"
    }
   ],
   "source": [
    "dataSet"
   ]
  },
  {
   "cell_type": "code",
   "execution_count": 114,
   "id": "ca0af633-9368-40d5-b99e-476e52f19dd2",
   "metadata": {},
   "outputs": [],
   "source": [
    "# insert \n",
    "dataSet.insert(1, \"deparment\", ['IT', 'BCA', 'BIO'])"
   ]
  },
  {
   "cell_type": "code",
   "execution_count": 115,
   "id": "c43fc382-b460-4c4e-974d-8910ddf3b9e0",
   "metadata": {},
   "outputs": [
    {
     "data": {
      "text/html": [
       "<div>\n",
       "<style scoped>\n",
       "    .dataframe tbody tr th:only-of-type {\n",
       "        vertical-align: middle;\n",
       "    }\n",
       "\n",
       "    .dataframe tbody tr th {\n",
       "        vertical-align: top;\n",
       "    }\n",
       "\n",
       "    .dataframe thead th {\n",
       "        text-align: right;\n",
       "    }\n",
       "</style>\n",
       "<table border=\"1\" class=\"dataframe\">\n",
       "  <thead>\n",
       "    <tr style=\"text-align: right;\">\n",
       "      <th></th>\n",
       "      <th>student</th>\n",
       "      <th>deparment</th>\n",
       "      <th>marks</th>\n",
       "      <th>rank</th>\n",
       "    </tr>\n",
       "  </thead>\n",
       "  <tbody>\n",
       "    <tr>\n",
       "      <th>0</th>\n",
       "      <td>revanth</td>\n",
       "      <td>IT</td>\n",
       "      <td>90</td>\n",
       "      <td>1</td>\n",
       "    </tr>\n",
       "    <tr>\n",
       "      <th>1</th>\n",
       "      <td>kumar</td>\n",
       "      <td>BCA</td>\n",
       "      <td>98</td>\n",
       "      <td>2</td>\n",
       "    </tr>\n",
       "    <tr>\n",
       "      <th>2</th>\n",
       "      <td>jeya</td>\n",
       "      <td>BIO</td>\n",
       "      <td>100</td>\n",
       "      <td>3</td>\n",
       "    </tr>\n",
       "  </tbody>\n",
       "</table>\n",
       "</div>"
      ],
      "text/plain": [
       "   student deparment  marks  rank\n",
       "0  revanth        IT     90     1\n",
       "1    kumar       BCA     98     2\n",
       "2     jeya       BIO    100     3"
      ]
     },
     "execution_count": 115,
     "metadata": {},
     "output_type": "execute_result"
    }
   ],
   "source": [
    "dataSet"
   ]
  },
  {
   "cell_type": "code",
   "execution_count": 116,
   "id": "79c82315-4244-43b4-b4cc-d30b1991d0eb",
   "metadata": {},
   "outputs": [
    {
     "data": {
      "text/html": [
       "<div>\n",
       "<style scoped>\n",
       "    .dataframe tbody tr th:only-of-type {\n",
       "        vertical-align: middle;\n",
       "    }\n",
       "\n",
       "    .dataframe tbody tr th {\n",
       "        vertical-align: top;\n",
       "    }\n",
       "\n",
       "    .dataframe thead th {\n",
       "        text-align: right;\n",
       "    }\n",
       "</style>\n",
       "<table border=\"1\" class=\"dataframe\">\n",
       "  <thead>\n",
       "    <tr style=\"text-align: right;\">\n",
       "      <th></th>\n",
       "      <th>student</th>\n",
       "      <th>deparment</th>\n",
       "      <th>marks</th>\n",
       "      <th>rank</th>\n",
       "      <th>Roll</th>\n",
       "    </tr>\n",
       "  </thead>\n",
       "  <tbody>\n",
       "    <tr>\n",
       "      <th>0</th>\n",
       "      <td>revanth</td>\n",
       "      <td>IT</td>\n",
       "      <td>90</td>\n",
       "      <td>1</td>\n",
       "      <td>200</td>\n",
       "    </tr>\n",
       "    <tr>\n",
       "      <th>1</th>\n",
       "      <td>kumar</td>\n",
       "      <td>BCA</td>\n",
       "      <td>98</td>\n",
       "      <td>2</td>\n",
       "      <td>800</td>\n",
       "    </tr>\n",
       "    <tr>\n",
       "      <th>2</th>\n",
       "      <td>jeya</td>\n",
       "      <td>BIO</td>\n",
       "      <td>100</td>\n",
       "      <td>3</td>\n",
       "      <td>100</td>\n",
       "    </tr>\n",
       "  </tbody>\n",
       "</table>\n",
       "</div>"
      ],
      "text/plain": [
       "   student deparment  marks  rank Roll\n",
       "0  revanth        IT     90     1  200\n",
       "1    kumar       BCA     98     2  800\n",
       "2     jeya       BIO    100     3  100"
      ]
     },
     "execution_count": 116,
     "metadata": {},
     "output_type": "execute_result"
    }
   ],
   "source": [
    "# assign \n",
    "dataSet.assign(Roll = ['200', '800', '100'])"
   ]
  },
  {
   "cell_type": "markdown",
   "id": "79be833a-8324-4edd-a00f-b76928e70962",
   "metadata": {},
   "source": [
    "# Delete rows / columns"
   ]
  },
  {
   "cell_type": "code",
   "execution_count": 117,
   "id": "5a714c24-0454-4192-8c38-69be82cc4bfb",
   "metadata": {},
   "outputs": [],
   "source": [
    "data = {\n",
    "    'student':['revanth', 'kumar', 'jeya'],\n",
    "    'marks':[90, 98, 100],\n",
    "    'rank':[1, 2, 3]\n",
    "}\n",
    "dataSet = pd.DataFrame(data)"
   ]
  },
  {
   "cell_type": "code",
   "execution_count": 118,
   "id": "7ed35a3b-853c-4e26-81bb-c8e0d4b2a102",
   "metadata": {},
   "outputs": [
    {
     "data": {
      "text/html": [
       "<div>\n",
       "<style scoped>\n",
       "    .dataframe tbody tr th:only-of-type {\n",
       "        vertical-align: middle;\n",
       "    }\n",
       "\n",
       "    .dataframe tbody tr th {\n",
       "        vertical-align: top;\n",
       "    }\n",
       "\n",
       "    .dataframe thead th {\n",
       "        text-align: right;\n",
       "    }\n",
       "</style>\n",
       "<table border=\"1\" class=\"dataframe\">\n",
       "  <thead>\n",
       "    <tr style=\"text-align: right;\">\n",
       "      <th></th>\n",
       "      <th>student</th>\n",
       "      <th>marks</th>\n",
       "      <th>rank</th>\n",
       "    </tr>\n",
       "  </thead>\n",
       "  <tbody>\n",
       "    <tr>\n",
       "      <th>0</th>\n",
       "      <td>revanth</td>\n",
       "      <td>90</td>\n",
       "      <td>1</td>\n",
       "    </tr>\n",
       "    <tr>\n",
       "      <th>1</th>\n",
       "      <td>kumar</td>\n",
       "      <td>98</td>\n",
       "      <td>2</td>\n",
       "    </tr>\n",
       "    <tr>\n",
       "      <th>2</th>\n",
       "      <td>jeya</td>\n",
       "      <td>100</td>\n",
       "      <td>3</td>\n",
       "    </tr>\n",
       "  </tbody>\n",
       "</table>\n",
       "</div>"
      ],
      "text/plain": [
       "   student  marks  rank\n",
       "0  revanth     90     1\n",
       "1    kumar     98     2\n",
       "2     jeya    100     3"
      ]
     },
     "execution_count": 118,
     "metadata": {},
     "output_type": "execute_result"
    }
   ],
   "source": [
    "dataSet"
   ]
  },
  {
   "cell_type": "code",
   "execution_count": 119,
   "id": "f6bd965d-e4e9-4377-be86-9a6443344825",
   "metadata": {},
   "outputs": [
    {
     "data": {
      "text/html": [
       "<div>\n",
       "<style scoped>\n",
       "    .dataframe tbody tr th:only-of-type {\n",
       "        vertical-align: middle;\n",
       "    }\n",
       "\n",
       "    .dataframe tbody tr th {\n",
       "        vertical-align: top;\n",
       "    }\n",
       "\n",
       "    .dataframe thead th {\n",
       "        text-align: right;\n",
       "    }\n",
       "</style>\n",
       "<table border=\"1\" class=\"dataframe\">\n",
       "  <thead>\n",
       "    <tr style=\"text-align: right;\">\n",
       "      <th></th>\n",
       "      <th>student</th>\n",
       "      <th>rank</th>\n",
       "    </tr>\n",
       "  </thead>\n",
       "  <tbody>\n",
       "    <tr>\n",
       "      <th>0</th>\n",
       "      <td>revanth</td>\n",
       "      <td>1</td>\n",
       "    </tr>\n",
       "    <tr>\n",
       "      <th>1</th>\n",
       "      <td>kumar</td>\n",
       "      <td>2</td>\n",
       "    </tr>\n",
       "    <tr>\n",
       "      <th>2</th>\n",
       "      <td>jeya</td>\n",
       "      <td>3</td>\n",
       "    </tr>\n",
       "  </tbody>\n",
       "</table>\n",
       "</div>"
      ],
      "text/plain": [
       "   student  rank\n",
       "0  revanth     1\n",
       "1    kumar     2\n",
       "2     jeya     3"
      ]
     },
     "execution_count": 119,
     "metadata": {},
     "output_type": "execute_result"
    }
   ],
   "source": [
    "# Delete a Column \n",
    "dataSet.drop('marks', axis=1)"
   ]
  },
  {
   "cell_type": "code",
   "execution_count": 120,
   "id": "0999c0a5-0d19-4833-8537-03ca79526a49",
   "metadata": {},
   "outputs": [
    {
     "data": {
      "text/html": [
       "<div>\n",
       "<style scoped>\n",
       "    .dataframe tbody tr th:only-of-type {\n",
       "        vertical-align: middle;\n",
       "    }\n",
       "\n",
       "    .dataframe tbody tr th {\n",
       "        vertical-align: top;\n",
       "    }\n",
       "\n",
       "    .dataframe thead th {\n",
       "        text-align: right;\n",
       "    }\n",
       "</style>\n",
       "<table border=\"1\" class=\"dataframe\">\n",
       "  <thead>\n",
       "    <tr style=\"text-align: right;\">\n",
       "      <th></th>\n",
       "      <th>student</th>\n",
       "    </tr>\n",
       "  </thead>\n",
       "  <tbody>\n",
       "    <tr>\n",
       "      <th>0</th>\n",
       "      <td>revanth</td>\n",
       "    </tr>\n",
       "    <tr>\n",
       "      <th>1</th>\n",
       "      <td>kumar</td>\n",
       "    </tr>\n",
       "    <tr>\n",
       "      <th>2</th>\n",
       "      <td>jeya</td>\n",
       "    </tr>\n",
       "  </tbody>\n",
       "</table>\n",
       "</div>"
      ],
      "text/plain": [
       "   student\n",
       "0  revanth\n",
       "1    kumar\n",
       "2     jeya"
      ]
     },
     "execution_count": 120,
     "metadata": {},
     "output_type": "execute_result"
    }
   ],
   "source": [
    "# Delete Multiple Columns \n",
    "dataSet.drop(['marks', 'rank'], axis=1)"
   ]
  },
  {
   "cell_type": "code",
   "execution_count": 121,
   "id": "b6ad48b3-36f6-4375-911d-c37dce4267cd",
   "metadata": {},
   "outputs": [
    {
     "data": {
      "text/html": [
       "<div>\n",
       "<style scoped>\n",
       "    .dataframe tbody tr th:only-of-type {\n",
       "        vertical-align: middle;\n",
       "    }\n",
       "\n",
       "    .dataframe tbody tr th {\n",
       "        vertical-align: top;\n",
       "    }\n",
       "\n",
       "    .dataframe thead th {\n",
       "        text-align: right;\n",
       "    }\n",
       "</style>\n",
       "<table border=\"1\" class=\"dataframe\">\n",
       "  <thead>\n",
       "    <tr style=\"text-align: right;\">\n",
       "      <th></th>\n",
       "      <th>student</th>\n",
       "      <th>marks</th>\n",
       "      <th>rank</th>\n",
       "    </tr>\n",
       "  </thead>\n",
       "  <tbody>\n",
       "    <tr>\n",
       "      <th>0</th>\n",
       "      <td>revanth</td>\n",
       "      <td>90</td>\n",
       "      <td>1</td>\n",
       "    </tr>\n",
       "    <tr>\n",
       "      <th>2</th>\n",
       "      <td>jeya</td>\n",
       "      <td>100</td>\n",
       "      <td>3</td>\n",
       "    </tr>\n",
       "  </tbody>\n",
       "</table>\n",
       "</div>"
      ],
      "text/plain": [
       "   student  marks  rank\n",
       "0  revanth     90     1\n",
       "2     jeya    100     3"
      ]
     },
     "execution_count": 121,
     "metadata": {},
     "output_type": "execute_result"
    }
   ],
   "source": [
    "# Delete a row  \n",
    "dataSet.drop(1, axis=0)"
   ]
  },
  {
   "cell_type": "code",
   "execution_count": 122,
   "id": "3e9b4113-4c05-48c6-b1cf-c1be86177eca",
   "metadata": {},
   "outputs": [
    {
     "data": {
      "text/html": [
       "<div>\n",
       "<style scoped>\n",
       "    .dataframe tbody tr th:only-of-type {\n",
       "        vertical-align: middle;\n",
       "    }\n",
       "\n",
       "    .dataframe tbody tr th {\n",
       "        vertical-align: top;\n",
       "    }\n",
       "\n",
       "    .dataframe thead th {\n",
       "        text-align: right;\n",
       "    }\n",
       "</style>\n",
       "<table border=\"1\" class=\"dataframe\">\n",
       "  <thead>\n",
       "    <tr style=\"text-align: right;\">\n",
       "      <th></th>\n",
       "      <th>student</th>\n",
       "      <th>marks</th>\n",
       "      <th>rank</th>\n",
       "    </tr>\n",
       "  </thead>\n",
       "  <tbody>\n",
       "    <tr>\n",
       "      <th>2</th>\n",
       "      <td>jeya</td>\n",
       "      <td>100</td>\n",
       "      <td>3</td>\n",
       "    </tr>\n",
       "  </tbody>\n",
       "</table>\n",
       "</div>"
      ],
      "text/plain": [
       "  student  marks  rank\n",
       "2    jeya    100     3"
      ]
     },
     "execution_count": 122,
     "metadata": {},
     "output_type": "execute_result"
    }
   ],
   "source": [
    "# Delete Multiple Rows \n",
    "dataSet.drop([0, 1], axis=0)"
   ]
  },
  {
   "cell_type": "code",
   "execution_count": 123,
   "id": "61ea0ebe-e286-478e-8b53-e0e14a3d3b83",
   "metadata": {},
   "outputs": [],
   "source": [
    "# Delete Rows or Columns In-Place \n",
    "dataSet.drop('rank', axis=1, inplace=True)"
   ]
  },
  {
   "cell_type": "code",
   "execution_count": 124,
   "id": "fd7b9887-cccf-4554-b055-4f82c41fb014",
   "metadata": {},
   "outputs": [
    {
     "data": {
      "text/html": [
       "<div>\n",
       "<style scoped>\n",
       "    .dataframe tbody tr th:only-of-type {\n",
       "        vertical-align: middle;\n",
       "    }\n",
       "\n",
       "    .dataframe tbody tr th {\n",
       "        vertical-align: top;\n",
       "    }\n",
       "\n",
       "    .dataframe thead th {\n",
       "        text-align: right;\n",
       "    }\n",
       "</style>\n",
       "<table border=\"1\" class=\"dataframe\">\n",
       "  <thead>\n",
       "    <tr style=\"text-align: right;\">\n",
       "      <th></th>\n",
       "      <th>student</th>\n",
       "      <th>marks</th>\n",
       "    </tr>\n",
       "  </thead>\n",
       "  <tbody>\n",
       "    <tr>\n",
       "      <th>0</th>\n",
       "      <td>revanth</td>\n",
       "      <td>90</td>\n",
       "    </tr>\n",
       "    <tr>\n",
       "      <th>1</th>\n",
       "      <td>kumar</td>\n",
       "      <td>98</td>\n",
       "    </tr>\n",
       "    <tr>\n",
       "      <th>2</th>\n",
       "      <td>jeya</td>\n",
       "      <td>100</td>\n",
       "    </tr>\n",
       "  </tbody>\n",
       "</table>\n",
       "</div>"
      ],
      "text/plain": [
       "   student  marks\n",
       "0  revanth     90\n",
       "1    kumar     98\n",
       "2     jeya    100"
      ]
     },
     "execution_count": 124,
     "metadata": {},
     "output_type": "execute_result"
    }
   ],
   "source": [
    "dataSet"
   ]
  },
  {
   "cell_type": "code",
   "execution_count": 125,
   "id": "22580d3a-4817-4605-a55c-69de949ba502",
   "metadata": {},
   "outputs": [],
   "source": [
    "dataSet.drop(1, axis=0, inplace=True)"
   ]
  },
  {
   "cell_type": "code",
   "execution_count": 126,
   "id": "9274e188-520d-4638-b2f4-f1d7d39ec409",
   "metadata": {},
   "outputs": [
    {
     "data": {
      "text/html": [
       "<div>\n",
       "<style scoped>\n",
       "    .dataframe tbody tr th:only-of-type {\n",
       "        vertical-align: middle;\n",
       "    }\n",
       "\n",
       "    .dataframe tbody tr th {\n",
       "        vertical-align: top;\n",
       "    }\n",
       "\n",
       "    .dataframe thead th {\n",
       "        text-align: right;\n",
       "    }\n",
       "</style>\n",
       "<table border=\"1\" class=\"dataframe\">\n",
       "  <thead>\n",
       "    <tr style=\"text-align: right;\">\n",
       "      <th></th>\n",
       "      <th>student</th>\n",
       "      <th>marks</th>\n",
       "    </tr>\n",
       "  </thead>\n",
       "  <tbody>\n",
       "    <tr>\n",
       "      <th>0</th>\n",
       "      <td>revanth</td>\n",
       "      <td>90</td>\n",
       "    </tr>\n",
       "    <tr>\n",
       "      <th>2</th>\n",
       "      <td>jeya</td>\n",
       "      <td>100</td>\n",
       "    </tr>\n",
       "  </tbody>\n",
       "</table>\n",
       "</div>"
      ],
      "text/plain": [
       "   student  marks\n",
       "0  revanth     90\n",
       "2     jeya    100"
      ]
     },
     "execution_count": 126,
     "metadata": {},
     "output_type": "execute_result"
    }
   ],
   "source": [
    "dataSet"
   ]
  },
  {
   "cell_type": "code",
   "execution_count": 127,
   "id": "4653fe99-1bf5-424f-bfc8-01b3f233ac43",
   "metadata": {},
   "outputs": [],
   "source": [
    "# Delete Columns Using the del Keyword  \n",
    "del dataSet['student']"
   ]
  },
  {
   "cell_type": "code",
   "execution_count": 128,
   "id": "0508e052-3bef-4ad0-87e8-1dab4aa5cea3",
   "metadata": {},
   "outputs": [
    {
     "data": {
      "text/html": [
       "<div>\n",
       "<style scoped>\n",
       "    .dataframe tbody tr th:only-of-type {\n",
       "        vertical-align: middle;\n",
       "    }\n",
       "\n",
       "    .dataframe tbody tr th {\n",
       "        vertical-align: top;\n",
       "    }\n",
       "\n",
       "    .dataframe thead th {\n",
       "        text-align: right;\n",
       "    }\n",
       "</style>\n",
       "<table border=\"1\" class=\"dataframe\">\n",
       "  <thead>\n",
       "    <tr style=\"text-align: right;\">\n",
       "      <th></th>\n",
       "      <th>marks</th>\n",
       "    </tr>\n",
       "  </thead>\n",
       "  <tbody>\n",
       "    <tr>\n",
       "      <th>0</th>\n",
       "      <td>90</td>\n",
       "    </tr>\n",
       "    <tr>\n",
       "      <th>2</th>\n",
       "      <td>100</td>\n",
       "    </tr>\n",
       "  </tbody>\n",
       "</table>\n",
       "</div>"
      ],
      "text/plain": [
       "   marks\n",
       "0     90\n",
       "2    100"
      ]
     },
     "execution_count": 128,
     "metadata": {},
     "output_type": "execute_result"
    }
   ],
   "source": [
    "dataSet"
   ]
  },
  {
   "cell_type": "markdown",
   "id": "4ebb01ac-6e78-4e5e-bbc2-4a885296e4f7",
   "metadata": {},
   "source": [
    "# ITERATE OVER ROWS & COLUMNS "
   ]
  },
  {
   "cell_type": "code",
   "execution_count": 129,
   "id": "86051366-ebf9-4534-9ab8-39ec2d2eaa25",
   "metadata": {},
   "outputs": [],
   "source": [
    "data = {\n",
    "    'student': ['revanth', 'kumar', 'jeya'],\n",
    "    'marks': [90, 98, 100],\n",
    "    'rank': [1, 2, 3]\n",
    "}\n",
    "dataSet = pd.DataFrame(data, index=['a', 'b', 'c'])"
   ]
  },
  {
   "cell_type": "code",
   "execution_count": 130,
   "id": "248a0a4f-55f1-40cb-b959-0a60e1d50122",
   "metadata": {},
   "outputs": [
    {
     "name": "stdout",
     "output_type": "stream",
     "text": [
      "index:  a\n",
      "Student: revanth, Marks: 90, Rank: 1\n",
      "index:  b\n",
      "Student: kumar, Marks: 98, Rank: 2\n",
      "index:  c\n",
      "Student: jeya, Marks: 100, Rank: 3\n"
     ]
    }
   ],
   "source": [
    "for index, row in dataSet.iterrows():\n",
    "    print(\"index: \", index)\n",
    "    print(f\"Student: {row['student']}, Marks: {row['marks']}, Rank: {row['rank']}\")"
   ]
  },
  {
   "cell_type": "code",
   "execution_count": 131,
   "id": "48071f6b-d0f1-4a95-8619-dccf2aeb434e",
   "metadata": {},
   "outputs": [
    {
     "name": "stdout",
     "output_type": "stream",
     "text": [
      "column student\n",
      "data:\n",
      "a    revanth\n",
      "b      kumar\n",
      "c       jeya\n",
      "Name: student, dtype: object\n",
      "\n",
      "column marks\n",
      "data:\n",
      "a     90\n",
      "b     98\n",
      "c    100\n",
      "Name: marks, dtype: int64\n",
      "\n",
      "column rank\n",
      "data:\n",
      "a    1\n",
      "b    2\n",
      "c    3\n",
      "Name: rank, dtype: int64\n",
      "\n"
     ]
    }
   ],
   "source": [
    "for colName, colData in dataSet.items():\n",
    "    print(f'column {colName}')\n",
    "    print(f'data:\\n{colData}')\n",
    "    print()"
   ]
  },
  {
   "cell_type": "code",
   "execution_count": 132,
   "id": "631cb462-d914-4d55-8758-b213ff1122ea",
   "metadata": {},
   "outputs": [
    {
     "name": "stdout",
     "output_type": "stream",
     "text": [
      "index: a\n",
      "student: revanth\n",
      "marks: 90\n",
      "rank: 1\n",
      "\n",
      "index: b\n",
      "student: kumar\n",
      "marks: 98\n",
      "rank: 2\n",
      "\n",
      "index: c\n",
      "student: jeya\n",
      "marks: 100\n",
      "rank: 3\n",
      "\n"
     ]
    }
   ],
   "source": [
    "# Iterate Over Rows and Columns Together \n",
    "for index, row in dataSet.iterrows(): \n",
    "    print(f'index: {index}')\n",
    "    for colName in dataSet.columns: \n",
    "        print(f'{colName}: {row[colName]}')\n",
    "    print()"
   ]
  },
  {
   "cell_type": "markdown",
   "id": "f233c99c-50b0-4c82-a82d-71a22217b17f",
   "metadata": {},
   "source": [
    "# how to sort data "
   ]
  },
  {
   "cell_type": "code",
   "execution_count": 133,
   "id": "85e37181-f3aa-404e-b28d-b9c0e6a0619b",
   "metadata": {},
   "outputs": [],
   "source": [
    "data = {\n",
    "    'student': ['revanth', 'kumar', 'jeya'],\n",
    "    'marks': [99, 90, 100],\n",
    "    'rank': [1, 3, 2]\n",
    "}\n",
    "dataSet = pd.DataFrame(data, index=['a', 'b', 'c'])"
   ]
  },
  {
   "cell_type": "code",
   "execution_count": 134,
   "id": "c70fbd00-4d7b-4982-956a-c682034eb34a",
   "metadata": {},
   "outputs": [
    {
     "data": {
      "text/html": [
       "<div>\n",
       "<style scoped>\n",
       "    .dataframe tbody tr th:only-of-type {\n",
       "        vertical-align: middle;\n",
       "    }\n",
       "\n",
       "    .dataframe tbody tr th {\n",
       "        vertical-align: top;\n",
       "    }\n",
       "\n",
       "    .dataframe thead th {\n",
       "        text-align: right;\n",
       "    }\n",
       "</style>\n",
       "<table border=\"1\" class=\"dataframe\">\n",
       "  <thead>\n",
       "    <tr style=\"text-align: right;\">\n",
       "      <th></th>\n",
       "      <th>student</th>\n",
       "      <th>marks</th>\n",
       "      <th>rank</th>\n",
       "    </tr>\n",
       "  </thead>\n",
       "  <tbody>\n",
       "    <tr>\n",
       "      <th>a</th>\n",
       "      <td>revanth</td>\n",
       "      <td>99</td>\n",
       "      <td>1</td>\n",
       "    </tr>\n",
       "    <tr>\n",
       "      <th>b</th>\n",
       "      <td>kumar</td>\n",
       "      <td>90</td>\n",
       "      <td>3</td>\n",
       "    </tr>\n",
       "    <tr>\n",
       "      <th>c</th>\n",
       "      <td>jeya</td>\n",
       "      <td>100</td>\n",
       "      <td>2</td>\n",
       "    </tr>\n",
       "  </tbody>\n",
       "</table>\n",
       "</div>"
      ],
      "text/plain": [
       "   student  marks  rank\n",
       "a  revanth     99     1\n",
       "b    kumar     90     3\n",
       "c     jeya    100     2"
      ]
     },
     "execution_count": 134,
     "metadata": {},
     "output_type": "execute_result"
    }
   ],
   "source": [
    "dataSet"
   ]
  },
  {
   "cell_type": "code",
   "execution_count": 135,
   "id": "0c7af594-cfa5-4a69-aab7-ad2dc62a84f3",
   "metadata": {},
   "outputs": [
    {
     "data": {
      "text/html": [
       "<div>\n",
       "<style scoped>\n",
       "    .dataframe tbody tr th:only-of-type {\n",
       "        vertical-align: middle;\n",
       "    }\n",
       "\n",
       "    .dataframe tbody tr th {\n",
       "        vertical-align: top;\n",
       "    }\n",
       "\n",
       "    .dataframe thead th {\n",
       "        text-align: right;\n",
       "    }\n",
       "</style>\n",
       "<table border=\"1\" class=\"dataframe\">\n",
       "  <thead>\n",
       "    <tr style=\"text-align: right;\">\n",
       "      <th></th>\n",
       "      <th>student</th>\n",
       "      <th>marks</th>\n",
       "      <th>rank</th>\n",
       "    </tr>\n",
       "  </thead>\n",
       "  <tbody>\n",
       "    <tr>\n",
       "      <th>b</th>\n",
       "      <td>kumar</td>\n",
       "      <td>90</td>\n",
       "      <td>3</td>\n",
       "    </tr>\n",
       "    <tr>\n",
       "      <th>a</th>\n",
       "      <td>revanth</td>\n",
       "      <td>99</td>\n",
       "      <td>1</td>\n",
       "    </tr>\n",
       "    <tr>\n",
       "      <th>c</th>\n",
       "      <td>jeya</td>\n",
       "      <td>100</td>\n",
       "      <td>2</td>\n",
       "    </tr>\n",
       "  </tbody>\n",
       "</table>\n",
       "</div>"
      ],
      "text/plain": [
       "   student  marks  rank\n",
       "b    kumar     90     3\n",
       "a  revanth     99     1\n",
       "c     jeya    100     2"
      ]
     },
     "execution_count": 135,
     "metadata": {},
     "output_type": "execute_result"
    }
   ],
   "source": [
    "# Sort by a Single Column \n",
    "dataSet.sort_values(by='marks')"
   ]
  },
  {
   "cell_type": "code",
   "execution_count": 136,
   "id": "ababb345-69e5-4327-8671-c9978cc0d760",
   "metadata": {},
   "outputs": [
    {
     "data": {
      "text/html": [
       "<div>\n",
       "<style scoped>\n",
       "    .dataframe tbody tr th:only-of-type {\n",
       "        vertical-align: middle;\n",
       "    }\n",
       "\n",
       "    .dataframe tbody tr th {\n",
       "        vertical-align: top;\n",
       "    }\n",
       "\n",
       "    .dataframe thead th {\n",
       "        text-align: right;\n",
       "    }\n",
       "</style>\n",
       "<table border=\"1\" class=\"dataframe\">\n",
       "  <thead>\n",
       "    <tr style=\"text-align: right;\">\n",
       "      <th></th>\n",
       "      <th>student</th>\n",
       "      <th>marks</th>\n",
       "      <th>rank</th>\n",
       "    </tr>\n",
       "  </thead>\n",
       "  <tbody>\n",
       "    <tr>\n",
       "      <th>c</th>\n",
       "      <td>jeya</td>\n",
       "      <td>100</td>\n",
       "      <td>2</td>\n",
       "    </tr>\n",
       "    <tr>\n",
       "      <th>a</th>\n",
       "      <td>revanth</td>\n",
       "      <td>99</td>\n",
       "      <td>1</td>\n",
       "    </tr>\n",
       "    <tr>\n",
       "      <th>b</th>\n",
       "      <td>kumar</td>\n",
       "      <td>90</td>\n",
       "      <td>3</td>\n",
       "    </tr>\n",
       "  </tbody>\n",
       "</table>\n",
       "</div>"
      ],
      "text/plain": [
       "   student  marks  rank\n",
       "c     jeya    100     2\n",
       "a  revanth     99     1\n",
       "b    kumar     90     3"
      ]
     },
     "execution_count": 136,
     "metadata": {},
     "output_type": "execute_result"
    }
   ],
   "source": [
    "# Sort by a Single Column in Descending Order \n",
    "dataSet.sort_values(by='marks', ascending=False)"
   ]
  },
  {
   "cell_type": "code",
   "execution_count": 137,
   "id": "b10e894c-5a83-42af-98dc-d44dc279e853",
   "metadata": {},
   "outputs": [
    {
     "data": {
      "text/html": [
       "<div>\n",
       "<style scoped>\n",
       "    .dataframe tbody tr th:only-of-type {\n",
       "        vertical-align: middle;\n",
       "    }\n",
       "\n",
       "    .dataframe tbody tr th {\n",
       "        vertical-align: top;\n",
       "    }\n",
       "\n",
       "    .dataframe thead th {\n",
       "        text-align: right;\n",
       "    }\n",
       "</style>\n",
       "<table border=\"1\" class=\"dataframe\">\n",
       "  <thead>\n",
       "    <tr style=\"text-align: right;\">\n",
       "      <th></th>\n",
       "      <th>student</th>\n",
       "      <th>marks</th>\n",
       "      <th>rank</th>\n",
       "    </tr>\n",
       "  </thead>\n",
       "  <tbody>\n",
       "    <tr>\n",
       "      <th>a</th>\n",
       "      <td>revanth</td>\n",
       "      <td>99</td>\n",
       "      <td>1</td>\n",
       "    </tr>\n",
       "    <tr>\n",
       "      <th>c</th>\n",
       "      <td>jeya</td>\n",
       "      <td>100</td>\n",
       "      <td>2</td>\n",
       "    </tr>\n",
       "    <tr>\n",
       "      <th>b</th>\n",
       "      <td>kumar</td>\n",
       "      <td>90</td>\n",
       "      <td>3</td>\n",
       "    </tr>\n",
       "  </tbody>\n",
       "</table>\n",
       "</div>"
      ],
      "text/plain": [
       "   student  marks  rank\n",
       "a  revanth     99     1\n",
       "c     jeya    100     2\n",
       "b    kumar     90     3"
      ]
     },
     "execution_count": 137,
     "metadata": {},
     "output_type": "execute_result"
    }
   ],
   "source": [
    "# Sort by Multiple Columns\n",
    "dataSet.sort_values(by=['rank', 'marks'], ascending=[True, False])"
   ]
  },
  {
   "cell_type": "code",
   "execution_count": 138,
   "id": "078f0ca9-7d51-43a9-9cb9-a2a3662b8bcd",
   "metadata": {},
   "outputs": [
    {
     "data": {
      "text/html": [
       "<div>\n",
       "<style scoped>\n",
       "    .dataframe tbody tr th:only-of-type {\n",
       "        vertical-align: middle;\n",
       "    }\n",
       "\n",
       "    .dataframe tbody tr th {\n",
       "        vertical-align: top;\n",
       "    }\n",
       "\n",
       "    .dataframe thead th {\n",
       "        text-align: right;\n",
       "    }\n",
       "</style>\n",
       "<table border=\"1\" class=\"dataframe\">\n",
       "  <thead>\n",
       "    <tr style=\"text-align: right;\">\n",
       "      <th></th>\n",
       "      <th>student</th>\n",
       "      <th>marks</th>\n",
       "      <th>rank</th>\n",
       "    </tr>\n",
       "  </thead>\n",
       "  <tbody>\n",
       "    <tr>\n",
       "      <th>a</th>\n",
       "      <td>revanth</td>\n",
       "      <td>99</td>\n",
       "      <td>1</td>\n",
       "    </tr>\n",
       "    <tr>\n",
       "      <th>b</th>\n",
       "      <td>kumar</td>\n",
       "      <td>90</td>\n",
       "      <td>3</td>\n",
       "    </tr>\n",
       "    <tr>\n",
       "      <th>c</th>\n",
       "      <td>jeya</td>\n",
       "      <td>100</td>\n",
       "      <td>2</td>\n",
       "    </tr>\n",
       "  </tbody>\n",
       "</table>\n",
       "</div>"
      ],
      "text/plain": [
       "   student  marks  rank\n",
       "a  revanth     99     1\n",
       "b    kumar     90     3\n",
       "c     jeya    100     2"
      ]
     },
     "execution_count": 138,
     "metadata": {},
     "output_type": "execute_result"
    }
   ],
   "source": [
    "# Sort by Index \n",
    "dataSet.sort_index()"
   ]
  },
  {
   "cell_type": "code",
   "execution_count": 139,
   "id": "10364e64-7cb1-48dd-a72c-2697f8475bc9",
   "metadata": {},
   "outputs": [
    {
     "data": {
      "text/html": [
       "<div>\n",
       "<style scoped>\n",
       "    .dataframe tbody tr th:only-of-type {\n",
       "        vertical-align: middle;\n",
       "    }\n",
       "\n",
       "    .dataframe tbody tr th {\n",
       "        vertical-align: top;\n",
       "    }\n",
       "\n",
       "    .dataframe thead th {\n",
       "        text-align: right;\n",
       "    }\n",
       "</style>\n",
       "<table border=\"1\" class=\"dataframe\">\n",
       "  <thead>\n",
       "    <tr style=\"text-align: right;\">\n",
       "      <th></th>\n",
       "      <th>student</th>\n",
       "      <th>marks</th>\n",
       "      <th>rank</th>\n",
       "    </tr>\n",
       "  </thead>\n",
       "  <tbody>\n",
       "    <tr>\n",
       "      <th>c</th>\n",
       "      <td>jeya</td>\n",
       "      <td>100</td>\n",
       "      <td>2</td>\n",
       "    </tr>\n",
       "    <tr>\n",
       "      <th>b</th>\n",
       "      <td>kumar</td>\n",
       "      <td>90</td>\n",
       "      <td>3</td>\n",
       "    </tr>\n",
       "    <tr>\n",
       "      <th>a</th>\n",
       "      <td>revanth</td>\n",
       "      <td>99</td>\n",
       "      <td>1</td>\n",
       "    </tr>\n",
       "  </tbody>\n",
       "</table>\n",
       "</div>"
      ],
      "text/plain": [
       "   student  marks  rank\n",
       "c     jeya    100     2\n",
       "b    kumar     90     3\n",
       "a  revanth     99     1"
      ]
     },
     "execution_count": 139,
     "metadata": {},
     "output_type": "execute_result"
    }
   ],
   "source": [
    "# Sort by Index \n",
    "dataSet.sort_index(ascending=False)"
   ]
  },
  {
   "cell_type": "code",
   "execution_count": 140,
   "id": "e4d6e04c-53a1-46e0-a9bf-a0ae09473565",
   "metadata": {},
   "outputs": [],
   "source": [
    "# Sort In-Place \n",
    "dataSet.sort_values(by='student', inplace=True)"
   ]
  },
  {
   "cell_type": "code",
   "execution_count": 141,
   "id": "27ea2260-0a16-4ec9-a467-96b86df9a6f1",
   "metadata": {},
   "outputs": [
    {
     "data": {
      "text/html": [
       "<div>\n",
       "<style scoped>\n",
       "    .dataframe tbody tr th:only-of-type {\n",
       "        vertical-align: middle;\n",
       "    }\n",
       "\n",
       "    .dataframe tbody tr th {\n",
       "        vertical-align: top;\n",
       "    }\n",
       "\n",
       "    .dataframe thead th {\n",
       "        text-align: right;\n",
       "    }\n",
       "</style>\n",
       "<table border=\"1\" class=\"dataframe\">\n",
       "  <thead>\n",
       "    <tr style=\"text-align: right;\">\n",
       "      <th></th>\n",
       "      <th>student</th>\n",
       "      <th>marks</th>\n",
       "      <th>rank</th>\n",
       "    </tr>\n",
       "  </thead>\n",
       "  <tbody>\n",
       "    <tr>\n",
       "      <th>c</th>\n",
       "      <td>jeya</td>\n",
       "      <td>100</td>\n",
       "      <td>2</td>\n",
       "    </tr>\n",
       "    <tr>\n",
       "      <th>b</th>\n",
       "      <td>kumar</td>\n",
       "      <td>90</td>\n",
       "      <td>3</td>\n",
       "    </tr>\n",
       "    <tr>\n",
       "      <th>a</th>\n",
       "      <td>revanth</td>\n",
       "      <td>99</td>\n",
       "      <td>1</td>\n",
       "    </tr>\n",
       "  </tbody>\n",
       "</table>\n",
       "</div>"
      ],
      "text/plain": [
       "   student  marks  rank\n",
       "c     jeya    100     2\n",
       "b    kumar     90     3\n",
       "a  revanth     99     1"
      ]
     },
     "execution_count": 141,
     "metadata": {},
     "output_type": "execute_result"
    }
   ],
   "source": [
    "dataSet"
   ]
  },
  {
   "cell_type": "code",
   "execution_count": 142,
   "id": "b97e1946-8128-4ab6-82e8-b7abd8e86c72",
   "metadata": {},
   "outputs": [
    {
     "data": {
      "text/plain": [
       "c    100\n",
       "a     99\n",
       "b     90\n",
       "Name: marks, dtype: int64"
      ]
     },
     "execution_count": 142,
     "metadata": {},
     "output_type": "execute_result"
    }
   ],
   "source": [
    "# Sort a Series \n",
    "dataSet['marks'].sort_values(ascending=False)"
   ]
  },
  {
   "cell_type": "markdown",
   "id": "97addb16-8cfc-418a-b1c2-45c32e5c3f28",
   "metadata": {},
   "source": [
    "# How to Find and Remove Duplicates "
   ]
  },
  {
   "cell_type": "code",
   "execution_count": 143,
   "id": "4751a65e-c340-4595-81dc-3993bbbf2beb",
   "metadata": {},
   "outputs": [
    {
     "data": {
      "text/html": [
       "<div>\n",
       "<style scoped>\n",
       "    .dataframe tbody tr th:only-of-type {\n",
       "        vertical-align: middle;\n",
       "    }\n",
       "\n",
       "    .dataframe tbody tr th {\n",
       "        vertical-align: top;\n",
       "    }\n",
       "\n",
       "    .dataframe thead th {\n",
       "        text-align: right;\n",
       "    }\n",
       "</style>\n",
       "<table border=\"1\" class=\"dataframe\">\n",
       "  <thead>\n",
       "    <tr style=\"text-align: right;\">\n",
       "      <th></th>\n",
       "      <th>student</th>\n",
       "      <th>marks</th>\n",
       "      <th>rank</th>\n",
       "    </tr>\n",
       "  </thead>\n",
       "  <tbody>\n",
       "    <tr>\n",
       "      <th>0</th>\n",
       "      <td>revanth</td>\n",
       "      <td>90</td>\n",
       "      <td>1</td>\n",
       "    </tr>\n",
       "    <tr>\n",
       "      <th>1</th>\n",
       "      <td>kumar</td>\n",
       "      <td>98</td>\n",
       "      <td>2</td>\n",
       "    </tr>\n",
       "    <tr>\n",
       "      <th>2</th>\n",
       "      <td>jeya</td>\n",
       "      <td>100</td>\n",
       "      <td>3</td>\n",
       "    </tr>\n",
       "    <tr>\n",
       "      <th>3</th>\n",
       "      <td>revanth</td>\n",
       "      <td>90</td>\n",
       "      <td>1</td>\n",
       "    </tr>\n",
       "    <tr>\n",
       "      <th>4</th>\n",
       "      <td>kumar</td>\n",
       "      <td>98</td>\n",
       "      <td>2</td>\n",
       "    </tr>\n",
       "    <tr>\n",
       "      <th>5</th>\n",
       "      <td>arjun</td>\n",
       "      <td>85</td>\n",
       "      <td>4</td>\n",
       "    </tr>\n",
       "  </tbody>\n",
       "</table>\n",
       "</div>"
      ],
      "text/plain": [
       "   student  marks  rank\n",
       "0  revanth     90     1\n",
       "1    kumar     98     2\n",
       "2     jeya    100     3\n",
       "3  revanth     90     1\n",
       "4    kumar     98     2\n",
       "5    arjun     85     4"
      ]
     },
     "execution_count": 143,
     "metadata": {},
     "output_type": "execute_result"
    }
   ],
   "source": [
    "data = {\n",
    "    'student': ['revanth', 'kumar', 'jeya', 'revanth', 'kumar', 'arjun'],\n",
    "    'marks': [90, 98, 100, 90, 98, 85],\n",
    "    'rank': [1, 2, 3, 1, 2, 4]\n",
    "}\n",
    "dataSet = pd.DataFrame(data)\n",
    "\n",
    "dataSet"
   ]
  },
  {
   "cell_type": "code",
   "execution_count": 144,
   "id": "80a79af7-7c5f-4aff-853c-73eee574fa29",
   "metadata": {},
   "outputs": [
    {
     "data": {
      "text/plain": [
       "0    False\n",
       "1    False\n",
       "2    False\n",
       "3     True\n",
       "4     True\n",
       "5    False\n",
       "dtype: bool"
      ]
     },
     "execution_count": 144,
     "metadata": {},
     "output_type": "execute_result"
    }
   ],
   "source": [
    "# Find duplicates \n",
    "dataSet.duplicated()"
   ]
  },
  {
   "cell_type": "code",
   "execution_count": 145,
   "id": "9c6c6170-3330-4d62-a68a-43a86a506166",
   "metadata": {},
   "outputs": [
    {
     "data": {
      "text/plain": [
       "0    False\n",
       "1    False\n",
       "2    False\n",
       "3     True\n",
       "4     True\n",
       "5    False\n",
       "dtype: bool"
      ]
     },
     "execution_count": 145,
     "metadata": {},
     "output_type": "execute_result"
    }
   ],
   "source": [
    "# Find duplicates based on the 'student' column \n",
    "dataSet.duplicated(subset=['student'])"
   ]
  },
  {
   "cell_type": "code",
   "execution_count": 146,
   "id": "00836c10-574f-43e1-9a1c-b25a6f6c437c",
   "metadata": {},
   "outputs": [
    {
     "data": {
      "text/html": [
       "<div>\n",
       "<style scoped>\n",
       "    .dataframe tbody tr th:only-of-type {\n",
       "        vertical-align: middle;\n",
       "    }\n",
       "\n",
       "    .dataframe tbody tr th {\n",
       "        vertical-align: top;\n",
       "    }\n",
       "\n",
       "    .dataframe thead th {\n",
       "        text-align: right;\n",
       "    }\n",
       "</style>\n",
       "<table border=\"1\" class=\"dataframe\">\n",
       "  <thead>\n",
       "    <tr style=\"text-align: right;\">\n",
       "      <th></th>\n",
       "      <th>student</th>\n",
       "      <th>marks</th>\n",
       "      <th>rank</th>\n",
       "    </tr>\n",
       "  </thead>\n",
       "  <tbody>\n",
       "    <tr>\n",
       "      <th>0</th>\n",
       "      <td>revanth</td>\n",
       "      <td>90</td>\n",
       "      <td>1</td>\n",
       "    </tr>\n",
       "    <tr>\n",
       "      <th>1</th>\n",
       "      <td>kumar</td>\n",
       "      <td>98</td>\n",
       "      <td>2</td>\n",
       "    </tr>\n",
       "    <tr>\n",
       "      <th>2</th>\n",
       "      <td>jeya</td>\n",
       "      <td>100</td>\n",
       "      <td>3</td>\n",
       "    </tr>\n",
       "    <tr>\n",
       "      <th>5</th>\n",
       "      <td>arjun</td>\n",
       "      <td>85</td>\n",
       "      <td>4</td>\n",
       "    </tr>\n",
       "  </tbody>\n",
       "</table>\n",
       "</div>"
      ],
      "text/plain": [
       "   student  marks  rank\n",
       "0  revanth     90     1\n",
       "1    kumar     98     2\n",
       "2     jeya    100     3\n",
       "5    arjun     85     4"
      ]
     },
     "execution_count": 146,
     "metadata": {},
     "output_type": "execute_result"
    }
   ],
   "source": [
    "#  Remove duplicate rows \n",
    "dataSet.drop_duplicates()"
   ]
  },
  {
   "cell_type": "code",
   "execution_count": 147,
   "id": "c11673f9-2e2a-416c-bae3-527bb1eac3b7",
   "metadata": {},
   "outputs": [
    {
     "data": {
      "text/html": [
       "<div>\n",
       "<style scoped>\n",
       "    .dataframe tbody tr th:only-of-type {\n",
       "        vertical-align: middle;\n",
       "    }\n",
       "\n",
       "    .dataframe tbody tr th {\n",
       "        vertical-align: top;\n",
       "    }\n",
       "\n",
       "    .dataframe thead th {\n",
       "        text-align: right;\n",
       "    }\n",
       "</style>\n",
       "<table border=\"1\" class=\"dataframe\">\n",
       "  <thead>\n",
       "    <tr style=\"text-align: right;\">\n",
       "      <th></th>\n",
       "      <th>student</th>\n",
       "      <th>marks</th>\n",
       "      <th>rank</th>\n",
       "    </tr>\n",
       "  </thead>\n",
       "  <tbody>\n",
       "    <tr>\n",
       "      <th>0</th>\n",
       "      <td>revanth</td>\n",
       "      <td>90</td>\n",
       "      <td>1</td>\n",
       "    </tr>\n",
       "    <tr>\n",
       "      <th>1</th>\n",
       "      <td>kumar</td>\n",
       "      <td>98</td>\n",
       "      <td>2</td>\n",
       "    </tr>\n",
       "    <tr>\n",
       "      <th>2</th>\n",
       "      <td>jeya</td>\n",
       "      <td>100</td>\n",
       "      <td>3</td>\n",
       "    </tr>\n",
       "    <tr>\n",
       "      <th>5</th>\n",
       "      <td>arjun</td>\n",
       "      <td>85</td>\n",
       "      <td>4</td>\n",
       "    </tr>\n",
       "  </tbody>\n",
       "</table>\n",
       "</div>"
      ],
      "text/plain": [
       "   student  marks  rank\n",
       "0  revanth     90     1\n",
       "1    kumar     98     2\n",
       "2     jeya    100     3\n",
       "5    arjun     85     4"
      ]
     },
     "execution_count": 147,
     "metadata": {},
     "output_type": "execute_result"
    }
   ],
   "source": [
    "dataSet.drop_duplicates(subset=['student'])"
   ]
  },
  {
   "cell_type": "code",
   "execution_count": 148,
   "id": "f75e6660-7961-4597-b2ab-60de64fe0d78",
   "metadata": {},
   "outputs": [],
   "source": [
    "# Remove duplicates in-place\n",
    "dataSet.drop_duplicates(inplace=True)"
   ]
  },
  {
   "cell_type": "code",
   "execution_count": 149,
   "id": "ecf5832a-ce6b-43c7-820e-73927e4cadcd",
   "metadata": {},
   "outputs": [
    {
     "data": {
      "text/html": [
       "<div>\n",
       "<style scoped>\n",
       "    .dataframe tbody tr th:only-of-type {\n",
       "        vertical-align: middle;\n",
       "    }\n",
       "\n",
       "    .dataframe tbody tr th {\n",
       "        vertical-align: top;\n",
       "    }\n",
       "\n",
       "    .dataframe thead th {\n",
       "        text-align: right;\n",
       "    }\n",
       "</style>\n",
       "<table border=\"1\" class=\"dataframe\">\n",
       "  <thead>\n",
       "    <tr style=\"text-align: right;\">\n",
       "      <th></th>\n",
       "      <th>student</th>\n",
       "      <th>marks</th>\n",
       "      <th>rank</th>\n",
       "    </tr>\n",
       "  </thead>\n",
       "  <tbody>\n",
       "    <tr>\n",
       "      <th>0</th>\n",
       "      <td>revanth</td>\n",
       "      <td>90</td>\n",
       "      <td>1</td>\n",
       "    </tr>\n",
       "    <tr>\n",
       "      <th>1</th>\n",
       "      <td>kumar</td>\n",
       "      <td>98</td>\n",
       "      <td>2</td>\n",
       "    </tr>\n",
       "    <tr>\n",
       "      <th>2</th>\n",
       "      <td>jeya</td>\n",
       "      <td>100</td>\n",
       "      <td>3</td>\n",
       "    </tr>\n",
       "    <tr>\n",
       "      <th>5</th>\n",
       "      <td>arjun</td>\n",
       "      <td>85</td>\n",
       "      <td>4</td>\n",
       "    </tr>\n",
       "  </tbody>\n",
       "</table>\n",
       "</div>"
      ],
      "text/plain": [
       "   student  marks  rank\n",
       "0  revanth     90     1\n",
       "1    kumar     98     2\n",
       "2     jeya    100     3\n",
       "5    arjun     85     4"
      ]
     },
     "execution_count": 149,
     "metadata": {},
     "output_type": "execute_result"
    }
   ],
   "source": [
    "dataSet"
   ]
  },
  {
   "cell_type": "markdown",
   "id": "f61b953f-0ee5-44ba-ae9d-3958b34d7282",
   "metadata": {},
   "source": [
    "# How to clean the data "
   ]
  },
  {
   "cell_type": "code",
   "execution_count": 150,
   "id": "af0248bc-3339-46e0-953b-967e7a34c7f0",
   "metadata": {},
   "outputs": [
    {
     "data": {
      "text/html": [
       "<div>\n",
       "<style scoped>\n",
       "    .dataframe tbody tr th:only-of-type {\n",
       "        vertical-align: middle;\n",
       "    }\n",
       "\n",
       "    .dataframe tbody tr th {\n",
       "        vertical-align: top;\n",
       "    }\n",
       "\n",
       "    .dataframe thead th {\n",
       "        text-align: right;\n",
       "    }\n",
       "</style>\n",
       "<table border=\"1\" class=\"dataframe\">\n",
       "  <thead>\n",
       "    <tr style=\"text-align: right;\">\n",
       "      <th></th>\n",
       "      <th>student</th>\n",
       "      <th>marks</th>\n",
       "      <th>rank</th>\n",
       "      <th>gender</th>\n",
       "      <th>enrollment_date</th>\n",
       "    </tr>\n",
       "  </thead>\n",
       "  <tbody>\n",
       "    <tr>\n",
       "      <th>0</th>\n",
       "      <td>Revanth</td>\n",
       "      <td>90</td>\n",
       "      <td>1.0</td>\n",
       "      <td>Male</td>\n",
       "      <td>2023-01-10</td>\n",
       "    </tr>\n",
       "    <tr>\n",
       "      <th>1</th>\n",
       "      <td>kumar</td>\n",
       "      <td>98</td>\n",
       "      <td>2.0</td>\n",
       "      <td>Male</td>\n",
       "      <td>2023-01-15</td>\n",
       "    </tr>\n",
       "    <tr>\n",
       "      <th>2</th>\n",
       "      <td>Jeya</td>\n",
       "      <td>NaN</td>\n",
       "      <td>3.0</td>\n",
       "      <td>Female</td>\n",
       "      <td>2023/01/20</td>\n",
       "    </tr>\n",
       "    <tr>\n",
       "      <th>3</th>\n",
       "      <td>Arjun</td>\n",
       "      <td>85</td>\n",
       "      <td>4.0</td>\n",
       "      <td>Male</td>\n",
       "      <td>15-01-2023</td>\n",
       "    </tr>\n",
       "    <tr>\n",
       "      <th>4</th>\n",
       "      <td>Kumar</td>\n",
       "      <td>98</td>\n",
       "      <td>NaN</td>\n",
       "      <td>Male</td>\n",
       "      <td>2023-01-15</td>\n",
       "    </tr>\n",
       "    <tr>\n",
       "      <th>5</th>\n",
       "      <td>None</td>\n",
       "      <td>72</td>\n",
       "      <td>5.0</td>\n",
       "      <td>NaN</td>\n",
       "      <td>None</td>\n",
       "    </tr>\n",
       "    <tr>\n",
       "      <th>6</th>\n",
       "      <td>Sree</td>\n",
       "      <td>N/A</td>\n",
       "      <td>6.0</td>\n",
       "      <td>Female</td>\n",
       "      <td>2023-02-01</td>\n",
       "    </tr>\n",
       "  </tbody>\n",
       "</table>\n",
       "</div>"
      ],
      "text/plain": [
       "   student marks  rank  gender enrollment_date\n",
       "0  Revanth    90   1.0    Male      2023-01-10\n",
       "1    kumar    98   2.0    Male      2023-01-15\n",
       "2     Jeya   NaN   3.0  Female      2023/01/20\n",
       "3    Arjun    85   4.0    Male      15-01-2023\n",
       "4    Kumar    98   NaN    Male      2023-01-15\n",
       "5     None    72   5.0     NaN            None\n",
       "6     Sree   N/A   6.0  Female      2023-02-01"
      ]
     },
     "execution_count": 150,
     "metadata": {},
     "output_type": "execute_result"
    }
   ],
   "source": [
    "data = {\n",
    "    'student': ['Revanth', 'kumar', 'Jeya', 'Arjun', 'Kumar', None, 'Sree'],\n",
    "    'marks': [90, 98, np.nan, 85, 98, 72, 'N/A'],\n",
    "    'rank': [1, 2, 3, 4, np.nan, 5, 6],\n",
    "    'gender': ['Male', 'Male', 'Female', 'Male', 'Male', np.nan, 'Female'],\n",
    "    'enrollment_date': ['2023-01-10', '2023-01-15', '2023/01/20', '15-01-2023', '2023-01-15', None, '2023-02-01']\n",
    "}\n",
    "\n",
    "dataSet = pd.DataFrame(data)\n",
    "dataSet"
   ]
  },
  {
   "cell_type": "markdown",
   "id": "6bc638d3-2483-4d49-99b6-82d1aa26d557",
   "metadata": {},
   "source": [
    "### Identify and Handle Missing Values  "
   ]
  },
  {
   "cell_type": "code",
   "execution_count": 151,
   "id": "7ac30504-f119-49fb-8a7d-20c283ed4f83",
   "metadata": {},
   "outputs": [
    {
     "data": {
      "text/plain": [
       "student            1\n",
       "marks              1\n",
       "rank               1\n",
       "gender             1\n",
       "enrollment_date    1\n",
       "dtype: int64"
      ]
     },
     "execution_count": 151,
     "metadata": {},
     "output_type": "execute_result"
    }
   ],
   "source": [
    "dataSet.isnull().sum()"
   ]
  },
  {
   "cell_type": "markdown",
   "id": "400660cc-be3e-49fc-a0e8-082fb62a35f4",
   "metadata": {},
   "source": [
    "### Fill missing values (for example, fill with mean or a specific value) "
   ]
  },
  {
   "cell_type": "code",
   "execution_count": 152,
   "id": "4dc5474e-069d-4a95-9aad-42872cdf2595",
   "metadata": {},
   "outputs": [
    {
     "data": {
      "text/plain": [
       "student             object\n",
       "marks               object\n",
       "rank               float64\n",
       "gender              object\n",
       "enrollment_date     object\n",
       "dtype: object"
      ]
     },
     "execution_count": 152,
     "metadata": {},
     "output_type": "execute_result"
    }
   ],
   "source": [
    "dataSet.dtypes"
   ]
  },
  {
   "cell_type": "code",
   "execution_count": 153,
   "id": "9ca210f7-df3c-48f3-a53b-a5ead2c6fbd0",
   "metadata": {},
   "outputs": [],
   "source": [
    "dataSet['marks'] = pd.to_numeric(dataSet['marks'], errors='coerce') # Convert 'marks' column to numeric"
   ]
  },
  {
   "cell_type": "code",
   "execution_count": 154,
   "id": "a7a880cd-7216-459b-9bf0-8a0ac077eb1b",
   "metadata": {},
   "outputs": [
    {
     "data": {
      "text/plain": [
       "student             object\n",
       "marks              float64\n",
       "rank               float64\n",
       "gender              object\n",
       "enrollment_date     object\n",
       "dtype: object"
      ]
     },
     "execution_count": 154,
     "metadata": {},
     "output_type": "execute_result"
    }
   ],
   "source": [
    "dataSet.dtypes"
   ]
  },
  {
   "cell_type": "code",
   "execution_count": 155,
   "id": "96fb8cd4-70b9-4a0a-a16a-c2126b480300",
   "metadata": {},
   "outputs": [],
   "source": [
    "dataSet['marks'].fillna(dataSet['marks'].mean(), inplace=True)"
   ]
  },
  {
   "cell_type": "code",
   "execution_count": 156,
   "id": "7caf5526-bc36-4858-9cfa-4b8ac31fcb62",
   "metadata": {},
   "outputs": [
    {
     "data": {
      "text/html": [
       "<div>\n",
       "<style scoped>\n",
       "    .dataframe tbody tr th:only-of-type {\n",
       "        vertical-align: middle;\n",
       "    }\n",
       "\n",
       "    .dataframe tbody tr th {\n",
       "        vertical-align: top;\n",
       "    }\n",
       "\n",
       "    .dataframe thead th {\n",
       "        text-align: right;\n",
       "    }\n",
       "</style>\n",
       "<table border=\"1\" class=\"dataframe\">\n",
       "  <thead>\n",
       "    <tr style=\"text-align: right;\">\n",
       "      <th></th>\n",
       "      <th>student</th>\n",
       "      <th>marks</th>\n",
       "      <th>rank</th>\n",
       "      <th>gender</th>\n",
       "      <th>enrollment_date</th>\n",
       "    </tr>\n",
       "  </thead>\n",
       "  <tbody>\n",
       "    <tr>\n",
       "      <th>0</th>\n",
       "      <td>Revanth</td>\n",
       "      <td>90.0</td>\n",
       "      <td>1.0</td>\n",
       "      <td>Male</td>\n",
       "      <td>2023-01-10</td>\n",
       "    </tr>\n",
       "    <tr>\n",
       "      <th>1</th>\n",
       "      <td>kumar</td>\n",
       "      <td>98.0</td>\n",
       "      <td>2.0</td>\n",
       "      <td>Male</td>\n",
       "      <td>2023-01-15</td>\n",
       "    </tr>\n",
       "    <tr>\n",
       "      <th>2</th>\n",
       "      <td>Jeya</td>\n",
       "      <td>88.6</td>\n",
       "      <td>3.0</td>\n",
       "      <td>Female</td>\n",
       "      <td>2023/01/20</td>\n",
       "    </tr>\n",
       "    <tr>\n",
       "      <th>3</th>\n",
       "      <td>Arjun</td>\n",
       "      <td>85.0</td>\n",
       "      <td>4.0</td>\n",
       "      <td>Male</td>\n",
       "      <td>15-01-2023</td>\n",
       "    </tr>\n",
       "    <tr>\n",
       "      <th>4</th>\n",
       "      <td>Kumar</td>\n",
       "      <td>98.0</td>\n",
       "      <td>NaN</td>\n",
       "      <td>Male</td>\n",
       "      <td>2023-01-15</td>\n",
       "    </tr>\n",
       "    <tr>\n",
       "      <th>5</th>\n",
       "      <td>None</td>\n",
       "      <td>72.0</td>\n",
       "      <td>5.0</td>\n",
       "      <td>NaN</td>\n",
       "      <td>None</td>\n",
       "    </tr>\n",
       "    <tr>\n",
       "      <th>6</th>\n",
       "      <td>Sree</td>\n",
       "      <td>88.6</td>\n",
       "      <td>6.0</td>\n",
       "      <td>Female</td>\n",
       "      <td>2023-02-01</td>\n",
       "    </tr>\n",
       "  </tbody>\n",
       "</table>\n",
       "</div>"
      ],
      "text/plain": [
       "   student  marks  rank  gender enrollment_date\n",
       "0  Revanth   90.0   1.0    Male      2023-01-10\n",
       "1    kumar   98.0   2.0    Male      2023-01-15\n",
       "2     Jeya   88.6   3.0  Female      2023/01/20\n",
       "3    Arjun   85.0   4.0    Male      15-01-2023\n",
       "4    Kumar   98.0   NaN    Male      2023-01-15\n",
       "5     None   72.0   5.0     NaN            None\n",
       "6     Sree   88.6   6.0  Female      2023-02-01"
      ]
     },
     "execution_count": 156,
     "metadata": {},
     "output_type": "execute_result"
    }
   ],
   "source": [
    "dataSet"
   ]
  },
  {
   "cell_type": "code",
   "execution_count": 157,
   "id": "b3d34a2c-7df6-476d-8ff6-661ba5c38435",
   "metadata": {},
   "outputs": [
    {
     "data": {
      "text/html": [
       "<div>\n",
       "<style scoped>\n",
       "    .dataframe tbody tr th:only-of-type {\n",
       "        vertical-align: middle;\n",
       "    }\n",
       "\n",
       "    .dataframe tbody tr th {\n",
       "        vertical-align: top;\n",
       "    }\n",
       "\n",
       "    .dataframe thead th {\n",
       "        text-align: right;\n",
       "    }\n",
       "</style>\n",
       "<table border=\"1\" class=\"dataframe\">\n",
       "  <thead>\n",
       "    <tr style=\"text-align: right;\">\n",
       "      <th></th>\n",
       "      <th>student</th>\n",
       "      <th>marks</th>\n",
       "      <th>rank</th>\n",
       "      <th>gender</th>\n",
       "      <th>enrollment_date</th>\n",
       "    </tr>\n",
       "  </thead>\n",
       "  <tbody>\n",
       "    <tr>\n",
       "      <th>0</th>\n",
       "      <td>Revanth</td>\n",
       "      <td>90.0</td>\n",
       "      <td>1.0</td>\n",
       "      <td>Male</td>\n",
       "      <td>2023-01-10</td>\n",
       "    </tr>\n",
       "    <tr>\n",
       "      <th>1</th>\n",
       "      <td>kumar</td>\n",
       "      <td>98.0</td>\n",
       "      <td>2.0</td>\n",
       "      <td>Male</td>\n",
       "      <td>2023-01-15</td>\n",
       "    </tr>\n",
       "    <tr>\n",
       "      <th>2</th>\n",
       "      <td>Jeya</td>\n",
       "      <td>88.6</td>\n",
       "      <td>3.0</td>\n",
       "      <td>Female</td>\n",
       "      <td>2023/01/20</td>\n",
       "    </tr>\n",
       "    <tr>\n",
       "      <th>3</th>\n",
       "      <td>Arjun</td>\n",
       "      <td>85.0</td>\n",
       "      <td>4.0</td>\n",
       "      <td>Male</td>\n",
       "      <td>15-01-2023</td>\n",
       "    </tr>\n",
       "    <tr>\n",
       "      <th>6</th>\n",
       "      <td>Sree</td>\n",
       "      <td>88.6</td>\n",
       "      <td>6.0</td>\n",
       "      <td>Female</td>\n",
       "      <td>2023-02-01</td>\n",
       "    </tr>\n",
       "  </tbody>\n",
       "</table>\n",
       "</div>"
      ],
      "text/plain": [
       "   student  marks  rank  gender enrollment_date\n",
       "0  Revanth   90.0   1.0    Male      2023-01-10\n",
       "1    kumar   98.0   2.0    Male      2023-01-15\n",
       "2     Jeya   88.6   3.0  Female      2023/01/20\n",
       "3    Arjun   85.0   4.0    Male      15-01-2023\n",
       "6     Sree   88.6   6.0  Female      2023-02-01"
      ]
     },
     "execution_count": 157,
     "metadata": {},
     "output_type": "execute_result"
    }
   ],
   "source": [
    "# Drop rows with any missing values \n",
    "dataSet.dropna()"
   ]
  },
  {
   "cell_type": "markdown",
   "id": "85d0033d-4873-4150-a692-c33dd26f81e0",
   "metadata": {},
   "source": [
    "###  Correct Inconsistent Data"
   ]
  },
  {
   "cell_type": "code",
   "execution_count": 158,
   "id": "ba92caaf-1e6d-4bf6-ae10-705eb18244b5",
   "metadata": {},
   "outputs": [
    {
     "data": {
      "text/html": [
       "<div>\n",
       "<style scoped>\n",
       "    .dataframe tbody tr th:only-of-type {\n",
       "        vertical-align: middle;\n",
       "    }\n",
       "\n",
       "    .dataframe tbody tr th {\n",
       "        vertical-align: top;\n",
       "    }\n",
       "\n",
       "    .dataframe thead th {\n",
       "        text-align: right;\n",
       "    }\n",
       "</style>\n",
       "<table border=\"1\" class=\"dataframe\">\n",
       "  <thead>\n",
       "    <tr style=\"text-align: right;\">\n",
       "      <th></th>\n",
       "      <th>student</th>\n",
       "      <th>marks</th>\n",
       "      <th>rank</th>\n",
       "      <th>gender</th>\n",
       "      <th>enrollment_date</th>\n",
       "    </tr>\n",
       "  </thead>\n",
       "  <tbody>\n",
       "    <tr>\n",
       "      <th>0</th>\n",
       "      <td>Revanth</td>\n",
       "      <td>90</td>\n",
       "      <td>1.0</td>\n",
       "      <td>Male</td>\n",
       "      <td>2023-01-10</td>\n",
       "    </tr>\n",
       "    <tr>\n",
       "      <th>1</th>\n",
       "      <td>kumar</td>\n",
       "      <td>98</td>\n",
       "      <td>2.0</td>\n",
       "      <td>Male</td>\n",
       "      <td>2023-01-15</td>\n",
       "    </tr>\n",
       "    <tr>\n",
       "      <th>2</th>\n",
       "      <td>Jeya</td>\n",
       "      <td>NaN</td>\n",
       "      <td>3.0</td>\n",
       "      <td>Female</td>\n",
       "      <td>2023/01/20</td>\n",
       "    </tr>\n",
       "    <tr>\n",
       "      <th>3</th>\n",
       "      <td>Arjun</td>\n",
       "      <td>85</td>\n",
       "      <td>4.0</td>\n",
       "      <td>Male</td>\n",
       "      <td>15-01-2023</td>\n",
       "    </tr>\n",
       "    <tr>\n",
       "      <th>4</th>\n",
       "      <td>Kumar</td>\n",
       "      <td>98</td>\n",
       "      <td>NaN</td>\n",
       "      <td>Male</td>\n",
       "      <td>2023-01-15</td>\n",
       "    </tr>\n",
       "    <tr>\n",
       "      <th>5</th>\n",
       "      <td>None</td>\n",
       "      <td>72</td>\n",
       "      <td>5.0</td>\n",
       "      <td>NaN</td>\n",
       "      <td>None</td>\n",
       "    </tr>\n",
       "    <tr>\n",
       "      <th>6</th>\n",
       "      <td>Sree</td>\n",
       "      <td>N/A</td>\n",
       "      <td>6.0</td>\n",
       "      <td>Female</td>\n",
       "      <td>2023-02-01</td>\n",
       "    </tr>\n",
       "  </tbody>\n",
       "</table>\n",
       "</div>"
      ],
      "text/plain": [
       "   student marks  rank  gender enrollment_date\n",
       "0  Revanth    90   1.0    Male      2023-01-10\n",
       "1    kumar    98   2.0    Male      2023-01-15\n",
       "2     Jeya   NaN   3.0  Female      2023/01/20\n",
       "3    Arjun    85   4.0    Male      15-01-2023\n",
       "4    Kumar    98   NaN    Male      2023-01-15\n",
       "5     None    72   5.0     NaN            None\n",
       "6     Sree   N/A   6.0  Female      2023-02-01"
      ]
     },
     "execution_count": 158,
     "metadata": {},
     "output_type": "execute_result"
    }
   ],
   "source": [
    "data = {\n",
    "    'student': ['Revanth', 'kumar', 'Jeya', 'Arjun', 'Kumar', None, 'Sree'],\n",
    "    'marks': [90, 98, np.nan, 85, 98, 72, 'N/A'],\n",
    "    'rank': [1, 2, 3, 4, np.nan, 5, 6],\n",
    "    'gender': ['Male', 'Male', 'Female', 'Male', 'Male', np.nan, 'Female'],\n",
    "    'enrollment_date': ['2023-01-10', '2023-01-15', '2023/01/20', '15-01-2023', '2023-01-15', None, '2023-02-01']\n",
    "}\n",
    "\n",
    "dataSet = pd.DataFrame(data)\n",
    "dataSet"
   ]
  },
  {
   "cell_type": "code",
   "execution_count": 159,
   "id": "ccbaa4fb-386c-4c12-9a40-26ef2f4b2c94",
   "metadata": {},
   "outputs": [],
   "source": [
    "# Convert all student names to title case\n",
    "dataSet['student'] = dataSet['student'].str.title()"
   ]
  },
  {
   "cell_type": "code",
   "execution_count": 160,
   "id": "8eacd295-93aa-4009-b251-456553e77e3b",
   "metadata": {},
   "outputs": [],
   "source": [
    "# Standardize date format\n",
    "dataSet['enrollment_date']  = pd.to_datetime(dataSet['enrollment_date'], errors='coerce')"
   ]
  },
  {
   "cell_type": "code",
   "execution_count": 161,
   "id": "53619093-c161-41fd-b0a3-7fdfd02b7eab",
   "metadata": {},
   "outputs": [
    {
     "data": {
      "text/plain": [
       "0   2023-01-10\n",
       "1   2023-01-15\n",
       "2          NaT\n",
       "3          NaT\n",
       "4   2023-01-15\n",
       "5          NaT\n",
       "6   2023-02-01\n",
       "Name: enrollment_date, dtype: datetime64[ns]"
      ]
     },
     "execution_count": 161,
     "metadata": {},
     "output_type": "execute_result"
    }
   ],
   "source": [
    "dataSet['enrollment_date']"
   ]
  },
  {
   "cell_type": "markdown",
   "id": "2152fcc9-b095-469f-9716-83c8d0d3737c",
   "metadata": {},
   "source": [
    "### Remove or Correct Invalid Data"
   ]
  },
  {
   "cell_type": "code",
   "execution_count": 162,
   "id": "e68f76ff-ece2-4333-8e80-6cb0b261421e",
   "metadata": {},
   "outputs": [
    {
     "data": {
      "text/html": [
       "<div>\n",
       "<style scoped>\n",
       "    .dataframe tbody tr th:only-of-type {\n",
       "        vertical-align: middle;\n",
       "    }\n",
       "\n",
       "    .dataframe tbody tr th {\n",
       "        vertical-align: top;\n",
       "    }\n",
       "\n",
       "    .dataframe thead th {\n",
       "        text-align: right;\n",
       "    }\n",
       "</style>\n",
       "<table border=\"1\" class=\"dataframe\">\n",
       "  <thead>\n",
       "    <tr style=\"text-align: right;\">\n",
       "      <th></th>\n",
       "      <th>student</th>\n",
       "      <th>marks</th>\n",
       "      <th>rank</th>\n",
       "      <th>gender</th>\n",
       "      <th>enrollment_date</th>\n",
       "    </tr>\n",
       "  </thead>\n",
       "  <tbody>\n",
       "    <tr>\n",
       "      <th>0</th>\n",
       "      <td>Revanth</td>\n",
       "      <td>90</td>\n",
       "      <td>1.0</td>\n",
       "      <td>Male</td>\n",
       "      <td>2023-01-10</td>\n",
       "    </tr>\n",
       "    <tr>\n",
       "      <th>1</th>\n",
       "      <td>kumar</td>\n",
       "      <td>98</td>\n",
       "      <td>2.0</td>\n",
       "      <td>Male</td>\n",
       "      <td>2023-01-15</td>\n",
       "    </tr>\n",
       "    <tr>\n",
       "      <th>2</th>\n",
       "      <td>Jeya</td>\n",
       "      <td>NaN</td>\n",
       "      <td>3.0</td>\n",
       "      <td>Female</td>\n",
       "      <td>2023/01/20</td>\n",
       "    </tr>\n",
       "    <tr>\n",
       "      <th>3</th>\n",
       "      <td>Arjun</td>\n",
       "      <td>85</td>\n",
       "      <td>4.0</td>\n",
       "      <td>Male</td>\n",
       "      <td>15-01-2023</td>\n",
       "    </tr>\n",
       "    <tr>\n",
       "      <th>4</th>\n",
       "      <td>Kumar</td>\n",
       "      <td>98</td>\n",
       "      <td>NaN</td>\n",
       "      <td>Male</td>\n",
       "      <td>2023-01-15</td>\n",
       "    </tr>\n",
       "    <tr>\n",
       "      <th>5</th>\n",
       "      <td>None</td>\n",
       "      <td>72</td>\n",
       "      <td>5.0</td>\n",
       "      <td>NaN</td>\n",
       "      <td>None</td>\n",
       "    </tr>\n",
       "    <tr>\n",
       "      <th>6</th>\n",
       "      <td>Sree</td>\n",
       "      <td>N/A</td>\n",
       "      <td>6.0</td>\n",
       "      <td>Female</td>\n",
       "      <td>2023-02-01</td>\n",
       "    </tr>\n",
       "  </tbody>\n",
       "</table>\n",
       "</div>"
      ],
      "text/plain": [
       "   student marks  rank  gender enrollment_date\n",
       "0  Revanth    90   1.0    Male      2023-01-10\n",
       "1    kumar    98   2.0    Male      2023-01-15\n",
       "2     Jeya   NaN   3.0  Female      2023/01/20\n",
       "3    Arjun    85   4.0    Male      15-01-2023\n",
       "4    Kumar    98   NaN    Male      2023-01-15\n",
       "5     None    72   5.0     NaN            None\n",
       "6     Sree   N/A   6.0  Female      2023-02-01"
      ]
     },
     "execution_count": 162,
     "metadata": {},
     "output_type": "execute_result"
    }
   ],
   "source": [
    "data = {\n",
    "    'student': ['Revanth', 'kumar', 'Jeya', 'Arjun', 'Kumar', None, 'Sree'],\n",
    "    'marks': [90, 98, np.nan, 85, 98, 72, 'N/A'],\n",
    "    'rank': [1, 2, 3, 4, np.nan, 5, 6],\n",
    "    'gender': ['Male', 'Male', 'Female', 'Male', 'Male', np.nan, 'Female'],\n",
    "    'enrollment_date': ['2023-01-10', '2023-01-15', '2023/01/20', '15-01-2023', '2023-01-15', None, '2023-02-01']\n",
    "}\n",
    "\n",
    "dataSet = pd.DataFrame(data)\n",
    "dataSet"
   ]
  },
  {
   "cell_type": "code",
   "execution_count": 163,
   "id": "cf2ecd33-96f0-4475-9959-310fa057ae90",
   "metadata": {},
   "outputs": [],
   "source": [
    "# Convert 'marks' column to numeric, forcing errors to NaN\n",
    "dataSet['marks'] = pd.to_numeric(dataSet['marks'], errors='coerce')"
   ]
  },
  {
   "cell_type": "code",
   "execution_count": 164,
   "id": "0b750d5f-1a6e-44b4-9e0c-c4b6aac447c1",
   "metadata": {},
   "outputs": [],
   "source": [
    "# Remove or correct invalid data\n",
    "dataSet.dropna(subset=['marks', 'rank'], inplace=True) "
   ]
  },
  {
   "cell_type": "code",
   "execution_count": 165,
   "id": "f203480c-5af6-4f99-a6a1-9fd76009e01c",
   "metadata": {},
   "outputs": [
    {
     "data": {
      "text/html": [
       "<div>\n",
       "<style scoped>\n",
       "    .dataframe tbody tr th:only-of-type {\n",
       "        vertical-align: middle;\n",
       "    }\n",
       "\n",
       "    .dataframe tbody tr th {\n",
       "        vertical-align: top;\n",
       "    }\n",
       "\n",
       "    .dataframe thead th {\n",
       "        text-align: right;\n",
       "    }\n",
       "</style>\n",
       "<table border=\"1\" class=\"dataframe\">\n",
       "  <thead>\n",
       "    <tr style=\"text-align: right;\">\n",
       "      <th></th>\n",
       "      <th>student</th>\n",
       "      <th>marks</th>\n",
       "      <th>rank</th>\n",
       "      <th>gender</th>\n",
       "      <th>enrollment_date</th>\n",
       "    </tr>\n",
       "  </thead>\n",
       "  <tbody>\n",
       "    <tr>\n",
       "      <th>0</th>\n",
       "      <td>Revanth</td>\n",
       "      <td>90.0</td>\n",
       "      <td>1.0</td>\n",
       "      <td>Male</td>\n",
       "      <td>2023-01-10</td>\n",
       "    </tr>\n",
       "    <tr>\n",
       "      <th>1</th>\n",
       "      <td>kumar</td>\n",
       "      <td>98.0</td>\n",
       "      <td>2.0</td>\n",
       "      <td>Male</td>\n",
       "      <td>2023-01-15</td>\n",
       "    </tr>\n",
       "    <tr>\n",
       "      <th>3</th>\n",
       "      <td>Arjun</td>\n",
       "      <td>85.0</td>\n",
       "      <td>4.0</td>\n",
       "      <td>Male</td>\n",
       "      <td>15-01-2023</td>\n",
       "    </tr>\n",
       "    <tr>\n",
       "      <th>5</th>\n",
       "      <td>None</td>\n",
       "      <td>72.0</td>\n",
       "      <td>5.0</td>\n",
       "      <td>NaN</td>\n",
       "      <td>None</td>\n",
       "    </tr>\n",
       "  </tbody>\n",
       "</table>\n",
       "</div>"
      ],
      "text/plain": [
       "   student  marks  rank gender enrollment_date\n",
       "0  Revanth   90.0   1.0   Male      2023-01-10\n",
       "1    kumar   98.0   2.0   Male      2023-01-15\n",
       "3    Arjun   85.0   4.0   Male      15-01-2023\n",
       "5     None   72.0   5.0    NaN            None"
      ]
     },
     "execution_count": 165,
     "metadata": {},
     "output_type": "execute_result"
    }
   ],
   "source": [
    "dataSet"
   ]
  },
  {
   "cell_type": "markdown",
   "id": "a30a1d2c-5427-4c5a-8a61-19c32483bb04",
   "metadata": {},
   "source": [
    "### Handle Duplicates"
   ]
  },
  {
   "cell_type": "code",
   "execution_count": 166,
   "id": "b95d8633-6259-4f68-9ef9-79c12ceb1474",
   "metadata": {},
   "outputs": [
    {
     "data": {
      "text/html": [
       "<div>\n",
       "<style scoped>\n",
       "    .dataframe tbody tr th:only-of-type {\n",
       "        vertical-align: middle;\n",
       "    }\n",
       "\n",
       "    .dataframe tbody tr th {\n",
       "        vertical-align: top;\n",
       "    }\n",
       "\n",
       "    .dataframe thead th {\n",
       "        text-align: right;\n",
       "    }\n",
       "</style>\n",
       "<table border=\"1\" class=\"dataframe\">\n",
       "  <thead>\n",
       "    <tr style=\"text-align: right;\">\n",
       "      <th></th>\n",
       "      <th>student</th>\n",
       "      <th>marks</th>\n",
       "      <th>rank</th>\n",
       "      <th>gender</th>\n",
       "      <th>enrollment_date</th>\n",
       "    </tr>\n",
       "  </thead>\n",
       "  <tbody>\n",
       "    <tr>\n",
       "      <th>0</th>\n",
       "      <td>Revanth</td>\n",
       "      <td>90</td>\n",
       "      <td>1.0</td>\n",
       "      <td>Male</td>\n",
       "      <td>2023-01-10</td>\n",
       "    </tr>\n",
       "    <tr>\n",
       "      <th>1</th>\n",
       "      <td>kumar</td>\n",
       "      <td>98</td>\n",
       "      <td>2.0</td>\n",
       "      <td>Male</td>\n",
       "      <td>2023-01-15</td>\n",
       "    </tr>\n",
       "    <tr>\n",
       "      <th>2</th>\n",
       "      <td>Jeya</td>\n",
       "      <td>NaN</td>\n",
       "      <td>3.0</td>\n",
       "      <td>Female</td>\n",
       "      <td>2023/01/20</td>\n",
       "    </tr>\n",
       "    <tr>\n",
       "      <th>3</th>\n",
       "      <td>Arjun</td>\n",
       "      <td>85</td>\n",
       "      <td>4.0</td>\n",
       "      <td>Male</td>\n",
       "      <td>15-01-2023</td>\n",
       "    </tr>\n",
       "    <tr>\n",
       "      <th>4</th>\n",
       "      <td>Kumar</td>\n",
       "      <td>98</td>\n",
       "      <td>NaN</td>\n",
       "      <td>Male</td>\n",
       "      <td>2023-01-15</td>\n",
       "    </tr>\n",
       "    <tr>\n",
       "      <th>5</th>\n",
       "      <td>None</td>\n",
       "      <td>72</td>\n",
       "      <td>5.0</td>\n",
       "      <td>NaN</td>\n",
       "      <td>None</td>\n",
       "    </tr>\n",
       "    <tr>\n",
       "      <th>6</th>\n",
       "      <td>Sree</td>\n",
       "      <td>N/A</td>\n",
       "      <td>6.0</td>\n",
       "      <td>Female</td>\n",
       "      <td>2023-02-01</td>\n",
       "    </tr>\n",
       "  </tbody>\n",
       "</table>\n",
       "</div>"
      ],
      "text/plain": [
       "   student marks  rank  gender enrollment_date\n",
       "0  Revanth    90   1.0    Male      2023-01-10\n",
       "1    kumar    98   2.0    Male      2023-01-15\n",
       "2     Jeya   NaN   3.0  Female      2023/01/20\n",
       "3    Arjun    85   4.0    Male      15-01-2023\n",
       "4    Kumar    98   NaN    Male      2023-01-15\n",
       "5     None    72   5.0     NaN            None\n",
       "6     Sree   N/A   6.0  Female      2023-02-01"
      ]
     },
     "execution_count": 166,
     "metadata": {},
     "output_type": "execute_result"
    }
   ],
   "source": [
    "data = {\n",
    "    'student': ['Revanth', 'kumar', 'Jeya', 'Arjun', 'Kumar', None, 'Sree'],\n",
    "    'marks': [90, 98, np.nan, 85, 98, 72, 'N/A'],\n",
    "    'rank': [1, 2, 3, 4, np.nan, 5, 6],\n",
    "    'gender': ['Male', 'Male', 'Female', 'Male', 'Male', np.nan, 'Female'],\n",
    "    'enrollment_date': ['2023-01-10', '2023-01-15', '2023/01/20', '15-01-2023', '2023-01-15', None, '2023-02-01']\n",
    "}\n",
    "\n",
    "dataSet = pd.DataFrame(data)\n",
    "dataSet"
   ]
  },
  {
   "cell_type": "markdown",
   "id": "d3998c0a-25ab-4183-8eb2-49244042849f",
   "metadata": {},
   "source": [
    "### Remove duplicate rows"
   ]
  },
  {
   "cell_type": "code",
   "execution_count": 167,
   "id": "6e0e5743-5140-49d4-9e2d-25c3802990c0",
   "metadata": {},
   "outputs": [],
   "source": [
    "dataSet.drop_duplicates(inplace=True)"
   ]
  },
  {
   "cell_type": "code",
   "execution_count": 168,
   "id": "a5ac44fb-6dc5-4d06-b500-7b84a678d41a",
   "metadata": {},
   "outputs": [
    {
     "data": {
      "text/html": [
       "<div>\n",
       "<style scoped>\n",
       "    .dataframe tbody tr th:only-of-type {\n",
       "        vertical-align: middle;\n",
       "    }\n",
       "\n",
       "    .dataframe tbody tr th {\n",
       "        vertical-align: top;\n",
       "    }\n",
       "\n",
       "    .dataframe thead th {\n",
       "        text-align: right;\n",
       "    }\n",
       "</style>\n",
       "<table border=\"1\" class=\"dataframe\">\n",
       "  <thead>\n",
       "    <tr style=\"text-align: right;\">\n",
       "      <th></th>\n",
       "      <th>student</th>\n",
       "      <th>marks</th>\n",
       "      <th>rank</th>\n",
       "      <th>gender</th>\n",
       "      <th>enrollment_date</th>\n",
       "    </tr>\n",
       "  </thead>\n",
       "  <tbody>\n",
       "    <tr>\n",
       "      <th>0</th>\n",
       "      <td>Revanth</td>\n",
       "      <td>90</td>\n",
       "      <td>1.0</td>\n",
       "      <td>Male</td>\n",
       "      <td>2023-01-10</td>\n",
       "    </tr>\n",
       "    <tr>\n",
       "      <th>1</th>\n",
       "      <td>kumar</td>\n",
       "      <td>98</td>\n",
       "      <td>2.0</td>\n",
       "      <td>Male</td>\n",
       "      <td>2023-01-15</td>\n",
       "    </tr>\n",
       "    <tr>\n",
       "      <th>2</th>\n",
       "      <td>Jeya</td>\n",
       "      <td>NaN</td>\n",
       "      <td>3.0</td>\n",
       "      <td>Female</td>\n",
       "      <td>2023/01/20</td>\n",
       "    </tr>\n",
       "    <tr>\n",
       "      <th>3</th>\n",
       "      <td>Arjun</td>\n",
       "      <td>85</td>\n",
       "      <td>4.0</td>\n",
       "      <td>Male</td>\n",
       "      <td>15-01-2023</td>\n",
       "    </tr>\n",
       "    <tr>\n",
       "      <th>4</th>\n",
       "      <td>Kumar</td>\n",
       "      <td>98</td>\n",
       "      <td>NaN</td>\n",
       "      <td>Male</td>\n",
       "      <td>2023-01-15</td>\n",
       "    </tr>\n",
       "    <tr>\n",
       "      <th>5</th>\n",
       "      <td>None</td>\n",
       "      <td>72</td>\n",
       "      <td>5.0</td>\n",
       "      <td>NaN</td>\n",
       "      <td>None</td>\n",
       "    </tr>\n",
       "    <tr>\n",
       "      <th>6</th>\n",
       "      <td>Sree</td>\n",
       "      <td>N/A</td>\n",
       "      <td>6.0</td>\n",
       "      <td>Female</td>\n",
       "      <td>2023-02-01</td>\n",
       "    </tr>\n",
       "  </tbody>\n",
       "</table>\n",
       "</div>"
      ],
      "text/plain": [
       "   student marks  rank  gender enrollment_date\n",
       "0  Revanth    90   1.0    Male      2023-01-10\n",
       "1    kumar    98   2.0    Male      2023-01-15\n",
       "2     Jeya   NaN   3.0  Female      2023/01/20\n",
       "3    Arjun    85   4.0    Male      15-01-2023\n",
       "4    Kumar    98   NaN    Male      2023-01-15\n",
       "5     None    72   5.0     NaN            None\n",
       "6     Sree   N/A   6.0  Female      2023-02-01"
      ]
     },
     "execution_count": 168,
     "metadata": {},
     "output_type": "execute_result"
    }
   ],
   "source": [
    "dataSet"
   ]
  },
  {
   "cell_type": "markdown",
   "id": "e6fc3f4c-5278-41c4-abbc-dc36d2801448",
   "metadata": {},
   "source": [
    "### Rename Columns for Consistency"
   ]
  },
  {
   "cell_type": "code",
   "execution_count": 169,
   "id": "51e2ac68-39a1-4096-8ef8-700225acf5c6",
   "metadata": {},
   "outputs": [
    {
     "data": {
      "text/html": [
       "<div>\n",
       "<style scoped>\n",
       "    .dataframe tbody tr th:only-of-type {\n",
       "        vertical-align: middle;\n",
       "    }\n",
       "\n",
       "    .dataframe tbody tr th {\n",
       "        vertical-align: top;\n",
       "    }\n",
       "\n",
       "    .dataframe thead th {\n",
       "        text-align: right;\n",
       "    }\n",
       "</style>\n",
       "<table border=\"1\" class=\"dataframe\">\n",
       "  <thead>\n",
       "    <tr style=\"text-align: right;\">\n",
       "      <th></th>\n",
       "      <th>student</th>\n",
       "      <th>marks</th>\n",
       "      <th>rank</th>\n",
       "      <th>gender</th>\n",
       "      <th>enrollment_date</th>\n",
       "    </tr>\n",
       "  </thead>\n",
       "  <tbody>\n",
       "    <tr>\n",
       "      <th>0</th>\n",
       "      <td>Revanth</td>\n",
       "      <td>90</td>\n",
       "      <td>1.0</td>\n",
       "      <td>Male</td>\n",
       "      <td>2023-01-10</td>\n",
       "    </tr>\n",
       "    <tr>\n",
       "      <th>1</th>\n",
       "      <td>kumar</td>\n",
       "      <td>98</td>\n",
       "      <td>2.0</td>\n",
       "      <td>Male</td>\n",
       "      <td>2023-01-15</td>\n",
       "    </tr>\n",
       "    <tr>\n",
       "      <th>2</th>\n",
       "      <td>Jeya</td>\n",
       "      <td>NaN</td>\n",
       "      <td>3.0</td>\n",
       "      <td>Female</td>\n",
       "      <td>2023/01/20</td>\n",
       "    </tr>\n",
       "    <tr>\n",
       "      <th>3</th>\n",
       "      <td>Arjun</td>\n",
       "      <td>85</td>\n",
       "      <td>4.0</td>\n",
       "      <td>Male</td>\n",
       "      <td>15-01-2023</td>\n",
       "    </tr>\n",
       "    <tr>\n",
       "      <th>4</th>\n",
       "      <td>Kumar</td>\n",
       "      <td>98</td>\n",
       "      <td>NaN</td>\n",
       "      <td>Male</td>\n",
       "      <td>2023-01-15</td>\n",
       "    </tr>\n",
       "    <tr>\n",
       "      <th>5</th>\n",
       "      <td>None</td>\n",
       "      <td>72</td>\n",
       "      <td>5.0</td>\n",
       "      <td>NaN</td>\n",
       "      <td>None</td>\n",
       "    </tr>\n",
       "    <tr>\n",
       "      <th>6</th>\n",
       "      <td>Sree</td>\n",
       "      <td>N/A</td>\n",
       "      <td>6.0</td>\n",
       "      <td>Female</td>\n",
       "      <td>2023-02-01</td>\n",
       "    </tr>\n",
       "  </tbody>\n",
       "</table>\n",
       "</div>"
      ],
      "text/plain": [
       "   student marks  rank  gender enrollment_date\n",
       "0  Revanth    90   1.0    Male      2023-01-10\n",
       "1    kumar    98   2.0    Male      2023-01-15\n",
       "2     Jeya   NaN   3.0  Female      2023/01/20\n",
       "3    Arjun    85   4.0    Male      15-01-2023\n",
       "4    Kumar    98   NaN    Male      2023-01-15\n",
       "5     None    72   5.0     NaN            None\n",
       "6     Sree   N/A   6.0  Female      2023-02-01"
      ]
     },
     "execution_count": 169,
     "metadata": {},
     "output_type": "execute_result"
    }
   ],
   "source": [
    "data = {\n",
    "    'student': ['Revanth', 'kumar', 'Jeya', 'Arjun', 'Kumar', None, 'Sree'],\n",
    "    'marks': [90, 98, np.nan, 85, 98, 72, 'N/A'],\n",
    "    'rank': [1, 2, 3, 4, np.nan, 5, 6],\n",
    "    'gender': ['Male', 'Male', 'Female', 'Male', 'Male', np.nan, 'Female'],\n",
    "    'enrollment_date': ['2023-01-10', '2023-01-15', '2023/01/20', '15-01-2023', '2023-01-15', None, '2023-02-01']\n",
    "}\n",
    "\n",
    "dataSet = pd.DataFrame(data)\n",
    "dataSet"
   ]
  },
  {
   "cell_type": "code",
   "execution_count": 170,
   "id": "b15ab88a-9e2f-42cf-ac23-62e1568a827b",
   "metadata": {},
   "outputs": [],
   "source": [
    "# Rename columns\n",
    "dataSet.rename(columns={'student': 'Student Name', 'marks': 'Marks Obtained'}, inplace=True)"
   ]
  },
  {
   "cell_type": "code",
   "execution_count": 171,
   "id": "4f7b0fc6-9d79-41f9-be58-61d6fcb2e513",
   "metadata": {},
   "outputs": [
    {
     "data": {
      "text/html": [
       "<div>\n",
       "<style scoped>\n",
       "    .dataframe tbody tr th:only-of-type {\n",
       "        vertical-align: middle;\n",
       "    }\n",
       "\n",
       "    .dataframe tbody tr th {\n",
       "        vertical-align: top;\n",
       "    }\n",
       "\n",
       "    .dataframe thead th {\n",
       "        text-align: right;\n",
       "    }\n",
       "</style>\n",
       "<table border=\"1\" class=\"dataframe\">\n",
       "  <thead>\n",
       "    <tr style=\"text-align: right;\">\n",
       "      <th></th>\n",
       "      <th>Student Name</th>\n",
       "      <th>Marks Obtained</th>\n",
       "      <th>rank</th>\n",
       "      <th>gender</th>\n",
       "      <th>enrollment_date</th>\n",
       "    </tr>\n",
       "  </thead>\n",
       "  <tbody>\n",
       "    <tr>\n",
       "      <th>0</th>\n",
       "      <td>Revanth</td>\n",
       "      <td>90</td>\n",
       "      <td>1.0</td>\n",
       "      <td>Male</td>\n",
       "      <td>2023-01-10</td>\n",
       "    </tr>\n",
       "    <tr>\n",
       "      <th>1</th>\n",
       "      <td>kumar</td>\n",
       "      <td>98</td>\n",
       "      <td>2.0</td>\n",
       "      <td>Male</td>\n",
       "      <td>2023-01-15</td>\n",
       "    </tr>\n",
       "    <tr>\n",
       "      <th>2</th>\n",
       "      <td>Jeya</td>\n",
       "      <td>NaN</td>\n",
       "      <td>3.0</td>\n",
       "      <td>Female</td>\n",
       "      <td>2023/01/20</td>\n",
       "    </tr>\n",
       "    <tr>\n",
       "      <th>3</th>\n",
       "      <td>Arjun</td>\n",
       "      <td>85</td>\n",
       "      <td>4.0</td>\n",
       "      <td>Male</td>\n",
       "      <td>15-01-2023</td>\n",
       "    </tr>\n",
       "    <tr>\n",
       "      <th>4</th>\n",
       "      <td>Kumar</td>\n",
       "      <td>98</td>\n",
       "      <td>NaN</td>\n",
       "      <td>Male</td>\n",
       "      <td>2023-01-15</td>\n",
       "    </tr>\n",
       "    <tr>\n",
       "      <th>5</th>\n",
       "      <td>None</td>\n",
       "      <td>72</td>\n",
       "      <td>5.0</td>\n",
       "      <td>NaN</td>\n",
       "      <td>None</td>\n",
       "    </tr>\n",
       "    <tr>\n",
       "      <th>6</th>\n",
       "      <td>Sree</td>\n",
       "      <td>N/A</td>\n",
       "      <td>6.0</td>\n",
       "      <td>Female</td>\n",
       "      <td>2023-02-01</td>\n",
       "    </tr>\n",
       "  </tbody>\n",
       "</table>\n",
       "</div>"
      ],
      "text/plain": [
       "  Student Name Marks Obtained  rank  gender enrollment_date\n",
       "0      Revanth             90   1.0    Male      2023-01-10\n",
       "1        kumar             98   2.0    Male      2023-01-15\n",
       "2         Jeya            NaN   3.0  Female      2023/01/20\n",
       "3        Arjun             85   4.0    Male      15-01-2023\n",
       "4        Kumar             98   NaN    Male      2023-01-15\n",
       "5         None             72   5.0     NaN            None\n",
       "6         Sree            N/A   6.0  Female      2023-02-01"
      ]
     },
     "execution_count": 171,
     "metadata": {},
     "output_type": "execute_result"
    }
   ],
   "source": [
    "dataSet"
   ]
  },
  {
   "cell_type": "markdown",
   "id": "9c151925-aa29-4269-8ef9-6c631109a497",
   "metadata": {},
   "source": [
    "# String Operations in Pandas "
   ]
  },
  {
   "cell_type": "code",
   "execution_count": 172,
   "id": "888a604e-4120-4498-be1e-f3d7a9d56b71",
   "metadata": {},
   "outputs": [
    {
     "data": {
      "text/html": [
       "<div>\n",
       "<style scoped>\n",
       "    .dataframe tbody tr th:only-of-type {\n",
       "        vertical-align: middle;\n",
       "    }\n",
       "\n",
       "    .dataframe tbody tr th {\n",
       "        vertical-align: top;\n",
       "    }\n",
       "\n",
       "    .dataframe thead th {\n",
       "        text-align: right;\n",
       "    }\n",
       "</style>\n",
       "<table border=\"1\" class=\"dataframe\">\n",
       "  <thead>\n",
       "    <tr style=\"text-align: right;\">\n",
       "      <th></th>\n",
       "      <th>student</th>\n",
       "      <th>grade</th>\n",
       "      <th>email</th>\n",
       "    </tr>\n",
       "  </thead>\n",
       "  <tbody>\n",
       "    <tr>\n",
       "      <th>0</th>\n",
       "      <td>Revanth Kumar</td>\n",
       "      <td>A</td>\n",
       "      <td>revanth@example.com</td>\n",
       "    </tr>\n",
       "    <tr>\n",
       "      <th>1</th>\n",
       "      <td>kumar V</td>\n",
       "      <td>B+</td>\n",
       "      <td>kumar@example.com</td>\n",
       "    </tr>\n",
       "    <tr>\n",
       "      <th>2</th>\n",
       "      <td>Jeya R</td>\n",
       "      <td>A-</td>\n",
       "      <td>jeya.r@example.com</td>\n",
       "    </tr>\n",
       "    <tr>\n",
       "      <th>3</th>\n",
       "      <td>ARJUN M</td>\n",
       "      <td>C</td>\n",
       "      <td>arjun_m@example.com</td>\n",
       "    </tr>\n",
       "    <tr>\n",
       "      <th>4</th>\n",
       "      <td>Kumar R</td>\n",
       "      <td>B</td>\n",
       "      <td>kumar123@example.com</td>\n",
       "    </tr>\n",
       "    <tr>\n",
       "      <th>5</th>\n",
       "      <td>sree latha</td>\n",
       "      <td>O</td>\n",
       "      <td>sree.latha@example.com</td>\n",
       "    </tr>\n",
       "  </tbody>\n",
       "</table>\n",
       "</div>"
      ],
      "text/plain": [
       "         student grade                   email\n",
       "0  Revanth Kumar     A     revanth@example.com\n",
       "1        kumar V    B+       kumar@example.com\n",
       "2         Jeya R    A-      jeya.r@example.com\n",
       "3        ARJUN M     C     arjun_m@example.com\n",
       "4        Kumar R     B    kumar123@example.com\n",
       "5     sree latha     O  sree.latha@example.com"
      ]
     },
     "execution_count": 172,
     "metadata": {},
     "output_type": "execute_result"
    }
   ],
   "source": [
    "data = {\n",
    "    'student': ['Revanth Kumar', 'kumar V', 'Jeya R', 'ARJUN M', 'Kumar R', 'sree latha'],\n",
    "    'grade': ['A', 'B+', 'A-', 'C', 'B', 'O'],\n",
    "    'email': ['revanth@example.com', 'kumar@example.com', 'jeya.r@example.com', 'arjun_m@example.com', 'kumar123@example.com', 'sree.latha@example.com']\n",
    "}\n",
    "\n",
    "dataSet = pd.DataFrame(data)\n",
    "dataSet"
   ]
  },
  {
   "cell_type": "code",
   "execution_count": 173,
   "id": "ca0de8ac-25a0-4f39-b1bb-41da6d914aee",
   "metadata": {},
   "outputs": [],
   "source": [
    "# convert to lowercase and uppercase \n",
    "dataSet['student_lower'] = dataSet['student'].str.lower() \n",
    "dataSet['student_upper'] = dataSet['student'].str.upper()"
   ]
  },
  {
   "cell_type": "code",
   "execution_count": 174,
   "id": "9cb959f7-107d-48ad-81cc-b6034360dcb6",
   "metadata": {},
   "outputs": [
    {
     "data": {
      "text/html": [
       "<div>\n",
       "<style scoped>\n",
       "    .dataframe tbody tr th:only-of-type {\n",
       "        vertical-align: middle;\n",
       "    }\n",
       "\n",
       "    .dataframe tbody tr th {\n",
       "        vertical-align: top;\n",
       "    }\n",
       "\n",
       "    .dataframe thead th {\n",
       "        text-align: right;\n",
       "    }\n",
       "</style>\n",
       "<table border=\"1\" class=\"dataframe\">\n",
       "  <thead>\n",
       "    <tr style=\"text-align: right;\">\n",
       "      <th></th>\n",
       "      <th>student</th>\n",
       "      <th>grade</th>\n",
       "      <th>email</th>\n",
       "      <th>student_lower</th>\n",
       "      <th>student_upper</th>\n",
       "    </tr>\n",
       "  </thead>\n",
       "  <tbody>\n",
       "    <tr>\n",
       "      <th>0</th>\n",
       "      <td>Revanth Kumar</td>\n",
       "      <td>A</td>\n",
       "      <td>revanth@example.com</td>\n",
       "      <td>revanth kumar</td>\n",
       "      <td>REVANTH KUMAR</td>\n",
       "    </tr>\n",
       "    <tr>\n",
       "      <th>1</th>\n",
       "      <td>kumar V</td>\n",
       "      <td>B+</td>\n",
       "      <td>kumar@example.com</td>\n",
       "      <td>kumar v</td>\n",
       "      <td>KUMAR V</td>\n",
       "    </tr>\n",
       "    <tr>\n",
       "      <th>2</th>\n",
       "      <td>Jeya R</td>\n",
       "      <td>A-</td>\n",
       "      <td>jeya.r@example.com</td>\n",
       "      <td>jeya r</td>\n",
       "      <td>JEYA R</td>\n",
       "    </tr>\n",
       "    <tr>\n",
       "      <th>3</th>\n",
       "      <td>ARJUN M</td>\n",
       "      <td>C</td>\n",
       "      <td>arjun_m@example.com</td>\n",
       "      <td>arjun m</td>\n",
       "      <td>ARJUN M</td>\n",
       "    </tr>\n",
       "    <tr>\n",
       "      <th>4</th>\n",
       "      <td>Kumar R</td>\n",
       "      <td>B</td>\n",
       "      <td>kumar123@example.com</td>\n",
       "      <td>kumar r</td>\n",
       "      <td>KUMAR R</td>\n",
       "    </tr>\n",
       "    <tr>\n",
       "      <th>5</th>\n",
       "      <td>sree latha</td>\n",
       "      <td>O</td>\n",
       "      <td>sree.latha@example.com</td>\n",
       "      <td>sree latha</td>\n",
       "      <td>SREE LATHA</td>\n",
       "    </tr>\n",
       "  </tbody>\n",
       "</table>\n",
       "</div>"
      ],
      "text/plain": [
       "         student grade                   email  student_lower  student_upper\n",
       "0  Revanth Kumar     A     revanth@example.com  revanth kumar  REVANTH KUMAR\n",
       "1        kumar V    B+       kumar@example.com        kumar v        KUMAR V\n",
       "2         Jeya R    A-      jeya.r@example.com         jeya r         JEYA R\n",
       "3        ARJUN M     C     arjun_m@example.com        arjun m        ARJUN M\n",
       "4        Kumar R     B    kumar123@example.com        kumar r        KUMAR R\n",
       "5     sree latha     O  sree.latha@example.com     sree latha     SREE LATHA"
      ]
     },
     "execution_count": 174,
     "metadata": {},
     "output_type": "execute_result"
    }
   ],
   "source": [
    "dataSet"
   ]
  },
  {
   "cell_type": "code",
   "execution_count": 175,
   "id": "fffc2281-0f11-4662-8fb6-17b1e81c2b6f",
   "metadata": {},
   "outputs": [],
   "source": [
    "# Split Strings \n",
    "dataSet[['first_name', 'last_name']] = dataSet['student'].str.split(' ', expand=True)"
   ]
  },
  {
   "cell_type": "code",
   "execution_count": 176,
   "id": "12867e3b-2437-4422-ba3f-e44add8dc4cc",
   "metadata": {},
   "outputs": [
    {
     "data": {
      "text/html": [
       "<div>\n",
       "<style scoped>\n",
       "    .dataframe tbody tr th:only-of-type {\n",
       "        vertical-align: middle;\n",
       "    }\n",
       "\n",
       "    .dataframe tbody tr th {\n",
       "        vertical-align: top;\n",
       "    }\n",
       "\n",
       "    .dataframe thead th {\n",
       "        text-align: right;\n",
       "    }\n",
       "</style>\n",
       "<table border=\"1\" class=\"dataframe\">\n",
       "  <thead>\n",
       "    <tr style=\"text-align: right;\">\n",
       "      <th></th>\n",
       "      <th>student</th>\n",
       "      <th>grade</th>\n",
       "      <th>email</th>\n",
       "      <th>student_lower</th>\n",
       "      <th>student_upper</th>\n",
       "      <th>first_name</th>\n",
       "      <th>last_name</th>\n",
       "    </tr>\n",
       "  </thead>\n",
       "  <tbody>\n",
       "    <tr>\n",
       "      <th>0</th>\n",
       "      <td>Revanth Kumar</td>\n",
       "      <td>A</td>\n",
       "      <td>revanth@example.com</td>\n",
       "      <td>revanth kumar</td>\n",
       "      <td>REVANTH KUMAR</td>\n",
       "      <td>Revanth</td>\n",
       "      <td>Kumar</td>\n",
       "    </tr>\n",
       "    <tr>\n",
       "      <th>1</th>\n",
       "      <td>kumar V</td>\n",
       "      <td>B+</td>\n",
       "      <td>kumar@example.com</td>\n",
       "      <td>kumar v</td>\n",
       "      <td>KUMAR V</td>\n",
       "      <td>kumar</td>\n",
       "      <td>V</td>\n",
       "    </tr>\n",
       "    <tr>\n",
       "      <th>2</th>\n",
       "      <td>Jeya R</td>\n",
       "      <td>A-</td>\n",
       "      <td>jeya.r@example.com</td>\n",
       "      <td>jeya r</td>\n",
       "      <td>JEYA R</td>\n",
       "      <td>Jeya</td>\n",
       "      <td>R</td>\n",
       "    </tr>\n",
       "    <tr>\n",
       "      <th>3</th>\n",
       "      <td>ARJUN M</td>\n",
       "      <td>C</td>\n",
       "      <td>arjun_m@example.com</td>\n",
       "      <td>arjun m</td>\n",
       "      <td>ARJUN M</td>\n",
       "      <td>ARJUN</td>\n",
       "      <td>M</td>\n",
       "    </tr>\n",
       "    <tr>\n",
       "      <th>4</th>\n",
       "      <td>Kumar R</td>\n",
       "      <td>B</td>\n",
       "      <td>kumar123@example.com</td>\n",
       "      <td>kumar r</td>\n",
       "      <td>KUMAR R</td>\n",
       "      <td>Kumar</td>\n",
       "      <td>R</td>\n",
       "    </tr>\n",
       "    <tr>\n",
       "      <th>5</th>\n",
       "      <td>sree latha</td>\n",
       "      <td>O</td>\n",
       "      <td>sree.latha@example.com</td>\n",
       "      <td>sree latha</td>\n",
       "      <td>SREE LATHA</td>\n",
       "      <td>sree</td>\n",
       "      <td>latha</td>\n",
       "    </tr>\n",
       "  </tbody>\n",
       "</table>\n",
       "</div>"
      ],
      "text/plain": [
       "         student grade                   email  student_lower  student_upper  \\\n",
       "0  Revanth Kumar     A     revanth@example.com  revanth kumar  REVANTH KUMAR   \n",
       "1        kumar V    B+       kumar@example.com        kumar v        KUMAR V   \n",
       "2         Jeya R    A-      jeya.r@example.com         jeya r         JEYA R   \n",
       "3        ARJUN M     C     arjun_m@example.com        arjun m        ARJUN M   \n",
       "4        Kumar R     B    kumar123@example.com        kumar r        KUMAR R   \n",
       "5     sree latha     O  sree.latha@example.com     sree latha     SREE LATHA   \n",
       "\n",
       "  first_name last_name  \n",
       "0    Revanth     Kumar  \n",
       "1      kumar         V  \n",
       "2       Jeya         R  \n",
       "3      ARJUN         M  \n",
       "4      Kumar         R  \n",
       "5       sree     latha  "
      ]
     },
     "execution_count": 176,
     "metadata": {},
     "output_type": "execute_result"
    }
   ],
   "source": [
    "dataSet"
   ]
  },
  {
   "cell_type": "code",
   "execution_count": 177,
   "id": "a39f8127-8508-423f-9417-0a0caef31c47",
   "metadata": {},
   "outputs": [],
   "source": [
    "# Extract Substrings \n",
    "dataSet['email_domain'] = dataSet['email'].str.extract(r'@(.+)$')"
   ]
  },
  {
   "cell_type": "code",
   "execution_count": 178,
   "id": "dc9baf1a-9550-4523-87ab-67e180a9a323",
   "metadata": {},
   "outputs": [
    {
     "data": {
      "text/html": [
       "<div>\n",
       "<style scoped>\n",
       "    .dataframe tbody tr th:only-of-type {\n",
       "        vertical-align: middle;\n",
       "    }\n",
       "\n",
       "    .dataframe tbody tr th {\n",
       "        vertical-align: top;\n",
       "    }\n",
       "\n",
       "    .dataframe thead th {\n",
       "        text-align: right;\n",
       "    }\n",
       "</style>\n",
       "<table border=\"1\" class=\"dataframe\">\n",
       "  <thead>\n",
       "    <tr style=\"text-align: right;\">\n",
       "      <th></th>\n",
       "      <th>student</th>\n",
       "      <th>grade</th>\n",
       "      <th>email</th>\n",
       "      <th>student_lower</th>\n",
       "      <th>student_upper</th>\n",
       "      <th>first_name</th>\n",
       "      <th>last_name</th>\n",
       "      <th>email_domain</th>\n",
       "    </tr>\n",
       "  </thead>\n",
       "  <tbody>\n",
       "    <tr>\n",
       "      <th>0</th>\n",
       "      <td>Revanth Kumar</td>\n",
       "      <td>A</td>\n",
       "      <td>revanth@example.com</td>\n",
       "      <td>revanth kumar</td>\n",
       "      <td>REVANTH KUMAR</td>\n",
       "      <td>Revanth</td>\n",
       "      <td>Kumar</td>\n",
       "      <td>example.com</td>\n",
       "    </tr>\n",
       "    <tr>\n",
       "      <th>1</th>\n",
       "      <td>kumar V</td>\n",
       "      <td>B+</td>\n",
       "      <td>kumar@example.com</td>\n",
       "      <td>kumar v</td>\n",
       "      <td>KUMAR V</td>\n",
       "      <td>kumar</td>\n",
       "      <td>V</td>\n",
       "      <td>example.com</td>\n",
       "    </tr>\n",
       "    <tr>\n",
       "      <th>2</th>\n",
       "      <td>Jeya R</td>\n",
       "      <td>A-</td>\n",
       "      <td>jeya.r@example.com</td>\n",
       "      <td>jeya r</td>\n",
       "      <td>JEYA R</td>\n",
       "      <td>Jeya</td>\n",
       "      <td>R</td>\n",
       "      <td>example.com</td>\n",
       "    </tr>\n",
       "    <tr>\n",
       "      <th>3</th>\n",
       "      <td>ARJUN M</td>\n",
       "      <td>C</td>\n",
       "      <td>arjun_m@example.com</td>\n",
       "      <td>arjun m</td>\n",
       "      <td>ARJUN M</td>\n",
       "      <td>ARJUN</td>\n",
       "      <td>M</td>\n",
       "      <td>example.com</td>\n",
       "    </tr>\n",
       "    <tr>\n",
       "      <th>4</th>\n",
       "      <td>Kumar R</td>\n",
       "      <td>B</td>\n",
       "      <td>kumar123@example.com</td>\n",
       "      <td>kumar r</td>\n",
       "      <td>KUMAR R</td>\n",
       "      <td>Kumar</td>\n",
       "      <td>R</td>\n",
       "      <td>example.com</td>\n",
       "    </tr>\n",
       "    <tr>\n",
       "      <th>5</th>\n",
       "      <td>sree latha</td>\n",
       "      <td>O</td>\n",
       "      <td>sree.latha@example.com</td>\n",
       "      <td>sree latha</td>\n",
       "      <td>SREE LATHA</td>\n",
       "      <td>sree</td>\n",
       "      <td>latha</td>\n",
       "      <td>example.com</td>\n",
       "    </tr>\n",
       "  </tbody>\n",
       "</table>\n",
       "</div>"
      ],
      "text/plain": [
       "         student grade                   email  student_lower  student_upper  \\\n",
       "0  Revanth Kumar     A     revanth@example.com  revanth kumar  REVANTH KUMAR   \n",
       "1        kumar V    B+       kumar@example.com        kumar v        KUMAR V   \n",
       "2         Jeya R    A-      jeya.r@example.com         jeya r         JEYA R   \n",
       "3        ARJUN M     C     arjun_m@example.com        arjun m        ARJUN M   \n",
       "4        Kumar R     B    kumar123@example.com        kumar r        KUMAR R   \n",
       "5     sree latha     O  sree.latha@example.com     sree latha     SREE LATHA   \n",
       "\n",
       "  first_name last_name email_domain  \n",
       "0    Revanth     Kumar  example.com  \n",
       "1      kumar         V  example.com  \n",
       "2       Jeya         R  example.com  \n",
       "3      ARJUN         M  example.com  \n",
       "4      Kumar         R  example.com  \n",
       "5       sree     latha  example.com  "
      ]
     },
     "execution_count": 178,
     "metadata": {},
     "output_type": "execute_result"
    }
   ],
   "source": [
    "dataSet"
   ]
  },
  {
   "cell_type": "code",
   "execution_count": 179,
   "id": "6bd05543-4e87-438e-bf20-535d2ec12c8b",
   "metadata": {},
   "outputs": [],
   "source": [
    "# Replace Substrings \n",
    "dataSet['student_replaced'] = dataSet['student'].str.replace('kumar', 'KUMAR', case=False)"
   ]
  },
  {
   "cell_type": "code",
   "execution_count": 180,
   "id": "fe4ee663-06bd-434a-bf8b-996655fbf413",
   "metadata": {},
   "outputs": [
    {
     "data": {
      "text/html": [
       "<div>\n",
       "<style scoped>\n",
       "    .dataframe tbody tr th:only-of-type {\n",
       "        vertical-align: middle;\n",
       "    }\n",
       "\n",
       "    .dataframe tbody tr th {\n",
       "        vertical-align: top;\n",
       "    }\n",
       "\n",
       "    .dataframe thead th {\n",
       "        text-align: right;\n",
       "    }\n",
       "</style>\n",
       "<table border=\"1\" class=\"dataframe\">\n",
       "  <thead>\n",
       "    <tr style=\"text-align: right;\">\n",
       "      <th></th>\n",
       "      <th>student</th>\n",
       "      <th>grade</th>\n",
       "      <th>email</th>\n",
       "      <th>student_lower</th>\n",
       "      <th>student_upper</th>\n",
       "      <th>first_name</th>\n",
       "      <th>last_name</th>\n",
       "      <th>email_domain</th>\n",
       "      <th>student_replaced</th>\n",
       "    </tr>\n",
       "  </thead>\n",
       "  <tbody>\n",
       "    <tr>\n",
       "      <th>0</th>\n",
       "      <td>Revanth Kumar</td>\n",
       "      <td>A</td>\n",
       "      <td>revanth@example.com</td>\n",
       "      <td>revanth kumar</td>\n",
       "      <td>REVANTH KUMAR</td>\n",
       "      <td>Revanth</td>\n",
       "      <td>Kumar</td>\n",
       "      <td>example.com</td>\n",
       "      <td>Revanth KUMAR</td>\n",
       "    </tr>\n",
       "    <tr>\n",
       "      <th>1</th>\n",
       "      <td>kumar V</td>\n",
       "      <td>B+</td>\n",
       "      <td>kumar@example.com</td>\n",
       "      <td>kumar v</td>\n",
       "      <td>KUMAR V</td>\n",
       "      <td>kumar</td>\n",
       "      <td>V</td>\n",
       "      <td>example.com</td>\n",
       "      <td>KUMAR V</td>\n",
       "    </tr>\n",
       "    <tr>\n",
       "      <th>2</th>\n",
       "      <td>Jeya R</td>\n",
       "      <td>A-</td>\n",
       "      <td>jeya.r@example.com</td>\n",
       "      <td>jeya r</td>\n",
       "      <td>JEYA R</td>\n",
       "      <td>Jeya</td>\n",
       "      <td>R</td>\n",
       "      <td>example.com</td>\n",
       "      <td>Jeya R</td>\n",
       "    </tr>\n",
       "    <tr>\n",
       "      <th>3</th>\n",
       "      <td>ARJUN M</td>\n",
       "      <td>C</td>\n",
       "      <td>arjun_m@example.com</td>\n",
       "      <td>arjun m</td>\n",
       "      <td>ARJUN M</td>\n",
       "      <td>ARJUN</td>\n",
       "      <td>M</td>\n",
       "      <td>example.com</td>\n",
       "      <td>ARJUN M</td>\n",
       "    </tr>\n",
       "    <tr>\n",
       "      <th>4</th>\n",
       "      <td>Kumar R</td>\n",
       "      <td>B</td>\n",
       "      <td>kumar123@example.com</td>\n",
       "      <td>kumar r</td>\n",
       "      <td>KUMAR R</td>\n",
       "      <td>Kumar</td>\n",
       "      <td>R</td>\n",
       "      <td>example.com</td>\n",
       "      <td>KUMAR R</td>\n",
       "    </tr>\n",
       "    <tr>\n",
       "      <th>5</th>\n",
       "      <td>sree latha</td>\n",
       "      <td>O</td>\n",
       "      <td>sree.latha@example.com</td>\n",
       "      <td>sree latha</td>\n",
       "      <td>SREE LATHA</td>\n",
       "      <td>sree</td>\n",
       "      <td>latha</td>\n",
       "      <td>example.com</td>\n",
       "      <td>sree latha</td>\n",
       "    </tr>\n",
       "  </tbody>\n",
       "</table>\n",
       "</div>"
      ],
      "text/plain": [
       "         student grade                   email  student_lower  student_upper  \\\n",
       "0  Revanth Kumar     A     revanth@example.com  revanth kumar  REVANTH KUMAR   \n",
       "1        kumar V    B+       kumar@example.com        kumar v        KUMAR V   \n",
       "2         Jeya R    A-      jeya.r@example.com         jeya r         JEYA R   \n",
       "3        ARJUN M     C     arjun_m@example.com        arjun m        ARJUN M   \n",
       "4        Kumar R     B    kumar123@example.com        kumar r        KUMAR R   \n",
       "5     sree latha     O  sree.latha@example.com     sree latha     SREE LATHA   \n",
       "\n",
       "  first_name last_name email_domain student_replaced  \n",
       "0    Revanth     Kumar  example.com    Revanth KUMAR  \n",
       "1      kumar         V  example.com          KUMAR V  \n",
       "2       Jeya         R  example.com           Jeya R  \n",
       "3      ARJUN         M  example.com          ARJUN M  \n",
       "4      Kumar         R  example.com          KUMAR R  \n",
       "5       sree     latha  example.com       sree latha  "
      ]
     },
     "execution_count": 180,
     "metadata": {},
     "output_type": "execute_result"
    }
   ],
   "source": [
    "dataSet"
   ]
  },
  {
   "cell_type": "code",
   "execution_count": 181,
   "id": "94246a98-cd1b-40ec-801a-f52ff3d3747c",
   "metadata": {},
   "outputs": [],
   "source": [
    "# Check for Substring Presence \n",
    "# Check if 'example' is in the email addresses \n",
    "dataSet['has_example_domain'] = dataSet['email'].str.contains('example')"
   ]
  },
  {
   "cell_type": "code",
   "execution_count": 182,
   "id": "458cc0d4-3845-41ee-b60f-33ae3d490f04",
   "metadata": {},
   "outputs": [
    {
     "data": {
      "text/html": [
       "<div>\n",
       "<style scoped>\n",
       "    .dataframe tbody tr th:only-of-type {\n",
       "        vertical-align: middle;\n",
       "    }\n",
       "\n",
       "    .dataframe tbody tr th {\n",
       "        vertical-align: top;\n",
       "    }\n",
       "\n",
       "    .dataframe thead th {\n",
       "        text-align: right;\n",
       "    }\n",
       "</style>\n",
       "<table border=\"1\" class=\"dataframe\">\n",
       "  <thead>\n",
       "    <tr style=\"text-align: right;\">\n",
       "      <th></th>\n",
       "      <th>student</th>\n",
       "      <th>grade</th>\n",
       "      <th>email</th>\n",
       "      <th>student_lower</th>\n",
       "      <th>student_upper</th>\n",
       "      <th>first_name</th>\n",
       "      <th>last_name</th>\n",
       "      <th>email_domain</th>\n",
       "      <th>student_replaced</th>\n",
       "      <th>has_example_domain</th>\n",
       "    </tr>\n",
       "  </thead>\n",
       "  <tbody>\n",
       "    <tr>\n",
       "      <th>0</th>\n",
       "      <td>Revanth Kumar</td>\n",
       "      <td>A</td>\n",
       "      <td>revanth@example.com</td>\n",
       "      <td>revanth kumar</td>\n",
       "      <td>REVANTH KUMAR</td>\n",
       "      <td>Revanth</td>\n",
       "      <td>Kumar</td>\n",
       "      <td>example.com</td>\n",
       "      <td>Revanth KUMAR</td>\n",
       "      <td>True</td>\n",
       "    </tr>\n",
       "    <tr>\n",
       "      <th>1</th>\n",
       "      <td>kumar V</td>\n",
       "      <td>B+</td>\n",
       "      <td>kumar@example.com</td>\n",
       "      <td>kumar v</td>\n",
       "      <td>KUMAR V</td>\n",
       "      <td>kumar</td>\n",
       "      <td>V</td>\n",
       "      <td>example.com</td>\n",
       "      <td>KUMAR V</td>\n",
       "      <td>True</td>\n",
       "    </tr>\n",
       "    <tr>\n",
       "      <th>2</th>\n",
       "      <td>Jeya R</td>\n",
       "      <td>A-</td>\n",
       "      <td>jeya.r@example.com</td>\n",
       "      <td>jeya r</td>\n",
       "      <td>JEYA R</td>\n",
       "      <td>Jeya</td>\n",
       "      <td>R</td>\n",
       "      <td>example.com</td>\n",
       "      <td>Jeya R</td>\n",
       "      <td>True</td>\n",
       "    </tr>\n",
       "    <tr>\n",
       "      <th>3</th>\n",
       "      <td>ARJUN M</td>\n",
       "      <td>C</td>\n",
       "      <td>arjun_m@example.com</td>\n",
       "      <td>arjun m</td>\n",
       "      <td>ARJUN M</td>\n",
       "      <td>ARJUN</td>\n",
       "      <td>M</td>\n",
       "      <td>example.com</td>\n",
       "      <td>ARJUN M</td>\n",
       "      <td>True</td>\n",
       "    </tr>\n",
       "    <tr>\n",
       "      <th>4</th>\n",
       "      <td>Kumar R</td>\n",
       "      <td>B</td>\n",
       "      <td>kumar123@example.com</td>\n",
       "      <td>kumar r</td>\n",
       "      <td>KUMAR R</td>\n",
       "      <td>Kumar</td>\n",
       "      <td>R</td>\n",
       "      <td>example.com</td>\n",
       "      <td>KUMAR R</td>\n",
       "      <td>True</td>\n",
       "    </tr>\n",
       "    <tr>\n",
       "      <th>5</th>\n",
       "      <td>sree latha</td>\n",
       "      <td>O</td>\n",
       "      <td>sree.latha@example.com</td>\n",
       "      <td>sree latha</td>\n",
       "      <td>SREE LATHA</td>\n",
       "      <td>sree</td>\n",
       "      <td>latha</td>\n",
       "      <td>example.com</td>\n",
       "      <td>sree latha</td>\n",
       "      <td>True</td>\n",
       "    </tr>\n",
       "  </tbody>\n",
       "</table>\n",
       "</div>"
      ],
      "text/plain": [
       "         student grade                   email  student_lower  student_upper  \\\n",
       "0  Revanth Kumar     A     revanth@example.com  revanth kumar  REVANTH KUMAR   \n",
       "1        kumar V    B+       kumar@example.com        kumar v        KUMAR V   \n",
       "2         Jeya R    A-      jeya.r@example.com         jeya r         JEYA R   \n",
       "3        ARJUN M     C     arjun_m@example.com        arjun m        ARJUN M   \n",
       "4        Kumar R     B    kumar123@example.com        kumar r        KUMAR R   \n",
       "5     sree latha     O  sree.latha@example.com     sree latha     SREE LATHA   \n",
       "\n",
       "  first_name last_name email_domain student_replaced  has_example_domain  \n",
       "0    Revanth     Kumar  example.com    Revanth KUMAR                True  \n",
       "1      kumar         V  example.com          KUMAR V                True  \n",
       "2       Jeya         R  example.com           Jeya R                True  \n",
       "3      ARJUN         M  example.com          ARJUN M                True  \n",
       "4      Kumar         R  example.com          KUMAR R                True  \n",
       "5       sree     latha  example.com       sree latha                True  "
      ]
     },
     "execution_count": 182,
     "metadata": {},
     "output_type": "execute_result"
    }
   ],
   "source": [
    "dataSet"
   ]
  },
  {
   "cell_type": "code",
   "execution_count": 183,
   "id": "ffaa26ff-08b4-407e-94cb-da15e8179b13",
   "metadata": {},
   "outputs": [],
   "source": [
    "# Remove Whitespace \n",
    "dataSet['strudent_stripped'] = dataSet['student'].str.strip()"
   ]
  },
  {
   "cell_type": "code",
   "execution_count": 184,
   "id": "aed6c532-ff76-477c-abec-2ebd75869ca4",
   "metadata": {},
   "outputs": [
    {
     "data": {
      "text/html": [
       "<div>\n",
       "<style scoped>\n",
       "    .dataframe tbody tr th:only-of-type {\n",
       "        vertical-align: middle;\n",
       "    }\n",
       "\n",
       "    .dataframe tbody tr th {\n",
       "        vertical-align: top;\n",
       "    }\n",
       "\n",
       "    .dataframe thead th {\n",
       "        text-align: right;\n",
       "    }\n",
       "</style>\n",
       "<table border=\"1\" class=\"dataframe\">\n",
       "  <thead>\n",
       "    <tr style=\"text-align: right;\">\n",
       "      <th></th>\n",
       "      <th>student</th>\n",
       "      <th>grade</th>\n",
       "      <th>email</th>\n",
       "      <th>student_lower</th>\n",
       "      <th>student_upper</th>\n",
       "      <th>first_name</th>\n",
       "      <th>last_name</th>\n",
       "      <th>email_domain</th>\n",
       "      <th>student_replaced</th>\n",
       "      <th>has_example_domain</th>\n",
       "      <th>strudent_stripped</th>\n",
       "    </tr>\n",
       "  </thead>\n",
       "  <tbody>\n",
       "    <tr>\n",
       "      <th>0</th>\n",
       "      <td>Revanth Kumar</td>\n",
       "      <td>A</td>\n",
       "      <td>revanth@example.com</td>\n",
       "      <td>revanth kumar</td>\n",
       "      <td>REVANTH KUMAR</td>\n",
       "      <td>Revanth</td>\n",
       "      <td>Kumar</td>\n",
       "      <td>example.com</td>\n",
       "      <td>Revanth KUMAR</td>\n",
       "      <td>True</td>\n",
       "      <td>Revanth Kumar</td>\n",
       "    </tr>\n",
       "    <tr>\n",
       "      <th>1</th>\n",
       "      <td>kumar V</td>\n",
       "      <td>B+</td>\n",
       "      <td>kumar@example.com</td>\n",
       "      <td>kumar v</td>\n",
       "      <td>KUMAR V</td>\n",
       "      <td>kumar</td>\n",
       "      <td>V</td>\n",
       "      <td>example.com</td>\n",
       "      <td>KUMAR V</td>\n",
       "      <td>True</td>\n",
       "      <td>kumar V</td>\n",
       "    </tr>\n",
       "    <tr>\n",
       "      <th>2</th>\n",
       "      <td>Jeya R</td>\n",
       "      <td>A-</td>\n",
       "      <td>jeya.r@example.com</td>\n",
       "      <td>jeya r</td>\n",
       "      <td>JEYA R</td>\n",
       "      <td>Jeya</td>\n",
       "      <td>R</td>\n",
       "      <td>example.com</td>\n",
       "      <td>Jeya R</td>\n",
       "      <td>True</td>\n",
       "      <td>Jeya R</td>\n",
       "    </tr>\n",
       "    <tr>\n",
       "      <th>3</th>\n",
       "      <td>ARJUN M</td>\n",
       "      <td>C</td>\n",
       "      <td>arjun_m@example.com</td>\n",
       "      <td>arjun m</td>\n",
       "      <td>ARJUN M</td>\n",
       "      <td>ARJUN</td>\n",
       "      <td>M</td>\n",
       "      <td>example.com</td>\n",
       "      <td>ARJUN M</td>\n",
       "      <td>True</td>\n",
       "      <td>ARJUN M</td>\n",
       "    </tr>\n",
       "    <tr>\n",
       "      <th>4</th>\n",
       "      <td>Kumar R</td>\n",
       "      <td>B</td>\n",
       "      <td>kumar123@example.com</td>\n",
       "      <td>kumar r</td>\n",
       "      <td>KUMAR R</td>\n",
       "      <td>Kumar</td>\n",
       "      <td>R</td>\n",
       "      <td>example.com</td>\n",
       "      <td>KUMAR R</td>\n",
       "      <td>True</td>\n",
       "      <td>Kumar R</td>\n",
       "    </tr>\n",
       "    <tr>\n",
       "      <th>5</th>\n",
       "      <td>sree latha</td>\n",
       "      <td>O</td>\n",
       "      <td>sree.latha@example.com</td>\n",
       "      <td>sree latha</td>\n",
       "      <td>SREE LATHA</td>\n",
       "      <td>sree</td>\n",
       "      <td>latha</td>\n",
       "      <td>example.com</td>\n",
       "      <td>sree latha</td>\n",
       "      <td>True</td>\n",
       "      <td>sree latha</td>\n",
       "    </tr>\n",
       "  </tbody>\n",
       "</table>\n",
       "</div>"
      ],
      "text/plain": [
       "         student grade                   email  student_lower  student_upper  \\\n",
       "0  Revanth Kumar     A     revanth@example.com  revanth kumar  REVANTH KUMAR   \n",
       "1        kumar V    B+       kumar@example.com        kumar v        KUMAR V   \n",
       "2         Jeya R    A-      jeya.r@example.com         jeya r         JEYA R   \n",
       "3        ARJUN M     C     arjun_m@example.com        arjun m        ARJUN M   \n",
       "4        Kumar R     B    kumar123@example.com        kumar r        KUMAR R   \n",
       "5     sree latha     O  sree.latha@example.com     sree latha     SREE LATHA   \n",
       "\n",
       "  first_name last_name email_domain student_replaced  has_example_domain  \\\n",
       "0    Revanth     Kumar  example.com    Revanth KUMAR                True   \n",
       "1      kumar         V  example.com          KUMAR V                True   \n",
       "2       Jeya         R  example.com           Jeya R                True   \n",
       "3      ARJUN         M  example.com          ARJUN M                True   \n",
       "4      Kumar         R  example.com          KUMAR R                True   \n",
       "5       sree     latha  example.com       sree latha                True   \n",
       "\n",
       "  strudent_stripped  \n",
       "0     Revanth Kumar  \n",
       "1           kumar V  \n",
       "2            Jeya R  \n",
       "3           ARJUN M  \n",
       "4           Kumar R  \n",
       "5        sree latha  "
      ]
     },
     "execution_count": 184,
     "metadata": {},
     "output_type": "execute_result"
    }
   ],
   "source": [
    "dataSet"
   ]
  },
  {
   "cell_type": "code",
   "execution_count": 185,
   "id": "adf9c449-56dc-47c4-841e-c8c3f8a5a333",
   "metadata": {},
   "outputs": [],
   "source": [
    "# Concatenate Strings \n",
    "dataSet['full_name'] = dataSet['first_name'] + ' ' + dataSet['last_name'] "
   ]
  },
  {
   "cell_type": "code",
   "execution_count": 186,
   "id": "9fa2e7c5-f446-462a-914b-dd48e055c85c",
   "metadata": {},
   "outputs": [
    {
     "data": {
      "text/html": [
       "<div>\n",
       "<style scoped>\n",
       "    .dataframe tbody tr th:only-of-type {\n",
       "        vertical-align: middle;\n",
       "    }\n",
       "\n",
       "    .dataframe tbody tr th {\n",
       "        vertical-align: top;\n",
       "    }\n",
       "\n",
       "    .dataframe thead th {\n",
       "        text-align: right;\n",
       "    }\n",
       "</style>\n",
       "<table border=\"1\" class=\"dataframe\">\n",
       "  <thead>\n",
       "    <tr style=\"text-align: right;\">\n",
       "      <th></th>\n",
       "      <th>student</th>\n",
       "      <th>grade</th>\n",
       "      <th>email</th>\n",
       "      <th>student_lower</th>\n",
       "      <th>student_upper</th>\n",
       "      <th>first_name</th>\n",
       "      <th>last_name</th>\n",
       "      <th>email_domain</th>\n",
       "      <th>student_replaced</th>\n",
       "      <th>has_example_domain</th>\n",
       "      <th>strudent_stripped</th>\n",
       "      <th>full_name</th>\n",
       "    </tr>\n",
       "  </thead>\n",
       "  <tbody>\n",
       "    <tr>\n",
       "      <th>0</th>\n",
       "      <td>Revanth Kumar</td>\n",
       "      <td>A</td>\n",
       "      <td>revanth@example.com</td>\n",
       "      <td>revanth kumar</td>\n",
       "      <td>REVANTH KUMAR</td>\n",
       "      <td>Revanth</td>\n",
       "      <td>Kumar</td>\n",
       "      <td>example.com</td>\n",
       "      <td>Revanth KUMAR</td>\n",
       "      <td>True</td>\n",
       "      <td>Revanth Kumar</td>\n",
       "      <td>Revanth Kumar</td>\n",
       "    </tr>\n",
       "    <tr>\n",
       "      <th>1</th>\n",
       "      <td>kumar V</td>\n",
       "      <td>B+</td>\n",
       "      <td>kumar@example.com</td>\n",
       "      <td>kumar v</td>\n",
       "      <td>KUMAR V</td>\n",
       "      <td>kumar</td>\n",
       "      <td>V</td>\n",
       "      <td>example.com</td>\n",
       "      <td>KUMAR V</td>\n",
       "      <td>True</td>\n",
       "      <td>kumar V</td>\n",
       "      <td>kumar V</td>\n",
       "    </tr>\n",
       "    <tr>\n",
       "      <th>2</th>\n",
       "      <td>Jeya R</td>\n",
       "      <td>A-</td>\n",
       "      <td>jeya.r@example.com</td>\n",
       "      <td>jeya r</td>\n",
       "      <td>JEYA R</td>\n",
       "      <td>Jeya</td>\n",
       "      <td>R</td>\n",
       "      <td>example.com</td>\n",
       "      <td>Jeya R</td>\n",
       "      <td>True</td>\n",
       "      <td>Jeya R</td>\n",
       "      <td>Jeya R</td>\n",
       "    </tr>\n",
       "    <tr>\n",
       "      <th>3</th>\n",
       "      <td>ARJUN M</td>\n",
       "      <td>C</td>\n",
       "      <td>arjun_m@example.com</td>\n",
       "      <td>arjun m</td>\n",
       "      <td>ARJUN M</td>\n",
       "      <td>ARJUN</td>\n",
       "      <td>M</td>\n",
       "      <td>example.com</td>\n",
       "      <td>ARJUN M</td>\n",
       "      <td>True</td>\n",
       "      <td>ARJUN M</td>\n",
       "      <td>ARJUN M</td>\n",
       "    </tr>\n",
       "    <tr>\n",
       "      <th>4</th>\n",
       "      <td>Kumar R</td>\n",
       "      <td>B</td>\n",
       "      <td>kumar123@example.com</td>\n",
       "      <td>kumar r</td>\n",
       "      <td>KUMAR R</td>\n",
       "      <td>Kumar</td>\n",
       "      <td>R</td>\n",
       "      <td>example.com</td>\n",
       "      <td>KUMAR R</td>\n",
       "      <td>True</td>\n",
       "      <td>Kumar R</td>\n",
       "      <td>Kumar R</td>\n",
       "    </tr>\n",
       "    <tr>\n",
       "      <th>5</th>\n",
       "      <td>sree latha</td>\n",
       "      <td>O</td>\n",
       "      <td>sree.latha@example.com</td>\n",
       "      <td>sree latha</td>\n",
       "      <td>SREE LATHA</td>\n",
       "      <td>sree</td>\n",
       "      <td>latha</td>\n",
       "      <td>example.com</td>\n",
       "      <td>sree latha</td>\n",
       "      <td>True</td>\n",
       "      <td>sree latha</td>\n",
       "      <td>sree latha</td>\n",
       "    </tr>\n",
       "  </tbody>\n",
       "</table>\n",
       "</div>"
      ],
      "text/plain": [
       "         student grade                   email  student_lower  student_upper  \\\n",
       "0  Revanth Kumar     A     revanth@example.com  revanth kumar  REVANTH KUMAR   \n",
       "1        kumar V    B+       kumar@example.com        kumar v        KUMAR V   \n",
       "2         Jeya R    A-      jeya.r@example.com         jeya r         JEYA R   \n",
       "3        ARJUN M     C     arjun_m@example.com        arjun m        ARJUN M   \n",
       "4        Kumar R     B    kumar123@example.com        kumar r        KUMAR R   \n",
       "5     sree latha     O  sree.latha@example.com     sree latha     SREE LATHA   \n",
       "\n",
       "  first_name last_name email_domain student_replaced  has_example_domain  \\\n",
       "0    Revanth     Kumar  example.com    Revanth KUMAR                True   \n",
       "1      kumar         V  example.com          KUMAR V                True   \n",
       "2       Jeya         R  example.com           Jeya R                True   \n",
       "3      ARJUN         M  example.com          ARJUN M                True   \n",
       "4      Kumar         R  example.com          KUMAR R                True   \n",
       "5       sree     latha  example.com       sree latha                True   \n",
       "\n",
       "  strudent_stripped      full_name  \n",
       "0     Revanth Kumar  Revanth Kumar  \n",
       "1           kumar V        kumar V  \n",
       "2            Jeya R         Jeya R  \n",
       "3           ARJUN M        ARJUN M  \n",
       "4           Kumar R        Kumar R  \n",
       "5        sree latha     sree latha  "
      ]
     },
     "execution_count": 186,
     "metadata": {},
     "output_type": "execute_result"
    }
   ],
   "source": [
    "dataSet"
   ]
  },
  {
   "cell_type": "code",
   "execution_count": 187,
   "id": "e7297062-c60f-43ce-9e52-80a2d07f675c",
   "metadata": {},
   "outputs": [],
   "source": [
    "# String Length  \n",
    "dataSet['name_length'] = dataSet['student'].str.len()"
   ]
  },
  {
   "cell_type": "code",
   "execution_count": 188,
   "id": "1584ed05-9d29-4e8d-ba95-51993bcd93c2",
   "metadata": {},
   "outputs": [
    {
     "data": {
      "text/html": [
       "<div>\n",
       "<style scoped>\n",
       "    .dataframe tbody tr th:only-of-type {\n",
       "        vertical-align: middle;\n",
       "    }\n",
       "\n",
       "    .dataframe tbody tr th {\n",
       "        vertical-align: top;\n",
       "    }\n",
       "\n",
       "    .dataframe thead th {\n",
       "        text-align: right;\n",
       "    }\n",
       "</style>\n",
       "<table border=\"1\" class=\"dataframe\">\n",
       "  <thead>\n",
       "    <tr style=\"text-align: right;\">\n",
       "      <th></th>\n",
       "      <th>student</th>\n",
       "      <th>grade</th>\n",
       "      <th>email</th>\n",
       "      <th>student_lower</th>\n",
       "      <th>student_upper</th>\n",
       "      <th>first_name</th>\n",
       "      <th>last_name</th>\n",
       "      <th>email_domain</th>\n",
       "      <th>student_replaced</th>\n",
       "      <th>has_example_domain</th>\n",
       "      <th>strudent_stripped</th>\n",
       "      <th>full_name</th>\n",
       "      <th>name_length</th>\n",
       "    </tr>\n",
       "  </thead>\n",
       "  <tbody>\n",
       "    <tr>\n",
       "      <th>0</th>\n",
       "      <td>Revanth Kumar</td>\n",
       "      <td>A</td>\n",
       "      <td>revanth@example.com</td>\n",
       "      <td>revanth kumar</td>\n",
       "      <td>REVANTH KUMAR</td>\n",
       "      <td>Revanth</td>\n",
       "      <td>Kumar</td>\n",
       "      <td>example.com</td>\n",
       "      <td>Revanth KUMAR</td>\n",
       "      <td>True</td>\n",
       "      <td>Revanth Kumar</td>\n",
       "      <td>Revanth Kumar</td>\n",
       "      <td>13</td>\n",
       "    </tr>\n",
       "    <tr>\n",
       "      <th>1</th>\n",
       "      <td>kumar V</td>\n",
       "      <td>B+</td>\n",
       "      <td>kumar@example.com</td>\n",
       "      <td>kumar v</td>\n",
       "      <td>KUMAR V</td>\n",
       "      <td>kumar</td>\n",
       "      <td>V</td>\n",
       "      <td>example.com</td>\n",
       "      <td>KUMAR V</td>\n",
       "      <td>True</td>\n",
       "      <td>kumar V</td>\n",
       "      <td>kumar V</td>\n",
       "      <td>7</td>\n",
       "    </tr>\n",
       "    <tr>\n",
       "      <th>2</th>\n",
       "      <td>Jeya R</td>\n",
       "      <td>A-</td>\n",
       "      <td>jeya.r@example.com</td>\n",
       "      <td>jeya r</td>\n",
       "      <td>JEYA R</td>\n",
       "      <td>Jeya</td>\n",
       "      <td>R</td>\n",
       "      <td>example.com</td>\n",
       "      <td>Jeya R</td>\n",
       "      <td>True</td>\n",
       "      <td>Jeya R</td>\n",
       "      <td>Jeya R</td>\n",
       "      <td>6</td>\n",
       "    </tr>\n",
       "    <tr>\n",
       "      <th>3</th>\n",
       "      <td>ARJUN M</td>\n",
       "      <td>C</td>\n",
       "      <td>arjun_m@example.com</td>\n",
       "      <td>arjun m</td>\n",
       "      <td>ARJUN M</td>\n",
       "      <td>ARJUN</td>\n",
       "      <td>M</td>\n",
       "      <td>example.com</td>\n",
       "      <td>ARJUN M</td>\n",
       "      <td>True</td>\n",
       "      <td>ARJUN M</td>\n",
       "      <td>ARJUN M</td>\n",
       "      <td>7</td>\n",
       "    </tr>\n",
       "    <tr>\n",
       "      <th>4</th>\n",
       "      <td>Kumar R</td>\n",
       "      <td>B</td>\n",
       "      <td>kumar123@example.com</td>\n",
       "      <td>kumar r</td>\n",
       "      <td>KUMAR R</td>\n",
       "      <td>Kumar</td>\n",
       "      <td>R</td>\n",
       "      <td>example.com</td>\n",
       "      <td>KUMAR R</td>\n",
       "      <td>True</td>\n",
       "      <td>Kumar R</td>\n",
       "      <td>Kumar R</td>\n",
       "      <td>7</td>\n",
       "    </tr>\n",
       "    <tr>\n",
       "      <th>5</th>\n",
       "      <td>sree latha</td>\n",
       "      <td>O</td>\n",
       "      <td>sree.latha@example.com</td>\n",
       "      <td>sree latha</td>\n",
       "      <td>SREE LATHA</td>\n",
       "      <td>sree</td>\n",
       "      <td>latha</td>\n",
       "      <td>example.com</td>\n",
       "      <td>sree latha</td>\n",
       "      <td>True</td>\n",
       "      <td>sree latha</td>\n",
       "      <td>sree latha</td>\n",
       "      <td>10</td>\n",
       "    </tr>\n",
       "  </tbody>\n",
       "</table>\n",
       "</div>"
      ],
      "text/plain": [
       "         student grade                   email  student_lower  student_upper  \\\n",
       "0  Revanth Kumar     A     revanth@example.com  revanth kumar  REVANTH KUMAR   \n",
       "1        kumar V    B+       kumar@example.com        kumar v        KUMAR V   \n",
       "2         Jeya R    A-      jeya.r@example.com         jeya r         JEYA R   \n",
       "3        ARJUN M     C     arjun_m@example.com        arjun m        ARJUN M   \n",
       "4        Kumar R     B    kumar123@example.com        kumar r        KUMAR R   \n",
       "5     sree latha     O  sree.latha@example.com     sree latha     SREE LATHA   \n",
       "\n",
       "  first_name last_name email_domain student_replaced  has_example_domain  \\\n",
       "0    Revanth     Kumar  example.com    Revanth KUMAR                True   \n",
       "1      kumar         V  example.com          KUMAR V                True   \n",
       "2       Jeya         R  example.com           Jeya R                True   \n",
       "3      ARJUN         M  example.com          ARJUN M                True   \n",
       "4      Kumar         R  example.com          KUMAR R                True   \n",
       "5       sree     latha  example.com       sree latha                True   \n",
       "\n",
       "  strudent_stripped      full_name  name_length  \n",
       "0     Revanth Kumar  Revanth Kumar           13  \n",
       "1           kumar V        kumar V            7  \n",
       "2            Jeya R         Jeya R            6  \n",
       "3           ARJUN M        ARJUN M            7  \n",
       "4           Kumar R        Kumar R            7  \n",
       "5        sree latha     sree latha           10  "
      ]
     },
     "execution_count": 188,
     "metadata": {},
     "output_type": "execute_result"
    }
   ],
   "source": [
    "dataSet"
   ]
  },
  {
   "cell_type": "markdown",
   "id": "36f099b6-9a5e-4201-9107-ccf1183d32f1",
   "metadata": {},
   "source": [
    "# Data Time Operations "
   ]
  },
  {
   "cell_type": "code",
   "execution_count": 189,
   "id": "b5a2f4dc-2326-4c27-8155-e432c8e18f1b",
   "metadata": {},
   "outputs": [],
   "source": [
    "data = {\n",
    "    'event': ['Event1', 'Event2', 'Event3', 'Event4'],\n",
    "    'start_date': ['2024-01-10', '2024-02-15', '2024-03-20', '2024-04-25'],\n",
    "    'end_date': ['2024-01-15', '2024-02-20', '2024-03-25', '2024-04-30']\n",
    "}\n",
    "\n",
    "dataSet = pd.DataFrame(data)"
   ]
  },
  {
   "cell_type": "code",
   "execution_count": 190,
   "id": "c9b26b8e-cf38-47e2-805f-86931b5c16f8",
   "metadata": {},
   "outputs": [
    {
     "data": {
      "text/html": [
       "<div>\n",
       "<style scoped>\n",
       "    .dataframe tbody tr th:only-of-type {\n",
       "        vertical-align: middle;\n",
       "    }\n",
       "\n",
       "    .dataframe tbody tr th {\n",
       "        vertical-align: top;\n",
       "    }\n",
       "\n",
       "    .dataframe thead th {\n",
       "        text-align: right;\n",
       "    }\n",
       "</style>\n",
       "<table border=\"1\" class=\"dataframe\">\n",
       "  <thead>\n",
       "    <tr style=\"text-align: right;\">\n",
       "      <th></th>\n",
       "      <th>event</th>\n",
       "      <th>start_date</th>\n",
       "      <th>end_date</th>\n",
       "    </tr>\n",
       "  </thead>\n",
       "  <tbody>\n",
       "    <tr>\n",
       "      <th>0</th>\n",
       "      <td>Event1</td>\n",
       "      <td>2024-01-10</td>\n",
       "      <td>2024-01-15</td>\n",
       "    </tr>\n",
       "    <tr>\n",
       "      <th>1</th>\n",
       "      <td>Event2</td>\n",
       "      <td>2024-02-15</td>\n",
       "      <td>2024-02-20</td>\n",
       "    </tr>\n",
       "    <tr>\n",
       "      <th>2</th>\n",
       "      <td>Event3</td>\n",
       "      <td>2024-03-20</td>\n",
       "      <td>2024-03-25</td>\n",
       "    </tr>\n",
       "    <tr>\n",
       "      <th>3</th>\n",
       "      <td>Event4</td>\n",
       "      <td>2024-04-25</td>\n",
       "      <td>2024-04-30</td>\n",
       "    </tr>\n",
       "  </tbody>\n",
       "</table>\n",
       "</div>"
      ],
      "text/plain": [
       "    event  start_date    end_date\n",
       "0  Event1  2024-01-10  2024-01-15\n",
       "1  Event2  2024-02-15  2024-02-20\n",
       "2  Event3  2024-03-20  2024-03-25\n",
       "3  Event4  2024-04-25  2024-04-30"
      ]
     },
     "execution_count": 190,
     "metadata": {},
     "output_type": "execute_result"
    }
   ],
   "source": [
    "dataSet"
   ]
  },
  {
   "cell_type": "code",
   "execution_count": 191,
   "id": "f925aaeb-815c-413a-aaf2-7b563474b654",
   "metadata": {},
   "outputs": [
    {
     "data": {
      "text/html": [
       "<div>\n",
       "<style scoped>\n",
       "    .dataframe tbody tr th:only-of-type {\n",
       "        vertical-align: middle;\n",
       "    }\n",
       "\n",
       "    .dataframe tbody tr th {\n",
       "        vertical-align: top;\n",
       "    }\n",
       "\n",
       "    .dataframe thead th {\n",
       "        text-align: right;\n",
       "    }\n",
       "</style>\n",
       "<table border=\"1\" class=\"dataframe\">\n",
       "  <thead>\n",
       "    <tr style=\"text-align: right;\">\n",
       "      <th></th>\n",
       "      <th>event</th>\n",
       "      <th>start_date</th>\n",
       "      <th>end_date</th>\n",
       "    </tr>\n",
       "  </thead>\n",
       "  <tbody>\n",
       "    <tr>\n",
       "      <th>0</th>\n",
       "      <td>Event1</td>\n",
       "      <td>2024-01-10</td>\n",
       "      <td>2024-01-15</td>\n",
       "    </tr>\n",
       "    <tr>\n",
       "      <th>1</th>\n",
       "      <td>Event2</td>\n",
       "      <td>2024-02-15</td>\n",
       "      <td>2024-02-20</td>\n",
       "    </tr>\n",
       "    <tr>\n",
       "      <th>2</th>\n",
       "      <td>Event3</td>\n",
       "      <td>2024-03-20</td>\n",
       "      <td>2024-03-25</td>\n",
       "    </tr>\n",
       "    <tr>\n",
       "      <th>3</th>\n",
       "      <td>Event4</td>\n",
       "      <td>2024-04-25</td>\n",
       "      <td>2024-04-30</td>\n",
       "    </tr>\n",
       "  </tbody>\n",
       "</table>\n",
       "</div>"
      ],
      "text/plain": [
       "    event start_date   end_date\n",
       "0  Event1 2024-01-10 2024-01-15\n",
       "1  Event2 2024-02-15 2024-02-20\n",
       "2  Event3 2024-03-20 2024-03-25\n",
       "3  Event4 2024-04-25 2024-04-30"
      ]
     },
     "execution_count": 191,
     "metadata": {},
     "output_type": "execute_result"
    }
   ],
   "source": [
    "# Convert Strings to Datetime \n",
    "dataSet['start_date'] = pd.to_datetime(dataSet['start_date'])\n",
    "dataSet['end_date'] = pd.to_datetime(dataSet['end_date'])\n",
    "dataSet"
   ]
  },
  {
   "cell_type": "code",
   "execution_count": 192,
   "id": "b8ab78c2-a0fd-422b-afff-8f3295893226",
   "metadata": {},
   "outputs": [
    {
     "data": {
      "text/html": [
       "<div>\n",
       "<style scoped>\n",
       "    .dataframe tbody tr th:only-of-type {\n",
       "        vertical-align: middle;\n",
       "    }\n",
       "\n",
       "    .dataframe tbody tr th {\n",
       "        vertical-align: top;\n",
       "    }\n",
       "\n",
       "    .dataframe thead th {\n",
       "        text-align: right;\n",
       "    }\n",
       "</style>\n",
       "<table border=\"1\" class=\"dataframe\">\n",
       "  <thead>\n",
       "    <tr style=\"text-align: right;\">\n",
       "      <th></th>\n",
       "      <th>event</th>\n",
       "      <th>start_date</th>\n",
       "      <th>end_date</th>\n",
       "      <th>start_year</th>\n",
       "      <th>start_month</th>\n",
       "      <th>start_day</th>\n",
       "    </tr>\n",
       "  </thead>\n",
       "  <tbody>\n",
       "    <tr>\n",
       "      <th>0</th>\n",
       "      <td>Event1</td>\n",
       "      <td>2024-01-10</td>\n",
       "      <td>2024-01-15</td>\n",
       "      <td>2024</td>\n",
       "      <td>1</td>\n",
       "      <td>10</td>\n",
       "    </tr>\n",
       "    <tr>\n",
       "      <th>1</th>\n",
       "      <td>Event2</td>\n",
       "      <td>2024-02-15</td>\n",
       "      <td>2024-02-20</td>\n",
       "      <td>2024</td>\n",
       "      <td>2</td>\n",
       "      <td>15</td>\n",
       "    </tr>\n",
       "    <tr>\n",
       "      <th>2</th>\n",
       "      <td>Event3</td>\n",
       "      <td>2024-03-20</td>\n",
       "      <td>2024-03-25</td>\n",
       "      <td>2024</td>\n",
       "      <td>3</td>\n",
       "      <td>20</td>\n",
       "    </tr>\n",
       "    <tr>\n",
       "      <th>3</th>\n",
       "      <td>Event4</td>\n",
       "      <td>2024-04-25</td>\n",
       "      <td>2024-04-30</td>\n",
       "      <td>2024</td>\n",
       "      <td>4</td>\n",
       "      <td>25</td>\n",
       "    </tr>\n",
       "  </tbody>\n",
       "</table>\n",
       "</div>"
      ],
      "text/plain": [
       "    event start_date   end_date  start_year  start_month  start_day\n",
       "0  Event1 2024-01-10 2024-01-15        2024            1         10\n",
       "1  Event2 2024-02-15 2024-02-20        2024            2         15\n",
       "2  Event3 2024-03-20 2024-03-25        2024            3         20\n",
       "3  Event4 2024-04-25 2024-04-30        2024            4         25"
      ]
     },
     "execution_count": 192,
     "metadata": {},
     "output_type": "execute_result"
    }
   ],
   "source": [
    "#  Extract Components of Dates\n",
    "dataSet['start_year'] = dataSet['start_date'].dt.year\n",
    "dataSet['start_month'] = dataSet['start_date'].dt.month\n",
    "dataSet['start_day'] = dataSet['start_date'].dt.day\n",
    "dataSet"
   ]
  },
  {
   "cell_type": "code",
   "execution_count": 193,
   "id": "e6ce4e47-6e9f-4132-bd5d-7f1b75c8a918",
   "metadata": {},
   "outputs": [
    {
     "data": {
      "text/html": [
       "<div>\n",
       "<style scoped>\n",
       "    .dataframe tbody tr th:only-of-type {\n",
       "        vertical-align: middle;\n",
       "    }\n",
       "\n",
       "    .dataframe tbody tr th {\n",
       "        vertical-align: top;\n",
       "    }\n",
       "\n",
       "    .dataframe thead th {\n",
       "        text-align: right;\n",
       "    }\n",
       "</style>\n",
       "<table border=\"1\" class=\"dataframe\">\n",
       "  <thead>\n",
       "    <tr style=\"text-align: right;\">\n",
       "      <th></th>\n",
       "      <th>event</th>\n",
       "      <th>start_date</th>\n",
       "      <th>end_date</th>\n",
       "      <th>start_year</th>\n",
       "      <th>start_month</th>\n",
       "      <th>start_day</th>\n",
       "      <th>duration</th>\n",
       "    </tr>\n",
       "  </thead>\n",
       "  <tbody>\n",
       "    <tr>\n",
       "      <th>0</th>\n",
       "      <td>Event1</td>\n",
       "      <td>2024-01-10</td>\n",
       "      <td>2024-01-15</td>\n",
       "      <td>2024</td>\n",
       "      <td>1</td>\n",
       "      <td>10</td>\n",
       "      <td>5 days</td>\n",
       "    </tr>\n",
       "    <tr>\n",
       "      <th>1</th>\n",
       "      <td>Event2</td>\n",
       "      <td>2024-02-15</td>\n",
       "      <td>2024-02-20</td>\n",
       "      <td>2024</td>\n",
       "      <td>2</td>\n",
       "      <td>15</td>\n",
       "      <td>5 days</td>\n",
       "    </tr>\n",
       "    <tr>\n",
       "      <th>2</th>\n",
       "      <td>Event3</td>\n",
       "      <td>2024-03-20</td>\n",
       "      <td>2024-03-25</td>\n",
       "      <td>2024</td>\n",
       "      <td>3</td>\n",
       "      <td>20</td>\n",
       "      <td>5 days</td>\n",
       "    </tr>\n",
       "    <tr>\n",
       "      <th>3</th>\n",
       "      <td>Event4</td>\n",
       "      <td>2024-04-25</td>\n",
       "      <td>2024-04-30</td>\n",
       "      <td>2024</td>\n",
       "      <td>4</td>\n",
       "      <td>25</td>\n",
       "      <td>5 days</td>\n",
       "    </tr>\n",
       "  </tbody>\n",
       "</table>\n",
       "</div>"
      ],
      "text/plain": [
       "    event start_date   end_date  start_year  start_month  start_day duration\n",
       "0  Event1 2024-01-10 2024-01-15        2024            1         10   5 days\n",
       "1  Event2 2024-02-15 2024-02-20        2024            2         15   5 days\n",
       "2  Event3 2024-03-20 2024-03-25        2024            3         20   5 days\n",
       "3  Event4 2024-04-25 2024-04-30        2024            4         25   5 days"
      ]
     },
     "execution_count": 193,
     "metadata": {},
     "output_type": "execute_result"
    }
   ],
   "source": [
    "# Calculate Differences Between Dates \n",
    "dataSet['duration'] = dataSet['end_date'] - dataSet['start_date']\n",
    "dataSet "
   ]
  },
  {
   "cell_type": "code",
   "execution_count": 194,
   "id": "20b53463-9276-4797-9efe-9523b226136d",
   "metadata": {},
   "outputs": [],
   "source": [
    "#Add or Subtract Time \n",
    "# Subtract 5 days from 'end_date'\n",
    "dataSet['start_date_plus_10'] = dataSet['start_date'] + pd.Timedelta(days=10)\n",
    "\n",
    "# Subtract 5 days from 'end_date'\n",
    "dataSet['end_date_minus_5'] = dataSet['end_date'] - pd.Timedelta(days=5)"
   ]
  },
  {
   "cell_type": "code",
   "execution_count": 195,
   "id": "63054b92-d7e8-4bed-9440-101899b354e2",
   "metadata": {},
   "outputs": [
    {
     "data": {
      "text/html": [
       "<div>\n",
       "<style scoped>\n",
       "    .dataframe tbody tr th:only-of-type {\n",
       "        vertical-align: middle;\n",
       "    }\n",
       "\n",
       "    .dataframe tbody tr th {\n",
       "        vertical-align: top;\n",
       "    }\n",
       "\n",
       "    .dataframe thead th {\n",
       "        text-align: right;\n",
       "    }\n",
       "</style>\n",
       "<table border=\"1\" class=\"dataframe\">\n",
       "  <thead>\n",
       "    <tr style=\"text-align: right;\">\n",
       "      <th></th>\n",
       "      <th>event</th>\n",
       "      <th>start_date</th>\n",
       "      <th>end_date</th>\n",
       "      <th>start_year</th>\n",
       "      <th>start_month</th>\n",
       "      <th>start_day</th>\n",
       "      <th>duration</th>\n",
       "      <th>start_date_plus_10</th>\n",
       "      <th>end_date_minus_5</th>\n",
       "    </tr>\n",
       "  </thead>\n",
       "  <tbody>\n",
       "    <tr>\n",
       "      <th>0</th>\n",
       "      <td>Event1</td>\n",
       "      <td>2024-01-10</td>\n",
       "      <td>2024-01-15</td>\n",
       "      <td>2024</td>\n",
       "      <td>1</td>\n",
       "      <td>10</td>\n",
       "      <td>5 days</td>\n",
       "      <td>2024-01-20</td>\n",
       "      <td>2024-01-10</td>\n",
       "    </tr>\n",
       "    <tr>\n",
       "      <th>1</th>\n",
       "      <td>Event2</td>\n",
       "      <td>2024-02-15</td>\n",
       "      <td>2024-02-20</td>\n",
       "      <td>2024</td>\n",
       "      <td>2</td>\n",
       "      <td>15</td>\n",
       "      <td>5 days</td>\n",
       "      <td>2024-02-25</td>\n",
       "      <td>2024-02-15</td>\n",
       "    </tr>\n",
       "    <tr>\n",
       "      <th>2</th>\n",
       "      <td>Event3</td>\n",
       "      <td>2024-03-20</td>\n",
       "      <td>2024-03-25</td>\n",
       "      <td>2024</td>\n",
       "      <td>3</td>\n",
       "      <td>20</td>\n",
       "      <td>5 days</td>\n",
       "      <td>2024-03-30</td>\n",
       "      <td>2024-03-20</td>\n",
       "    </tr>\n",
       "    <tr>\n",
       "      <th>3</th>\n",
       "      <td>Event4</td>\n",
       "      <td>2024-04-25</td>\n",
       "      <td>2024-04-30</td>\n",
       "      <td>2024</td>\n",
       "      <td>4</td>\n",
       "      <td>25</td>\n",
       "      <td>5 days</td>\n",
       "      <td>2024-05-05</td>\n",
       "      <td>2024-04-25</td>\n",
       "    </tr>\n",
       "  </tbody>\n",
       "</table>\n",
       "</div>"
      ],
      "text/plain": [
       "    event start_date   end_date  start_year  start_month  start_day duration  \\\n",
       "0  Event1 2024-01-10 2024-01-15        2024            1         10   5 days   \n",
       "1  Event2 2024-02-15 2024-02-20        2024            2         15   5 days   \n",
       "2  Event3 2024-03-20 2024-03-25        2024            3         20   5 days   \n",
       "3  Event4 2024-04-25 2024-04-30        2024            4         25   5 days   \n",
       "\n",
       "  start_date_plus_10 end_date_minus_5  \n",
       "0         2024-01-20       2024-01-10  \n",
       "1         2024-02-25       2024-02-15  \n",
       "2         2024-03-30       2024-03-20  \n",
       "3         2024-05-05       2024-04-25  "
      ]
     },
     "execution_count": 195,
     "metadata": {},
     "output_type": "execute_result"
    }
   ],
   "source": [
    "dataSet"
   ]
  },
  {
   "cell_type": "code",
   "execution_count": 196,
   "id": "25ecb997-3f3f-4c8c-8b11-7295031195af",
   "metadata": {},
   "outputs": [],
   "source": [
    "# Set DateTime Index \n",
    "\n",
    "# Set 'start_date' as the index\n",
    "dataSet.set_index('start_date', inplace=True)"
   ]
  },
  {
   "cell_type": "code",
   "execution_count": 197,
   "id": "cc243150-a75e-4c4b-a7e0-e3272a1a046e",
   "metadata": {},
   "outputs": [
    {
     "data": {
      "text/html": [
       "<div>\n",
       "<style scoped>\n",
       "    .dataframe tbody tr th:only-of-type {\n",
       "        vertical-align: middle;\n",
       "    }\n",
       "\n",
       "    .dataframe tbody tr th {\n",
       "        vertical-align: top;\n",
       "    }\n",
       "\n",
       "    .dataframe thead th {\n",
       "        text-align: right;\n",
       "    }\n",
       "</style>\n",
       "<table border=\"1\" class=\"dataframe\">\n",
       "  <thead>\n",
       "    <tr style=\"text-align: right;\">\n",
       "      <th></th>\n",
       "      <th>event</th>\n",
       "      <th>end_date</th>\n",
       "      <th>start_year</th>\n",
       "      <th>start_month</th>\n",
       "      <th>start_day</th>\n",
       "      <th>duration</th>\n",
       "      <th>start_date_plus_10</th>\n",
       "      <th>end_date_minus_5</th>\n",
       "    </tr>\n",
       "    <tr>\n",
       "      <th>start_date</th>\n",
       "      <th></th>\n",
       "      <th></th>\n",
       "      <th></th>\n",
       "      <th></th>\n",
       "      <th></th>\n",
       "      <th></th>\n",
       "      <th></th>\n",
       "      <th></th>\n",
       "    </tr>\n",
       "  </thead>\n",
       "  <tbody>\n",
       "    <tr>\n",
       "      <th>2024-01-10</th>\n",
       "      <td>Event1</td>\n",
       "      <td>2024-01-15</td>\n",
       "      <td>2024</td>\n",
       "      <td>1</td>\n",
       "      <td>10</td>\n",
       "      <td>5 days</td>\n",
       "      <td>2024-01-20</td>\n",
       "      <td>2024-01-10</td>\n",
       "    </tr>\n",
       "    <tr>\n",
       "      <th>2024-02-15</th>\n",
       "      <td>Event2</td>\n",
       "      <td>2024-02-20</td>\n",
       "      <td>2024</td>\n",
       "      <td>2</td>\n",
       "      <td>15</td>\n",
       "      <td>5 days</td>\n",
       "      <td>2024-02-25</td>\n",
       "      <td>2024-02-15</td>\n",
       "    </tr>\n",
       "    <tr>\n",
       "      <th>2024-03-20</th>\n",
       "      <td>Event3</td>\n",
       "      <td>2024-03-25</td>\n",
       "      <td>2024</td>\n",
       "      <td>3</td>\n",
       "      <td>20</td>\n",
       "      <td>5 days</td>\n",
       "      <td>2024-03-30</td>\n",
       "      <td>2024-03-20</td>\n",
       "    </tr>\n",
       "    <tr>\n",
       "      <th>2024-04-25</th>\n",
       "      <td>Event4</td>\n",
       "      <td>2024-04-30</td>\n",
       "      <td>2024</td>\n",
       "      <td>4</td>\n",
       "      <td>25</td>\n",
       "      <td>5 days</td>\n",
       "      <td>2024-05-05</td>\n",
       "      <td>2024-04-25</td>\n",
       "    </tr>\n",
       "  </tbody>\n",
       "</table>\n",
       "</div>"
      ],
      "text/plain": [
       "             event   end_date  start_year  start_month  start_day duration  \\\n",
       "start_date                                                                   \n",
       "2024-01-10  Event1 2024-01-15        2024            1         10   5 days   \n",
       "2024-02-15  Event2 2024-02-20        2024            2         15   5 days   \n",
       "2024-03-20  Event3 2024-03-25        2024            3         20   5 days   \n",
       "2024-04-25  Event4 2024-04-30        2024            4         25   5 days   \n",
       "\n",
       "           start_date_plus_10 end_date_minus_5  \n",
       "start_date                                      \n",
       "2024-01-10         2024-01-20       2024-01-10  \n",
       "2024-02-15         2024-02-25       2024-02-15  \n",
       "2024-03-20         2024-03-30       2024-03-20  \n",
       "2024-04-25         2024-05-05       2024-04-25  "
      ]
     },
     "execution_count": 197,
     "metadata": {},
     "output_type": "execute_result"
    }
   ],
   "source": [
    "dataSet"
   ]
  },
  {
   "cell_type": "code",
   "execution_count": 198,
   "id": "01da6895-a44e-458b-abe4-cd30c941f43e",
   "metadata": {},
   "outputs": [],
   "source": [
    "# Resample Time Series Data \n",
    "\n",
    "# Create a DataFrame with a date range for resampling\n",
    "date_range = pd.date_range(start='2024-01-01', end='2024-12-31', freq='D')\n",
    "data_series = pd.Series(range(len(date_range)), index=date_range)"
   ]
  },
  {
   "cell_type": "code",
   "execution_count": 199,
   "id": "4f2d3838-e681-4f2b-828d-64e35fde4557",
   "metadata": {},
   "outputs": [
    {
     "data": {
      "text/plain": [
       "DatetimeIndex(['2024-01-01', '2024-01-02', '2024-01-03', '2024-01-04',\n",
       "               '2024-01-05', '2024-01-06', '2024-01-07', '2024-01-08',\n",
       "               '2024-01-09', '2024-01-10',\n",
       "               ...\n",
       "               '2024-12-22', '2024-12-23', '2024-12-24', '2024-12-25',\n",
       "               '2024-12-26', '2024-12-27', '2024-12-28', '2024-12-29',\n",
       "               '2024-12-30', '2024-12-31'],\n",
       "              dtype='datetime64[ns]', length=366, freq='D')"
      ]
     },
     "execution_count": 199,
     "metadata": {},
     "output_type": "execute_result"
    }
   ],
   "source": [
    "date_range"
   ]
  },
  {
   "cell_type": "code",
   "execution_count": 200,
   "id": "47d25e61-90f5-456e-b672-fc1df36e0e00",
   "metadata": {},
   "outputs": [
    {
     "data": {
      "text/plain": [
       "2024-01-01      0\n",
       "2024-01-02      1\n",
       "2024-01-03      2\n",
       "2024-01-04      3\n",
       "2024-01-05      4\n",
       "             ... \n",
       "2024-12-27    361\n",
       "2024-12-28    362\n",
       "2024-12-29    363\n",
       "2024-12-30    364\n",
       "2024-12-31    365\n",
       "Freq: D, Length: 366, dtype: int64"
      ]
     },
     "execution_count": 200,
     "metadata": {},
     "output_type": "execute_result"
    }
   ],
   "source": [
    "data_series"
   ]
  },
  {
   "cell_type": "code",
   "execution_count": 201,
   "id": "03a30341-93b7-4bb4-a908-7e1d3162256b",
   "metadata": {},
   "outputs": [],
   "source": [
    "#  Resample data to monthly frequency, taking the mean\n",
    "monthly_data = data_series.resample('M').mean()"
   ]
  },
  {
   "cell_type": "code",
   "execution_count": 202,
   "id": "bfa1bea2-4537-4237-93bd-44dbe5ddb38a",
   "metadata": {},
   "outputs": [
    {
     "data": {
      "text/plain": [
       "2024-01-31     15.0\n",
       "2024-02-29     45.0\n",
       "2024-03-31     75.0\n",
       "2024-04-30    105.5\n",
       "2024-05-31    136.0\n",
       "2024-06-30    166.5\n",
       "2024-07-31    197.0\n",
       "2024-08-31    228.0\n",
       "2024-09-30    258.5\n",
       "2024-10-31    289.0\n",
       "2024-11-30    319.5\n",
       "2024-12-31    350.0\n",
       "Freq: M, dtype: float64"
      ]
     },
     "execution_count": 202,
     "metadata": {},
     "output_type": "execute_result"
    }
   ],
   "source": [
    "monthly_data"
   ]
  },
  {
   "cell_type": "markdown",
   "id": "1a4656fe-150a-45e5-8f9e-051eb9ec3aa6",
   "metadata": {},
   "source": [
    "# Remove/ Strip whitespace or special characters "
   ]
  },
  {
   "cell_type": "code",
   "execution_count": 203,
   "id": "225d9096-a4c3-4a87-81e8-8f86b0dad06d",
   "metadata": {},
   "outputs": [],
   "source": [
    "data = {\n",
    "    'text': ['  hello ', ' world ', '  test ', 'sample  ']\n",
    "}\n",
    "dataSet = pd.DataFrame(data)"
   ]
  },
  {
   "cell_type": "code",
   "execution_count": 204,
   "id": "8fcb492b-8ff6-419a-874e-0dfb3023cd4d",
   "metadata": {},
   "outputs": [
    {
     "data": {
      "text/html": [
       "<div>\n",
       "<style scoped>\n",
       "    .dataframe tbody tr th:only-of-type {\n",
       "        vertical-align: middle;\n",
       "    }\n",
       "\n",
       "    .dataframe tbody tr th {\n",
       "        vertical-align: top;\n",
       "    }\n",
       "\n",
       "    .dataframe thead th {\n",
       "        text-align: right;\n",
       "    }\n",
       "</style>\n",
       "<table border=\"1\" class=\"dataframe\">\n",
       "  <thead>\n",
       "    <tr style=\"text-align: right;\">\n",
       "      <th></th>\n",
       "      <th>text</th>\n",
       "    </tr>\n",
       "  </thead>\n",
       "  <tbody>\n",
       "    <tr>\n",
       "      <th>0</th>\n",
       "      <td>hello</td>\n",
       "    </tr>\n",
       "    <tr>\n",
       "      <th>1</th>\n",
       "      <td>world</td>\n",
       "    </tr>\n",
       "    <tr>\n",
       "      <th>2</th>\n",
       "      <td>test</td>\n",
       "    </tr>\n",
       "    <tr>\n",
       "      <th>3</th>\n",
       "      <td>sample</td>\n",
       "    </tr>\n",
       "  </tbody>\n",
       "</table>\n",
       "</div>"
      ],
      "text/plain": [
       "       text\n",
       "0    hello \n",
       "1    world \n",
       "2     test \n",
       "3  sample  "
      ]
     },
     "execution_count": 204,
     "metadata": {},
     "output_type": "execute_result"
    }
   ],
   "source": [
    "dataSet"
   ]
  },
  {
   "cell_type": "code",
   "execution_count": 205,
   "id": "2f87140e-c74e-4e1e-aadc-374fa960f423",
   "metadata": {},
   "outputs": [
    {
     "data": {
      "text/html": [
       "<div>\n",
       "<style scoped>\n",
       "    .dataframe tbody tr th:only-of-type {\n",
       "        vertical-align: middle;\n",
       "    }\n",
       "\n",
       "    .dataframe tbody tr th {\n",
       "        vertical-align: top;\n",
       "    }\n",
       "\n",
       "    .dataframe thead th {\n",
       "        text-align: right;\n",
       "    }\n",
       "</style>\n",
       "<table border=\"1\" class=\"dataframe\">\n",
       "  <thead>\n",
       "    <tr style=\"text-align: right;\">\n",
       "      <th></th>\n",
       "      <th>text</th>\n",
       "    </tr>\n",
       "  </thead>\n",
       "  <tbody>\n",
       "    <tr>\n",
       "      <th>0</th>\n",
       "      <td>hello</td>\n",
       "    </tr>\n",
       "    <tr>\n",
       "      <th>1</th>\n",
       "      <td>world</td>\n",
       "    </tr>\n",
       "    <tr>\n",
       "      <th>2</th>\n",
       "      <td>test</td>\n",
       "    </tr>\n",
       "    <tr>\n",
       "      <th>3</th>\n",
       "      <td>sample</td>\n",
       "    </tr>\n",
       "  </tbody>\n",
       "</table>\n",
       "</div>"
      ],
      "text/plain": [
       "     text\n",
       "0   hello\n",
       "1   world\n",
       "2    test\n",
       "3  sample"
      ]
     },
     "execution_count": 205,
     "metadata": {},
     "output_type": "execute_result"
    }
   ],
   "source": [
    "# Strip leading and trailing whitespace\n",
    "dataSet['text'] = dataSet['text'].str.strip() \n",
    "dataSet"
   ]
  },
  {
   "cell_type": "code",
   "execution_count": 206,
   "id": "9ba5b6f7-62c1-4f4e-a280-28df79b0a7c6",
   "metadata": {},
   "outputs": [
    {
     "data": {
      "text/html": [
       "<div>\n",
       "<style scoped>\n",
       "    .dataframe tbody tr th:only-of-type {\n",
       "        vertical-align: middle;\n",
       "    }\n",
       "\n",
       "    .dataframe tbody tr th {\n",
       "        vertical-align: top;\n",
       "    }\n",
       "\n",
       "    .dataframe thead th {\n",
       "        text-align: right;\n",
       "    }\n",
       "</style>\n",
       "<table border=\"1\" class=\"dataframe\">\n",
       "  <thead>\n",
       "    <tr style=\"text-align: right;\">\n",
       "      <th></th>\n",
       "      <th>text</th>\n",
       "    </tr>\n",
       "  </thead>\n",
       "  <tbody>\n",
       "    <tr>\n",
       "      <th>0</th>\n",
       "      <td>hello</td>\n",
       "    </tr>\n",
       "    <tr>\n",
       "      <th>1</th>\n",
       "      <td>world</td>\n",
       "    </tr>\n",
       "    <tr>\n",
       "      <th>2</th>\n",
       "      <td>test</td>\n",
       "    </tr>\n",
       "    <tr>\n",
       "      <th>3</th>\n",
       "      <td>sample</td>\n",
       "    </tr>\n",
       "  </tbody>\n",
       "</table>\n",
       "</div>"
      ],
      "text/plain": [
       "     text\n",
       "0   hello\n",
       "1   world\n",
       "2    test\n",
       "3  sample"
      ]
     },
     "execution_count": 206,
     "metadata": {},
     "output_type": "execute_result"
    }
   ],
   "source": [
    "# Remove all whitespace\n",
    "dataSet['text'] = dataSet['text'].str.replace(r'\\s+', '', regex=True) \n",
    "dataSet "
   ]
  },
  {
   "cell_type": "code",
   "execution_count": 207,
   "id": "338c6551-a6c7-4574-beb4-4ab4278394a4",
   "metadata": {},
   "outputs": [],
   "source": [
    "# Remove special characters\n",
    "dataSet['text'] = dataSet['text'].str.replace(r'[^\\w\\s]', '', regex=True)  # Keep only alphanumeric characters and whitespace"
   ]
  },
  {
   "cell_type": "code",
   "execution_count": 208,
   "id": "ae5fa504-152b-4211-b5ea-13d220ef2a82",
   "metadata": {},
   "outputs": [
    {
     "data": {
      "text/html": [
       "<div>\n",
       "<style scoped>\n",
       "    .dataframe tbody tr th:only-of-type {\n",
       "        vertical-align: middle;\n",
       "    }\n",
       "\n",
       "    .dataframe tbody tr th {\n",
       "        vertical-align: top;\n",
       "    }\n",
       "\n",
       "    .dataframe thead th {\n",
       "        text-align: right;\n",
       "    }\n",
       "</style>\n",
       "<table border=\"1\" class=\"dataframe\">\n",
       "  <thead>\n",
       "    <tr style=\"text-align: right;\">\n",
       "      <th></th>\n",
       "      <th>text</th>\n",
       "    </tr>\n",
       "  </thead>\n",
       "  <tbody>\n",
       "    <tr>\n",
       "      <th>0</th>\n",
       "      <td>hello</td>\n",
       "    </tr>\n",
       "    <tr>\n",
       "      <th>1</th>\n",
       "      <td>world</td>\n",
       "    </tr>\n",
       "    <tr>\n",
       "      <th>2</th>\n",
       "      <td>test</td>\n",
       "    </tr>\n",
       "    <tr>\n",
       "      <th>3</th>\n",
       "      <td>sample</td>\n",
       "    </tr>\n",
       "  </tbody>\n",
       "</table>\n",
       "</div>"
      ],
      "text/plain": [
       "     text\n",
       "0   hello\n",
       "1   world\n",
       "2    test\n",
       "3  sample"
      ]
     },
     "execution_count": 208,
     "metadata": {},
     "output_type": "execute_result"
    }
   ],
   "source": [
    "dataSet"
   ]
  },
  {
   "cell_type": "code",
   "execution_count": 209,
   "id": "bd2e1bad-a082-4745-b3e4-b4cd03619956",
   "metadata": {},
   "outputs": [
    {
     "name": "stdout",
     "output_type": "stream",
     "text": [
      "\n",
      "DataFrame after removing specific characters:\n"
     ]
    },
    {
     "data": {
      "text/html": [
       "<div>\n",
       "<style scoped>\n",
       "    .dataframe tbody tr th:only-of-type {\n",
       "        vertical-align: middle;\n",
       "    }\n",
       "\n",
       "    .dataframe tbody tr th {\n",
       "        vertical-align: top;\n",
       "    }\n",
       "\n",
       "    .dataframe thead th {\n",
       "        text-align: right;\n",
       "    }\n",
       "</style>\n",
       "<table border=\"1\" class=\"dataframe\">\n",
       "  <thead>\n",
       "    <tr style=\"text-align: right;\">\n",
       "      <th></th>\n",
       "      <th>text</th>\n",
       "    </tr>\n",
       "  </thead>\n",
       "  <tbody>\n",
       "    <tr>\n",
       "      <th>0</th>\n",
       "      <td>hllo</td>\n",
       "    </tr>\n",
       "    <tr>\n",
       "      <th>1</th>\n",
       "      <td>world</td>\n",
       "    </tr>\n",
       "    <tr>\n",
       "      <th>2</th>\n",
       "      <td>tt</td>\n",
       "    </tr>\n",
       "    <tr>\n",
       "      <th>3</th>\n",
       "      <td>ampl</td>\n",
       "    </tr>\n",
       "  </tbody>\n",
       "</table>\n",
       "</div>"
      ],
      "text/plain": [
       "    text\n",
       "0   hllo\n",
       "1  world\n",
       "2     tt\n",
       "3   ampl"
      ]
     },
     "execution_count": 209,
     "metadata": {},
     "output_type": "execute_result"
    }
   ],
   "source": [
    "# Remove specific characters, for example, 's' and 'e'\n",
    "dataSet['text'] = dataSet['text'].str.replace('s', '', regex=False)\n",
    "dataSet['text'] = dataSet['text'].str.replace('e', '', regex=False)\n",
    "\n",
    "print(\"\\nDataFrame after removing specific characters:\")\n",
    "dataSet"
   ]
  },
  {
   "cell_type": "code",
   "execution_count": 210,
   "id": "ddf85915-6c6c-4f3d-9882-880cd9d931dc",
   "metadata": {},
   "outputs": [
    {
     "data": {
      "text/plain": [
       "'!\"#$%&\\'()*+,-./:;<=>?@[\\\\]^_`{|}~ '"
      ]
     },
     "execution_count": 210,
     "metadata": {},
     "output_type": "execute_result"
    }
   ],
   "source": [
    "import string\n",
    "\n",
    "# # Define special characters to remove\n",
    "special_chars = string.punctuation + ' '\n",
    "special_chars"
   ]
  },
  {
   "cell_type": "code",
   "execution_count": 211,
   "id": "94fe8e36-7a98-4ac3-8c89-c099a7b54120",
   "metadata": {},
   "outputs": [],
   "source": [
    "# Remove special characters from the beginning and end of strings\n",
    "dataSet['text'] = dataSet['text'].str.strip(special_chars) "
   ]
  },
  {
   "cell_type": "code",
   "execution_count": 212,
   "id": "9d22e99b-930e-4b76-8610-9e96e2b9973e",
   "metadata": {},
   "outputs": [
    {
     "data": {
      "text/html": [
       "<div>\n",
       "<style scoped>\n",
       "    .dataframe tbody tr th:only-of-type {\n",
       "        vertical-align: middle;\n",
       "    }\n",
       "\n",
       "    .dataframe tbody tr th {\n",
       "        vertical-align: top;\n",
       "    }\n",
       "\n",
       "    .dataframe thead th {\n",
       "        text-align: right;\n",
       "    }\n",
       "</style>\n",
       "<table border=\"1\" class=\"dataframe\">\n",
       "  <thead>\n",
       "    <tr style=\"text-align: right;\">\n",
       "      <th></th>\n",
       "      <th>text</th>\n",
       "    </tr>\n",
       "  </thead>\n",
       "  <tbody>\n",
       "    <tr>\n",
       "      <th>0</th>\n",
       "      <td>hllo</td>\n",
       "    </tr>\n",
       "    <tr>\n",
       "      <th>1</th>\n",
       "      <td>world</td>\n",
       "    </tr>\n",
       "    <tr>\n",
       "      <th>2</th>\n",
       "      <td>tt</td>\n",
       "    </tr>\n",
       "    <tr>\n",
       "      <th>3</th>\n",
       "      <td>ampl</td>\n",
       "    </tr>\n",
       "  </tbody>\n",
       "</table>\n",
       "</div>"
      ],
      "text/plain": [
       "    text\n",
       "0   hllo\n",
       "1  world\n",
       "2     tt\n",
       "3   ampl"
      ]
     },
     "execution_count": 212,
     "metadata": {},
     "output_type": "execute_result"
    }
   ],
   "source": [
    "dataSet"
   ]
  },
  {
   "cell_type": "markdown",
   "id": "3def8d9c-6b91-42d7-9f16-43b934889b56",
   "metadata": {},
   "source": [
    "# How to Group Data "
   ]
  },
  {
   "cell_type": "code",
   "execution_count": 213,
   "id": "a55ee882-80e7-4042-ad3b-edd30946ac3b",
   "metadata": {},
   "outputs": [],
   "source": [
    "data = {\n",
    "    'department': ['Sales', 'Sales', 'HR', 'HR', 'IT', 'IT'],\n",
    "    'employee': ['Alice', 'Bob', 'Charlie', 'David', 'Eve', 'Frank'],\n",
    "    'salary': [70000, 80000, 60000, 65000, 200000, 15000],\n",
    "    'experience': [5, 7, 3, 4, 6, 8]\n",
    "}\n",
    "\n",
    "dataSet = pd.DataFrame(data)"
   ]
  },
  {
   "cell_type": "code",
   "execution_count": 214,
   "id": "5ec21deb-1c8a-49a5-9b8b-9b4f110c7d0b",
   "metadata": {},
   "outputs": [
    {
     "data": {
      "text/html": [
       "<div>\n",
       "<style scoped>\n",
       "    .dataframe tbody tr th:only-of-type {\n",
       "        vertical-align: middle;\n",
       "    }\n",
       "\n",
       "    .dataframe tbody tr th {\n",
       "        vertical-align: top;\n",
       "    }\n",
       "\n",
       "    .dataframe thead th {\n",
       "        text-align: right;\n",
       "    }\n",
       "</style>\n",
       "<table border=\"1\" class=\"dataframe\">\n",
       "  <thead>\n",
       "    <tr style=\"text-align: right;\">\n",
       "      <th></th>\n",
       "      <th>department</th>\n",
       "      <th>employee</th>\n",
       "      <th>salary</th>\n",
       "      <th>experience</th>\n",
       "    </tr>\n",
       "  </thead>\n",
       "  <tbody>\n",
       "    <tr>\n",
       "      <th>0</th>\n",
       "      <td>Sales</td>\n",
       "      <td>Alice</td>\n",
       "      <td>70000</td>\n",
       "      <td>5</td>\n",
       "    </tr>\n",
       "    <tr>\n",
       "      <th>1</th>\n",
       "      <td>Sales</td>\n",
       "      <td>Bob</td>\n",
       "      <td>80000</td>\n",
       "      <td>7</td>\n",
       "    </tr>\n",
       "    <tr>\n",
       "      <th>2</th>\n",
       "      <td>HR</td>\n",
       "      <td>Charlie</td>\n",
       "      <td>60000</td>\n",
       "      <td>3</td>\n",
       "    </tr>\n",
       "    <tr>\n",
       "      <th>3</th>\n",
       "      <td>HR</td>\n",
       "      <td>David</td>\n",
       "      <td>65000</td>\n",
       "      <td>4</td>\n",
       "    </tr>\n",
       "    <tr>\n",
       "      <th>4</th>\n",
       "      <td>IT</td>\n",
       "      <td>Eve</td>\n",
       "      <td>200000</td>\n",
       "      <td>6</td>\n",
       "    </tr>\n",
       "    <tr>\n",
       "      <th>5</th>\n",
       "      <td>IT</td>\n",
       "      <td>Frank</td>\n",
       "      <td>15000</td>\n",
       "      <td>8</td>\n",
       "    </tr>\n",
       "  </tbody>\n",
       "</table>\n",
       "</div>"
      ],
      "text/plain": [
       "  department employee  salary  experience\n",
       "0      Sales    Alice   70000           5\n",
       "1      Sales      Bob   80000           7\n",
       "2         HR  Charlie   60000           3\n",
       "3         HR    David   65000           4\n",
       "4         IT      Eve  200000           6\n",
       "5         IT    Frank   15000           8"
      ]
     },
     "execution_count": 214,
     "metadata": {},
     "output_type": "execute_result"
    }
   ],
   "source": [
    "dataSet"
   ]
  },
  {
   "cell_type": "code",
   "execution_count": 215,
   "id": "00194bcd-2810-47e4-ae05-c55b280e6636",
   "metadata": {},
   "outputs": [
    {
     "data": {
      "text/plain": [
       "department\n",
       "HR        62500.0\n",
       "IT       107500.0\n",
       "Sales     75000.0\n",
       "Name: salary, dtype: float64"
      ]
     },
     "execution_count": 215,
     "metadata": {},
     "output_type": "execute_result"
    }
   ],
   "source": [
    "# Group by department and calculate mean salary \n",
    "dataSet.groupby('department')['salary'].mean()"
   ]
  },
  {
   "cell_type": "code",
   "execution_count": 218,
   "id": "9ff3c1ad-17b1-486d-a892-9ff176296f00",
   "metadata": {},
   "outputs": [
    {
     "data": {
      "text/html": [
       "<div>\n",
       "<style scoped>\n",
       "    .dataframe tbody tr th:only-of-type {\n",
       "        vertical-align: middle;\n",
       "    }\n",
       "\n",
       "    .dataframe tbody tr th {\n",
       "        vertical-align: top;\n",
       "    }\n",
       "\n",
       "    .dataframe thead tr th {\n",
       "        text-align: left;\n",
       "    }\n",
       "\n",
       "    .dataframe thead tr:last-of-type th {\n",
       "        text-align: right;\n",
       "    }\n",
       "</style>\n",
       "<table border=\"1\" class=\"dataframe\">\n",
       "  <thead>\n",
       "    <tr>\n",
       "      <th></th>\n",
       "      <th colspan=\"2\" halign=\"left\">salary</th>\n",
       "      <th>experience</th>\n",
       "    </tr>\n",
       "    <tr>\n",
       "      <th></th>\n",
       "      <th>mean</th>\n",
       "      <th>sum</th>\n",
       "      <th>max</th>\n",
       "    </tr>\n",
       "    <tr>\n",
       "      <th>department</th>\n",
       "      <th></th>\n",
       "      <th></th>\n",
       "      <th></th>\n",
       "    </tr>\n",
       "  </thead>\n",
       "  <tbody>\n",
       "    <tr>\n",
       "      <th>HR</th>\n",
       "      <td>62500.0</td>\n",
       "      <td>125000</td>\n",
       "      <td>4</td>\n",
       "    </tr>\n",
       "    <tr>\n",
       "      <th>IT</th>\n",
       "      <td>107500.0</td>\n",
       "      <td>215000</td>\n",
       "      <td>8</td>\n",
       "    </tr>\n",
       "    <tr>\n",
       "      <th>Sales</th>\n",
       "      <td>75000.0</td>\n",
       "      <td>150000</td>\n",
       "      <td>7</td>\n",
       "    </tr>\n",
       "  </tbody>\n",
       "</table>\n",
       "</div>"
      ],
      "text/plain": [
       "              salary         experience\n",
       "                mean     sum        max\n",
       "department                             \n",
       "HR           62500.0  125000          4\n",
       "IT          107500.0  215000          8\n",
       "Sales        75000.0  150000          7"
      ]
     },
     "execution_count": 218,
     "metadata": {},
     "output_type": "execute_result"
    }
   ],
   "source": [
    "# Group by department and apply multiple aggregation functions\n",
    "dataSet.groupby('department').agg({\n",
    "    'salary':['mean', 'sum'], \n",
    "    'experience':'max'\n",
    "})"
   ]
  },
  {
   "cell_type": "code",
   "execution_count": 219,
   "id": "b45f50cd-adcb-45c8-90a2-616ceb3f02f2",
   "metadata": {},
   "outputs": [
    {
     "data": {
      "text/plain": [
       "department\n",
       "HR         5000\n",
       "IT       185000\n",
       "Sales     10000\n",
       "dtype: int64"
      ]
     },
     "execution_count": 219,
     "metadata": {},
     "output_type": "execute_result"
    }
   ],
   "source": [
    "# Define a custom function  \n",
    "def salary_range(group):\n",
    "    return group['salary'].max() - group['salary'].min()\n",
    "\n",
    "dataSet.groupby('department').apply(salary_range)"
   ]
  },
  {
   "cell_type": "code",
   "execution_count": 220,
   "id": "38f9bd5c-2b65-40ce-b72d-0fffc79a47c2",
   "metadata": {},
   "outputs": [
    {
     "data": {
      "text/html": [
       "<div>\n",
       "<style scoped>\n",
       "    .dataframe tbody tr th:only-of-type {\n",
       "        vertical-align: middle;\n",
       "    }\n",
       "\n",
       "    .dataframe tbody tr th {\n",
       "        vertical-align: top;\n",
       "    }\n",
       "\n",
       "    .dataframe thead th {\n",
       "        text-align: right;\n",
       "    }\n",
       "</style>\n",
       "<table border=\"1\" class=\"dataframe\">\n",
       "  <thead>\n",
       "    <tr style=\"text-align: right;\">\n",
       "      <th></th>\n",
       "      <th>department</th>\n",
       "      <th>employee</th>\n",
       "      <th>salary</th>\n",
       "      <th>experience</th>\n",
       "    </tr>\n",
       "  </thead>\n",
       "  <tbody>\n",
       "    <tr>\n",
       "      <th>4</th>\n",
       "      <td>IT</td>\n",
       "      <td>Eve</td>\n",
       "      <td>200000</td>\n",
       "      <td>6</td>\n",
       "    </tr>\n",
       "    <tr>\n",
       "      <th>5</th>\n",
       "      <td>IT</td>\n",
       "      <td>Frank</td>\n",
       "      <td>15000</td>\n",
       "      <td>8</td>\n",
       "    </tr>\n",
       "  </tbody>\n",
       "</table>\n",
       "</div>"
      ],
      "text/plain": [
       "  department employee  salary  experience\n",
       "4         IT      Eve  200000           6\n",
       "5         IT    Frank   15000           8"
      ]
     },
     "execution_count": 220,
     "metadata": {},
     "output_type": "execute_result"
    }
   ],
   "source": [
    "# Filter departments where the mean salary is above 75000 \n",
    "dataSet.groupby('department').filter(lambda x: x['salary'].mean() > 75000)"
   ]
  },
  {
   "cell_type": "markdown",
   "id": "3c0caba0-26ab-4cda-8067-5e3ad229f0b5",
   "metadata": {},
   "source": [
    "# Statistical Functions in Pandas\n",
    "<div>\n",
    "    <h1>Descriptive Statistics</h1>\n",
    "    <ul>\n",
    "        <li>mean(): Computes the mean (average) of the data.</li>\n",
    "        <li>median(): Computes the median (middle value) of the data.</li>\n",
    "        <li>mode(): Computes the mode (most frequent value) of the data.</li>\n",
    "        <li>std(): Computes the standard deviation (measure of spread) of the data.</li>\n",
    "        <li>var(): Computes the variance (measure of spread) of the data.</li>\n",
    "        <li>min(): Computes the minimum value of the data.</li>\n",
    "        <li>max(): Computes the maximum value of the data.</li>\n",
    "        <li>describe(): Provides a summary of statistics including count, mean, std, min, and quartiles.</li>\n",
    "    </ul>\n",
    "</div>"
   ]
  },
  {
   "cell_type": "markdown",
   "id": "6ebf9f5f-f647-42b5-b32a-304e13eafc4c",
   "metadata": {},
   "source": [
    "# Basic Plotting with Pandas "
   ]
  },
  {
   "cell_type": "code",
   "execution_count": 223,
   "id": "e88a317c-96eb-4b0c-bcc4-dbb0eba4d85a",
   "metadata": {},
   "outputs": [],
   "source": [
    "import matplotlib.pyplot as plt"
   ]
  },
  {
   "cell_type": "code",
   "execution_count": 224,
   "id": "33cd4eb5-0724-44d4-bc50-3863008697cd",
   "metadata": {},
   "outputs": [
    {
     "data": {
      "image/png": "[encoded data removed]",
      "text/plain": [
       "<Figure size 640x480 with 1 Axes>"
      ]
     },
     "metadata": {},
     "output_type": "display_data"
    }
   ],
   "source": [
    "# Sample dataset\n",
    "data = {\n",
    "    'Date': pd.date_range(start='2024-01-01', periods=5, freq='M'),\n",
    "    'Value': [10, 15, 8, 20, 25]\n",
    "}\n",
    "\n",
    "df = pd.DataFrame(data)\n",
    "df.set_index('Date', inplace=True)\n",
    "\n",
    "# Plot\n",
    "df.plot(kind='line', title='Line Plot', xlabel='Date', ylabel='Value')\n",
    "plt.show()"
   ]
  },
  {
   "cell_type": "code",
   "execution_count": 225,
   "id": "1fe735e6-f830-4e2c-bbd1-9c7207d04130",
   "metadata": {},
   "outputs": [
    {
     "data": {
      "image/png": "[encoded data removed]",
      "text/plain": [
       "<Figure size 640x480 with 1 Axes>"
      ]
     },
     "metadata": {},
     "output_type": "display_data"
    }
   ],
   "source": [
    "# Sample dataset\n",
    "data = {\n",
    "    'Category': ['A', 'B', 'C', 'D', 'E'],\n",
    "    'Values': [5, 7, 3, 8, 6]\n",
    "}\n",
    "\n",
    "df = pd.DataFrame(data)\n",
    "\n",
    "# Plot\n",
    "df.plot(kind='bar', x='Category', y='Values', title='Bar Plot', xlabel='Category', ylabel='Values')\n",
    "plt.show()"
   ]
  },
  {
   "cell_type": "code",
   "execution_count": 226,
   "id": "fb252d9c-c475-4fa0-b43e-0bd51f65004e",
   "metadata": {},
   "outputs": [
    {
     "data": {
      "image/png": "[encoded data removed]",
      "text/plain": [
       "<Figure size 640x480 with 1 Axes>"
      ]
     },
     "metadata": {},
     "output_type": "display_data"
    }
   ],
   "source": [
    "# Sample dataset\n",
    "data = {\n",
    "    'Values': [10, 15, 20, 20, 15, 10, 30, 35, 25, 20]\n",
    "}\n",
    "\n",
    "df = pd.DataFrame(data)\n",
    "\n",
    "# Plot\n",
    "df.plot(kind='hist', y='Values', bins=5, title='Histogram', xlabel='Values')\n",
    "plt.show()"
   ]
  },
  {
   "cell_type": "code",
   "execution_count": 227,
   "id": "c1c884d7-766c-4b33-9aab-49284faa297a",
   "metadata": {},
   "outputs": [
    {
     "data": {
      "image/png": "[encoded data removed]",
      "text/plain": [
       "<Figure size 640x480 with 1 Axes>"
      ]
     },
     "metadata": {},
     "output_type": "display_data"
    }
   ],
   "source": [
    "# Sample dataset\n",
    "data = {\n",
    "    'X': [1, 2, 3, 4, 5],\n",
    "    'Y': [2, 4, 6, 8, 10]\n",
    "}\n",
    "\n",
    "df = pd.DataFrame(data)\n",
    "\n",
    "# Plot\n",
    "df.plot(kind='scatter', x='X', y='Y', title='Scatter Plot', xlabel='X', ylabel='Y')\n",
    "plt.show()"
   ]
  },
  {
   "cell_type": "code",
   "execution_count": 228,
   "id": "553a351a-fe4a-4795-a222-8afba398d0d9",
   "metadata": {},
   "outputs": [
    {
     "data": {
      "image/png": "[encoded data removed]",
      "text/plain": [
       "<Figure size 640x480 with 1 Axes>"
      ]
     },
     "metadata": {},
     "output_type": "display_data"
    }
   ],
   "source": [
    "# Sample dataset\n",
    "data = {\n",
    "    'Category': ['A', 'B', 'C', 'D'],\n",
    "    'Values': [30, 10, 20, 40]\n",
    "}\n",
    "\n",
    "df = pd.DataFrame(data)\n",
    "\n",
    "# Plot\n",
    "df.plot(kind='pie', y='Values', labels=df['Category'], autopct='%1.1f%%', title='Pie Chart')\n",
    "plt.show()"
   ]
  },
  {
   "cell_type": "code",
   "execution_count": 229,
   "id": "72c7fc80-79fc-4fc9-8ea6-e60b3c210434",
   "metadata": {},
   "outputs": [
    {
     "data": {
      "image/png": "[encoded data removed]",
      "text/plain": [
       "<Figure size 640x480 with 1 Axes>"
      ]
     },
     "metadata": {},
     "output_type": "display_data"
    }
   ],
   "source": [
    "data = {\n",
    "    'Category': ['A', 'A', 'A', 'B', 'B', 'B', 'C', 'C', 'C', 'D', 'D', 'D'],\n",
    "    'Values': [1, 2, 3, 5, 6, 7, 2, 4, 5, 7, 8, 9]\n",
    "}\n",
    "\n",
    "df = pd.DataFrame(data)\n",
    "\n",
    "# Plot\n",
    "df.boxplot(column='Values', by='Category', grid=True)\n",
    "\n",
    "# Customize the plot\n",
    "plt.title('Box Plot')\n",
    "plt.suptitle('')  # Suppress the default 'Boxplot grouped by Category' title\n",
    "plt.xlabel('Category')\n",
    "plt.ylabel('Values')\n",
    "plt.show()\n"
   ]
  },
  {
   "cell_type": "code",
   "execution_count": 230,
   "id": "ad9db627-880d-4b9c-87bb-be8e6f8c866a",
   "metadata": {},
   "outputs": [
    {
     "data": {
      "image/png": "[encoded data removed]",
      "text/plain": [
       "<Figure size 640x480 with 1 Axes>"
      ]
     },
     "metadata": {},
     "output_type": "display_data"
    }
   ],
   "source": [
    "ax = df.plot(kind='line')\n",
    "ax.set_title('Custom Title')\n",
    "ax.set_xlabel('Custom X Label')\n",
    "ax.set_ylabel('Custom Y Label')\n",
    "plt.grid(True)\n",
    "plt.show()"
   ]
  },
  {
   "cell_type": "markdown",
   "id": "7adca6bd-d90f-41c6-b3d6-77a290c3456b",
   "metadata": {},
   "source": [
    "# Describe "
   ]
  },
  {
   "cell_type": "code",
   "execution_count": 232,
   "id": "e93fb911-2ea6-44a3-b99a-e4a9e0c8e939",
   "metadata": {},
   "outputs": [],
   "source": [
    "data = {\n",
    "    \"first\":[1, 2, 3, 4, 5], \n",
    "    \"second\":[2, 4, 6, 7, 1]\n",
    "}\n",
    "data = pd.DataFrame(data)"
   ]
  },
  {
   "cell_type": "code",
   "execution_count": 234,
   "id": "8ebda9ec-a992-485b-989c-26854c16c4b3",
   "metadata": {},
   "outputs": [
    {
     "data": {
      "text/html": [
       "<div>\n",
       "<style scoped>\n",
       "    .dataframe tbody tr th:only-of-type {\n",
       "        vertical-align: middle;\n",
       "    }\n",
       "\n",
       "    .dataframe tbody tr th {\n",
       "        vertical-align: top;\n",
       "    }\n",
       "\n",
       "    .dataframe thead th {\n",
       "        text-align: right;\n",
       "    }\n",
       "</style>\n",
       "<table border=\"1\" class=\"dataframe\">\n",
       "  <thead>\n",
       "    <tr style=\"text-align: right;\">\n",
       "      <th></th>\n",
       "      <th>first</th>\n",
       "      <th>second</th>\n",
       "    </tr>\n",
       "  </thead>\n",
       "  <tbody>\n",
       "    <tr>\n",
       "      <th>count</th>\n",
       "      <td>5.000000</td>\n",
       "      <td>5.00000</td>\n",
       "    </tr>\n",
       "    <tr>\n",
       "      <th>mean</th>\n",
       "      <td>3.000000</td>\n",
       "      <td>4.00000</td>\n",
       "    </tr>\n",
       "    <tr>\n",
       "      <th>std</th>\n",
       "      <td>1.581139</td>\n",
       "      <td>2.54951</td>\n",
       "    </tr>\n",
       "    <tr>\n",
       "      <th>min</th>\n",
       "      <td>1.000000</td>\n",
       "      <td>1.00000</td>\n",
       "    </tr>\n",
       "    <tr>\n",
       "      <th>25%</th>\n",
       "      <td>2.000000</td>\n",
       "      <td>2.00000</td>\n",
       "    </tr>\n",
       "    <tr>\n",
       "      <th>50%</th>\n",
       "      <td>3.000000</td>\n",
       "      <td>4.00000</td>\n",
       "    </tr>\n",
       "    <tr>\n",
       "      <th>75%</th>\n",
       "      <td>4.000000</td>\n",
       "      <td>6.00000</td>\n",
       "    </tr>\n",
       "    <tr>\n",
       "      <th>max</th>\n",
       "      <td>5.000000</td>\n",
       "      <td>7.00000</td>\n",
       "    </tr>\n",
       "  </tbody>\n",
       "</table>\n",
       "</div>"
      ],
      "text/plain": [
       "          first   second\n",
       "count  5.000000  5.00000\n",
       "mean   3.000000  4.00000\n",
       "std    1.581139  2.54951\n",
       "min    1.000000  1.00000\n",
       "25%    2.000000  2.00000\n",
       "50%    3.000000  4.00000\n",
       "75%    4.000000  6.00000\n",
       "max    5.000000  7.00000"
      ]
     },
     "execution_count": 234,
     "metadata": {},
     "output_type": "execute_result"
    }
   ],
   "source": [
    "data.describe()"
   ]
  },
  {
   "cell_type": "markdown",
   "id": "560140fa-fbe3-4bc6-98f5-abdc7318e53e",
   "metadata": {},
   "source": [
    "# Slicing "
   ]
  },
  {
   "cell_type": "markdown",
   "id": "4c511dc5-1bf7-4d72-aceb-a443f26c2489",
   "metadata": {},
   "source": [
    "    Types of Slicing in Pandas:\n",
    "        -> Row Slicing Using .iloc[] (Index-based slicing)\n",
    "        -> Row Slicing Using .loc[] (Label-based slicing)\n",
    "        -> Column Slicing\n",
    "        -> Row and Column Slicing\n",
    "        -> Boolean Indexing Slicing"
   ]
  },
  {
   "cell_type": "code",
   "execution_count": 235,
   "id": "780b458f-8ae7-4739-b096-c0b5b8b92b5e",
   "metadata": {},
   "outputs": [
    {
     "data": {
      "text/html": [
       "<div>\n",
       "<style scoped>\n",
       "    .dataframe tbody tr th:only-of-type {\n",
       "        vertical-align: middle;\n",
       "    }\n",
       "\n",
       "    .dataframe tbody tr th {\n",
       "        vertical-align: top;\n",
       "    }\n",
       "\n",
       "    .dataframe thead th {\n",
       "        text-align: right;\n",
       "    }\n",
       "</style>\n",
       "<table border=\"1\" class=\"dataframe\">\n",
       "  <thead>\n",
       "    <tr style=\"text-align: right;\">\n",
       "      <th></th>\n",
       "      <th>Name</th>\n",
       "      <th>Age</th>\n",
       "      <th>Department</th>\n",
       "      <th>Salary</th>\n",
       "    </tr>\n",
       "  </thead>\n",
       "  <tbody>\n",
       "    <tr>\n",
       "      <th>0</th>\n",
       "      <td>Alice</td>\n",
       "      <td>24</td>\n",
       "      <td>HR</td>\n",
       "      <td>50000</td>\n",
       "    </tr>\n",
       "    <tr>\n",
       "      <th>1</th>\n",
       "      <td>Bob</td>\n",
       "      <td>27</td>\n",
       "      <td>IT</td>\n",
       "      <td>60000</td>\n",
       "    </tr>\n",
       "    <tr>\n",
       "      <th>2</th>\n",
       "      <td>Charlie</td>\n",
       "      <td>22</td>\n",
       "      <td>Sales</td>\n",
       "      <td>55000</td>\n",
       "    </tr>\n",
       "    <tr>\n",
       "      <th>3</th>\n",
       "      <td>David</td>\n",
       "      <td>32</td>\n",
       "      <td>IT</td>\n",
       "      <td>62000</td>\n",
       "    </tr>\n",
       "    <tr>\n",
       "      <th>4</th>\n",
       "      <td>Eve</td>\n",
       "      <td>29</td>\n",
       "      <td>HR</td>\n",
       "      <td>58000</td>\n",
       "    </tr>\n",
       "  </tbody>\n",
       "</table>\n",
       "</div>"
      ],
      "text/plain": [
       "      Name  Age Department  Salary\n",
       "0    Alice   24         HR   50000\n",
       "1      Bob   27         IT   60000\n",
       "2  Charlie   22      Sales   55000\n",
       "3    David   32         IT   62000\n",
       "4      Eve   29         HR   58000"
      ]
     },
     "execution_count": 235,
     "metadata": {},
     "output_type": "execute_result"
    }
   ],
   "source": [
    "# Example DataFrame\n",
    "data = {\n",
    "    'Name': ['Alice', 'Bob', 'Charlie', 'David', 'Eve'],\n",
    "    'Age': [24, 27, 22, 32, 29],\n",
    "    'Department': ['HR', 'IT', 'Sales', 'IT', 'HR'],\n",
    "    'Salary': [50000, 60000, 55000, 62000, 58000]\n",
    "}\n",
    "\n",
    "df = pd.DataFrame(data)\n",
    "df"
   ]
  },
  {
   "cell_type": "code",
   "execution_count": 236,
   "id": "f021f482-f36b-4dee-b31f-d99bab94aeec",
   "metadata": {},
   "outputs": [
    {
     "data": {
      "text/html": [
       "<div>\n",
       "<style scoped>\n",
       "    .dataframe tbody tr th:only-of-type {\n",
       "        vertical-align: middle;\n",
       "    }\n",
       "\n",
       "    .dataframe tbody tr th {\n",
       "        vertical-align: top;\n",
       "    }\n",
       "\n",
       "    .dataframe thead th {\n",
       "        text-align: right;\n",
       "    }\n",
       "</style>\n",
       "<table border=\"1\" class=\"dataframe\">\n",
       "  <thead>\n",
       "    <tr style=\"text-align: right;\">\n",
       "      <th></th>\n",
       "      <th>Name</th>\n",
       "      <th>Age</th>\n",
       "      <th>Department</th>\n",
       "      <th>Salary</th>\n",
       "    </tr>\n",
       "  </thead>\n",
       "  <tbody>\n",
       "    <tr>\n",
       "      <th>0</th>\n",
       "      <td>Alice</td>\n",
       "      <td>24</td>\n",
       "      <td>HR</td>\n",
       "      <td>50000</td>\n",
       "    </tr>\n",
       "    <tr>\n",
       "      <th>1</th>\n",
       "      <td>Bob</td>\n",
       "      <td>27</td>\n",
       "      <td>IT</td>\n",
       "      <td>60000</td>\n",
       "    </tr>\n",
       "    <tr>\n",
       "      <th>2</th>\n",
       "      <td>Charlie</td>\n",
       "      <td>22</td>\n",
       "      <td>Sales</td>\n",
       "      <td>55000</td>\n",
       "    </tr>\n",
       "  </tbody>\n",
       "</table>\n",
       "</div>"
      ],
      "text/plain": [
       "      Name  Age Department  Salary\n",
       "0    Alice   24         HR   50000\n",
       "1      Bob   27         IT   60000\n",
       "2  Charlie   22      Sales   55000"
      ]
     },
     "execution_count": 236,
     "metadata": {},
     "output_type": "execute_result"
    }
   ],
   "source": [
    "# 1. Row Slicing Using .iloc[] (Index-based slicing) \n",
    "df.iloc[:3]"
   ]
  },
  {
   "cell_type": "code",
   "execution_count": 237,
   "id": "bf2bbbf9-0733-47ac-8880-b001516c505e",
   "metadata": {},
   "outputs": [
    {
     "data": {
      "text/html": [
       "<div>\n",
       "<style scoped>\n",
       "    .dataframe tbody tr th:only-of-type {\n",
       "        vertical-align: middle;\n",
       "    }\n",
       "\n",
       "    .dataframe tbody tr th {\n",
       "        vertical-align: top;\n",
       "    }\n",
       "\n",
       "    .dataframe thead th {\n",
       "        text-align: right;\n",
       "    }\n",
       "</style>\n",
       "<table border=\"1\" class=\"dataframe\">\n",
       "  <thead>\n",
       "    <tr style=\"text-align: right;\">\n",
       "      <th></th>\n",
       "      <th>Name</th>\n",
       "      <th>Age</th>\n",
       "      <th>Department</th>\n",
       "      <th>Salary</th>\n",
       "    </tr>\n",
       "  </thead>\n",
       "  <tbody>\n",
       "    <tr>\n",
       "      <th>1</th>\n",
       "      <td>Bob</td>\n",
       "      <td>27</td>\n",
       "      <td>IT</td>\n",
       "      <td>60000</td>\n",
       "    </tr>\n",
       "    <tr>\n",
       "      <th>2</th>\n",
       "      <td>Charlie</td>\n",
       "      <td>22</td>\n",
       "      <td>Sales</td>\n",
       "      <td>55000</td>\n",
       "    </tr>\n",
       "    <tr>\n",
       "      <th>3</th>\n",
       "      <td>David</td>\n",
       "      <td>32</td>\n",
       "      <td>IT</td>\n",
       "      <td>62000</td>\n",
       "    </tr>\n",
       "  </tbody>\n",
       "</table>\n",
       "</div>"
      ],
      "text/plain": [
       "      Name  Age Department  Salary\n",
       "1      Bob   27         IT   60000\n",
       "2  Charlie   22      Sales   55000\n",
       "3    David   32         IT   62000"
      ]
     },
     "execution_count": 237,
     "metadata": {},
     "output_type": "execute_result"
    }
   ],
   "source": [
    "# Row Slicing Using .loc[] (Label-based slicing) \n",
    "df.loc[1:3]"
   ]
  },
  {
   "cell_type": "code",
   "execution_count": 238,
   "id": "56a623b9-5f05-47d6-9741-92ec944affb1",
   "metadata": {},
   "outputs": [
    {
     "data": {
      "text/html": [
       "<div>\n",
       "<style scoped>\n",
       "    .dataframe tbody tr th:only-of-type {\n",
       "        vertical-align: middle;\n",
       "    }\n",
       "\n",
       "    .dataframe tbody tr th {\n",
       "        vertical-align: top;\n",
       "    }\n",
       "\n",
       "    .dataframe thead th {\n",
       "        text-align: right;\n",
       "    }\n",
       "</style>\n",
       "<table border=\"1\" class=\"dataframe\">\n",
       "  <thead>\n",
       "    <tr style=\"text-align: right;\">\n",
       "      <th></th>\n",
       "      <th>Name</th>\n",
       "      <th>Salary</th>\n",
       "    </tr>\n",
       "  </thead>\n",
       "  <tbody>\n",
       "    <tr>\n",
       "      <th>0</th>\n",
       "      <td>Alice</td>\n",
       "      <td>50000</td>\n",
       "    </tr>\n",
       "    <tr>\n",
       "      <th>1</th>\n",
       "      <td>Bob</td>\n",
       "      <td>60000</td>\n",
       "    </tr>\n",
       "    <tr>\n",
       "      <th>2</th>\n",
       "      <td>Charlie</td>\n",
       "      <td>55000</td>\n",
       "    </tr>\n",
       "    <tr>\n",
       "      <th>3</th>\n",
       "      <td>David</td>\n",
       "      <td>62000</td>\n",
       "    </tr>\n",
       "    <tr>\n",
       "      <th>4</th>\n",
       "      <td>Eve</td>\n",
       "      <td>58000</td>\n",
       "    </tr>\n",
       "  </tbody>\n",
       "</table>\n",
       "</div>"
      ],
      "text/plain": [
       "      Name  Salary\n",
       "0    Alice   50000\n",
       "1      Bob   60000\n",
       "2  Charlie   55000\n",
       "3    David   62000\n",
       "4      Eve   58000"
      ]
     },
     "execution_count": 238,
     "metadata": {},
     "output_type": "execute_result"
    }
   ],
   "source": [
    "# Column Slicing  \n",
    "df[['Name', 'Salary']]"
   ]
  },
  {
   "cell_type": "code",
   "execution_count": 239,
   "id": "4ddd7a4d-6173-444f-beba-d327a2572c87",
   "metadata": {},
   "outputs": [
    {
     "data": {
      "text/html": [
       "<div>\n",
       "<style scoped>\n",
       "    .dataframe tbody tr th:only-of-type {\n",
       "        vertical-align: middle;\n",
       "    }\n",
       "\n",
       "    .dataframe tbody tr th {\n",
       "        vertical-align: top;\n",
       "    }\n",
       "\n",
       "    .dataframe thead th {\n",
       "        text-align: right;\n",
       "    }\n",
       "</style>\n",
       "<table border=\"1\" class=\"dataframe\">\n",
       "  <thead>\n",
       "    <tr style=\"text-align: right;\">\n",
       "      <th></th>\n",
       "      <th>Name</th>\n",
       "      <th>Salary</th>\n",
       "    </tr>\n",
       "  </thead>\n",
       "  <tbody>\n",
       "    <tr>\n",
       "      <th>0</th>\n",
       "      <td>Alice</td>\n",
       "      <td>50000</td>\n",
       "    </tr>\n",
       "    <tr>\n",
       "      <th>1</th>\n",
       "      <td>Bob</td>\n",
       "      <td>60000</td>\n",
       "    </tr>\n",
       "    <tr>\n",
       "      <th>2</th>\n",
       "      <td>Charlie</td>\n",
       "      <td>55000</td>\n",
       "    </tr>\n",
       "  </tbody>\n",
       "</table>\n",
       "</div>"
      ],
      "text/plain": [
       "      Name  Salary\n",
       "0    Alice   50000\n",
       "1      Bob   60000\n",
       "2  Charlie   55000"
      ]
     },
     "execution_count": 239,
     "metadata": {},
     "output_type": "execute_result"
    }
   ],
   "source": [
    "# Row and Column Slicing Together \n",
    "df.iloc[:3, [0, 3]]"
   ]
  },
  {
   "cell_type": "code",
   "execution_count": 240,
   "id": "5b1c8c44-e3bc-4e0c-86c7-d1663370cba2",
   "metadata": {},
   "outputs": [
    {
     "data": {
      "text/html": [
       "<div>\n",
       "<style scoped>\n",
       "    .dataframe tbody tr th:only-of-type {\n",
       "        vertical-align: middle;\n",
       "    }\n",
       "\n",
       "    .dataframe tbody tr th {\n",
       "        vertical-align: top;\n",
       "    }\n",
       "\n",
       "    .dataframe thead th {\n",
       "        text-align: right;\n",
       "    }\n",
       "</style>\n",
       "<table border=\"1\" class=\"dataframe\">\n",
       "  <thead>\n",
       "    <tr style=\"text-align: right;\">\n",
       "      <th></th>\n",
       "      <th>Name</th>\n",
       "      <th>Age</th>\n",
       "      <th>Department</th>\n",
       "      <th>Salary</th>\n",
       "    </tr>\n",
       "  </thead>\n",
       "  <tbody>\n",
       "    <tr>\n",
       "      <th>1</th>\n",
       "      <td>Bob</td>\n",
       "      <td>27</td>\n",
       "      <td>IT</td>\n",
       "      <td>60000</td>\n",
       "    </tr>\n",
       "    <tr>\n",
       "      <th>3</th>\n",
       "      <td>David</td>\n",
       "      <td>32</td>\n",
       "      <td>IT</td>\n",
       "      <td>62000</td>\n",
       "    </tr>\n",
       "    <tr>\n",
       "      <th>4</th>\n",
       "      <td>Eve</td>\n",
       "      <td>29</td>\n",
       "      <td>HR</td>\n",
       "      <td>58000</td>\n",
       "    </tr>\n",
       "  </tbody>\n",
       "</table>\n",
       "</div>"
      ],
      "text/plain": [
       "    Name  Age Department  Salary\n",
       "1    Bob   27         IT   60000\n",
       "3  David   32         IT   62000\n",
       "4    Eve   29         HR   58000"
      ]
     },
     "execution_count": 240,
     "metadata": {},
     "output_type": "execute_result"
    }
   ],
   "source": [
    "# Boolean Indexing Slicing  \n",
    "df[df['Salary'] > 55000]"
   ]
  },
  {
   "cell_type": "code",
   "execution_count": 241,
   "id": "a62a7309-ce02-4a70-bc16-83fe08a0ac38",
   "metadata": {},
   "outputs": [
    {
     "data": {
      "text/html": [
       "<div>\n",
       "<style scoped>\n",
       "    .dataframe tbody tr th:only-of-type {\n",
       "        vertical-align: middle;\n",
       "    }\n",
       "\n",
       "    .dataframe tbody tr th {\n",
       "        vertical-align: top;\n",
       "    }\n",
       "\n",
       "    .dataframe thead th {\n",
       "        text-align: right;\n",
       "    }\n",
       "</style>\n",
       "<table border=\"1\" class=\"dataframe\">\n",
       "  <thead>\n",
       "    <tr style=\"text-align: right;\">\n",
       "      <th></th>\n",
       "      <th>Name</th>\n",
       "      <th>Age</th>\n",
       "      <th>Department</th>\n",
       "      <th>Salary</th>\n",
       "    </tr>\n",
       "  </thead>\n",
       "  <tbody>\n",
       "    <tr>\n",
       "      <th>0</th>\n",
       "      <td>Alice</td>\n",
       "      <td>24</td>\n",
       "      <td>HR</td>\n",
       "      <td>50000</td>\n",
       "    </tr>\n",
       "    <tr>\n",
       "      <th>1</th>\n",
       "      <td>Bob</td>\n",
       "      <td>27</td>\n",
       "      <td>IT</td>\n",
       "      <td>60000</td>\n",
       "    </tr>\n",
       "    <tr>\n",
       "      <th>2</th>\n",
       "      <td>Charlie</td>\n",
       "      <td>22</td>\n",
       "      <td>Sales</td>\n",
       "      <td>55000</td>\n",
       "    </tr>\n",
       "    <tr>\n",
       "      <th>3</th>\n",
       "      <td>David</td>\n",
       "      <td>32</td>\n",
       "      <td>IT</td>\n",
       "      <td>62000</td>\n",
       "    </tr>\n",
       "    <tr>\n",
       "      <th>4</th>\n",
       "      <td>Eve</td>\n",
       "      <td>29</td>\n",
       "      <td>HR</td>\n",
       "      <td>58000</td>\n",
       "    </tr>\n",
       "  </tbody>\n",
       "</table>\n",
       "</div>"
      ],
      "text/plain": [
       "      Name  Age Department  Salary\n",
       "0    Alice   24         HR   50000\n",
       "1      Bob   27         IT   60000\n",
       "2  Charlie   22      Sales   55000\n",
       "3    David   32         IT   62000\n",
       "4      Eve   29         HR   58000"
      ]
     },
     "execution_count": 241,
     "metadata": {},
     "output_type": "execute_result"
    }
   ],
   "source": [
    "df"
   ]
  },
  {
   "cell_type": "code",
   "execution_count": 244,
   "id": "81bdb14a-46a0-4c69-bbab-684361870978",
   "metadata": {},
   "outputs": [
    {
     "data": {
      "text/html": [
       "<div>\n",
       "<style scoped>\n",
       "    .dataframe tbody tr th:only-of-type {\n",
       "        vertical-align: middle;\n",
       "    }\n",
       "\n",
       "    .dataframe tbody tr th {\n",
       "        vertical-align: top;\n",
       "    }\n",
       "\n",
       "    .dataframe thead th {\n",
       "        text-align: right;\n",
       "    }\n",
       "</style>\n",
       "<table border=\"1\" class=\"dataframe\">\n",
       "  <thead>\n",
       "    <tr style=\"text-align: right;\">\n",
       "      <th></th>\n",
       "      <th>Name</th>\n",
       "      <th>Age</th>\n",
       "      <th>Department</th>\n",
       "      <th>Salary</th>\n",
       "    </tr>\n",
       "  </thead>\n",
       "  <tbody>\n",
       "    <tr>\n",
       "      <th>0</th>\n",
       "      <td>Alice</td>\n",
       "      <td>24</td>\n",
       "      <td>HR</td>\n",
       "      <td>50000</td>\n",
       "    </tr>\n",
       "    <tr>\n",
       "      <th>1</th>\n",
       "      <td>Bob</td>\n",
       "      <td>27</td>\n",
       "      <td>IT</td>\n",
       "      <td>60000</td>\n",
       "    </tr>\n",
       "    <tr>\n",
       "      <th>2</th>\n",
       "      <td>Charlie</td>\n",
       "      <td>22</td>\n",
       "      <td>Sales</td>\n",
       "      <td>55000</td>\n",
       "    </tr>\n",
       "  </tbody>\n",
       "</table>\n",
       "</div>"
      ],
      "text/plain": [
       "      Name  Age Department  Salary\n",
       "0    Alice   24         HR   50000\n",
       "1      Bob   27         IT   60000\n",
       "2  Charlie   22      Sales   55000"
      ]
     },
     "execution_count": 244,
     "metadata": {},
     "output_type": "execute_result"
    }
   ],
   "source": [
    "#Select rows by their position: not have columns \n",
    "df[0:3]"
   ]
  },
  {
   "cell_type": "code",
   "execution_count": 245,
   "id": "a030868c-558f-4a7b-bf67-653ec628ae51",
   "metadata": {},
   "outputs": [
    {
     "data": {
      "text/html": [
       "<div>\n",
       "<style scoped>\n",
       "    .dataframe tbody tr th:only-of-type {\n",
       "        vertical-align: middle;\n",
       "    }\n",
       "\n",
       "    .dataframe tbody tr th {\n",
       "        vertical-align: top;\n",
       "    }\n",
       "\n",
       "    .dataframe thead th {\n",
       "        text-align: right;\n",
       "    }\n",
       "</style>\n",
       "<table border=\"1\" class=\"dataframe\">\n",
       "  <thead>\n",
       "    <tr style=\"text-align: right;\">\n",
       "      <th></th>\n",
       "      <th>Name</th>\n",
       "      <th>Age</th>\n",
       "    </tr>\n",
       "  </thead>\n",
       "  <tbody>\n",
       "    <tr>\n",
       "      <th>0</th>\n",
       "      <td>Alice</td>\n",
       "      <td>24</td>\n",
       "    </tr>\n",
       "    <tr>\n",
       "      <th>1</th>\n",
       "      <td>Bob</td>\n",
       "      <td>27</td>\n",
       "    </tr>\n",
       "    <tr>\n",
       "      <th>2</th>\n",
       "      <td>Charlie</td>\n",
       "      <td>22</td>\n",
       "    </tr>\n",
       "    <tr>\n",
       "      <th>3</th>\n",
       "      <td>David</td>\n",
       "      <td>32</td>\n",
       "    </tr>\n",
       "  </tbody>\n",
       "</table>\n",
       "</div>"
      ],
      "text/plain": [
       "      Name  Age\n",
       "0    Alice   24\n",
       "1      Bob   27\n",
       "2  Charlie   22\n",
       "3    David   32"
      ]
     },
     "execution_count": 245,
     "metadata": {},
     "output_type": "execute_result"
    }
   ],
   "source": [
    "# you want columns means \n",
    "df.loc[0:3,['Name', 'Age']]"
   ]
  },
  {
   "cell_type": "code",
   "execution_count": 246,
   "id": "8bce997f-b357-4497-a5f9-aa604b640f3b",
   "metadata": {},
   "outputs": [
    {
     "data": {
      "text/html": [
       "<div>\n",
       "<style scoped>\n",
       "    .dataframe tbody tr th:only-of-type {\n",
       "        vertical-align: middle;\n",
       "    }\n",
       "\n",
       "    .dataframe tbody tr th {\n",
       "        vertical-align: top;\n",
       "    }\n",
       "\n",
       "    .dataframe thead th {\n",
       "        text-align: right;\n",
       "    }\n",
       "</style>\n",
       "<table border=\"1\" class=\"dataframe\">\n",
       "  <thead>\n",
       "    <tr style=\"text-align: right;\">\n",
       "      <th></th>\n",
       "      <th>Name</th>\n",
       "      <th>Age</th>\n",
       "      <th>Department</th>\n",
       "    </tr>\n",
       "  </thead>\n",
       "  <tbody>\n",
       "    <tr>\n",
       "      <th>0</th>\n",
       "      <td>Alice</td>\n",
       "      <td>24</td>\n",
       "      <td>HR</td>\n",
       "    </tr>\n",
       "    <tr>\n",
       "      <th>1</th>\n",
       "      <td>Bob</td>\n",
       "      <td>27</td>\n",
       "      <td>IT</td>\n",
       "    </tr>\n",
       "    <tr>\n",
       "      <th>2</th>\n",
       "      <td>Charlie</td>\n",
       "      <td>22</td>\n",
       "      <td>Sales</td>\n",
       "    </tr>\n",
       "  </tbody>\n",
       "</table>\n",
       "</div>"
      ],
      "text/plain": [
       "      Name  Age Department\n",
       "0    Alice   24         HR\n",
       "1      Bob   27         IT\n",
       "2  Charlie   22      Sales"
      ]
     },
     "execution_count": 246,
     "metadata": {},
     "output_type": "execute_result"
    }
   ],
   "source": [
    "df.iloc[0:3,0:3]"
   ]
  },
  {
   "cell_type": "code",
   "execution_count": 247,
   "id": "681fd4e1-b54f-450e-a2f6-0d0035ce3047",
   "metadata": {},
   "outputs": [],
   "source": [
    "# Missing Data \n",
    "\n",
    "# Example DataFrame with missing values\n",
    "data = {\n",
    "    'Name': ['Alice', 'Bob', 'Charlie', 'David', None],\n",
    "    'Age': [24, None, 22, 32, 29],\n",
    "    'Department': ['HR', 'IT', 'Sales', None, 'HR'],\n",
    "    'Salary': [50000, 60000, 55000, 62000, None]\n",
    "}\n",
    "\n",
    "df = pd.DataFrame(data)"
   ]
  },
  {
   "cell_type": "code",
   "execution_count": 248,
   "id": "a0e58191-866a-49a3-8121-e6a91136a3c7",
   "metadata": {},
   "outputs": [
    {
     "data": {
      "text/html": [
       "<div>\n",
       "<style scoped>\n",
       "    .dataframe tbody tr th:only-of-type {\n",
       "        vertical-align: middle;\n",
       "    }\n",
       "\n",
       "    .dataframe tbody tr th {\n",
       "        vertical-align: top;\n",
       "    }\n",
       "\n",
       "    .dataframe thead th {\n",
       "        text-align: right;\n",
       "    }\n",
       "</style>\n",
       "<table border=\"1\" class=\"dataframe\">\n",
       "  <thead>\n",
       "    <tr style=\"text-align: right;\">\n",
       "      <th></th>\n",
       "      <th>Name</th>\n",
       "      <th>Age</th>\n",
       "      <th>Department</th>\n",
       "      <th>Salary</th>\n",
       "    </tr>\n",
       "  </thead>\n",
       "  <tbody>\n",
       "    <tr>\n",
       "      <th>0</th>\n",
       "      <td>Alice</td>\n",
       "      <td>24.0</td>\n",
       "      <td>HR</td>\n",
       "      <td>50000.0</td>\n",
       "    </tr>\n",
       "    <tr>\n",
       "      <th>1</th>\n",
       "      <td>Bob</td>\n",
       "      <td>NaN</td>\n",
       "      <td>IT</td>\n",
       "      <td>60000.0</td>\n",
       "    </tr>\n",
       "    <tr>\n",
       "      <th>2</th>\n",
       "      <td>Charlie</td>\n",
       "      <td>22.0</td>\n",
       "      <td>Sales</td>\n",
       "      <td>55000.0</td>\n",
       "    </tr>\n",
       "    <tr>\n",
       "      <th>3</th>\n",
       "      <td>David</td>\n",
       "      <td>32.0</td>\n",
       "      <td>None</td>\n",
       "      <td>62000.0</td>\n",
       "    </tr>\n",
       "    <tr>\n",
       "      <th>4</th>\n",
       "      <td>None</td>\n",
       "      <td>29.0</td>\n",
       "      <td>HR</td>\n",
       "      <td>NaN</td>\n",
       "    </tr>\n",
       "  </tbody>\n",
       "</table>\n",
       "</div>"
      ],
      "text/plain": [
       "      Name   Age Department   Salary\n",
       "0    Alice  24.0         HR  50000.0\n",
       "1      Bob   NaN         IT  60000.0\n",
       "2  Charlie  22.0      Sales  55000.0\n",
       "3    David  32.0       None  62000.0\n",
       "4     None  29.0         HR      NaN"
      ]
     },
     "execution_count": 248,
     "metadata": {},
     "output_type": "execute_result"
    }
   ],
   "source": [
    "df"
   ]
  },
  {
   "cell_type": "code",
   "execution_count": 249,
   "id": "91e5e479-5024-4026-a1bd-1f09980119b1",
   "metadata": {},
   "outputs": [
    {
     "data": {
      "text/html": [
       "<div>\n",
       "<style scoped>\n",
       "    .dataframe tbody tr th:only-of-type {\n",
       "        vertical-align: middle;\n",
       "    }\n",
       "\n",
       "    .dataframe tbody tr th {\n",
       "        vertical-align: top;\n",
       "    }\n",
       "\n",
       "    .dataframe thead th {\n",
       "        text-align: right;\n",
       "    }\n",
       "</style>\n",
       "<table border=\"1\" class=\"dataframe\">\n",
       "  <thead>\n",
       "    <tr style=\"text-align: right;\">\n",
       "      <th></th>\n",
       "      <th>Name</th>\n",
       "      <th>Age</th>\n",
       "      <th>Department</th>\n",
       "      <th>Salary</th>\n",
       "    </tr>\n",
       "  </thead>\n",
       "  <tbody>\n",
       "    <tr>\n",
       "      <th>1</th>\n",
       "      <td>Bob</td>\n",
       "      <td>NaN</td>\n",
       "      <td>IT</td>\n",
       "      <td>60000.0</td>\n",
       "    </tr>\n",
       "    <tr>\n",
       "      <th>3</th>\n",
       "      <td>David</td>\n",
       "      <td>32.0</td>\n",
       "      <td>None</td>\n",
       "      <td>62000.0</td>\n",
       "    </tr>\n",
       "    <tr>\n",
       "      <th>4</th>\n",
       "      <td>None</td>\n",
       "      <td>29.0</td>\n",
       "      <td>HR</td>\n",
       "      <td>NaN</td>\n",
       "    </tr>\n",
       "  </tbody>\n",
       "</table>\n",
       "</div>"
      ],
      "text/plain": [
       "    Name   Age Department   Salary\n",
       "1    Bob   NaN         IT  60000.0\n",
       "3  David  32.0       None  62000.0\n",
       "4   None  29.0         HR      NaN"
      ]
     },
     "execution_count": 249,
     "metadata": {},
     "output_type": "execute_result"
    }
   ],
   "source": [
    "# Check which rows have any missing values\n",
    "missing_rows = df.isnull().any(axis=1)\n",
    "\n",
    "# Show rows with missing values\n",
    "df[missing_rows]"
   ]
  },
  {
   "cell_type": "code",
   "execution_count": 250,
   "id": "3c094e55-5b1b-4e59-8f9b-d033a5479aa7",
   "metadata": {},
   "outputs": [
    {
     "data": {
      "text/html": [
       "<div>\n",
       "<style scoped>\n",
       "    .dataframe tbody tr th:only-of-type {\n",
       "        vertical-align: middle;\n",
       "    }\n",
       "\n",
       "    .dataframe tbody tr th {\n",
       "        vertical-align: top;\n",
       "    }\n",
       "\n",
       "    .dataframe thead th {\n",
       "        text-align: right;\n",
       "    }\n",
       "</style>\n",
       "<table border=\"1\" class=\"dataframe\">\n",
       "  <thead>\n",
       "    <tr style=\"text-align: right;\">\n",
       "      <th></th>\n",
       "      <th>Salary</th>\n",
       "    </tr>\n",
       "  </thead>\n",
       "  <tbody>\n",
       "    <tr>\n",
       "      <th>min</th>\n",
       "      <td>50000.0</td>\n",
       "    </tr>\n",
       "  </tbody>\n",
       "</table>\n",
       "</div>"
      ],
      "text/plain": [
       "      Salary\n",
       "min  50000.0"
      ]
     },
     "execution_count": 250,
     "metadata": {},
     "output_type": "execute_result"
    }
   ],
   "source": [
    "# agg() method are useful when multiple statistics are computed per column\n",
    "df[['Salary']].agg(['min'])"
   ]
  },
  {
   "cell_type": "code",
   "execution_count": 253,
   "id": "d97257c5-a4b2-40c0-a484-9eac29be8519",
   "metadata": {},
   "outputs": [
    {
     "data": {
      "text/plain": [
       "Age          2.286737\n",
       "Salary    2688.710967\n",
       "dtype: float64"
      ]
     },
     "execution_count": 253,
     "metadata": {},
     "output_type": "execute_result"
    }
   ],
   "source": [
    "df.drop(['Name', 'Department'], axis=1).sem()"
   ]
  },
  {
   "cell_type": "code",
   "execution_count": null,
   "id": "e812bf69-d017-4a2c-a15b-182ff0a24b83",
   "metadata": {},
   "outputs": [],
   "source": []
  },
  {
   "cell_type": "code",
   "execution_count": null,
   "id": "46bddbb5-8e67-4b3f-be8d-8a410dcad16c",
   "metadata": {},
   "outputs": [],
   "source": []
  }
 ],
 "metadata": {
  "kernelspec": {
   "display_name": "Python 3 (ipykernel)",
   "language": "python",
   "name": "python3"
  },
  "language_info": {
   "codemirror_mode": {
    "name": "ipython",
    "version": 3
   },
   "file_extension": ".py",
   "mimetype": "text/x-python",
   "name": "python",
   "nbconvert_exporter": "python",
   "pygments_lexer": "ipython3",
   "version": "3.8.20"
  },
  "widgets": {
   "application/vnd.jupyter.widget-state+json": {
    "state": {},
    "version_major": 2,
    "version_minor": 0
   }
  }
 },
 "nbformat": 4,
 "nbformat_minor": 5
}
